{
  "nbformat": 4,
  "nbformat_minor": 0,
  "metadata": {
    "colab": {
      "provenance": [],
      "include_colab_link": true
    },
    "kernelspec": {
      "name": "python3",
      "display_name": "Python 3"
    },
    "language_info": {
      "name": "python"
    }
  },
  "cells": [
    {
      "cell_type": "markdown",
      "metadata": {
        "id": "view-in-github",
        "colab_type": "text"
      },
      "source": [
        "<a href=\"https://colab.research.google.com/github/sfayhim/Projet_Safe_Driving/blob/main/carplates.ipynb\" target=\"_parent\"><img src=\"https://colab.research.google.com/assets/colab-badge.svg\" alt=\"Open In Colab\"/></a>"
      ]
    },
    {
      "cell_type": "code",
      "execution_count": null,
      "metadata": {
        "colab": {
          "base_uri": "https://localhost:8080/"
        },
        "id": "VYM8LJTV3YZ1",
        "outputId": "1b6f4b0f-f6d5-47af-8ac1-c5734bde02c0"
      },
      "outputs": [
        {
          "output_type": "stream",
          "name": "stdout",
          "text": [
            "Collecting ultralytics\n",
            "  Downloading ultralytics-8.3.51-py3-none-any.whl.metadata (35 kB)\n",
            "Requirement already satisfied: numpy>=1.23.0 in /usr/local/lib/python3.10/dist-packages (from ultralytics) (1.26.4)\n",
            "Requirement already satisfied: matplotlib>=3.3.0 in /usr/local/lib/python3.10/dist-packages (from ultralytics) (3.8.0)\n",
            "Requirement already satisfied: opencv-python>=4.6.0 in /usr/local/lib/python3.10/dist-packages (from ultralytics) (4.10.0.84)\n",
            "Requirement already satisfied: pillow>=7.1.2 in /usr/local/lib/python3.10/dist-packages (from ultralytics) (11.0.0)\n",
            "Requirement already satisfied: pyyaml>=5.3.1 in /usr/local/lib/python3.10/dist-packages (from ultralytics) (6.0.2)\n",
            "Requirement already satisfied: requests>=2.23.0 in /usr/local/lib/python3.10/dist-packages (from ultralytics) (2.32.3)\n",
            "Requirement already satisfied: scipy>=1.4.1 in /usr/local/lib/python3.10/dist-packages (from ultralytics) (1.13.1)\n",
            "Requirement already satisfied: torch>=1.8.0 in /usr/local/lib/python3.10/dist-packages (from ultralytics) (2.5.1+cu121)\n",
            "Requirement already satisfied: torchvision>=0.9.0 in /usr/local/lib/python3.10/dist-packages (from ultralytics) (0.20.1+cu121)\n",
            "Requirement already satisfied: tqdm>=4.64.0 in /usr/local/lib/python3.10/dist-packages (from ultralytics) (4.66.6)\n",
            "Requirement already satisfied: psutil in /usr/local/lib/python3.10/dist-packages (from ultralytics) (5.9.5)\n",
            "Requirement already satisfied: py-cpuinfo in /usr/local/lib/python3.10/dist-packages (from ultralytics) (9.0.0)\n",
            "Requirement already satisfied: pandas>=1.1.4 in /usr/local/lib/python3.10/dist-packages (from ultralytics) (2.2.2)\n",
            "Requirement already satisfied: seaborn>=0.11.0 in /usr/local/lib/python3.10/dist-packages (from ultralytics) (0.13.2)\n",
            "Collecting ultralytics-thop>=2.0.0 (from ultralytics)\n",
            "  Downloading ultralytics_thop-2.0.13-py3-none-any.whl.metadata (9.4 kB)\n",
            "Requirement already satisfied: contourpy>=1.0.1 in /usr/local/lib/python3.10/dist-packages (from matplotlib>=3.3.0->ultralytics) (1.3.1)\n",
            "Requirement already satisfied: cycler>=0.10 in /usr/local/lib/python3.10/dist-packages (from matplotlib>=3.3.0->ultralytics) (0.12.1)\n",
            "Requirement already satisfied: fonttools>=4.22.0 in /usr/local/lib/python3.10/dist-packages (from matplotlib>=3.3.0->ultralytics) (4.55.3)\n",
            "Requirement already satisfied: kiwisolver>=1.0.1 in /usr/local/lib/python3.10/dist-packages (from matplotlib>=3.3.0->ultralytics) (1.4.7)\n",
            "Requirement already satisfied: packaging>=20.0 in /usr/local/lib/python3.10/dist-packages (from matplotlib>=3.3.0->ultralytics) (24.2)\n",
            "Requirement already satisfied: pyparsing>=2.3.1 in /usr/local/lib/python3.10/dist-packages (from matplotlib>=3.3.0->ultralytics) (3.2.0)\n",
            "Requirement already satisfied: python-dateutil>=2.7 in /usr/local/lib/python3.10/dist-packages (from matplotlib>=3.3.0->ultralytics) (2.8.2)\n",
            "Requirement already satisfied: pytz>=2020.1 in /usr/local/lib/python3.10/dist-packages (from pandas>=1.1.4->ultralytics) (2024.2)\n",
            "Requirement already satisfied: tzdata>=2022.7 in /usr/local/lib/python3.10/dist-packages (from pandas>=1.1.4->ultralytics) (2024.2)\n",
            "Requirement already satisfied: charset-normalizer<4,>=2 in /usr/local/lib/python3.10/dist-packages (from requests>=2.23.0->ultralytics) (3.4.0)\n",
            "Requirement already satisfied: idna<4,>=2.5 in /usr/local/lib/python3.10/dist-packages (from requests>=2.23.0->ultralytics) (3.10)\n",
            "Requirement already satisfied: urllib3<3,>=1.21.1 in /usr/local/lib/python3.10/dist-packages (from requests>=2.23.0->ultralytics) (2.2.3)\n",
            "Requirement already satisfied: certifi>=2017.4.17 in /usr/local/lib/python3.10/dist-packages (from requests>=2.23.0->ultralytics) (2024.8.30)\n",
            "Requirement already satisfied: filelock in /usr/local/lib/python3.10/dist-packages (from torch>=1.8.0->ultralytics) (3.16.1)\n",
            "Requirement already satisfied: typing-extensions>=4.8.0 in /usr/local/lib/python3.10/dist-packages (from torch>=1.8.0->ultralytics) (4.12.2)\n",
            "Requirement already satisfied: networkx in /usr/local/lib/python3.10/dist-packages (from torch>=1.8.0->ultralytics) (3.4.2)\n",
            "Requirement already satisfied: jinja2 in /usr/local/lib/python3.10/dist-packages (from torch>=1.8.0->ultralytics) (3.1.4)\n",
            "Requirement already satisfied: fsspec in /usr/local/lib/python3.10/dist-packages (from torch>=1.8.0->ultralytics) (2024.10.0)\n",
            "Requirement already satisfied: sympy==1.13.1 in /usr/local/lib/python3.10/dist-packages (from torch>=1.8.0->ultralytics) (1.13.1)\n",
            "Requirement already satisfied: mpmath<1.4,>=1.1.0 in /usr/local/lib/python3.10/dist-packages (from sympy==1.13.1->torch>=1.8.0->ultralytics) (1.3.0)\n",
            "Requirement already satisfied: six>=1.5 in /usr/local/lib/python3.10/dist-packages (from python-dateutil>=2.7->matplotlib>=3.3.0->ultralytics) (1.17.0)\n",
            "Requirement already satisfied: MarkupSafe>=2.0 in /usr/local/lib/python3.10/dist-packages (from jinja2->torch>=1.8.0->ultralytics) (3.0.2)\n",
            "Downloading ultralytics-8.3.51-py3-none-any.whl (901 kB)\n",
            "\u001b[2K   \u001b[90m━━━━━━━━━━━━━━━━━━━━━━━━━━━━━━━━━━━━━━━━\u001b[0m \u001b[32m901.3/901.3 kB\u001b[0m \u001b[31m33.4 MB/s\u001b[0m eta \u001b[36m0:00:00\u001b[0m\n",
            "\u001b[?25hDownloading ultralytics_thop-2.0.13-py3-none-any.whl (26 kB)\n",
            "Installing collected packages: ultralytics-thop, ultralytics\n",
            "Successfully installed ultralytics-8.3.51 ultralytics-thop-2.0.13\n"
          ]
        }
      ],
      "source": [
        "!pip install ultralytics"
      ]
    },
    {
      "cell_type": "code",
      "source": [
        "from google.colab import files\n",
        "files.upload()"
      ],
      "metadata": {
        "colab": {
          "base_uri": "https://localhost:8080/",
          "height": 1000
        },
        "id": "FrL9v_2o3h1d",
        "outputId": "7eede4dc-28dc-487f-bf02-e2e8d30b348f"
      },
      "execution_count": null,
      "outputs": [
        {
          "output_type": "display_data",
          "data": {
            "text/plain": [
              "<IPython.core.display.HTML object>"
            ],
            "text/html": [
              "\n",
              "     <input type=\"file\" id=\"files-c29d7a6f-eb45-4bc1-8ef6-d88bfc7d8102\" name=\"files[]\" multiple disabled\n",
              "        style=\"border:none\" />\n",
              "     <output id=\"result-c29d7a6f-eb45-4bc1-8ef6-d88bfc7d8102\">\n",
              "      Upload widget is only available when the cell has been executed in the\n",
              "      current browser session. Please rerun this cell to enable.\n",
              "      </output>\n",
              "      <script>// Copyright 2017 Google LLC\n",
              "//\n",
              "// Licensed under the Apache License, Version 2.0 (the \"License\");\n",
              "// you may not use this file except in compliance with the License.\n",
              "// You may obtain a copy of the License at\n",
              "//\n",
              "//      http://www.apache.org/licenses/LICENSE-2.0\n",
              "//\n",
              "// Unless required by applicable law or agreed to in writing, software\n",
              "// distributed under the License is distributed on an \"AS IS\" BASIS,\n",
              "// WITHOUT WARRANTIES OR CONDITIONS OF ANY KIND, either express or implied.\n",
              "// See the License for the specific language governing permissions and\n",
              "// limitations under the License.\n",
              "\n",
              "/**\n",
              " * @fileoverview Helpers for google.colab Python module.\n",
              " */\n",
              "(function(scope) {\n",
              "function span(text, styleAttributes = {}) {\n",
              "  const element = document.createElement('span');\n",
              "  element.textContent = text;\n",
              "  for (const key of Object.keys(styleAttributes)) {\n",
              "    element.style[key] = styleAttributes[key];\n",
              "  }\n",
              "  return element;\n",
              "}\n",
              "\n",
              "// Max number of bytes which will be uploaded at a time.\n",
              "const MAX_PAYLOAD_SIZE = 100 * 1024;\n",
              "\n",
              "function _uploadFiles(inputId, outputId) {\n",
              "  const steps = uploadFilesStep(inputId, outputId);\n",
              "  const outputElement = document.getElementById(outputId);\n",
              "  // Cache steps on the outputElement to make it available for the next call\n",
              "  // to uploadFilesContinue from Python.\n",
              "  outputElement.steps = steps;\n",
              "\n",
              "  return _uploadFilesContinue(outputId);\n",
              "}\n",
              "\n",
              "// This is roughly an async generator (not supported in the browser yet),\n",
              "// where there are multiple asynchronous steps and the Python side is going\n",
              "// to poll for completion of each step.\n",
              "// This uses a Promise to block the python side on completion of each step,\n",
              "// then passes the result of the previous step as the input to the next step.\n",
              "function _uploadFilesContinue(outputId) {\n",
              "  const outputElement = document.getElementById(outputId);\n",
              "  const steps = outputElement.steps;\n",
              "\n",
              "  const next = steps.next(outputElement.lastPromiseValue);\n",
              "  return Promise.resolve(next.value.promise).then((value) => {\n",
              "    // Cache the last promise value to make it available to the next\n",
              "    // step of the generator.\n",
              "    outputElement.lastPromiseValue = value;\n",
              "    return next.value.response;\n",
              "  });\n",
              "}\n",
              "\n",
              "/**\n",
              " * Generator function which is called between each async step of the upload\n",
              " * process.\n",
              " * @param {string} inputId Element ID of the input file picker element.\n",
              " * @param {string} outputId Element ID of the output display.\n",
              " * @return {!Iterable<!Object>} Iterable of next steps.\n",
              " */\n",
              "function* uploadFilesStep(inputId, outputId) {\n",
              "  const inputElement = document.getElementById(inputId);\n",
              "  inputElement.disabled = false;\n",
              "\n",
              "  const outputElement = document.getElementById(outputId);\n",
              "  outputElement.innerHTML = '';\n",
              "\n",
              "  const pickedPromise = new Promise((resolve) => {\n",
              "    inputElement.addEventListener('change', (e) => {\n",
              "      resolve(e.target.files);\n",
              "    });\n",
              "  });\n",
              "\n",
              "  const cancel = document.createElement('button');\n",
              "  inputElement.parentElement.appendChild(cancel);\n",
              "  cancel.textContent = 'Cancel upload';\n",
              "  const cancelPromise = new Promise((resolve) => {\n",
              "    cancel.onclick = () => {\n",
              "      resolve(null);\n",
              "    };\n",
              "  });\n",
              "\n",
              "  // Wait for the user to pick the files.\n",
              "  const files = yield {\n",
              "    promise: Promise.race([pickedPromise, cancelPromise]),\n",
              "    response: {\n",
              "      action: 'starting',\n",
              "    }\n",
              "  };\n",
              "\n",
              "  cancel.remove();\n",
              "\n",
              "  // Disable the input element since further picks are not allowed.\n",
              "  inputElement.disabled = true;\n",
              "\n",
              "  if (!files) {\n",
              "    return {\n",
              "      response: {\n",
              "        action: 'complete',\n",
              "      }\n",
              "    };\n",
              "  }\n",
              "\n",
              "  for (const file of files) {\n",
              "    const li = document.createElement('li');\n",
              "    li.append(span(file.name, {fontWeight: 'bold'}));\n",
              "    li.append(span(\n",
              "        `(${file.type || 'n/a'}) - ${file.size} bytes, ` +\n",
              "        `last modified: ${\n",
              "            file.lastModifiedDate ? file.lastModifiedDate.toLocaleDateString() :\n",
              "                                    'n/a'} - `));\n",
              "    const percent = span('0% done');\n",
              "    li.appendChild(percent);\n",
              "\n",
              "    outputElement.appendChild(li);\n",
              "\n",
              "    const fileDataPromise = new Promise((resolve) => {\n",
              "      const reader = new FileReader();\n",
              "      reader.onload = (e) => {\n",
              "        resolve(e.target.result);\n",
              "      };\n",
              "      reader.readAsArrayBuffer(file);\n",
              "    });\n",
              "    // Wait for the data to be ready.\n",
              "    let fileData = yield {\n",
              "      promise: fileDataPromise,\n",
              "      response: {\n",
              "        action: 'continue',\n",
              "      }\n",
              "    };\n",
              "\n",
              "    // Use a chunked sending to avoid message size limits. See b/62115660.\n",
              "    let position = 0;\n",
              "    do {\n",
              "      const length = Math.min(fileData.byteLength - position, MAX_PAYLOAD_SIZE);\n",
              "      const chunk = new Uint8Array(fileData, position, length);\n",
              "      position += length;\n",
              "\n",
              "      const base64 = btoa(String.fromCharCode.apply(null, chunk));\n",
              "      yield {\n",
              "        response: {\n",
              "          action: 'append',\n",
              "          file: file.name,\n",
              "          data: base64,\n",
              "        },\n",
              "      };\n",
              "\n",
              "      let percentDone = fileData.byteLength === 0 ?\n",
              "          100 :\n",
              "          Math.round((position / fileData.byteLength) * 100);\n",
              "      percent.textContent = `${percentDone}% done`;\n",
              "\n",
              "    } while (position < fileData.byteLength);\n",
              "  }\n",
              "\n",
              "  // All done.\n",
              "  yield {\n",
              "    response: {\n",
              "      action: 'complete',\n",
              "    }\n",
              "  };\n",
              "}\n",
              "\n",
              "scope.google = scope.google || {};\n",
              "scope.google.colab = scope.google.colab || {};\n",
              "scope.google.colab._files = {\n",
              "  _uploadFiles,\n",
              "  _uploadFilesContinue,\n",
              "};\n",
              "})(self);\n",
              "</script> "
            ]
          },
          "metadata": {}
        },
        {
          "output_type": "stream",
          "name": "stdout",
          "text": [
            "Saving labels_my-project-name_2024-12-17-09-23-06.zip to labels_my-project-name_2024-12-17-09-23-06.zip\n"
          ]
        },
        {
          "output_type": "execute_result",
          "data": {
            "text/plain": [
              "{'labels_my-project-name_2024-12-17-09-23-06.zip': b'PK\\x03\\x04\\n\\x00\\x00\\x00\\x00\\x00\\xe3B\\x91YN=\\xa6\\x83K\\x00\\x00\\x00K\\x00\\x00\\x00\\n\\x00\\x00\\x00photo1.txt0 0.389696 0.938345 0.190878 0.069257\\n1 0.458953 0.525338 0.863176 0.942568PK\\x03\\x04\\n\\x00\\x00\\x00\\x00\\x00\\xe3B\\x91YQ\\xff!~K\\x00\\x00\\x00K\\x00\\x00\\x00\\x0b\\x00\\x00\\x00photo10.txt0 0.449662 0.487331 0.263514 0.086149\\n1 0.453041 0.355574 0.736486 0.711148PK\\x03\\x04\\n\\x00\\x00\\x00\\x00\\x00\\xe3B\\x91Yys\\x8e3K\\x00\\x00\\x00K\\x00\\x00\\x00\\x0c\\x00\\x00\\x00photo100.txt0 0.621959 0.383446 0.135135 0.027027\\n1 0.567061 0.372466 0.461149 0.265203PK\\x03\\x04\\n\\x00\\x00\\x00\\x00\\x00\\xe3B\\x91YWX\\x7f\\xfeK\\x00\\x00\\x00K\\x00\\x00\\x00\\x0c\\x00\\x00\\x00photo101.txt0 0.827196 0.360642 0.113176 0.032095\\n1 0.643074 0.280405 0.606419 0.351351PK\\x03\\x04\\n\\x00\\x00\\x00\\x00\\x00\\xe3B\\x91Y\\xca_\\x14\\x1eK\\x00\\x00\\x00K\\x00\\x00\\x00\\x0c\\x00\\x00\\x00photo102.txt0 0.527365 0.617399 0.533784 0.052365\\n1 0.501858 0.342061 0.996284 0.626689PK\\x03\\x04\\n\\x00\\x00\\x00\\x00\\x00\\xe3B\\x91Yc\\xb1\\x07\\xefK\\x00\\x00\\x00K\\x00\\x00\\x00\\x0c\\x00\\x00\\x00photo103.txt0 0.493581 0.438345 0.209459 0.072635\\n1 0.640541 0.317568 0.712838 0.564189PK\\x03\\x04\\n\\x00\\x00\\x00\\x00\\x00\\xe3B\\x91Y\\xf5n\\x922K\\x00\\x00\\x00K\\x00\\x00\\x00\\x0c\\x00\\x00\\x00photo104.txt0 0.586486 0.532939 0.577703 0.130068\\n1 0.499324 0.340372 0.998648 0.680743PK\\x03\\x04\\n\\x00\\x00\\x00\\x00\\x00\\xe3B\\x91Y\\x1a\\xb8\\x87\\xb0K\\x00\\x00\\x00K\\x00\\x00\\x00\\x0c\\x00\\x00\\x00photo105.txt0 0.556926 0.554054 0.157095 0.054054\\n1 0.490203 0.415541 0.952703 0.824324PK\\x03\\x04\\n\\x00\\x00\\x00\\x00\\x00\\xe3B\\x91Y\\x7f\\xa8\\xcaAK\\x00\\x00\\x00K\\x00\\x00\\x00\\x0c\\x00\\x00\\x00photo106.txt0 0.551858 0.402027 0.491554 0.378378\\n1 0.500169 0.500000 0.999662 1.000000PK\\x03\\x04\\n\\x00\\x00\\x00\\x00\\x00\\xe3B\\x91Y\\xe6\\xa2\\xb4{K\\x00\\x00\\x00K\\x00\\x00\\x00\\x0c\\x00\\x00\\x00photo107.txt0 0.364358 0.621622 0.173986 0.118243\\n1 0.542568 0.481419 0.878378 0.942568PK\\x03\\x04\\n\\x00\\x00\\x00\\x00\\x00\\xe3B\\x91Y\\x1b\\x0b\\x0f\\x08K\\x00\\x00\\x00K\\x00\\x00\\x00\\x0c\\x00\\x00\\x00photo108.txt0 0.239358 0.418919 0.113176 0.168919\\n1 0.392230 0.451858 0.750000 0.832770PK\\x03\\x04\\n\\x00\\x00\\x00\\x00\\x00\\xe3B\\x91Y|\\x0e\\'\\x1cK\\x00\\x00\\x00K\\x00\\x00\\x00\\x0c\\x00\\x00\\x00photo109.txt0 0.373649 0.552365 0.152027 0.030405\\n1 0.502027 0.543919 0.760135 0.469595PK\\x03\\x04\\n\\x00\\x00\\x00\\x00\\x00\\xe3B\\x91Y_3\\x19\\x18K\\x00\\x00\\x00K\\x00\\x00\\x00\\x0b\\x00\\x00\\x00photo11.txt0 0.416723 0.602196 0.211149 0.086149\\n1 0.447128 0.397804 0.771959 0.785473PK\\x03\\x04\\n\\x00\\x00\\x00\\x00\\x00\\xe3B\\x91Y$-@BK\\x00\\x00\\x00K\\x00\\x00\\x00\\x0c\\x00\\x00\\x00photo110.txt0 0.552703 0.574324 0.300676 0.182432\\n1 0.491047 0.440034 0.944257 0.849662PK\\x03\\x04\\n\\x00\\x00\\x00\\x00\\x00\\xe3B\\x91Ys\\x8f\\xdaPK\\x00\\x00\\x00K\\x00\\x00\\x00\\x0c\\x00\\x00\\x00photo111.txt0 0.525676 0.529561 0.219595 0.109797\\n1 0.483446 0.421453 0.945946 0.826014PK\\x03\\x04\\n\\x00\\x00\\x00\\x00\\x00\\xe3B\\x91Y\\xe6\\x9d`dK\\x00\\x00\\x00K\\x00\\x00\\x00\\x0c\\x00\\x00\\x00photo112.txt0 0.692905 0.738176 0.155405 0.070946\\n1 0.454730 0.489020 0.895270 0.853041PK\\x03\\x04\\n\\x00\\x00\\x00\\x00\\x00\\xe3B\\x91Y\\xb5(>\\x92K\\x00\\x00\\x00K\\x00\\x00\\x00\\x0c\\x00\\x00\\x00photo113.txt0 0.611824 0.616554 0.158784 0.033784\\n1 0.414189 0.517736 0.787162 0.329392PK\\x03\\x04\\n\\x00\\x00\\x00\\x00\\x00\\xe3B\\x91Y\\x81\\xaa\\xd0\\xe6K\\x00\\x00\\x00K\\x00\\x00\\x00\\x0c\\x00\\x00\\x00photo114.txt0 0.499493 0.418919 0.369932 0.253378\\n1 0.500169 0.462838 0.999662 0.925676PK\\x03\\x04\\n\\x00\\x00\\x00\\x00\\x00\\xe3B\\x91Y\\xff\\xc2\\xfc\\x1eK\\x00\\x00\\x00K\\x00\\x00\\x00\\x0c\\x00\\x00\\x00photo115.txt0 0.484291 0.694257 0.319257 0.070946\\n1 0.492736 0.442568 0.930743 0.797297PK\\x03\\x04\\n\\x00\\x00\\x00\\x00\\x00\\xe3B\\x91Y\\xda\\x9e\\xe8\\x8cK\\x00\\x00\\x00K\\x00\\x00\\x00\\x0c\\x00\\x00\\x00photo116.txt0 0.529054 0.581926 0.435811 0.295608\\n1 0.490034 0.489865 0.980068 0.979730PK\\x03\\x04\\n\\x00\\x00\\x00\\x00\\x00\\xe3B\\x91Y\\xb6\\x98]\\\\K\\x00\\x00\\x00K\\x00\\x00\\x00\\x0c\\x00\\x00\\x00photo117.txt0 0.499493 0.494088 0.410473 0.244932\\n1 0.501858 0.495777 0.996284 0.991554PK\\x03\\x04\\n\\x00\\x00\\x00\\x00\\x00\\xe3B\\x91Y\\xa5\\x85@\\xd7K\\x00\\x00\\x00K\\x00\\x00\\x00\\x0c\\x00\\x00\\x00photo118.txt0 0.241047 0.763514 0.217905 0.060811\\n1 0.500338 0.597973 0.986486 0.486486PK\\x03\\x04\\n\\x00\\x00\\x00\\x00\\x00\\xe3B\\x91Y\\xf70\\x1c;K\\x00\\x00\\x00K\\x00\\x00\\x00\\x0c\\x00\\x00\\x00photo119.txt0 0.476689 0.744088 0.375000 0.072635\\n1 0.486824 0.454392 0.959459 0.888514PK\\x03\\x04\\n\\x00\\x00\\x00\\x00\\x00\\xe3B\\x91YJ`\\x01\\x86K\\x00\\x00\\x00K\\x00\\x00\\x00\\x0b\\x00\\x00\\x00photo12.txt0 0.427703 0.506757 0.226351 0.097973\\n1 0.415878 0.401182 0.797297 0.782095PK\\x03\\x04\\n\\x00\\x00\\x00\\x00\\x00\\xe3B\\x91YU\\xca\\x97\\xb5K\\x00\\x00\\x00K\\x00\\x00\\x00\\x0c\\x00\\x00\\x00photo120.txt0 0.143919 0.372466 0.199324 0.028716\\n1 0.368581 0.358108 0.709459 0.520270PK\\x03\\x04\\n\\x00\\x00\\x00\\x00\\x00\\xe3B\\x91Y\\xb8\\xa1\\'\\x0bK\\x00\\x00\\x00K\\x00\\x00\\x00\\x0c\\x00\\x00\\x00photo121.txt0 0.507095 0.484797 0.310811 0.074324\\n1 0.502872 0.353041 0.964527 0.581081PK\\x03\\x04\\n\\x00\\x00\\x00\\x00\\x00\\xe3B\\x91YH?\\xd5\\xf4K\\x00\\x00\\x00K\\x00\\x00\\x00\\x0c\\x00\\x00\\x00photo122.txt0 0.454730 0.564189 0.277027 0.040541\\n1 0.451351 0.399493 0.885135 0.484797PK\\x03\\x04\\n\\x00\\x00\\x00\\x00\\x00\\xe3B\\x91YQ\\xd3\\x9d\\x10K\\x00\\x00\\x00K\\x00\\x00\\x00\\x0c\\x00\\x00\\x00photo123.txt0 0.490203 0.825169 0.547297 0.146959\\n1 0.500169 0.500000 0.999662 1.000000PK\\x03\\x04\\n\\x00\\x00\\x00\\x00\\x00\\xe3B\\x91Y1\\xb5(|K\\x00\\x00\\x00K\\x00\\x00\\x00\\x0c\\x00\\x00\\x00photo124.txt0 0.831250 0.805743 0.337500 0.050676\\n1 0.500169 0.592905 0.999662 0.722973PK\\x03\\x04\\n\\x00\\x00\\x00\\x00\\x00\\xe3B\\x91Y\\xa22\\xe5\\xb7K\\x00\\x00\\x00K\\x00\\x00\\x00\\x0c\\x00\\x00\\x00photo125.txt0 0.488513 0.788851 0.236486 0.064189\\n1 0.516385 0.588682 0.782095 0.809122PK\\x03\\x04\\n\\x00\\x00\\x00\\x00\\x00\\xe3B\\x91Y+,\\xb6\\xeaK\\x00\\x00\\x00K\\x00\\x00\\x00\\x0c\\x00\\x00\\x00photo126.txt0 0.499493 0.608108 0.285473 0.054054\\n1 0.499493 0.470439 0.927365 0.677365PK\\x03\\x04\\n\\x00\\x00\\x00\\x00\\x00\\xe3B\\x91Y\\xa5\\xbd\\xb9$K\\x00\\x00\\x00K\\x00\\x00\\x00\\x0c\\x00\\x00\\x00photo127.txt0 0.198818 0.778716 0.211149 0.087838\\n1 0.503547 0.626689 0.992905 0.668919PK\\x03\\x04\\n\\x00\\x00\\x00\\x00\\x00\\xe3B\\x91Y\\x8b\\x13.2K\\x00\\x00\\x00K\\x00\\x00\\x00\\x0c\\x00\\x00\\x00photo128.txt0 0.311993 0.645270 0.545608 0.135135\\n1 0.499324 0.501689 0.998648 0.996622PK\\x03\\x04\\n\\x00\\x00\\x00\\x00\\x00\\xe3B\\x91Y3\\xaa\\xe4\\xecK\\x00\\x00\\x00K\\x00\\x00\\x00\\x0c\\x00\\x00\\x00photo129.txt0 0.486824 0.630912 0.202703 0.025338\\n1 0.485135 0.488176 0.729730 0.496622PK\\x03\\x04\\n\\x00\\x00\\x00\\x00\\x00\\xe3B\\x91Y+E\\xe2\\x97K\\x00\\x00\\x00K\\x00\\x00\\x00\\x0b\\x00\\x00\\x00photo13.txt0 0.446284 0.569257 0.246622 0.074324\\n1 0.447128 0.369088 0.717905 0.738176PK\\x03\\x04\\n\\x00\\x00\\x00\\x00\\x00\\xe3B\\x91Y\\xb0\\xe7\\x8edK\\x00\\x00\\x00K\\x00\\x00\\x00\\x0c\\x00\\x00\\x00photo130.txt0 0.507095 0.698480 0.293919 0.042230\\n1 0.521453 0.527872 0.947635 0.494932PK\\x03\\x04\\n\\x00\\x00\\x00\\x00\\x00\\xe3B\\x91Y\\x17\\x08\\xa2\\x12K\\x00\\x00\\x00K\\x00\\x00\\x00\\x0c\\x00\\x00\\x00photo131.txt0 0.390541 0.680743 0.172297 0.067568\\n1 0.542568 0.616554 0.804054 0.543919PK\\x03\\x04\\n\\x00\\x00\\x00\\x00\\x00\\xe3B\\x91Yl\\xf9\\x86wK\\x00\\x00\\x00K\\x00\\x00\\x00\\x0c\\x00\\x00\\x00photo132.txt0 0.310304 0.547297 0.231419 0.047297\\n1 0.486824 0.422297 0.945946 0.418919PK\\x03\\x04\\n\\x00\\x00\\x00\\x00\\x00\\xe3B\\x91Yr\\x97l\\xfeK\\x00\\x00\\x00K\\x00\\x00\\x00\\x0c\\x00\\x00\\x00photo133.txt0 0.507939 0.772804 0.214527 0.052365\\n1 0.518074 0.611486 0.778716 0.645270PK\\x03\\x04\\n\\x00\\x00\\x00\\x00\\x00\\xe3B\\x91Y\\x16\\xc0\\x19\\x94K\\x00\\x00\\x00K\\x00\\x00\\x00\\x0c\\x00\\x00\\x00photo134.txt0 0.159122 0.727196 0.182432 0.059122\\n1 0.498480 0.618243 0.996959 0.445946PK\\x03\\x04\\n\\x00\\x00\\x00\\x00\\x00\\xe3B\\x91Y\\xeb\\x13\\xbeDK\\x00\\x00\\x00K\\x00\\x00\\x00\\x0c\\x00\\x00\\x00photo135.txt0 0.349155 0.519426 0.309122 0.086149\\n1 0.501013 0.402027 0.997973 0.618243PK\\x03\\x04\\n\\x00\\x00\\x00\\x00\\x00\\xe3B\\x91Y\\x19E\\n\\x94K\\x00\\x00\\x00K\\x00\\x00\\x00\\x0c\\x00\\x00\\x00photo136.txt0 0.276520 0.683277 0.187500 0.109797\\n1 0.500169 0.665541 0.999662 0.668918PK\\x03\\x04\\n\\x00\\x00\\x00\\x00\\x00\\xe3B\\x91YN\\x04\\xfe#K\\x00\\x00\\x00K\\x00\\x00\\x00\\x0c\\x00\\x00\\x00photo137.txt0 0.744426 0.716216 0.407095 0.050676\\n1 0.503547 0.543919 0.992905 0.800676PK\\x03\\x04\\n\\x00\\x00\\x00\\x00\\x00\\xe3B\\x91Y~\\xa0\\xc9\\xb7K\\x00\\x00\\x00K\\x00\\x00\\x00\\x0c\\x00\\x00\\x00photo138.txt0 0.277365 0.861486 0.256757 0.070946\\n1 0.501858 0.695101 0.996284 0.576014PK\\x03\\x04\\n\\x00\\x00\\x00\\x00\\x00\\xe3B\\x91Y\\xfaBJ\\x86K\\x00\\x00\\x00K\\x00\\x00\\x00\\x0c\\x00\\x00\\x00photo139.txt0 0.420946 0.585304 0.199324 0.035473\\n1 0.528209 0.506757 0.940878 0.523649PK\\x03\\x04\\n\\x00\\x00\\x00\\x00\\x00\\xe3B\\x91Y\\xdc\\xaaA\\xfdK\\x00\\x00\\x00K\\x00\\x00\\x00\\x0b\\x00\\x00\\x00photo14.txt0 0.447973 0.573480 0.293919 0.119932\\n1 0.501858 0.354730 0.996284 0.709459PK\\x03\\x04\\n\\x00\\x00\\x00\\x00\\x00\\xe3B\\x91YBH)zK\\x00\\x00\\x00K\\x00\\x00\\x00\\x0c\\x00\\x00\\x00photo140.txt0 0.562838 0.762669 0.219595 0.089527\\n1 0.440203 0.483953 0.880405 0.826014PK\\x03\\x04\\n\\x00\\x00\\x00\\x00\\x00\\xe3B\\x91YO\\xdc\\xa9\\x1fK\\x00\\x00\\x00K\\x00\\x00\\x00\\x0c\\x00\\x00\\x00photo141.txt0 0.512162 0.489865 0.388514 0.121622\\n1 0.500169 0.340372 0.999662 0.680743PK\\x03\\x04\\n\\x00\\x00\\x00\\x00\\x00\\xe3B\\x91Y\\xca]J\\x12K\\x00\\x00\\x00K\\x00\\x00\\x00\\x0c\\x00\\x00\\x00photo142.txt0 0.433615 0.608108 0.312500 0.047297\\n1 0.500169 0.546453 0.999662 0.474662PK\\x03\\x04\\n\\x00\\x00\\x00\\x00\\x00\\xe3B\\x91Y\\xff\\xcf\\x1aRK\\x00\\x00\\x00K\\x00\\x00\\x00\\x0c\\x00\\x00\\x00photo143.txt0 0.391385 0.524493 0.258446 0.042230\\n1 0.514527 0.593750 0.970946 0.525338PK\\x03\\x04\\n\\x00\\x00\\x00\\x00\\x00\\xe3B\\x91Y\\xc2\\xbdNeK\\x00\\x00\\x00K\\x00\\x00\\x00\\x0c\\x00\\x00\\x00photo144.txt0 0.404899 0.597973 0.319257 0.054054\\n1 0.500169 0.528716 0.999662 0.500000PK\\x03\\x04\\n\\x00\\x00\\x00\\x00\\x00\\xe3B\\x91Yj\\x95J9K\\x00\\x00\\x00K\\x00\\x00\\x00\\x0c\\x00\\x00\\x00photo145.txt0 0.328885 0.801520 0.248311 0.025338\\n1 0.498480 0.563345 0.996959 0.694257PK\\x03\\x04\\n\\x00\\x00\\x00\\x00\\x00\\xe3B\\x91Y\\x9f\\xff\\x01tK\\x00\\x00\\x00K\\x00\\x00\\x00\\x0c\\x00\\x00\\x00photo146.txt0 0.633784 0.463682 0.077703 0.099662\\n1 0.508784 0.517736 0.841216 0.457770PK\\x03\\x04\\n\\x00\\x00\\x00\\x00\\x00\\xe3B\\x91Y\\xaeB2\\xdfK\\x00\\x00\\x00K\\x00\\x00\\x00\\x0c\\x00\\x00\\x00photo147.txt0 0.403209 0.536318 0.271959 0.025338\\n1 0.448818 0.542230 0.890203 0.361486PK\\x03\\x04\\n\\x00\\x00\\x00\\x00\\x00\\xe3B\\x91Y\\x0c\\x8f\\x85\\xf6K\\x00\\x00\\x00K\\x00\\x00\\x00\\x0c\\x00\\x00\\x00photo148.txt0 0.543412 0.507601 0.167230 0.059122\\n1 0.590709 0.433277 0.653716 0.842905PK\\x03\\x04\\n\\x00\\x00\\x00\\x00\\x00\\xe3B\\x91Y\\xa7j\\x1aUK\\x00\\x00\\x00K\\x00\\x00\\x00\\x0c\\x00\\x00\\x00photo149.txt0 0.546791 0.715372 0.160473 0.048986\\n1 0.543412 0.556588 0.548986 0.704392PK\\x03\\x04\\n\\x00\\x00\\x00\\x00\\x00\\xe3B\\x91Y\\x8dfl\\xe1K\\x00\\x00\\x00K\\x00\\x00\\x00\\x0b\\x00\\x00\\x00photo15.txt0 0.449662 0.442568 0.334459 0.195946\\n1 0.559291 0.435811 0.881418 0.861486PK\\x03\\x04\\n\\x00\\x00\\x00\\x00\\x00\\xe3B\\x91Y\\x96uo|K\\x00\\x00\\x00K\\x00\\x00\\x00\\x0c\\x00\\x00\\x00photo150.txt0 0.480068 0.709459 0.304054 0.050676\\n1 0.507095 0.547297 0.851351 0.570946PK\\x03\\x04\\n\\x00\\x00\\x00\\x00\\x00\\xe3B\\x91Y\\xf1\\\\\\xb4\\xc2K\\x00\\x00\\x00K\\x00\\x00\\x00\\x0c\\x00\\x00\\x00photo151.txt0 0.747804 0.931588 0.234797 0.086149\\n1 0.611824 0.638514 0.763514 0.702703PK\\x03\\x04\\n\\x00\\x00\\x00\\x00\\x00\\xe3B\\x91Y\\xb3`m\\xd8K\\x00\\x00\\x00K\\x00\\x00\\x00\\x0c\\x00\\x00\\x00photo152.txt0 0.503716 0.568412 0.141892 0.052365\\n1 0.469932 0.378378 0.500000 0.682432PK\\x03\\x04\\n\\x00\\x00\\x00\\x00\\x00\\xe3B\\x91Y\\xe4DX\\x7fK\\x00\\x00\\x00K\\x00\\x00\\x00\\x0c\\x00\\x00\\x00photo153.txt0 0.512162 0.512669 0.138514 0.038851\\n1 0.330574 0.398649 0.650338 0.398649PK\\x03\\x04\\n\\x00\\x00\\x00\\x00\\x00\\xe3B\\x91Y$\\x8b\\x98;K\\x00\\x00\\x00K\\x00\\x00\\x00\\x0c\\x00\\x00\\x00photo154.txt0 0.547635 0.549831 0.121622 0.048986\\n1 0.442061 0.391892 0.565878 0.506757PK\\x03\\x04\\n\\x00\\x00\\x00\\x00\\x00\\xe3B\\x91YM\\xb8E\\x0bK\\x00\\x00\\x00K\\x00\\x00\\x00\\x0c\\x00\\x00\\x00photo155.txt0 0.508784 0.446791 0.128378 0.028716\\n1 0.476689 0.360642 0.425676 0.288851PK\\x03\\x04\\n\\x00\\x00\\x00\\x00\\x00\\xe3B\\x91Y\\xfc\\xf7:\\x1dK\\x00\\x00\\x00K\\x00\\x00\\x00\\x0c\\x00\\x00\\x00photo156.txt0 0.565372 0.473818 0.103041 0.038851\\n1 0.351689 0.379223 0.662162 0.373311PK\\x03\\x04\\n\\x00\\x00\\x00\\x00\\x00\\xe3B\\x91YN\\xb0\\xe2\\x06K\\x00\\x00\\x00K\\x00\\x00\\x00\\x0c\\x00\\x00\\x00photo157.txt0 0.458108 0.479730 0.097973 0.027027\\n1 0.537500 0.423142 0.435811 0.278716PK\\x03\\x04\\n\\x00\\x00\\x00\\x00\\x00\\xe3B\\x91YA\\xe7=\\xceK\\x00\\x00\\x00K\\x00\\x00\\x00\\x0c\\x00\\x00\\x00photo158.txt0 0.528209 0.504223 0.106419 0.025338\\n1 0.484291 0.440034 0.423986 0.278716PK\\x03\\x04\\n\\x00\\x00\\x00\\x00\\x00\\xe3B\\x91Y\\xfe\\xe4\\x9baK\\x00\\x00\\x00K\\x00\\x00\\x00\\x0c\\x00\\x00\\x00photo159.txt0 0.537500 0.487331 0.114865 0.021959\\n1 0.491047 0.414696 0.410473 0.309122PK\\x03\\x04\\n\\x00\\x00\\x00\\x00\\x00\\xe3B\\x91Yr\\xabr\\x9aK\\x00\\x00\\x00K\\x00\\x00\\x00\\x0b\\x00\\x00\\x00photo16.txt0 0.431926 0.464527 0.265203 0.145270\\n1 0.529054 0.358953 0.810811 0.704392PK\\x03\\x04\\n\\x00\\x00\\x00\\x00\\x00\\xe3B\\x91Y\\x13!\\x8f\\xecK\\x00\\x00\\x00K\\x00\\x00\\x00\\x0c\\x00\\x00\\x00photo160.txt0 0.556081 0.532095 0.118243 0.057432\\n1 0.351689 0.383446 0.699324 0.469595PK\\x03\\x04\\n\\x00\\x00\\x00\\x00\\x00\\xe3B\\x91Y\\x19\\xc3N\\xecK\\x00\\x00\\x00K\\x00\\x00\\x00\\x0c\\x00\\x00\\x00photo161.txt0 0.546344 0.445859 0.075364 0.011261\\n1 0.450507 0.394426 0.373311 0.234797PK\\x03\\x04\\n\\x00\\x00\\x00\\x00\\x00\\xe3B\\x91Y\\xb8\\xaf\\xf3\\x9eK\\x00\\x00\\x00K\\x00\\x00\\x00\\x0c\\x00\\x00\\x00photo162.txt0 0.393919 0.577703 0.239865 0.101351\\n1 0.591385 0.369932 0.817230 0.733108PK\\x03\\x04\\n\\x00\\x00\\x00\\x00\\x00\\xe3B\\x91Y|(3\\xe2K\\x00\\x00\\x00K\\x00\\x00\\x00\\x0c\\x00\\x00\\x00photo163.txt0 0.496115 0.500000 0.278716 0.074324\\n1 0.581250 0.331926 0.837500 0.660473PK\\x03\\x04\\n\\x00\\x00\\x00\\x00\\x00\\xe3B\\x91Y\\xc9V\\xaelK\\x00\\x00\\x00K\\x00\\x00\\x00\\x0c\\x00\\x00\\x00photo164.txt0 0.437233 0.417319 0.081792 0.017781\\n1 0.438682 0.368243 0.285473 0.202703PK\\x03\\x04\\n\\x00\\x00\\x00\\x00\\x00\\xe3B\\x91Yr\\x0f8\\x03K\\x00\\x00\\x00K\\x00\\x00\\x00\\x0c\\x00\\x00\\x00photo165.txt0 0.274861 0.457987 0.051975 0.012994\\n1 0.311993 0.414696 0.258446 0.160473PK\\x03\\x04\\n\\x00\\x00\\x00\\x00\\x00\\xe3B\\x91Y\\xdd\\x02\\x06\\xabK\\x00\\x00\\x00K\\x00\\x00\\x00\\x0c\\x00\\x00\\x00photo166.txt0 0.448818 0.509291 0.106419 0.028716\\n1 0.518074 0.434122 0.461149 0.307432PK\\x03\\x04\\n\\x00\\x00\\x00\\x00\\x00\\xe3B\\x91Y\\xc9w\\xbb\\xb7K\\x00\\x00\\x00K\\x00\\x00\\x00\\x0c\\x00\\x00\\x00photo167.txt0 0.523986 0.570946 0.141892 0.027027\\n1 0.491047 0.452703 0.484797 0.344595PK\\x03\\x04\\n\\x00\\x00\\x00\\x00\\x00\\xe3B\\x91Y2\\xb9\\x19\\xe3K\\x00\\x00\\x00K\\x00\\x00\\x00\\x0c\\x00\\x00\\x00photo168.txt0 0.492074 0.483108 0.050676 0.012128\\n1 0.483446 0.447635 0.222973 0.138514PK\\x03\\x04\\n\\x00\\x00\\x00\\x00\\x00\\xe3B\\x91YM\\x13-\"K\\x00\\x00\\x00K\\x00\\x00\\x00\\x0c\\x00\\x00\\x00photo169.txt0 0.467689 0.503032 0.062370 0.014726\\n1 0.503716 0.471284 0.277027 0.175676PK\\x03\\x04\\n\\x00\\x00\\x00\\x00\\x00\\xe3B\\x91Y\\xd7\\x13\\xd2MK\\x00\\x00\\x00K\\x00\\x00\\x00\\x0b\\x00\\x00\\x00photo17.txt0 0.436149 0.614020 0.263514 0.163851\\n1 0.534966 0.419764 0.880068 0.829392PK\\x03\\x04\\n\\x00\\x00\\x00\\x00\\x00\\xe3B\\x91Y\\x11.\\xd5\\xd6K\\x00\\x00\\x00K\\x00\\x00\\x00\\x0c\\x00\\x00\\x00photo170.txt0 0.742334 0.501516 0.044612 0.009962\\n1 0.681081 0.480574 0.253378 0.116554PK\\x03\\x04\\n\\x00\\x00\\x00\\x00\\x00\\xe3B\\x91Y\\x1b\\x88\\xd0?K\\x00\\x00\\x00K\\x00\\x00\\x00\\x0c\\x00\\x00\\x00photo171.txt0 0.517230 0.480574 0.087838 0.021959\\n1 0.502027 0.444257 0.354730 0.243243PK\\x03\\x04\\n\\x00\\x00\\x00\\x00\\x00\\xe3B\\x91Y\\xef\\xd1\\xda\\x1bK\\x00\\x00\\x00K\\x00\\x00\\x00\\x0c\\x00\\x00\\x00photo172.txt0 0.323818 0.387669 0.177365 0.086149\\n1 0.558446 0.350507 0.883108 0.690878PK\\x03\\x04\\n\\x00\\x00\\x00\\x00\\x00\\xe3B\\x91Y\\xb0A\\x80\\xbfK\\x00\\x00\\x00K\\x00\\x00\\x00\\x0c\\x00\\x00\\x00photo173.txt0 0.444595 0.390203 0.449324 0.192568\\n1 0.503547 0.346284 0.992905 0.672297PK\\x03\\x04\\n\\x00\\x00\\x00\\x00\\x00\\xe3B\\x91Y^\\xa2t\\x80K\\x00\\x00\\x00K\\x00\\x00\\x00\\x0c\\x00\\x00\\x00photo174.txt0 0.518074 0.516047 0.089527 0.018581\\n1 0.448818 0.456926 0.396959 0.231419PK\\x03\\x04\\n\\x00\\x00\\x00\\x00\\x00\\xe3B\\x91Y\\x97:Z\\xf4K\\x00\\x00\\x00K\\x00\\x00\\x00\\x0c\\x00\\x00\\x00photo175.txt0 0.594335 0.506280 0.058905 0.012561\\n1 0.500338 0.465372 0.358108 0.173986PK\\x03\\x04\\n\\x00\\x00\\x00\\x00\\x00\\xe3B\\x91Y\\xe8v\\x8e\\xedK\\x00\\x00\\x00K\\x00\\x00\\x00\\x0c\\x00\\x00\\x00photo176.txt0 0.441216 0.364865 0.158784 0.070946\\n1 0.637838 0.235642 0.724324 0.454392PK\\x03\\x04\\n\\x00\\x00\\x00\\x00\\x00\\xe3B\\x91Y0m\\xd9.K\\x00\\x00\\x00K\\x00\\x00\\x00\\x0c\\x00\\x00\\x00photo177.txt0 0.555007 0.387691 0.043313 0.010828\\n1 0.499493 0.360642 0.285473 0.140203PK\\x03\\x04\\n\\x00\\x00\\x00\\x00\\x00\\xe3B\\x91Y\\xfe\\x1a\\x88\\x0bK\\x00\\x00\\x00K\\x00\\x00\\x00\\x0c\\x00\\x00\\x00photo178.txt0 0.416723 0.484797 0.157095 0.084459\\n1 0.490203 0.343750 0.655405 0.670608PK\\x03\\x04\\n\\x00\\x00\\x00\\x00\\x00\\xe3B\\x91YRa\\x86VK\\x00\\x00\\x00K\\x00\\x00\\x00\\x0c\\x00\\x00\\x00photo179.txt0 0.662500 0.755068 0.148649 0.047297\\n1 0.524831 0.658784 0.778716 0.594595PK\\x03\\x04\\n\\x00\\x00\\x00\\x00\\x00\\xe3B\\x91Y\\xad\\x1f:\\x1aK\\x00\\x00\\x00K\\x00\\x00\\x00\\x0b\\x00\\x00\\x00photo18.txt0 0.447128 0.584459 0.228041 0.074324\\n1 0.466554 0.383446 0.729730 0.766892PK\\x03\\x04\\n\\x00\\x00\\x00\\x00\\x00\\xe3B\\x91Y\\xc5\\xec\\x12\\x81K\\x00\\x00\\x00K\\x00\\x00\\x00\\x0c\\x00\\x00\\x00photo180.txt0 0.237669 0.586149 0.119932 0.135135\\n1 0.529054 0.538851 0.888514 0.888514PK\\x03\\x04\\n\\x00\\x00\\x00\\x00\\x00\\xe3B\\x91Y\\xf4\\x1ez\\xc9K\\x00\\x00\\x00K\\x00\\x00\\x00\\x0c\\x00\\x00\\x00photo181.txt0 0.328885 0.603885 0.173986 0.092905\\n1 0.529730 0.429899 0.940540 0.846284PK\\x03\\x04\\n\\x00\\x00\\x00\\x00\\x00\\xe3B\\x91YA\\xf9\\x02\\xcdK\\x00\\x00\\x00K\\x00\\x00\\x00\\x0b\\x00\\x00\\x00photo19.txt0 0.398986 0.603885 0.280405 0.082770\\n1 0.392230 0.401182 0.777027 0.792230PK\\x03\\x04\\n\\x00\\x00\\x00\\x00\\x00\\xe3B\\x91Y\\xc1\\xa7\\x8e\\x9bK\\x00\\x00\\x00K\\x00\\x00\\x00\\x0b\\x00\\x00\\x00photo20.txt0 0.453885 0.427365 0.241554 0.084459\\n1 0.545946 0.429054 0.672297 0.858108PK\\x03\\x04\\n\\x00\\x00\\x00\\x00\\x00\\xe3B\\x91Y\\xbd\\xe0\\xa8*K\\x00\\x00\\x00K\\x00\\x00\\x00\\x0b\\x00\\x00\\x00photo21.txt0 0.420946 0.565034 0.185811 0.065878\\n1 0.404054 0.357264 0.537162 0.711149PK\\x03\\x04\\n\\x00\\x00\\x00\\x00\\x00\\xe3B\\x91Yn\\xa3\\xd9\\x88K\\x00\\x00\\x00K\\x00\\x00\\x00\\x0b\\x00\\x00\\x00photo22.txt0 0.435304 0.601351 0.278716 0.074324\\n1 0.569426 0.450169 0.861148 0.893581PK\\x03\\x04\\n\\x00\\x00\\x00\\x00\\x00\\xe3B\\x91Y8b+\\xb5K\\x00\\x00\\x00K\\x00\\x00\\x00\\x0b\\x00\\x00\\x00photo23.txt0 0.474155 0.560811 0.177365 0.087838\\n1 0.457263 0.377534 0.684122 0.748311PK\\x03\\x04\\n\\x00\\x00\\x00\\x00\\x00\\xe3B\\x91YK\\x01\\xaa(K\\x00\\x00\\x00K\\x00\\x00\\x00\\x0b\\x00\\x00\\x00photo24.txt0 0.459797 0.661318 0.256757 0.096284\\n1 0.493581 0.435811 0.810811 0.868243PK\\x03\\x04\\n\\x00\\x00\\x00\\x00\\x00\\xe3B\\x91Y~\\xed>?K\\x00\\x00\\x00K\\x00\\x00\\x00\\x0b\\x00\\x00\\x00photo25.txt0 0.447128 0.550676 0.214527 0.091216\\n1 0.441216 0.359797 0.621622 0.719594PK\\x03\\x04\\n\\x00\\x00\\x00\\x00\\x00\\xe3B\\x91Y\\xf7@\\x8a\\x10K\\x00\\x00\\x00K\\x00\\x00\\x00\\x0b\\x00\\x00\\x00photo26.txt0 0.470777 0.621622 0.265203 0.097973\\n1 0.485135 0.408784 0.787162 0.814189PK\\x03\\x04\\n\\x00\\x00\\x00\\x00\\x00\\xe3B\\x91Y\\xa7\\xac.\\xe9K\\x00\\x00\\x00K\\x00\\x00\\x00\\x0b\\x00\\x00\\x00photo27.txt0 0.428547 0.505068 0.190878 0.091216\\n1 0.419257 0.343750 0.608108 0.687500PK\\x03\\x04\\n\\x00\\x00\\x00\\x00\\x00\\xe3B\\x91Y\\xfefA<K\\x00\\x00\\x00K\\x00\\x00\\x00\\x0b\\x00\\x00\\x00photo28.txt0 0.368581 0.536318 0.236486 0.082770\\n1 0.485980 0.414696 0.741554 0.829392PK\\x03\\x04\\n\\x00\\x00\\x00\\x00\\x00\\xe3B\\x91Y\\x1f\\x95h{K\\x00\\x00\\x00K\\x00\\x00\\x00\\x0b\\x00\\x00\\x00photo29.txt0 0.461486 0.612331 0.263514 0.086149\\n1 0.469088 0.519426 0.734797 0.961148PK\\x03\\x04\\n\\x00\\x00\\x00\\x00\\x00\\xe3B\\x91Yi\\x1a\\xfd/K\\x00\\x00\\x00K\\x00\\x00\\x00\\n\\x00\\x00\\x00photo3.txt0 0.499493 0.413007 0.167230 0.052365\\n1 0.521453 0.407095 0.599662 0.702703PK\\x03\\x04\\n\\x00\\x00\\x00\\x00\\x00\\xe3B\\x91YF\\xc1\\xbc7K\\x00\\x00\\x00K\\x00\\x00\\x00\\x0b\\x00\\x00\\x00photo30.txt0 0.466554 0.628378 0.250000 0.101351\\n1 0.482601 0.420608 0.795608 0.841216PK\\x03\\x04\\n\\x00\\x00\\x00\\x00\\x00\\xe3B\\x91Y3-=\\x85K\\x00\\x00\\x00K\\x00\\x00\\x00\\x0b\\x00\\x00\\x00photo31.txt0 0.480912 0.641892 0.241554 0.101351\\n1 0.469932 0.423986 0.770270 0.847972PK\\x03\\x04\\n\\x00\\x00\\x00\\x00\\x00\\xe3B\\x91YB\\xf5\\xab\\xfbK\\x00\\x00\\x00K\\x00\\x00\\x00\\x0b\\x00\\x00\\x00photo32.txt0 0.494426 0.483108 0.228041 0.128378\\n1 0.415034 0.371622 0.717905 0.743243PK\\x03\\x04\\n\\x00\\x00\\x00\\x00\\x00\\xe3B\\x91Y\\xfe\\xe8\\xbf\\x08K\\x00\\x00\\x00K\\x00\\x00\\x00\\x0b\\x00\\x00\\x00photo33.txt0 0.455574 0.602196 0.160473 0.059122\\n1 0.453885 0.317568 0.515203 0.635135PK\\x03\\x04\\n\\x00\\x00\\x00\\x00\\x00\\xe3B\\x91Y|k\\xc8\\xa0K\\x00\\x00\\x00K\\x00\\x00\\x00\\x0b\\x00\\x00\\x00photo34.txt0 0.511318 0.581081 0.197635 0.101351\\n1 0.487669 0.392736 0.626689 0.785472PK\\x03\\x04\\n\\x00\\x00\\x00\\x00\\x00\\xe3B\\x91Y\\xd2&\\x97gK\\x00\\x00\\x00K\\x00\\x00\\x00\\x0b\\x00\\x00\\x00photo35.txt0 0.448818 0.630912 0.231419 0.106419\\n1 0.461486 0.401182 0.719595 0.802364PK\\x03\\x04\\n\\x00\\x00\\x00\\x00\\x00\\xe3B\\x91Y\\xca\\xb2\\'\\x9fK\\x00\\x00\\x00K\\x00\\x00\\x00\\x0b\\x00\\x00\\x00photo36.txt0 0.551013 0.609797 0.182432 0.094595\\n1 0.518074 0.423142 0.687500 0.839527PK\\x03\\x04\\n\\x00\\x00\\x00\\x00\\x00\\xe3B\\x91Y\\xb7sm\\xa9K\\x00\\x00\\x00K\\x00\\x00\\x00\\x0b\\x00\\x00\\x00photo37.txt0 0.431081 0.560811 0.266892 0.108108\\n1 0.408277 0.389358 0.758446 0.778716PK\\x03\\x04\\n\\x00\\x00\\x00\\x00\\x00\\xe3B\\x91Y\"-M\\x02K\\x00\\x00\\x00K\\x00\\x00\\x00\\x0b\\x00\\x00\\x00photo38.txt0 0.421791 0.587838 0.207770 0.101351\\n1 0.431081 0.364020 0.692568 0.728040PK\\x03\\x04\\n\\x00\\x00\\x00\\x00\\x00\\xe3B\\x91Y>U\\xa9xK\\x00\\x00\\x00K\\x00\\x00\\x00\\x0b\\x00\\x00\\x00photo39.txt0 0.511318 0.514358 0.217905 0.133446\\n1 0.459797 0.342061 0.641892 0.684122PK\\x03\\x04\\n\\x00\\x00\\x00\\x00\\x00\\xe3B\\x91Y/;1vK\\x00\\x00\\x00K\\x00\\x00\\x00\\n\\x00\\x00\\x00photo4.txt0 0.464865 0.527872 0.246622 0.116554\\n1 0.477534 0.310811 0.812500 0.621622PK\\x03\\x04\\n\\x00\\x00\\x00\\x00\\x00\\xe3B\\x91Y#\\x7f\\x08\\xf8K\\x00\\x00\\x00K\\x00\\x00\\x00\\x0b\\x00\\x00\\x00photo40.txt0 0.446284 0.527027 0.226351 0.087838\\n1 0.468243 0.363176 0.672297 0.726351PK\\x03\\x04\\n\\x00\\x00\\x00\\x00\\x00\\xe3B\\x91Y\\x95\\x08B\\x00K\\x00\\x00\\x00K\\x00\\x00\\x00\\x0b\\x00\\x00\\x00photo41.txt0 0.430236 0.520270 0.197635 0.087838\\n1 0.483446 0.474662 0.628378 0.847973PK\\x03\\x04\\n\\x00\\x00\\x00\\x00\\x00\\xe3B\\x91Y\\xdc\\xe73\\xcaK\\x00\\x00\\x00K\\x00\\x00\\x00\\x0b\\x00\\x00\\x00photo42.txt0 0.416723 0.662162 0.217905 0.104730\\n1 0.465709 0.434122 0.633446 0.868243PK\\x03\\x04\\n\\x00\\x00\\x00\\x00\\x00\\xe3B\\x91Y\\x9c\\x9e\\x14\\xeeK\\x00\\x00\\x00K\\x00\\x00\\x00\\x0b\\x00\\x00\\x00photo43.txt0 0.431081 0.575169 0.229730 0.082770\\n1 0.408277 0.342061 0.684122 0.684122PK\\x03\\x04\\n\\x00\\x00\\x00\\x00\\x00\\xe3B\\x91Y\\xb3;\\xb7+K\\x00\\x00\\x00K\\x00\\x00\\x00\\x0b\\x00\\x00\\x00photo44.txt0 0.485135 0.351351 0.185811 0.209459\\n1 0.501858 0.308277 0.996284 0.606419PK\\x03\\x04\\n\\x00\\x00\\x00\\x00\\x00\\xe3B\\x91Y\\xe5\\xfa\\xae\\x85K\\x00\\x00\\x00K\\x00\\x00\\x00\\x0b\\x00\\x00\\x00photo45.txt0 0.433615 0.736486 0.265203 0.101351\\n1 0.426858 0.436655 0.782095 0.873310PK\\x03\\x04\\n\\x00\\x00\\x00\\x00\\x00\\xe3B\\x91Y\\x9fM\\xd0\\xd6K\\x00\\x00\\x00K\\x00\\x00\\x00\\x0b\\x00\\x00\\x00photo46.txt0 0.404899 0.480574 0.211149 0.076014\\n1 0.371959 0.291385 0.685811 0.582770PK\\x03\\x04\\n\\x00\\x00\\x00\\x00\\x00\\xe3B\\x91Y\\xa05\\xde\\xa4K\\x00\\x00\\x00K\\x00\\x00\\x00\\x0b\\x00\\x00\\x00photo47.txt0 0.468243 0.661318 0.236486 0.096284\\n1 0.422635 0.427365 0.709459 0.854730PK\\x03\\x04\\n\\x00\\x00\\x00\\x00\\x00\\xe3B\\x91Ya\\xa0\\xfc\\x10K\\x00\\x00\\x00K\\x00\\x00\\x00\\x0b\\x00\\x00\\x00photo48.txt0 0.415878 0.488176 0.202703 0.074324\\n1 0.406588 0.457770 0.589527 0.780405PK\\x03\\x04\\n\\x00\\x00\\x00\\x00\\x00\\xe3B\\x91Y\\x1b\\x04\\x80\\xe3K\\x00\\x00\\x00K\\x00\\x00\\x00\\x0b\\x00\\x00\\x00photo49.txt0 0.347466 0.711993 0.234797 0.065878\\n1 0.359291 0.404561 0.684122 0.809122PK\\x03\\x04\\n\\x00\\x00\\x00\\x00\\x00\\xe3B\\x91Y=\\xa6*\\xeeK\\x00\\x00\\x00K\\x00\\x00\\x00\\n\\x00\\x00\\x00photo5.txt0 0.377872 0.503378 0.268581 0.131757\\n1 0.431926 0.500845 0.822635 0.981419PK\\x03\\x04\\n\\x00\\x00\\x00\\x00\\x00\\xe3B\\x91YD\\xbb\\x85\\xb2K\\x00\\x00\\x00K\\x00\\x00\\x00\\x0b\\x00\\x00\\x00photo50.txt0 0.432770 0.507601 0.175676 0.076014\\n1 0.454730 0.320101 0.564189 0.640202PK\\x03\\x04\\n\\x00\\x00\\x00\\x00\\x00\\xe3B\\x91Y\\x06-\\xfa\\xfdK\\x00\\x00\\x00K\\x00\\x00\\x00\\x0b\\x00\\x00\\x00photo51.txt0 0.381250 0.559122 0.194257 0.077703\\n1 0.388007 0.375845 0.548986 0.751689PK\\x03\\x04\\n\\x00\\x00\\x00\\x00\\x00\\xe3B\\x91Y\\x83l\\x93\\xb1K\\x00\\x00\\x00K\\x00\\x00\\x00\\x0b\\x00\\x00\\x00photo52.txt0 0.389696 0.529561 0.221284 0.106419\\n1 0.409122 0.377534 0.706081 0.755068PK\\x03\\x04\\n\\x00\\x00\\x00\\x00\\x00\\xe3B\\x91Y4/\\r\\x0bK\\x00\\x00\\x00K\\x00\\x00\\x00\\x0b\\x00\\x00\\x00photo53.txt0 0.413345 0.652027 0.268581 0.135135\\n1 0.463176 0.413007 0.885135 0.826014PK\\x03\\x04\\n\\x00\\x00\\x00\\x00\\x00\\xe3B\\x91Y\\xb4>\\x8c\\xdbK\\x00\\x00\\x00K\\x00\\x00\\x00\\x0b\\x00\\x00\\x00photo54.txt0 0.296791 0.644426 0.201014 0.116554\\n1 0.406588 0.394426 0.728041 0.778716PK\\x03\\x04\\n\\x00\\x00\\x00\\x00\\x00\\xe3B\\x91Y\\xb1\\xad\\x19\\x97K\\x00\\x00\\x00K\\x00\\x00\\x00\\x0b\\x00\\x00\\x00photo55.txt0 0.443750 0.558277 0.224662 0.109797\\n1 0.476689 0.393581 0.719595 0.787162PK\\x03\\x04\\n\\x00\\x00\\x00\\x00\\x00\\xe3B\\x91Y*,\\x8c;K\\x00\\x00\\x00K\\x00\\x00\\x00\\x0b\\x00\\x00\\x00photo56.txt0 0.415878 0.374155 0.195946 0.076014\\n1 0.431926 0.384291 0.596284 0.765203PK\\x03\\x04\\n\\x00\\x00\\x00\\x00\\x00\\xe3B\\x91Yo\\x1c\\xbfQK\\x00\\x00\\x00K\\x00\\x00\\x00\\x0b\\x00\\x00\\x00photo57.txt0 0.443750 0.451858 0.261824 0.079392\\n1 0.451351 0.445946 0.766892 0.868243PK\\x03\\x04\\n\\x00\\x00\\x00\\x00\\x00\\xe3B\\x91YYhY\\x8fK\\x00\\x00\\x00K\\x00\\x00\\x00\\x0b\\x00\\x00\\x00photo58.txt0 0.432770 0.545608 0.405405 0.145270\\n1 0.477365 0.499155 0.954730 0.998310PK\\x03\\x04\\n\\x00\\x00\\x00\\x00\\x00\\xe3B\\x91Y \\x81\\x9d\"K\\x00\\x00\\x00K\\x00\\x00\\x00\\x0b\\x00\\x00\\x00photo59.txt0 0.477534 0.662162 0.221284 0.087838\\n1 0.466554 0.424831 0.645270 0.849662PK\\x03\\x04\\n\\x00\\x00\\x00\\x00\\x00\\xe3B\\x91Y\\xebs\\x97\\xb2K\\x00\\x00\\x00K\\x00\\x00\\x00\\n\\x00\\x00\\x00photo6.txt0 0.403209 0.387669 0.271959 0.106419\\n1 0.397297 0.410473 0.739865 0.820946PK\\x03\\x04\\n\\x00\\x00\\x00\\x00\\x00\\xe3B\\x91Y\\x9ej\\xc2\\xf2K\\x00\\x00\\x00K\\x00\\x00\\x00\\x0b\\x00\\x00\\x00photo60.txt0 0.384628 0.545608 0.261824 0.084459\\n1 0.447804 0.397804 0.895608 0.795608PK\\x03\\x04\\n\\x00\\x00\\x00\\x00\\x00\\xe3B\\x91Yw\\xbb\\xb7\\xb8K\\x00\\x00\\x00K\\x00\\x00\\x00\\x0b\\x00\\x00\\x00photo61.txt0 0.471622 0.529561 0.155405 0.082770\\n1 0.415034 0.353041 0.501689 0.706081PK\\x03\\x04\\n\\x00\\x00\\x00\\x00\\x00\\xe3B\\x91Y\\xcc\\x17S\\x1dK\\x00\\x00\\x00K\\x00\\x00\\x00\\x0b\\x00\\x00\\x00photo62.txt0 0.446284 0.554054 0.216216 0.074324\\n1 0.431081 0.369088 0.672297 0.738176PK\\x03\\x04\\n\\x00\\x00\\x00\\x00\\x00\\xe3B\\x91YQ\\xa9m\\x91K\\x00\\x00\\x00K\\x00\\x00\\x00\\x0b\\x00\\x00\\x00photo63.txt0 0.445439 0.553209 0.251689 0.076014\\n1 0.439527 0.369088 0.706081 0.738176PK\\x03\\x04\\n\\x00\\x00\\x00\\x00\\x00\\xe3B\\x91YK\\xbc\\x8e\\xccK\\x00\\x00\\x00K\\x00\\x00\\x00\\x0b\\x00\\x00\\x00photo64.txt0 0.464865 0.614865 0.199324 0.070946\\n1 0.433615 0.398649 0.596284 0.797297PK\\x03\\x04\\n\\x00\\x00\\x00\\x00\\x00\\xe3B\\x91Y\\xf2\\xfb\\x0f\\xe7K\\x00\\x00\\x00K\\x00\\x00\\x00\\x0b\\x00\\x00\\x00photo65.txt0 0.402365 0.552365 0.270270 0.104730\\n1 0.437669 0.363176 0.875338 0.726351PK\\x03\\x04\\n\\x00\\x00\\x00\\x00\\x00\\xe3B\\x91Y+@\\xeeQK\\x00\\x00\\x00K\\x00\\x00\\x00\\x0b\\x00\\x00\\x00photo66.txt0 0.471622 0.502534 0.226351 0.119932\\n1 0.520608 0.380068 0.672297 0.760135PK\\x03\\x04\\n\\x00\\x00\\x00\\x00\\x00\\xe3B\\x91Y\\xa9B\\x16+K\\x00\\x00\\x00K\\x00\\x00\\x00\\x0b\\x00\\x00\\x00photo67.txt0 0.419257 0.641047 0.229730 0.079392\\n1 0.420101 0.383446 0.643581 0.766892PK\\x03\\x04\\n\\x00\\x00\\x00\\x00\\x00\\xe3B\\x91YR\\x859\\'K\\x00\\x00\\x00K\\x00\\x00\\x00\\x0b\\x00\\x00\\x00photo68.txt0 0.453041 0.493243 0.199324 0.060811\\n1 0.480068 0.338682 0.662162 0.677364PK\\x03\\x04\\n\\x00\\x00\\x00\\x00\\x00\\xe3B\\x91Y\\x0f\\x11\\x1f\\xd5K\\x00\\x00\\x00K\\x00\\x00\\x00\\x0b\\x00\\x00\\x00photo69.txt0 0.366892 0.567568 0.253378 0.087838\\n1 0.442905 0.484797 0.766892 0.969594PK\\x03\\x04\\n\\x00\\x00\\x00\\x00\\x00\\xe3B\\x91Y=\\xfa\\xfb\\xbfK\\x00\\x00\\x00K\\x00\\x00\\x00\\n\\x00\\x00\\x00photo7.txt0 0.461486 0.431588 0.195946 0.065878\\n1 0.459797 0.396959 0.581081 0.793918PK\\x03\\x04\\n\\x00\\x00\\x00\\x00\\x00\\xe3B\\x91Y#\\x07I\\xe7K\\x00\\x00\\x00K\\x00\\x00\\x00\\x0b\\x00\\x00\\x00photo70.txt0 0.371115 0.637669 0.258446 0.109797\\n1 0.421791 0.405405 0.724662 0.810810PK\\x03\\x04\\n\\x00\\x00\\x00\\x00\\x00\\xe3B\\x91Y\\x92\\x89\\x13\\xf5K\\x00\\x00\\x00K\\x00\\x00\\x00\\x0b\\x00\\x00\\x00photo71.txt0 0.398142 0.386824 0.207770 0.070946\\n1 0.502872 0.335304 0.677365 0.670608PK\\x03\\x04\\n\\x00\\x00\\x00\\x00\\x00\\xe3B\\x91Y\\x12\\xe6\\xe5\\x10K\\x00\\x00\\x00K\\x00\\x00\\x00\\x0b\\x00\\x00\\x00photo72.txt0 0.425169 0.543919 0.190878 0.067568\\n1 0.441216 0.344595 0.631757 0.689189PK\\x03\\x04\\n\\x00\\x00\\x00\\x00\\x00\\xe3B\\x91Y{9\\x90*K\\x00\\x00\\x00K\\x00\\x00\\x00\\x0b\\x00\\x00\\x00photo73.txt0 0.412500 0.584459 0.239865 0.087838\\n1 0.467399 0.384291 0.741554 0.768581PK\\x03\\x04\\n\\x00\\x00\\x00\\x00\\x00\\xe3B\\x91Y\\x034\\x19\\x0eK\\x00\\x00\\x00K\\x00\\x00\\x00\\x0b\\x00\\x00\\x00photo74.txt0 0.407432 0.594595 0.202703 0.050676\\n1 0.403209 0.331081 0.582770 0.662162PK\\x03\\x04\\n\\x00\\x00\\x00\\x00\\x00\\xe3B\\x91Y\\xc3d\\xea\\xc7K\\x00\\x00\\x00K\\x00\\x00\\x00\\x0b\\x00\\x00\\x00photo75.txt0 0.371959 0.532095 0.209459 0.084459\\n1 0.371115 0.342905 0.673986 0.685810PK\\x03\\x04\\n\\x00\\x00\\x00\\x00\\x00\\xe3B\\x91Y\\xf8\\x1f\\xf9OK\\x00\\x00\\x00K\\x00\\x00\\x00\\x0b\\x00\\x00\\x00photo76.txt0 0.464020 0.566723 0.221284 0.099662\\n1 0.475000 0.384291 0.702703 0.768581PK\\x03\\x04\\n\\x00\\x00\\x00\\x00\\x00\\xe3B\\x91Y\\x0f\\xae@XK\\x00\\x00\\x00K\\x00\\x00\\x00\\x0b\\x00\\x00\\x00photo77.txt0 0.435304 0.492399 0.261824 0.119932\\n1 0.430236 0.353041 0.795608 0.706081PK\\x03\\x04\\n\\x00\\x00\\x00\\x00\\x00\\xe3B\\x91Yd!\\r\\x1bK\\x00\\x00\\x00K\\x00\\x00\\x00\\x0b\\x00\\x00\\x00photo78.txt0 0.429392 0.486486 0.239865 0.087838\\n1 0.418412 0.343750 0.701014 0.687500PK\\x03\\x04\\n\\x00\\x00\\x00\\x00\\x00\\xe3B\\x91YEH\\xa4cK\\x00\\x00\\x00K\\x00\\x00\\x00\\x0b\\x00\\x00\\x00photo79.txt0 0.485135 0.551520 0.300676 0.136824\\n1 0.425169 0.451014 0.846284 0.902027PK\\x03\\x04\\n\\x00\\x00\\x00\\x00\\x00\\xe3B\\x91Y\\x0b\\x9a\\xe6\\x1cK\\x00\\x00\\x00K\\x00\\x00\\x00\\n\\x00\\x00\\x00photo8.txt0 0.502872 0.380912 0.143581 0.079392\\n1 0.491047 0.265203 0.518581 0.530405PK\\x03\\x04\\n\\x00\\x00\\x00\\x00\\x00\\xe3B\\x91Yz%\\xe2\\xb1K\\x00\\x00\\x00K\\x00\\x00\\x00\\x0b\\x00\\x00\\x00photo80.txt0 0.380405 0.472973 0.206081 0.263514\\n1 0.525507 0.498311 0.948986 0.996622PK\\x03\\x04\\n\\x00\\x00\\x00\\x00\\x00\\xe3B\\x91Y\\x05p\\xfa:K\\x00\\x00\\x00K\\x00\\x00\\x00\\x0b\\x00\\x00\\x00photo81.txt0 0.440372 0.512669 0.251689 0.133446\\n1 0.409122 0.344595 0.790541 0.689189PK\\x03\\x04\\n\\x00\\x00\\x00\\x00\\x00\\xe3B\\x91Y\\x12W\\xcb\\xa1K\\x00\\x00\\x00K\\x00\\x00\\x00\\x0b\\x00\\x00\\x00photo82.txt0 0.405743 0.484797 0.361486 0.138514\\n1 0.466385 0.490709 0.932770 0.981418PK\\x03\\x04\\n\\x00\\x00\\x00\\x00\\x00\\xe3B\\x91Y5\"F\\xc0K\\x00\\x00\\x00K\\x00\\x00\\x00\\x0b\\x00\\x00\\x00photo83.txt0 0.449662 0.592061 0.250000 0.116554\\n1 0.405743 0.406250 0.750000 0.812500PK\\x03\\x04\\n\\x00\\x00\\x00\\x00\\x00\\xe3B\\x91Y\\xf1\\x89\\x99>K\\x00\\x00\\x00K\\x00\\x00\\x00\\x0b\\x00\\x00\\x00photo84.txt0 0.432770 0.538007 0.209459 0.123311\\n1 0.459797 0.385135 0.658784 0.770270PK\\x03\\x04\\n\\x00\\x00\\x00\\x00\\x00\\xe3B\\x91Y\\xb2@\\xa8\\xa6K\\x00\\x00\\x00K\\x00\\x00\\x00\\x0b\\x00\\x00\\x00photo85.txt0 0.502027 0.476351 0.260135 0.118243\\n1 0.465709 0.340372 0.690878 0.680743PK\\x03\\x04\\n\\x00\\x00\\x00\\x00\\x00\\xe3B\\x91Y\\xb9\\x84&{K\\x00\\x00\\x00K\\x00\\x00\\x00\\x0b\\x00\\x00\\x00photo86.txt0 0.436993 0.612331 0.255068 0.082770\\n1 0.414189 0.336149 0.783784 0.672297PK\\x03\\x04\\n\\x00\\x00\\x00\\x00\\x00\\xe3B\\x91Y\\x00\\xf1\\xb1\\xfaK\\x00\\x00\\x00K\\x00\\x00\\x00\\x0b\\x00\\x00\\x00photo87.txt0 0.438682 0.603885 0.322635 0.126689\\n1 0.500169 0.498311 0.999662 0.996622PK\\x03\\x04\\n\\x00\\x00\\x00\\x00\\x00\\xe3B\\x91Y\\x01\\xbf\\x91\\xbeK\\x00\\x00\\x00K\\x00\\x00\\x00\\x0b\\x00\\x00\\x00photo88.txt0 0.327196 0.525338 0.258446 0.111486\\n1 0.372804 0.364865 0.734797 0.722973PK\\x03\\x04\\n\\x00\\x00\\x00\\x00\\x00\\xe3B\\x91Y{\\x81>\\xfdK\\x00\\x00\\x00K\\x00\\x00\\x00\\x0b\\x00\\x00\\x00photo89.txt0 0.408277 0.514358 0.282095 0.113176\\n1 0.426689 0.386824 0.853378 0.773648PK\\x03\\x04\\n\\x00\\x00\\x00\\x00\\x00\\xe3B\\x91Y\\xa2j\\xfe\\x06K\\x00\\x00\\x00K\\x00\\x00\\x00\\n\\x00\\x00\\x00photo9.txt0 0.414189 0.499155 0.246622 0.113176\\n1 0.425169 0.484797 0.687500 0.969594PK\\x03\\x04\\n\\x00\\x00\\x00\\x00\\x00\\xe3B\\x91Y\\x1f\\x19PtK\\x00\\x00\\x00K\\x00\\x00\\x00\\x0b\\x00\\x00\\x00photo90.txt0 0.484291 0.543919 0.244932 0.094595\\n1 0.473311 0.362331 0.675676 0.724662PK\\x03\\x04\\n\\x00\\x00\\x00\\x00\\x00\\xe3B\\x91Y\\x93\\x86+\\x8eK\\x00\\x00\\x00K\\x00\\x00\\x00\\x0b\\x00\\x00\\x00photo91.txt0 0.498649 0.443412 0.280405 0.042230\\n1 0.498649 0.325169 0.847973 0.447635PK\\x03\\x04\\n\\x00\\x00\\x00\\x00\\x00\\xe3B\\x91Y\\xa8\\x19\\xb9\\xdfK\\x00\\x00\\x00K\\x00\\x00\\x00\\x0b\\x00\\x00\\x00photo92.txt0 0.803547 0.653716 0.187500 0.037162\\n1 0.522297 0.620777 0.942568 0.305743PK\\x03\\x04\\n\\x00\\x00\\x00\\x00\\x00\\xe3B\\x91Y\\x1a\\xf4I\\xa1K\\x00\\x00\\x00K\\x00\\x00\\x00\\x0b\\x00\\x00\\x00photo93.txt0 0.230068 0.474662 0.138514 0.064189\\n1 0.500169 0.420608 0.999662 0.462838PK\\x03\\x04\\n\\x00\\x00\\x00\\x00\\x00\\xe3B\\x91Y\\xa2<\\xc7\\x1aK\\x00\\x00\\x00K\\x00\\x00\\x00\\x0b\\x00\\x00\\x00photo94.txt0 0.610135 0.616554 0.297297 0.037162\\n1 0.498480 0.575169 0.996959 0.373311PK\\x03\\x04\\n\\x00\\x00\\x00\\x00\\x00\\xe3B\\x91Y?]\\xd2>K\\x00\\x00\\x00K\\x00\\x00\\x00\\x0b\\x00\\x00\\x00photo95.txt0 0.787500 0.567568 0.155405 0.074324\\n1 0.500169 0.521959 0.999662 0.402027PK\\x03\\x04\\n\\x00\\x00\\x00\\x00\\x00\\xe3B\\x91Y[\\x18\\xb5<K\\x00\\x00\\x00K\\x00\\x00\\x00\\x0b\\x00\\x00\\x00photo96.txt0 0.763851 0.591216 0.114865 0.023649\\n1 0.648986 0.547297 0.567568 0.233108PK\\x03\\x04\\n\\x00\\x00\\x00\\x00\\x00\\xe3B\\x91Y\\xcahh\\xbbK\\x00\\x00\\x00K\\x00\\x00\\x00\\x0b\\x00\\x00\\x00photo97.txt0 0.788345 0.482264 0.092905 0.028716\\n1 0.601689 0.455236 0.611486 0.187500PK\\x03\\x04\\n\\x00\\x00\\x00\\x00\\x00\\xe3B\\x91Y\\x95\\xa2G\\xbeK\\x00\\x00\\x00K\\x00\\x00\\x00\\x0b\\x00\\x00\\x00photo98.txt0 0.689527 0.537162 0.165541 0.033784\\n1 0.515541 0.561655 0.861486 0.261824PK\\x03\\x04\\n\\x00\\x00\\x00\\x00\\x00\\xe3B\\x91Y\\xaf\\xf0\\xc4\\x9cK\\x00\\x00\\x00K\\x00\\x00\\x00\\x0b\\x00\\x00\\x00photo99.txt0 0.503716 0.404561 0.097973 0.025338\\n1 0.413345 0.355574 0.434122 0.278716PK\\x01\\x02\\x14\\x00\\n\\x00\\x00\\x00\\x00\\x00\\xe3B\\x91YN=\\xa6\\x83K\\x00\\x00\\x00K\\x00\\x00\\x00\\n\\x00\\x00\\x00\\x00\\x00\\x00\\x00\\x00\\x00\\x00\\x00\\x00\\x00\\x00\\x00\\x00\\x00photo1.txtPK\\x01\\x02\\x14\\x00\\n\\x00\\x00\\x00\\x00\\x00\\xe3B\\x91YQ\\xff!~K\\x00\\x00\\x00K\\x00\\x00\\x00\\x0b\\x00\\x00\\x00\\x00\\x00\\x00\\x00\\x00\\x00\\x00\\x00\\x00\\x00s\\x00\\x00\\x00photo10.txtPK\\x01\\x02\\x14\\x00\\n\\x00\\x00\\x00\\x00\\x00\\xe3B\\x91Yys\\x8e3K\\x00\\x00\\x00K\\x00\\x00\\x00\\x0c\\x00\\x00\\x00\\x00\\x00\\x00\\x00\\x00\\x00\\x00\\x00\\x00\\x00\\xe7\\x00\\x00\\x00photo100.txtPK\\x01\\x02\\x14\\x00\\n\\x00\\x00\\x00\\x00\\x00\\xe3B\\x91YWX\\x7f\\xfeK\\x00\\x00\\x00K\\x00\\x00\\x00\\x0c\\x00\\x00\\x00\\x00\\x00\\x00\\x00\\x00\\x00\\x00\\x00\\x00\\x00\\\\\\x01\\x00\\x00photo101.txtPK\\x01\\x02\\x14\\x00\\n\\x00\\x00\\x00\\x00\\x00\\xe3B\\x91Y\\xca_\\x14\\x1eK\\x00\\x00\\x00K\\x00\\x00\\x00\\x0c\\x00\\x00\\x00\\x00\\x00\\x00\\x00\\x00\\x00\\x00\\x00\\x00\\x00\\xd1\\x01\\x00\\x00photo102.txtPK\\x01\\x02\\x14\\x00\\n\\x00\\x00\\x00\\x00\\x00\\xe3B\\x91Yc\\xb1\\x07\\xefK\\x00\\x00\\x00K\\x00\\x00\\x00\\x0c\\x00\\x00\\x00\\x00\\x00\\x00\\x00\\x00\\x00\\x00\\x00\\x00\\x00F\\x02\\x00\\x00photo103.txtPK\\x01\\x02\\x14\\x00\\n\\x00\\x00\\x00\\x00\\x00\\xe3B\\x91Y\\xf5n\\x922K\\x00\\x00\\x00K\\x00\\x00\\x00\\x0c\\x00\\x00\\x00\\x00\\x00\\x00\\x00\\x00\\x00\\x00\\x00\\x00\\x00\\xbb\\x02\\x00\\x00photo104.txtPK\\x01\\x02\\x14\\x00\\n\\x00\\x00\\x00\\x00\\x00\\xe3B\\x91Y\\x1a\\xb8\\x87\\xb0K\\x00\\x00\\x00K\\x00\\x00\\x00\\x0c\\x00\\x00\\x00\\x00\\x00\\x00\\x00\\x00\\x00\\x00\\x00\\x00\\x000\\x03\\x00\\x00photo105.txtPK\\x01\\x02\\x14\\x00\\n\\x00\\x00\\x00\\x00\\x00\\xe3B\\x91Y\\x7f\\xa8\\xcaAK\\x00\\x00\\x00K\\x00\\x00\\x00\\x0c\\x00\\x00\\x00\\x00\\x00\\x00\\x00\\x00\\x00\\x00\\x00\\x00\\x00\\xa5\\x03\\x00\\x00photo106.txtPK\\x01\\x02\\x14\\x00\\n\\x00\\x00\\x00\\x00\\x00\\xe3B\\x91Y\\xe6\\xa2\\xb4{K\\x00\\x00\\x00K\\x00\\x00\\x00\\x0c\\x00\\x00\\x00\\x00\\x00\\x00\\x00\\x00\\x00\\x00\\x00\\x00\\x00\\x1a\\x04\\x00\\x00photo107.txtPK\\x01\\x02\\x14\\x00\\n\\x00\\x00\\x00\\x00\\x00\\xe3B\\x91Y\\x1b\\x0b\\x0f\\x08K\\x00\\x00\\x00K\\x00\\x00\\x00\\x0c\\x00\\x00\\x00\\x00\\x00\\x00\\x00\\x00\\x00\\x00\\x00\\x00\\x00\\x8f\\x04\\x00\\x00photo108.txtPK\\x01\\x02\\x14\\x00\\n\\x00\\x00\\x00\\x00\\x00\\xe3B\\x91Y|\\x0e\\'\\x1cK\\x00\\x00\\x00K\\x00\\x00\\x00\\x0c\\x00\\x00\\x00\\x00\\x00\\x00\\x00\\x00\\x00\\x00\\x00\\x00\\x00\\x04\\x05\\x00\\x00photo109.txtPK\\x01\\x02\\x14\\x00\\n\\x00\\x00\\x00\\x00\\x00\\xe3B\\x91Y_3\\x19\\x18K\\x00\\x00\\x00K\\x00\\x00\\x00\\x0b\\x00\\x00\\x00\\x00\\x00\\x00\\x00\\x00\\x00\\x00\\x00\\x00\\x00y\\x05\\x00\\x00photo11.txtPK\\x01\\x02\\x14\\x00\\n\\x00\\x00\\x00\\x00\\x00\\xe3B\\x91Y$-@BK\\x00\\x00\\x00K\\x00\\x00\\x00\\x0c\\x00\\x00\\x00\\x00\\x00\\x00\\x00\\x00\\x00\\x00\\x00\\x00\\x00\\xed\\x05\\x00\\x00photo110.txtPK\\x01\\x02\\x14\\x00\\n\\x00\\x00\\x00\\x00\\x00\\xe3B\\x91Ys\\x8f\\xdaPK\\x00\\x00\\x00K\\x00\\x00\\x00\\x0c\\x00\\x00\\x00\\x00\\x00\\x00\\x00\\x00\\x00\\x00\\x00\\x00\\x00b\\x06\\x00\\x00photo111.txtPK\\x01\\x02\\x14\\x00\\n\\x00\\x00\\x00\\x00\\x00\\xe3B\\x91Y\\xe6\\x9d`dK\\x00\\x00\\x00K\\x00\\x00\\x00\\x0c\\x00\\x00\\x00\\x00\\x00\\x00\\x00\\x00\\x00\\x00\\x00\\x00\\x00\\xd7\\x06\\x00\\x00photo112.txtPK\\x01\\x02\\x14\\x00\\n\\x00\\x00\\x00\\x00\\x00\\xe3B\\x91Y\\xb5(>\\x92K\\x00\\x00\\x00K\\x00\\x00\\x00\\x0c\\x00\\x00\\x00\\x00\\x00\\x00\\x00\\x00\\x00\\x00\\x00\\x00\\x00L\\x07\\x00\\x00photo113.txtPK\\x01\\x02\\x14\\x00\\n\\x00\\x00\\x00\\x00\\x00\\xe3B\\x91Y\\x81\\xaa\\xd0\\xe6K\\x00\\x00\\x00K\\x00\\x00\\x00\\x0c\\x00\\x00\\x00\\x00\\x00\\x00\\x00\\x00\\x00\\x00\\x00\\x00\\x00\\xc1\\x07\\x00\\x00photo114.txtPK\\x01\\x02\\x14\\x00\\n\\x00\\x00\\x00\\x00\\x00\\xe3B\\x91Y\\xff\\xc2\\xfc\\x1eK\\x00\\x00\\x00K\\x00\\x00\\x00\\x0c\\x00\\x00\\x00\\x00\\x00\\x00\\x00\\x00\\x00\\x00\\x00\\x00\\x006\\x08\\x00\\x00photo115.txtPK\\x01\\x02\\x14\\x00\\n\\x00\\x00\\x00\\x00\\x00\\xe3B\\x91Y\\xda\\x9e\\xe8\\x8cK\\x00\\x00\\x00K\\x00\\x00\\x00\\x0c\\x00\\x00\\x00\\x00\\x00\\x00\\x00\\x00\\x00\\x00\\x00\\x00\\x00\\xab\\x08\\x00\\x00photo116.txtPK\\x01\\x02\\x14\\x00\\n\\x00\\x00\\x00\\x00\\x00\\xe3B\\x91Y\\xb6\\x98]\\\\K\\x00\\x00\\x00K\\x00\\x00\\x00\\x0c\\x00\\x00\\x00\\x00\\x00\\x00\\x00\\x00\\x00\\x00\\x00\\x00\\x00 \\t\\x00\\x00photo117.txtPK\\x01\\x02\\x14\\x00\\n\\x00\\x00\\x00\\x00\\x00\\xe3B\\x91Y\\xa5\\x85@\\xd7K\\x00\\x00\\x00K\\x00\\x00\\x00\\x0c\\x00\\x00\\x00\\x00\\x00\\x00\\x00\\x00\\x00\\x00\\x00\\x00\\x00\\x95\\t\\x00\\x00photo118.txtPK\\x01\\x02\\x14\\x00\\n\\x00\\x00\\x00\\x00\\x00\\xe3B\\x91Y\\xf70\\x1c;K\\x00\\x00\\x00K\\x00\\x00\\x00\\x0c\\x00\\x00\\x00\\x00\\x00\\x00\\x00\\x00\\x00\\x00\\x00\\x00\\x00\\n\\n\\x00\\x00photo119.txtPK\\x01\\x02\\x14\\x00\\n\\x00\\x00\\x00\\x00\\x00\\xe3B\\x91YJ`\\x01\\x86K\\x00\\x00\\x00K\\x00\\x00\\x00\\x0b\\x00\\x00\\x00\\x00\\x00\\x00\\x00\\x00\\x00\\x00\\x00\\x00\\x00\\x7f\\n\\x00\\x00photo12.txtPK\\x01\\x02\\x14\\x00\\n\\x00\\x00\\x00\\x00\\x00\\xe3B\\x91YU\\xca\\x97\\xb5K\\x00\\x00\\x00K\\x00\\x00\\x00\\x0c\\x00\\x00\\x00\\x00\\x00\\x00\\x00\\x00\\x00\\x00\\x00\\x00\\x00\\xf3\\n\\x00\\x00photo120.txtPK\\x01\\x02\\x14\\x00\\n\\x00\\x00\\x00\\x00\\x00\\xe3B\\x91Y\\xb8\\xa1\\'\\x0bK\\x00\\x00\\x00K\\x00\\x00\\x00\\x0c\\x00\\x00\\x00\\x00\\x00\\x00\\x00\\x00\\x00\\x00\\x00\\x00\\x00h\\x0b\\x00\\x00photo121.txtPK\\x01\\x02\\x14\\x00\\n\\x00\\x00\\x00\\x00\\x00\\xe3B\\x91YH?\\xd5\\xf4K\\x00\\x00\\x00K\\x00\\x00\\x00\\x0c\\x00\\x00\\x00\\x00\\x00\\x00\\x00\\x00\\x00\\x00\\x00\\x00\\x00\\xdd\\x0b\\x00\\x00photo122.txtPK\\x01\\x02\\x14\\x00\\n\\x00\\x00\\x00\\x00\\x00\\xe3B\\x91YQ\\xd3\\x9d\\x10K\\x00\\x00\\x00K\\x00\\x00\\x00\\x0c\\x00\\x00\\x00\\x00\\x00\\x00\\x00\\x00\\x00\\x00\\x00\\x00\\x00R\\x0c\\x00\\x00photo123.txtPK\\x01\\x02\\x14\\x00\\n\\x00\\x00\\x00\\x00\\x00\\xe3B\\x91Y1\\xb5(|K\\x00\\x00\\x00K\\x00\\x00\\x00\\x0c\\x00\\x00\\x00\\x00\\x00\\x00\\x00\\x00\\x00\\x00\\x00\\x00\\x00\\xc7\\x0c\\x00\\x00photo124.txtPK\\x01\\x02\\x14\\x00\\n\\x00\\x00\\x00\\x00\\x00\\xe3B\\x91Y\\xa22\\xe5\\xb7K\\x00\\x00\\x00K\\x00\\x00\\x00\\x0c\\x00\\x00\\x00\\x00\\x00\\x00\\x00\\x00\\x00\\x00\\x00\\x00\\x00<\\r\\x00\\x00photo125.txtPK\\x01\\x02\\x14\\x00\\n\\x00\\x00\\x00\\x00\\x00\\xe3B\\x91Y+,\\xb6\\xeaK\\x00\\x00\\x00K\\x00\\x00\\x00\\x0c\\x00\\x00\\x00\\x00\\x00\\x00\\x00\\x00\\x00\\x00\\x00\\x00\\x00\\xb1\\r\\x00\\x00photo126.txtPK\\x01\\x02\\x14\\x00\\n\\x00\\x00\\x00\\x00\\x00\\xe3B\\x91Y\\xa5\\xbd\\xb9$K\\x00\\x00\\x00K\\x00\\x00\\x00\\x0c\\x00\\x00\\x00\\x00\\x00\\x00\\x00\\x00\\x00\\x00\\x00\\x00\\x00&\\x0e\\x00\\x00photo127.txtPK\\x01\\x02\\x14\\x00\\n\\x00\\x00\\x00\\x00\\x00\\xe3B\\x91Y\\x8b\\x13.2K\\x00\\x00\\x00K\\x00\\x00\\x00\\x0c\\x00\\x00\\x00\\x00\\x00\\x00\\x00\\x00\\x00\\x00\\x00\\x00\\x00\\x9b\\x0e\\x00\\x00photo128.txtPK\\x01\\x02\\x14\\x00\\n\\x00\\x00\\x00\\x00\\x00\\xe3B\\x91Y3\\xaa\\xe4\\xecK\\x00\\x00\\x00K\\x00\\x00\\x00\\x0c\\x00\\x00\\x00\\x00\\x00\\x00\\x00\\x00\\x00\\x00\\x00\\x00\\x00\\x10\\x0f\\x00\\x00photo129.txtPK\\x01\\x02\\x14\\x00\\n\\x00\\x00\\x00\\x00\\x00\\xe3B\\x91Y+E\\xe2\\x97K\\x00\\x00\\x00K\\x00\\x00\\x00\\x0b\\x00\\x00\\x00\\x00\\x00\\x00\\x00\\x00\\x00\\x00\\x00\\x00\\x00\\x85\\x0f\\x00\\x00photo13.txtPK\\x01\\x02\\x14\\x00\\n\\x00\\x00\\x00\\x00\\x00\\xe3B\\x91Y\\xb0\\xe7\\x8edK\\x00\\x00\\x00K\\x00\\x00\\x00\\x0c\\x00\\x00\\x00\\x00\\x00\\x00\\x00\\x00\\x00\\x00\\x00\\x00\\x00\\xf9\\x0f\\x00\\x00photo130.txtPK\\x01\\x02\\x14\\x00\\n\\x00\\x00\\x00\\x00\\x00\\xe3B\\x91Y\\x17\\x08\\xa2\\x12K\\x00\\x00\\x00K\\x00\\x00\\x00\\x0c\\x00\\x00\\x00\\x00\\x00\\x00\\x00\\x00\\x00\\x00\\x00\\x00\\x00n\\x10\\x00\\x00photo131.txtPK\\x01\\x02\\x14\\x00\\n\\x00\\x00\\x00\\x00\\x00\\xe3B\\x91Yl\\xf9\\x86wK\\x00\\x00\\x00K\\x00\\x00\\x00\\x0c\\x00\\x00\\x00\\x00\\x00\\x00\\x00\\x00\\x00\\x00\\x00\\x00\\x00\\xe3\\x10\\x00\\x00photo132.txtPK\\x01\\x02\\x14\\x00\\n\\x00\\x00\\x00\\x00\\x00\\xe3B\\x91Yr\\x97l\\xfeK\\x00\\x00\\x00K\\x00\\x00\\x00\\x0c\\x00\\x00\\x00\\x00\\x00\\x00\\x00\\x00\\x00\\x00\\x00\\x00\\x00X\\x11\\x00\\x00photo133.txtPK\\x01\\x02\\x14\\x00\\n\\x00\\x00\\x00\\x00\\x00\\xe3B\\x91Y\\x16\\xc0\\x19\\x94K\\x00\\x00\\x00K\\x00\\x00\\x00\\x0c\\x00\\x00\\x00\\x00\\x00\\x00\\x00\\x00\\x00\\x00\\x00\\x00\\x00\\xcd\\x11\\x00\\x00photo134.txtPK\\x01\\x02\\x14\\x00\\n\\x00\\x00\\x00\\x00\\x00\\xe3B\\x91Y\\xeb\\x13\\xbeDK\\x00\\x00\\x00K\\x00\\x00\\x00\\x0c\\x00\\x00\\x00\\x00\\x00\\x00\\x00\\x00\\x00\\x00\\x00\\x00\\x00B\\x12\\x00\\x00photo135.txtPK\\x01\\x02\\x14\\x00\\n\\x00\\x00\\x00\\x00\\x00\\xe3B\\x91Y\\x19E\\n\\x94K\\x00\\x00\\x00K\\x00\\x00\\x00\\x0c\\x00\\x00\\x00\\x00\\x00\\x00\\x00\\x00\\x00\\x00\\x00\\x00\\x00\\xb7\\x12\\x00\\x00photo136.txtPK\\x01\\x02\\x14\\x00\\n\\x00\\x00\\x00\\x00\\x00\\xe3B\\x91YN\\x04\\xfe#K\\x00\\x00\\x00K\\x00\\x00\\x00\\x0c\\x00\\x00\\x00\\x00\\x00\\x00\\x00\\x00\\x00\\x00\\x00\\x00\\x00,\\x13\\x00\\x00photo137.txtPK\\x01\\x02\\x14\\x00\\n\\x00\\x00\\x00\\x00\\x00\\xe3B\\x91Y~\\xa0\\xc9\\xb7K\\x00\\x00\\x00K\\x00\\x00\\x00\\x0c\\x00\\x00\\x00\\x00\\x00\\x00\\x00\\x00\\x00\\x00\\x00\\x00\\x00\\xa1\\x13\\x00\\x00photo138.txtPK\\x01\\x02\\x14\\x00\\n\\x00\\x00\\x00\\x00\\x00\\xe3B\\x91Y\\xfaBJ\\x86K\\x00\\x00\\x00K\\x00\\x00\\x00\\x0c\\x00\\x00\\x00\\x00\\x00\\x00\\x00\\x00\\x00\\x00\\x00\\x00\\x00\\x16\\x14\\x00\\x00photo139.txtPK\\x01\\x02\\x14\\x00\\n\\x00\\x00\\x00\\x00\\x00\\xe3B\\x91Y\\xdc\\xaaA\\xfdK\\x00\\x00\\x00K\\x00\\x00\\x00\\x0b\\x00\\x00\\x00\\x00\\x00\\x00\\x00\\x00\\x00\\x00\\x00\\x00\\x00\\x8b\\x14\\x00\\x00photo14.txtPK\\x01\\x02\\x14\\x00\\n\\x00\\x00\\x00\\x00\\x00\\xe3B\\x91YBH)zK\\x00\\x00\\x00K\\x00\\x00\\x00\\x0c\\x00\\x00\\x00\\x00\\x00\\x00\\x00\\x00\\x00\\x00\\x00\\x00\\x00\\xff\\x14\\x00\\x00photo140.txtPK\\x01\\x02\\x14\\x00\\n\\x00\\x00\\x00\\x00\\x00\\xe3B\\x91YO\\xdc\\xa9\\x1fK\\x00\\x00\\x00K\\x00\\x00\\x00\\x0c\\x00\\x00\\x00\\x00\\x00\\x00\\x00\\x00\\x00\\x00\\x00\\x00\\x00t\\x15\\x00\\x00photo141.txtPK\\x01\\x02\\x14\\x00\\n\\x00\\x00\\x00\\x00\\x00\\xe3B\\x91Y\\xca]J\\x12K\\x00\\x00\\x00K\\x00\\x00\\x00\\x0c\\x00\\x00\\x00\\x00\\x00\\x00\\x00\\x00\\x00\\x00\\x00\\x00\\x00\\xe9\\x15\\x00\\x00photo142.txtPK\\x01\\x02\\x14\\x00\\n\\x00\\x00\\x00\\x00\\x00\\xe3B\\x91Y\\xff\\xcf\\x1aRK\\x00\\x00\\x00K\\x00\\x00\\x00\\x0c\\x00\\x00\\x00\\x00\\x00\\x00\\x00\\x00\\x00\\x00\\x00\\x00\\x00^\\x16\\x00\\x00photo143.txtPK\\x01\\x02\\x14\\x00\\n\\x00\\x00\\x00\\x00\\x00\\xe3B\\x91Y\\xc2\\xbdNeK\\x00\\x00\\x00K\\x00\\x00\\x00\\x0c\\x00\\x00\\x00\\x00\\x00\\x00\\x00\\x00\\x00\\x00\\x00\\x00\\x00\\xd3\\x16\\x00\\x00photo144.txtPK\\x01\\x02\\x14\\x00\\n\\x00\\x00\\x00\\x00\\x00\\xe3B\\x91Yj\\x95J9K\\x00\\x00\\x00K\\x00\\x00\\x00\\x0c\\x00\\x00\\x00\\x00\\x00\\x00\\x00\\x00\\x00\\x00\\x00\\x00\\x00H\\x17\\x00\\x00photo145.txtPK\\x01\\x02\\x14\\x00\\n\\x00\\x00\\x00\\x00\\x00\\xe3B\\x91Y\\x9f\\xff\\x01tK\\x00\\x00\\x00K\\x00\\x00\\x00\\x0c\\x00\\x00\\x00\\x00\\x00\\x00\\x00\\x00\\x00\\x00\\x00\\x00\\x00\\xbd\\x17\\x00\\x00photo146.txtPK\\x01\\x02\\x14\\x00\\n\\x00\\x00\\x00\\x00\\x00\\xe3B\\x91Y\\xaeB2\\xdfK\\x00\\x00\\x00K\\x00\\x00\\x00\\x0c\\x00\\x00\\x00\\x00\\x00\\x00\\x00\\x00\\x00\\x00\\x00\\x00\\x002\\x18\\x00\\x00photo147.txtPK\\x01\\x02\\x14\\x00\\n\\x00\\x00\\x00\\x00\\x00\\xe3B\\x91Y\\x0c\\x8f\\x85\\xf6K\\x00\\x00\\x00K\\x00\\x00\\x00\\x0c\\x00\\x00\\x00\\x00\\x00\\x00\\x00\\x00\\x00\\x00\\x00\\x00\\x00\\xa7\\x18\\x00\\x00photo148.txtPK\\x01\\x02\\x14\\x00\\n\\x00\\x00\\x00\\x00\\x00\\xe3B\\x91Y\\xa7j\\x1aUK\\x00\\x00\\x00K\\x00\\x00\\x00\\x0c\\x00\\x00\\x00\\x00\\x00\\x00\\x00\\x00\\x00\\x00\\x00\\x00\\x00\\x1c\\x19\\x00\\x00photo149.txtPK\\x01\\x02\\x14\\x00\\n\\x00\\x00\\x00\\x00\\x00\\xe3B\\x91Y\\x8dfl\\xe1K\\x00\\x00\\x00K\\x00\\x00\\x00\\x0b\\x00\\x00\\x00\\x00\\x00\\x00\\x00\\x00\\x00\\x00\\x00\\x00\\x00\\x91\\x19\\x00\\x00photo15.txtPK\\x01\\x02\\x14\\x00\\n\\x00\\x00\\x00\\x00\\x00\\xe3B\\x91Y\\x96uo|K\\x00\\x00\\x00K\\x00\\x00\\x00\\x0c\\x00\\x00\\x00\\x00\\x00\\x00\\x00\\x00\\x00\\x00\\x00\\x00\\x00\\x05\\x1a\\x00\\x00photo150.txtPK\\x01\\x02\\x14\\x00\\n\\x00\\x00\\x00\\x00\\x00\\xe3B\\x91Y\\xf1\\\\\\xb4\\xc2K\\x00\\x00\\x00K\\x00\\x00\\x00\\x0c\\x00\\x00\\x00\\x00\\x00\\x00\\x00\\x00\\x00\\x00\\x00\\x00\\x00z\\x1a\\x00\\x00photo151.txtPK\\x01\\x02\\x14\\x00\\n\\x00\\x00\\x00\\x00\\x00\\xe3B\\x91Y\\xb3`m\\xd8K\\x00\\x00\\x00K\\x00\\x00\\x00\\x0c\\x00\\x00\\x00\\x00\\x00\\x00\\x00\\x00\\x00\\x00\\x00\\x00\\x00\\xef\\x1a\\x00\\x00photo152.txtPK\\x01\\x02\\x14\\x00\\n\\x00\\x00\\x00\\x00\\x00\\xe3B\\x91Y\\xe4DX\\x7fK\\x00\\x00\\x00K\\x00\\x00\\x00\\x0c\\x00\\x00\\x00\\x00\\x00\\x00\\x00\\x00\\x00\\x00\\x00\\x00\\x00d\\x1b\\x00\\x00photo153.txtPK\\x01\\x02\\x14\\x00\\n\\x00\\x00\\x00\\x00\\x00\\xe3B\\x91Y$\\x8b\\x98;K\\x00\\x00\\x00K\\x00\\x00\\x00\\x0c\\x00\\x00\\x00\\x00\\x00\\x00\\x00\\x00\\x00\\x00\\x00\\x00\\x00\\xd9\\x1b\\x00\\x00photo154.txtPK\\x01\\x02\\x14\\x00\\n\\x00\\x00\\x00\\x00\\x00\\xe3B\\x91YM\\xb8E\\x0bK\\x00\\x00\\x00K\\x00\\x00\\x00\\x0c\\x00\\x00\\x00\\x00\\x00\\x00\\x00\\x00\\x00\\x00\\x00\\x00\\x00N\\x1c\\x00\\x00photo155.txtPK\\x01\\x02\\x14\\x00\\n\\x00\\x00\\x00\\x00\\x00\\xe3B\\x91Y\\xfc\\xf7:\\x1dK\\x00\\x00\\x00K\\x00\\x00\\x00\\x0c\\x00\\x00\\x00\\x00\\x00\\x00\\x00\\x00\\x00\\x00\\x00\\x00\\x00\\xc3\\x1c\\x00\\x00photo156.txtPK\\x01\\x02\\x14\\x00\\n\\x00\\x00\\x00\\x00\\x00\\xe3B\\x91YN\\xb0\\xe2\\x06K\\x00\\x00\\x00K\\x00\\x00\\x00\\x0c\\x00\\x00\\x00\\x00\\x00\\x00\\x00\\x00\\x00\\x00\\x00\\x00\\x008\\x1d\\x00\\x00photo157.txtPK\\x01\\x02\\x14\\x00\\n\\x00\\x00\\x00\\x00\\x00\\xe3B\\x91YA\\xe7=\\xceK\\x00\\x00\\x00K\\x00\\x00\\x00\\x0c\\x00\\x00\\x00\\x00\\x00\\x00\\x00\\x00\\x00\\x00\\x00\\x00\\x00\\xad\\x1d\\x00\\x00photo158.txtPK\\x01\\x02\\x14\\x00\\n\\x00\\x00\\x00\\x00\\x00\\xe3B\\x91Y\\xfe\\xe4\\x9baK\\x00\\x00\\x00K\\x00\\x00\\x00\\x0c\\x00\\x00\\x00\\x00\\x00\\x00\\x00\\x00\\x00\\x00\\x00\\x00\\x00\"\\x1e\\x00\\x00photo159.txtPK\\x01\\x02\\x14\\x00\\n\\x00\\x00\\x00\\x00\\x00\\xe3B\\x91Yr\\xabr\\x9aK\\x00\\x00\\x00K\\x00\\x00\\x00\\x0b\\x00\\x00\\x00\\x00\\x00\\x00\\x00\\x00\\x00\\x00\\x00\\x00\\x00\\x97\\x1e\\x00\\x00photo16.txtPK\\x01\\x02\\x14\\x00\\n\\x00\\x00\\x00\\x00\\x00\\xe3B\\x91Y\\x13!\\x8f\\xecK\\x00\\x00\\x00K\\x00\\x00\\x00\\x0c\\x00\\x00\\x00\\x00\\x00\\x00\\x00\\x00\\x00\\x00\\x00\\x00\\x00\\x0b\\x1f\\x00\\x00photo160.txtPK\\x01\\x02\\x14\\x00\\n\\x00\\x00\\x00\\x00\\x00\\xe3B\\x91Y\\x19\\xc3N\\xecK\\x00\\x00\\x00K\\x00\\x00\\x00\\x0c\\x00\\x00\\x00\\x00\\x00\\x00\\x00\\x00\\x00\\x00\\x00\\x00\\x00\\x80\\x1f\\x00\\x00photo161.txtPK\\x01\\x02\\x14\\x00\\n\\x00\\x00\\x00\\x00\\x00\\xe3B\\x91Y\\xb8\\xaf\\xf3\\x9eK\\x00\\x00\\x00K\\x00\\x00\\x00\\x0c\\x00\\x00\\x00\\x00\\x00\\x00\\x00\\x00\\x00\\x00\\x00\\x00\\x00\\xf5\\x1f\\x00\\x00photo162.txtPK\\x01\\x02\\x14\\x00\\n\\x00\\x00\\x00\\x00\\x00\\xe3B\\x91Y|(3\\xe2K\\x00\\x00\\x00K\\x00\\x00\\x00\\x0c\\x00\\x00\\x00\\x00\\x00\\x00\\x00\\x00\\x00\\x00\\x00\\x00\\x00j \\x00\\x00photo163.txtPK\\x01\\x02\\x14\\x00\\n\\x00\\x00\\x00\\x00\\x00\\xe3B\\x91Y\\xc9V\\xaelK\\x00\\x00\\x00K\\x00\\x00\\x00\\x0c\\x00\\x00\\x00\\x00\\x00\\x00\\x00\\x00\\x00\\x00\\x00\\x00\\x00\\xdf \\x00\\x00photo164.txtPK\\x01\\x02\\x14\\x00\\n\\x00\\x00\\x00\\x00\\x00\\xe3B\\x91Yr\\x0f8\\x03K\\x00\\x00\\x00K\\x00\\x00\\x00\\x0c\\x00\\x00\\x00\\x00\\x00\\x00\\x00\\x00\\x00\\x00\\x00\\x00\\x00T!\\x00\\x00photo165.txtPK\\x01\\x02\\x14\\x00\\n\\x00\\x00\\x00\\x00\\x00\\xe3B\\x91Y\\xdd\\x02\\x06\\xabK\\x00\\x00\\x00K\\x00\\x00\\x00\\x0c\\x00\\x00\\x00\\x00\\x00\\x00\\x00\\x00\\x00\\x00\\x00\\x00\\x00\\xc9!\\x00\\x00photo166.txtPK\\x01\\x02\\x14\\x00\\n\\x00\\x00\\x00\\x00\\x00\\xe3B\\x91Y\\xc9w\\xbb\\xb7K\\x00\\x00\\x00K\\x00\\x00\\x00\\x0c\\x00\\x00\\x00\\x00\\x00\\x00\\x00\\x00\\x00\\x00\\x00\\x00\\x00>\"\\x00\\x00photo167.txtPK\\x01\\x02\\x14\\x00\\n\\x00\\x00\\x00\\x00\\x00\\xe3B\\x91Y2\\xb9\\x19\\xe3K\\x00\\x00\\x00K\\x00\\x00\\x00\\x0c\\x00\\x00\\x00\\x00\\x00\\x00\\x00\\x00\\x00\\x00\\x00\\x00\\x00\\xb3\"\\x00\\x00photo168.txtPK\\x01\\x02\\x14\\x00\\n\\x00\\x00\\x00\\x00\\x00\\xe3B\\x91YM\\x13-\"K\\x00\\x00\\x00K\\x00\\x00\\x00\\x0c\\x00\\x00\\x00\\x00\\x00\\x00\\x00\\x00\\x00\\x00\\x00\\x00\\x00(#\\x00\\x00photo169.txtPK\\x01\\x02\\x14\\x00\\n\\x00\\x00\\x00\\x00\\x00\\xe3B\\x91Y\\xd7\\x13\\xd2MK\\x00\\x00\\x00K\\x00\\x00\\x00\\x0b\\x00\\x00\\x00\\x00\\x00\\x00\\x00\\x00\\x00\\x00\\x00\\x00\\x00\\x9d#\\x00\\x00photo17.txtPK\\x01\\x02\\x14\\x00\\n\\x00\\x00\\x00\\x00\\x00\\xe3B\\x91Y\\x11.\\xd5\\xd6K\\x00\\x00\\x00K\\x00\\x00\\x00\\x0c\\x00\\x00\\x00\\x00\\x00\\x00\\x00\\x00\\x00\\x00\\x00\\x00\\x00\\x11$\\x00\\x00photo170.txtPK\\x01\\x02\\x14\\x00\\n\\x00\\x00\\x00\\x00\\x00\\xe3B\\x91Y\\x1b\\x88\\xd0?K\\x00\\x00\\x00K\\x00\\x00\\x00\\x0c\\x00\\x00\\x00\\x00\\x00\\x00\\x00\\x00\\x00\\x00\\x00\\x00\\x00\\x86$\\x00\\x00photo171.txtPK\\x01\\x02\\x14\\x00\\n\\x00\\x00\\x00\\x00\\x00\\xe3B\\x91Y\\xef\\xd1\\xda\\x1bK\\x00\\x00\\x00K\\x00\\x00\\x00\\x0c\\x00\\x00\\x00\\x00\\x00\\x00\\x00\\x00\\x00\\x00\\x00\\x00\\x00\\xfb$\\x00\\x00photo172.txtPK\\x01\\x02\\x14\\x00\\n\\x00\\x00\\x00\\x00\\x00\\xe3B\\x91Y\\xb0A\\x80\\xbfK\\x00\\x00\\x00K\\x00\\x00\\x00\\x0c\\x00\\x00\\x00\\x00\\x00\\x00\\x00\\x00\\x00\\x00\\x00\\x00\\x00p%\\x00\\x00photo173.txtPK\\x01\\x02\\x14\\x00\\n\\x00\\x00\\x00\\x00\\x00\\xe3B\\x91Y^\\xa2t\\x80K\\x00\\x00\\x00K\\x00\\x00\\x00\\x0c\\x00\\x00\\x00\\x00\\x00\\x00\\x00\\x00\\x00\\x00\\x00\\x00\\x00\\xe5%\\x00\\x00photo174.txtPK\\x01\\x02\\x14\\x00\\n\\x00\\x00\\x00\\x00\\x00\\xe3B\\x91Y\\x97:Z\\xf4K\\x00\\x00\\x00K\\x00\\x00\\x00\\x0c\\x00\\x00\\x00\\x00\\x00\\x00\\x00\\x00\\x00\\x00\\x00\\x00\\x00Z&\\x00\\x00photo175.txtPK\\x01\\x02\\x14\\x00\\n\\x00\\x00\\x00\\x00\\x00\\xe3B\\x91Y\\xe8v\\x8e\\xedK\\x00\\x00\\x00K\\x00\\x00\\x00\\x0c\\x00\\x00\\x00\\x00\\x00\\x00\\x00\\x00\\x00\\x00\\x00\\x00\\x00\\xcf&\\x00\\x00photo176.txtPK\\x01\\x02\\x14\\x00\\n\\x00\\x00\\x00\\x00\\x00\\xe3B\\x91Y0m\\xd9.K\\x00\\x00\\x00K\\x00\\x00\\x00\\x0c\\x00\\x00\\x00\\x00\\x00\\x00\\x00\\x00\\x00\\x00\\x00\\x00\\x00D\\'\\x00\\x00photo177.txtPK\\x01\\x02\\x14\\x00\\n\\x00\\x00\\x00\\x00\\x00\\xe3B\\x91Y\\xfe\\x1a\\x88\\x0bK\\x00\\x00\\x00K\\x00\\x00\\x00\\x0c\\x00\\x00\\x00\\x00\\x00\\x00\\x00\\x00\\x00\\x00\\x00\\x00\\x00\\xb9\\'\\x00\\x00photo178.txtPK\\x01\\x02\\x14\\x00\\n\\x00\\x00\\x00\\x00\\x00\\xe3B\\x91YRa\\x86VK\\x00\\x00\\x00K\\x00\\x00\\x00\\x0c\\x00\\x00\\x00\\x00\\x00\\x00\\x00\\x00\\x00\\x00\\x00\\x00\\x00.(\\x00\\x00photo179.txtPK\\x01\\x02\\x14\\x00\\n\\x00\\x00\\x00\\x00\\x00\\xe3B\\x91Y\\xad\\x1f:\\x1aK\\x00\\x00\\x00K\\x00\\x00\\x00\\x0b\\x00\\x00\\x00\\x00\\x00\\x00\\x00\\x00\\x00\\x00\\x00\\x00\\x00\\xa3(\\x00\\x00photo18.txtPK\\x01\\x02\\x14\\x00\\n\\x00\\x00\\x00\\x00\\x00\\xe3B\\x91Y\\xc5\\xec\\x12\\x81K\\x00\\x00\\x00K\\x00\\x00\\x00\\x0c\\x00\\x00\\x00\\x00\\x00\\x00\\x00\\x00\\x00\\x00\\x00\\x00\\x00\\x17)\\x00\\x00photo180.txtPK\\x01\\x02\\x14\\x00\\n\\x00\\x00\\x00\\x00\\x00\\xe3B\\x91Y\\xf4\\x1ez\\xc9K\\x00\\x00\\x00K\\x00\\x00\\x00\\x0c\\x00\\x00\\x00\\x00\\x00\\x00\\x00\\x00\\x00\\x00\\x00\\x00\\x00\\x8c)\\x00\\x00photo181.txtPK\\x01\\x02\\x14\\x00\\n\\x00\\x00\\x00\\x00\\x00\\xe3B\\x91YA\\xf9\\x02\\xcdK\\x00\\x00\\x00K\\x00\\x00\\x00\\x0b\\x00\\x00\\x00\\x00\\x00\\x00\\x00\\x00\\x00\\x00\\x00\\x00\\x00\\x01*\\x00\\x00photo19.txtPK\\x01\\x02\\x14\\x00\\n\\x00\\x00\\x00\\x00\\x00\\xe3B\\x91Y\\xc1\\xa7\\x8e\\x9bK\\x00\\x00\\x00K\\x00\\x00\\x00\\x0b\\x00\\x00\\x00\\x00\\x00\\x00\\x00\\x00\\x00\\x00\\x00\\x00\\x00u*\\x00\\x00photo20.txtPK\\x01\\x02\\x14\\x00\\n\\x00\\x00\\x00\\x00\\x00\\xe3B\\x91Y\\xbd\\xe0\\xa8*K\\x00\\x00\\x00K\\x00\\x00\\x00\\x0b\\x00\\x00\\x00\\x00\\x00\\x00\\x00\\x00\\x00\\x00\\x00\\x00\\x00\\xe9*\\x00\\x00photo21.txtPK\\x01\\x02\\x14\\x00\\n\\x00\\x00\\x00\\x00\\x00\\xe3B\\x91Yn\\xa3\\xd9\\x88K\\x00\\x00\\x00K\\x00\\x00\\x00\\x0b\\x00\\x00\\x00\\x00\\x00\\x00\\x00\\x00\\x00\\x00\\x00\\x00\\x00]+\\x00\\x00photo22.txtPK\\x01\\x02\\x14\\x00\\n\\x00\\x00\\x00\\x00\\x00\\xe3B\\x91Y8b+\\xb5K\\x00\\x00\\x00K\\x00\\x00\\x00\\x0b\\x00\\x00\\x00\\x00\\x00\\x00\\x00\\x00\\x00\\x00\\x00\\x00\\x00\\xd1+\\x00\\x00photo23.txtPK\\x01\\x02\\x14\\x00\\n\\x00\\x00\\x00\\x00\\x00\\xe3B\\x91YK\\x01\\xaa(K\\x00\\x00\\x00K\\x00\\x00\\x00\\x0b\\x00\\x00\\x00\\x00\\x00\\x00\\x00\\x00\\x00\\x00\\x00\\x00\\x00E,\\x00\\x00photo24.txtPK\\x01\\x02\\x14\\x00\\n\\x00\\x00\\x00\\x00\\x00\\xe3B\\x91Y~\\xed>?K\\x00\\x00\\x00K\\x00\\x00\\x00\\x0b\\x00\\x00\\x00\\x00\\x00\\x00\\x00\\x00\\x00\\x00\\x00\\x00\\x00\\xb9,\\x00\\x00photo25.txtPK\\x01\\x02\\x14\\x00\\n\\x00\\x00\\x00\\x00\\x00\\xe3B\\x91Y\\xf7@\\x8a\\x10K\\x00\\x00\\x00K\\x00\\x00\\x00\\x0b\\x00\\x00\\x00\\x00\\x00\\x00\\x00\\x00\\x00\\x00\\x00\\x00\\x00--\\x00\\x00photo26.txtPK\\x01\\x02\\x14\\x00\\n\\x00\\x00\\x00\\x00\\x00\\xe3B\\x91Y\\xa7\\xac.\\xe9K\\x00\\x00\\x00K\\x00\\x00\\x00\\x0b\\x00\\x00\\x00\\x00\\x00\\x00\\x00\\x00\\x00\\x00\\x00\\x00\\x00\\xa1-\\x00\\x00photo27.txtPK\\x01\\x02\\x14\\x00\\n\\x00\\x00\\x00\\x00\\x00\\xe3B\\x91Y\\xfefA<K\\x00\\x00\\x00K\\x00\\x00\\x00\\x0b\\x00\\x00\\x00\\x00\\x00\\x00\\x00\\x00\\x00\\x00\\x00\\x00\\x00\\x15.\\x00\\x00photo28.txtPK\\x01\\x02\\x14\\x00\\n\\x00\\x00\\x00\\x00\\x00\\xe3B\\x91Y\\x1f\\x95h{K\\x00\\x00\\x00K\\x00\\x00\\x00\\x0b\\x00\\x00\\x00\\x00\\x00\\x00\\x00\\x00\\x00\\x00\\x00\\x00\\x00\\x89.\\x00\\x00photo29.txtPK\\x01\\x02\\x14\\x00\\n\\x00\\x00\\x00\\x00\\x00\\xe3B\\x91Yi\\x1a\\xfd/K\\x00\\x00\\x00K\\x00\\x00\\x00\\n\\x00\\x00\\x00\\x00\\x00\\x00\\x00\\x00\\x00\\x00\\x00\\x00\\x00\\xfd.\\x00\\x00photo3.txtPK\\x01\\x02\\x14\\x00\\n\\x00\\x00\\x00\\x00\\x00\\xe3B\\x91YF\\xc1\\xbc7K\\x00\\x00\\x00K\\x00\\x00\\x00\\x0b\\x00\\x00\\x00\\x00\\x00\\x00\\x00\\x00\\x00\\x00\\x00\\x00\\x00p/\\x00\\x00photo30.txtPK\\x01\\x02\\x14\\x00\\n\\x00\\x00\\x00\\x00\\x00\\xe3B\\x91Y3-=\\x85K\\x00\\x00\\x00K\\x00\\x00\\x00\\x0b\\x00\\x00\\x00\\x00\\x00\\x00\\x00\\x00\\x00\\x00\\x00\\x00\\x00\\xe4/\\x00\\x00photo31.txtPK\\x01\\x02\\x14\\x00\\n\\x00\\x00\\x00\\x00\\x00\\xe3B\\x91YB\\xf5\\xab\\xfbK\\x00\\x00\\x00K\\x00\\x00\\x00\\x0b\\x00\\x00\\x00\\x00\\x00\\x00\\x00\\x00\\x00\\x00\\x00\\x00\\x00X0\\x00\\x00photo32.txtPK\\x01\\x02\\x14\\x00\\n\\x00\\x00\\x00\\x00\\x00\\xe3B\\x91Y\\xfe\\xe8\\xbf\\x08K\\x00\\x00\\x00K\\x00\\x00\\x00\\x0b\\x00\\x00\\x00\\x00\\x00\\x00\\x00\\x00\\x00\\x00\\x00\\x00\\x00\\xcc0\\x00\\x00photo33.txtPK\\x01\\x02\\x14\\x00\\n\\x00\\x00\\x00\\x00\\x00\\xe3B\\x91Y|k\\xc8\\xa0K\\x00\\x00\\x00K\\x00\\x00\\x00\\x0b\\x00\\x00\\x00\\x00\\x00\\x00\\x00\\x00\\x00\\x00\\x00\\x00\\x00@1\\x00\\x00photo34.txtPK\\x01\\x02\\x14\\x00\\n\\x00\\x00\\x00\\x00\\x00\\xe3B\\x91Y\\xd2&\\x97gK\\x00\\x00\\x00K\\x00\\x00\\x00\\x0b\\x00\\x00\\x00\\x00\\x00\\x00\\x00\\x00\\x00\\x00\\x00\\x00\\x00\\xb41\\x00\\x00photo35.txtPK\\x01\\x02\\x14\\x00\\n\\x00\\x00\\x00\\x00\\x00\\xe3B\\x91Y\\xca\\xb2\\'\\x9fK\\x00\\x00\\x00K\\x00\\x00\\x00\\x0b\\x00\\x00\\x00\\x00\\x00\\x00\\x00\\x00\\x00\\x00\\x00\\x00\\x00(2\\x00\\x00photo36.txtPK\\x01\\x02\\x14\\x00\\n\\x00\\x00\\x00\\x00\\x00\\xe3B\\x91Y\\xb7sm\\xa9K\\x00\\x00\\x00K\\x00\\x00\\x00\\x0b\\x00\\x00\\x00\\x00\\x00\\x00\\x00\\x00\\x00\\x00\\x00\\x00\\x00\\x9c2\\x00\\x00photo37.txtPK\\x01\\x02\\x14\\x00\\n\\x00\\x00\\x00\\x00\\x00\\xe3B\\x91Y\"-M\\x02K\\x00\\x00\\x00K\\x00\\x00\\x00\\x0b\\x00\\x00\\x00\\x00\\x00\\x00\\x00\\x00\\x00\\x00\\x00\\x00\\x00\\x103\\x00\\x00photo38.txtPK\\x01\\x02\\x14\\x00\\n\\x00\\x00\\x00\\x00\\x00\\xe3B\\x91Y>U\\xa9xK\\x00\\x00\\x00K\\x00\\x00\\x00\\x0b\\x00\\x00\\x00\\x00\\x00\\x00\\x00\\x00\\x00\\x00\\x00\\x00\\x00\\x843\\x00\\x00photo39.txtPK\\x01\\x02\\x14\\x00\\n\\x00\\x00\\x00\\x00\\x00\\xe3B\\x91Y/;1vK\\x00\\x00\\x00K\\x00\\x00\\x00\\n\\x00\\x00\\x00\\x00\\x00\\x00\\x00\\x00\\x00\\x00\\x00\\x00\\x00\\xf83\\x00\\x00photo4.txtPK\\x01\\x02\\x14\\x00\\n\\x00\\x00\\x00\\x00\\x00\\xe3B\\x91Y#\\x7f\\x08\\xf8K\\x00\\x00\\x00K\\x00\\x00\\x00\\x0b\\x00\\x00\\x00\\x00\\x00\\x00\\x00\\x00\\x00\\x00\\x00\\x00\\x00k4\\x00\\x00photo40.txtPK\\x01\\x02\\x14\\x00\\n\\x00\\x00\\x00\\x00\\x00\\xe3B\\x91Y\\x95\\x08B\\x00K\\x00\\x00\\x00K\\x00\\x00\\x00\\x0b\\x00\\x00\\x00\\x00\\x00\\x00\\x00\\x00\\x00\\x00\\x00\\x00\\x00\\xdf4\\x00\\x00photo41.txtPK\\x01\\x02\\x14\\x00\\n\\x00\\x00\\x00\\x00\\x00\\xe3B\\x91Y\\xdc\\xe73\\xcaK\\x00\\x00\\x00K\\x00\\x00\\x00\\x0b\\x00\\x00\\x00\\x00\\x00\\x00\\x00\\x00\\x00\\x00\\x00\\x00\\x00S5\\x00\\x00photo42.txtPK\\x01\\x02\\x14\\x00\\n\\x00\\x00\\x00\\x00\\x00\\xe3B\\x91Y\\x9c\\x9e\\x14\\xeeK\\x00\\x00\\x00K\\x00\\x00\\x00\\x0b\\x00\\x00\\x00\\x00\\x00\\x00\\x00\\x00\\x00\\x00\\x00\\x00\\x00\\xc75\\x00\\x00photo43.txtPK\\x01\\x02\\x14\\x00\\n\\x00\\x00\\x00\\x00\\x00\\xe3B\\x91Y\\xb3;\\xb7+K\\x00\\x00\\x00K\\x00\\x00\\x00\\x0b\\x00\\x00\\x00\\x00\\x00\\x00\\x00\\x00\\x00\\x00\\x00\\x00\\x00;6\\x00\\x00photo44.txtPK\\x01\\x02\\x14\\x00\\n\\x00\\x00\\x00\\x00\\x00\\xe3B\\x91Y\\xe5\\xfa\\xae\\x85K\\x00\\x00\\x00K\\x00\\x00\\x00\\x0b\\x00\\x00\\x00\\x00\\x00\\x00\\x00\\x00\\x00\\x00\\x00\\x00\\x00\\xaf6\\x00\\x00photo45.txtPK\\x01\\x02\\x14\\x00\\n\\x00\\x00\\x00\\x00\\x00\\xe3B\\x91Y\\x9fM\\xd0\\xd6K\\x00\\x00\\x00K\\x00\\x00\\x00\\x0b\\x00\\x00\\x00\\x00\\x00\\x00\\x00\\x00\\x00\\x00\\x00\\x00\\x00#7\\x00\\x00photo46.txtPK\\x01\\x02\\x14\\x00\\n\\x00\\x00\\x00\\x00\\x00\\xe3B\\x91Y\\xa05\\xde\\xa4K\\x00\\x00\\x00K\\x00\\x00\\x00\\x0b\\x00\\x00\\x00\\x00\\x00\\x00\\x00\\x00\\x00\\x00\\x00\\x00\\x00\\x977\\x00\\x00photo47.txtPK\\x01\\x02\\x14\\x00\\n\\x00\\x00\\x00\\x00\\x00\\xe3B\\x91Ya\\xa0\\xfc\\x10K\\x00\\x00\\x00K\\x00\\x00\\x00\\x0b\\x00\\x00\\x00\\x00\\x00\\x00\\x00\\x00\\x00\\x00\\x00\\x00\\x00\\x0b8\\x00\\x00photo48.txtPK\\x01\\x02\\x14\\x00\\n\\x00\\x00\\x00\\x00\\x00\\xe3B\\x91Y\\x1b\\x04\\x80\\xe3K\\x00\\x00\\x00K\\x00\\x00\\x00\\x0b\\x00\\x00\\x00\\x00\\x00\\x00\\x00\\x00\\x00\\x00\\x00\\x00\\x00\\x7f8\\x00\\x00photo49.txtPK\\x01\\x02\\x14\\x00\\n\\x00\\x00\\x00\\x00\\x00\\xe3B\\x91Y=\\xa6*\\xeeK\\x00\\x00\\x00K\\x00\\x00\\x00\\n\\x00\\x00\\x00\\x00\\x00\\x00\\x00\\x00\\x00\\x00\\x00\\x00\\x00\\xf38\\x00\\x00photo5.txtPK\\x01\\x02\\x14\\x00\\n\\x00\\x00\\x00\\x00\\x00\\xe3B\\x91YD\\xbb\\x85\\xb2K\\x00\\x00\\x00K\\x00\\x00\\x00\\x0b\\x00\\x00\\x00\\x00\\x00\\x00\\x00\\x00\\x00\\x00\\x00\\x00\\x00f9\\x00\\x00photo50.txtPK\\x01\\x02\\x14\\x00\\n\\x00\\x00\\x00\\x00\\x00\\xe3B\\x91Y\\x06-\\xfa\\xfdK\\x00\\x00\\x00K\\x00\\x00\\x00\\x0b\\x00\\x00\\x00\\x00\\x00\\x00\\x00\\x00\\x00\\x00\\x00\\x00\\x00\\xda9\\x00\\x00photo51.txtPK\\x01\\x02\\x14\\x00\\n\\x00\\x00\\x00\\x00\\x00\\xe3B\\x91Y\\x83l\\x93\\xb1K\\x00\\x00\\x00K\\x00\\x00\\x00\\x0b\\x00\\x00\\x00\\x00\\x00\\x00\\x00\\x00\\x00\\x00\\x00\\x00\\x00N:\\x00\\x00photo52.txtPK\\x01\\x02\\x14\\x00\\n\\x00\\x00\\x00\\x00\\x00\\xe3B\\x91Y4/\\r\\x0bK\\x00\\x00\\x00K\\x00\\x00\\x00\\x0b\\x00\\x00\\x00\\x00\\x00\\x00\\x00\\x00\\x00\\x00\\x00\\x00\\x00\\xc2:\\x00\\x00photo53.txtPK\\x01\\x02\\x14\\x00\\n\\x00\\x00\\x00\\x00\\x00\\xe3B\\x91Y\\xb4>\\x8c\\xdbK\\x00\\x00\\x00K\\x00\\x00\\x00\\x0b\\x00\\x00\\x00\\x00\\x00\\x00\\x00\\x00\\x00\\x00\\x00\\x00\\x006;\\x00\\x00photo54.txtPK\\x01\\x02\\x14\\x00\\n\\x00\\x00\\x00\\x00\\x00\\xe3B\\x91Y\\xb1\\xad\\x19\\x97K\\x00\\x00\\x00K\\x00\\x00\\x00\\x0b\\x00\\x00\\x00\\x00\\x00\\x00\\x00\\x00\\x00\\x00\\x00\\x00\\x00\\xaa;\\x00\\x00photo55.txtPK\\x01\\x02\\x14\\x00\\n\\x00\\x00\\x00\\x00\\x00\\xe3B\\x91Y*,\\x8c;K\\x00\\x00\\x00K\\x00\\x00\\x00\\x0b\\x00\\x00\\x00\\x00\\x00\\x00\\x00\\x00\\x00\\x00\\x00\\x00\\x00\\x1e<\\x00\\x00photo56.txtPK\\x01\\x02\\x14\\x00\\n\\x00\\x00\\x00\\x00\\x00\\xe3B\\x91Yo\\x1c\\xbfQK\\x00\\x00\\x00K\\x00\\x00\\x00\\x0b\\x00\\x00\\x00\\x00\\x00\\x00\\x00\\x00\\x00\\x00\\x00\\x00\\x00\\x92<\\x00\\x00photo57.txtPK\\x01\\x02\\x14\\x00\\n\\x00\\x00\\x00\\x00\\x00\\xe3B\\x91YYhY\\x8fK\\x00\\x00\\x00K\\x00\\x00\\x00\\x0b\\x00\\x00\\x00\\x00\\x00\\x00\\x00\\x00\\x00\\x00\\x00\\x00\\x00\\x06=\\x00\\x00photo58.txtPK\\x01\\x02\\x14\\x00\\n\\x00\\x00\\x00\\x00\\x00\\xe3B\\x91Y \\x81\\x9d\"K\\x00\\x00\\x00K\\x00\\x00\\x00\\x0b\\x00\\x00\\x00\\x00\\x00\\x00\\x00\\x00\\x00\\x00\\x00\\x00\\x00z=\\x00\\x00photo59.txtPK\\x01\\x02\\x14\\x00\\n\\x00\\x00\\x00\\x00\\x00\\xe3B\\x91Y\\xebs\\x97\\xb2K\\x00\\x00\\x00K\\x00\\x00\\x00\\n\\x00\\x00\\x00\\x00\\x00\\x00\\x00\\x00\\x00\\x00\\x00\\x00\\x00\\xee=\\x00\\x00photo6.txtPK\\x01\\x02\\x14\\x00\\n\\x00\\x00\\x00\\x00\\x00\\xe3B\\x91Y\\x9ej\\xc2\\xf2K\\x00\\x00\\x00K\\x00\\x00\\x00\\x0b\\x00\\x00\\x00\\x00\\x00\\x00\\x00\\x00\\x00\\x00\\x00\\x00\\x00a>\\x00\\x00photo60.txtPK\\x01\\x02\\x14\\x00\\n\\x00\\x00\\x00\\x00\\x00\\xe3B\\x91Yw\\xbb\\xb7\\xb8K\\x00\\x00\\x00K\\x00\\x00\\x00\\x0b\\x00\\x00\\x00\\x00\\x00\\x00\\x00\\x00\\x00\\x00\\x00\\x00\\x00\\xd5>\\x00\\x00photo61.txtPK\\x01\\x02\\x14\\x00\\n\\x00\\x00\\x00\\x00\\x00\\xe3B\\x91Y\\xcc\\x17S\\x1dK\\x00\\x00\\x00K\\x00\\x00\\x00\\x0b\\x00\\x00\\x00\\x00\\x00\\x00\\x00\\x00\\x00\\x00\\x00\\x00\\x00I?\\x00\\x00photo62.txtPK\\x01\\x02\\x14\\x00\\n\\x00\\x00\\x00\\x00\\x00\\xe3B\\x91YQ\\xa9m\\x91K\\x00\\x00\\x00K\\x00\\x00\\x00\\x0b\\x00\\x00\\x00\\x00\\x00\\x00\\x00\\x00\\x00\\x00\\x00\\x00\\x00\\xbd?\\x00\\x00photo63.txtPK\\x01\\x02\\x14\\x00\\n\\x00\\x00\\x00\\x00\\x00\\xe3B\\x91YK\\xbc\\x8e\\xccK\\x00\\x00\\x00K\\x00\\x00\\x00\\x0b\\x00\\x00\\x00\\x00\\x00\\x00\\x00\\x00\\x00\\x00\\x00\\x00\\x001@\\x00\\x00photo64.txtPK\\x01\\x02\\x14\\x00\\n\\x00\\x00\\x00\\x00\\x00\\xe3B\\x91Y\\xf2\\xfb\\x0f\\xe7K\\x00\\x00\\x00K\\x00\\x00\\x00\\x0b\\x00\\x00\\x00\\x00\\x00\\x00\\x00\\x00\\x00\\x00\\x00\\x00\\x00\\xa5@\\x00\\x00photo65.txtPK\\x01\\x02\\x14\\x00\\n\\x00\\x00\\x00\\x00\\x00\\xe3B\\x91Y+@\\xeeQK\\x00\\x00\\x00K\\x00\\x00\\x00\\x0b\\x00\\x00\\x00\\x00\\x00\\x00\\x00\\x00\\x00\\x00\\x00\\x00\\x00\\x19A\\x00\\x00photo66.txtPK\\x01\\x02\\x14\\x00\\n\\x00\\x00\\x00\\x00\\x00\\xe3B\\x91Y\\xa9B\\x16+K\\x00\\x00\\x00K\\x00\\x00\\x00\\x0b\\x00\\x00\\x00\\x00\\x00\\x00\\x00\\x00\\x00\\x00\\x00\\x00\\x00\\x8dA\\x00\\x00photo67.txtPK\\x01\\x02\\x14\\x00\\n\\x00\\x00\\x00\\x00\\x00\\xe3B\\x91YR\\x859\\'K\\x00\\x00\\x00K\\x00\\x00\\x00\\x0b\\x00\\x00\\x00\\x00\\x00\\x00\\x00\\x00\\x00\\x00\\x00\\x00\\x00\\x01B\\x00\\x00photo68.txtPK\\x01\\x02\\x14\\x00\\n\\x00\\x00\\x00\\x00\\x00\\xe3B\\x91Y\\x0f\\x11\\x1f\\xd5K\\x00\\x00\\x00K\\x00\\x00\\x00\\x0b\\x00\\x00\\x00\\x00\\x00\\x00\\x00\\x00\\x00\\x00\\x00\\x00\\x00uB\\x00\\x00photo69.txtPK\\x01\\x02\\x14\\x00\\n\\x00\\x00\\x00\\x00\\x00\\xe3B\\x91Y=\\xfa\\xfb\\xbfK\\x00\\x00\\x00K\\x00\\x00\\x00\\n\\x00\\x00\\x00\\x00\\x00\\x00\\x00\\x00\\x00\\x00\\x00\\x00\\x00\\xe9B\\x00\\x00photo7.txtPK\\x01\\x02\\x14\\x00\\n\\x00\\x00\\x00\\x00\\x00\\xe3B\\x91Y#\\x07I\\xe7K\\x00\\x00\\x00K\\x00\\x00\\x00\\x0b\\x00\\x00\\x00\\x00\\x00\\x00\\x00\\x00\\x00\\x00\\x00\\x00\\x00\\\\C\\x00\\x00photo70.txtPK\\x01\\x02\\x14\\x00\\n\\x00\\x00\\x00\\x00\\x00\\xe3B\\x91Y\\x92\\x89\\x13\\xf5K\\x00\\x00\\x00K\\x00\\x00\\x00\\x0b\\x00\\x00\\x00\\x00\\x00\\x00\\x00\\x00\\x00\\x00\\x00\\x00\\x00\\xd0C\\x00\\x00photo71.txtPK\\x01\\x02\\x14\\x00\\n\\x00\\x00\\x00\\x00\\x00\\xe3B\\x91Y\\x12\\xe6\\xe5\\x10K\\x00\\x00\\x00K\\x00\\x00\\x00\\x0b\\x00\\x00\\x00\\x00\\x00\\x00\\x00\\x00\\x00\\x00\\x00\\x00\\x00DD\\x00\\x00photo72.txtPK\\x01\\x02\\x14\\x00\\n\\x00\\x00\\x00\\x00\\x00\\xe3B\\x91Y{9\\x90*K\\x00\\x00\\x00K\\x00\\x00\\x00\\x0b\\x00\\x00\\x00\\x00\\x00\\x00\\x00\\x00\\x00\\x00\\x00\\x00\\x00\\xb8D\\x00\\x00photo73.txtPK\\x01\\x02\\x14\\x00\\n\\x00\\x00\\x00\\x00\\x00\\xe3B\\x91Y\\x034\\x19\\x0eK\\x00\\x00\\x00K\\x00\\x00\\x00\\x0b\\x00\\x00\\x00\\x00\\x00\\x00\\x00\\x00\\x00\\x00\\x00\\x00\\x00,E\\x00\\x00photo74.txtPK\\x01\\x02\\x14\\x00\\n\\x00\\x00\\x00\\x00\\x00\\xe3B\\x91Y\\xc3d\\xea\\xc7K\\x00\\x00\\x00K\\x00\\x00\\x00\\x0b\\x00\\x00\\x00\\x00\\x00\\x00\\x00\\x00\\x00\\x00\\x00\\x00\\x00\\xa0E\\x00\\x00photo75.txtPK\\x01\\x02\\x14\\x00\\n\\x00\\x00\\x00\\x00\\x00\\xe3B\\x91Y\\xf8\\x1f\\xf9OK\\x00\\x00\\x00K\\x00\\x00\\x00\\x0b\\x00\\x00\\x00\\x00\\x00\\x00\\x00\\x00\\x00\\x00\\x00\\x00\\x00\\x14F\\x00\\x00photo76.txtPK\\x01\\x02\\x14\\x00\\n\\x00\\x00\\x00\\x00\\x00\\xe3B\\x91Y\\x0f\\xae@XK\\x00\\x00\\x00K\\x00\\x00\\x00\\x0b\\x00\\x00\\x00\\x00\\x00\\x00\\x00\\x00\\x00\\x00\\x00\\x00\\x00\\x88F\\x00\\x00photo77.txtPK\\x01\\x02\\x14\\x00\\n\\x00\\x00\\x00\\x00\\x00\\xe3B\\x91Yd!\\r\\x1bK\\x00\\x00\\x00K\\x00\\x00\\x00\\x0b\\x00\\x00\\x00\\x00\\x00\\x00\\x00\\x00\\x00\\x00\\x00\\x00\\x00\\xfcF\\x00\\x00photo78.txtPK\\x01\\x02\\x14\\x00\\n\\x00\\x00\\x00\\x00\\x00\\xe3B\\x91YEH\\xa4cK\\x00\\x00\\x00K\\x00\\x00\\x00\\x0b\\x00\\x00\\x00\\x00\\x00\\x00\\x00\\x00\\x00\\x00\\x00\\x00\\x00pG\\x00\\x00photo79.txtPK\\x01\\x02\\x14\\x00\\n\\x00\\x00\\x00\\x00\\x00\\xe3B\\x91Y\\x0b\\x9a\\xe6\\x1cK\\x00\\x00\\x00K\\x00\\x00\\x00\\n\\x00\\x00\\x00\\x00\\x00\\x00\\x00\\x00\\x00\\x00\\x00\\x00\\x00\\xe4G\\x00\\x00photo8.txtPK\\x01\\x02\\x14\\x00\\n\\x00\\x00\\x00\\x00\\x00\\xe3B\\x91Yz%\\xe2\\xb1K\\x00\\x00\\x00K\\x00\\x00\\x00\\x0b\\x00\\x00\\x00\\x00\\x00\\x00\\x00\\x00\\x00\\x00\\x00\\x00\\x00WH\\x00\\x00photo80.txtPK\\x01\\x02\\x14\\x00\\n\\x00\\x00\\x00\\x00\\x00\\xe3B\\x91Y\\x05p\\xfa:K\\x00\\x00\\x00K\\x00\\x00\\x00\\x0b\\x00\\x00\\x00\\x00\\x00\\x00\\x00\\x00\\x00\\x00\\x00\\x00\\x00\\xcbH\\x00\\x00photo81.txtPK\\x01\\x02\\x14\\x00\\n\\x00\\x00\\x00\\x00\\x00\\xe3B\\x91Y\\x12W\\xcb\\xa1K\\x00\\x00\\x00K\\x00\\x00\\x00\\x0b\\x00\\x00\\x00\\x00\\x00\\x00\\x00\\x00\\x00\\x00\\x00\\x00\\x00?I\\x00\\x00photo82.txtPK\\x01\\x02\\x14\\x00\\n\\x00\\x00\\x00\\x00\\x00\\xe3B\\x91Y5\"F\\xc0K\\x00\\x00\\x00K\\x00\\x00\\x00\\x0b\\x00\\x00\\x00\\x00\\x00\\x00\\x00\\x00\\x00\\x00\\x00\\x00\\x00\\xb3I\\x00\\x00photo83.txtPK\\x01\\x02\\x14\\x00\\n\\x00\\x00\\x00\\x00\\x00\\xe3B\\x91Y\\xf1\\x89\\x99>K\\x00\\x00\\x00K\\x00\\x00\\x00\\x0b\\x00\\x00\\x00\\x00\\x00\\x00\\x00\\x00\\x00\\x00\\x00\\x00\\x00\\'J\\x00\\x00photo84.txtPK\\x01\\x02\\x14\\x00\\n\\x00\\x00\\x00\\x00\\x00\\xe3B\\x91Y\\xb2@\\xa8\\xa6K\\x00\\x00\\x00K\\x00\\x00\\x00\\x0b\\x00\\x00\\x00\\x00\\x00\\x00\\x00\\x00\\x00\\x00\\x00\\x00\\x00\\x9bJ\\x00\\x00photo85.txtPK\\x01\\x02\\x14\\x00\\n\\x00\\x00\\x00\\x00\\x00\\xe3B\\x91Y\\xb9\\x84&{K\\x00\\x00\\x00K\\x00\\x00\\x00\\x0b\\x00\\x00\\x00\\x00\\x00\\x00\\x00\\x00\\x00\\x00\\x00\\x00\\x00\\x0fK\\x00\\x00photo86.txtPK\\x01\\x02\\x14\\x00\\n\\x00\\x00\\x00\\x00\\x00\\xe3B\\x91Y\\x00\\xf1\\xb1\\xfaK\\x00\\x00\\x00K\\x00\\x00\\x00\\x0b\\x00\\x00\\x00\\x00\\x00\\x00\\x00\\x00\\x00\\x00\\x00\\x00\\x00\\x83K\\x00\\x00photo87.txtPK\\x01\\x02\\x14\\x00\\n\\x00\\x00\\x00\\x00\\x00\\xe3B\\x91Y\\x01\\xbf\\x91\\xbeK\\x00\\x00\\x00K\\x00\\x00\\x00\\x0b\\x00\\x00\\x00\\x00\\x00\\x00\\x00\\x00\\x00\\x00\\x00\\x00\\x00\\xf7K\\x00\\x00photo88.txtPK\\x01\\x02\\x14\\x00\\n\\x00\\x00\\x00\\x00\\x00\\xe3B\\x91Y{\\x81>\\xfdK\\x00\\x00\\x00K\\x00\\x00\\x00\\x0b\\x00\\x00\\x00\\x00\\x00\\x00\\x00\\x00\\x00\\x00\\x00\\x00\\x00kL\\x00\\x00photo89.txtPK\\x01\\x02\\x14\\x00\\n\\x00\\x00\\x00\\x00\\x00\\xe3B\\x91Y\\xa2j\\xfe\\x06K\\x00\\x00\\x00K\\x00\\x00\\x00\\n\\x00\\x00\\x00\\x00\\x00\\x00\\x00\\x00\\x00\\x00\\x00\\x00\\x00\\xdfL\\x00\\x00photo9.txtPK\\x01\\x02\\x14\\x00\\n\\x00\\x00\\x00\\x00\\x00\\xe3B\\x91Y\\x1f\\x19PtK\\x00\\x00\\x00K\\x00\\x00\\x00\\x0b\\x00\\x00\\x00\\x00\\x00\\x00\\x00\\x00\\x00\\x00\\x00\\x00\\x00RM\\x00\\x00photo90.txtPK\\x01\\x02\\x14\\x00\\n\\x00\\x00\\x00\\x00\\x00\\xe3B\\x91Y\\x93\\x86+\\x8eK\\x00\\x00\\x00K\\x00\\x00\\x00\\x0b\\x00\\x00\\x00\\x00\\x00\\x00\\x00\\x00\\x00\\x00\\x00\\x00\\x00\\xc6M\\x00\\x00photo91.txtPK\\x01\\x02\\x14\\x00\\n\\x00\\x00\\x00\\x00\\x00\\xe3B\\x91Y\\xa8\\x19\\xb9\\xdfK\\x00\\x00\\x00K\\x00\\x00\\x00\\x0b\\x00\\x00\\x00\\x00\\x00\\x00\\x00\\x00\\x00\\x00\\x00\\x00\\x00:N\\x00\\x00photo92.txtPK\\x01\\x02\\x14\\x00\\n\\x00\\x00\\x00\\x00\\x00\\xe3B\\x91Y\\x1a\\xf4I\\xa1K\\x00\\x00\\x00K\\x00\\x00\\x00\\x0b\\x00\\x00\\x00\\x00\\x00\\x00\\x00\\x00\\x00\\x00\\x00\\x00\\x00\\xaeN\\x00\\x00photo93.txtPK\\x01\\x02\\x14\\x00\\n\\x00\\x00\\x00\\x00\\x00\\xe3B\\x91Y\\xa2<\\xc7\\x1aK\\x00\\x00\\x00K\\x00\\x00\\x00\\x0b\\x00\\x00\\x00\\x00\\x00\\x00\\x00\\x00\\x00\\x00\\x00\\x00\\x00\"O\\x00\\x00photo94.txtPK\\x01\\x02\\x14\\x00\\n\\x00\\x00\\x00\\x00\\x00\\xe3B\\x91Y?]\\xd2>K\\x00\\x00\\x00K\\x00\\x00\\x00\\x0b\\x00\\x00\\x00\\x00\\x00\\x00\\x00\\x00\\x00\\x00\\x00\\x00\\x00\\x96O\\x00\\x00photo95.txtPK\\x01\\x02\\x14\\x00\\n\\x00\\x00\\x00\\x00\\x00\\xe3B\\x91Y[\\x18\\xb5<K\\x00\\x00\\x00K\\x00\\x00\\x00\\x0b\\x00\\x00\\x00\\x00\\x00\\x00\\x00\\x00\\x00\\x00\\x00\\x00\\x00\\nP\\x00\\x00photo96.txtPK\\x01\\x02\\x14\\x00\\n\\x00\\x00\\x00\\x00\\x00\\xe3B\\x91Y\\xcahh\\xbbK\\x00\\x00\\x00K\\x00\\x00\\x00\\x0b\\x00\\x00\\x00\\x00\\x00\\x00\\x00\\x00\\x00\\x00\\x00\\x00\\x00~P\\x00\\x00photo97.txtPK\\x01\\x02\\x14\\x00\\n\\x00\\x00\\x00\\x00\\x00\\xe3B\\x91Y\\x95\\xa2G\\xbeK\\x00\\x00\\x00K\\x00\\x00\\x00\\x0b\\x00\\x00\\x00\\x00\\x00\\x00\\x00\\x00\\x00\\x00\\x00\\x00\\x00\\xf2P\\x00\\x00photo98.txtPK\\x01\\x02\\x14\\x00\\n\\x00\\x00\\x00\\x00\\x00\\xe3B\\x91Y\\xaf\\xf0\\xc4\\x9cK\\x00\\x00\\x00K\\x00\\x00\\x00\\x0b\\x00\\x00\\x00\\x00\\x00\\x00\\x00\\x00\\x00\\x00\\x00\\x00\\x00fQ\\x00\\x00photo99.txtPK\\x05\\x06\\x00\\x00\\x00\\x00\\xb4\\x00\\xb4\\x00^(\\x00\\x00\\xdaQ\\x00\\x00\\x00\\x00'}"
            ]
          },
          "metadata": {},
          "execution_count": 2
        }
      ]
    },
    {
      "cell_type": "code",
      "source": [
        "!unzip labels_my-project-name_2024-12-17-09-23-06.zip -d labels/"
      ],
      "metadata": {
        "colab": {
          "base_uri": "https://localhost:8080/"
        },
        "id": "7xqtzFWU3jCI",
        "outputId": "14f8415e-111c-475c-ce4f-abd3b0112c66"
      },
      "execution_count": null,
      "outputs": [
        {
          "output_type": "stream",
          "name": "stdout",
          "text": [
            "Archive:  labels_my-project-name_2024-12-17-09-23-06.zip\n",
            " extracting: labels/photo1.txt       \n",
            " extracting: labels/photo10.txt      \n",
            " extracting: labels/photo100.txt     \n",
            " extracting: labels/photo101.txt     \n",
            " extracting: labels/photo102.txt     \n",
            " extracting: labels/photo103.txt     \n",
            " extracting: labels/photo104.txt     \n",
            " extracting: labels/photo105.txt     \n",
            " extracting: labels/photo106.txt     \n",
            " extracting: labels/photo107.txt     \n",
            " extracting: labels/photo108.txt     \n",
            " extracting: labels/photo109.txt     \n",
            " extracting: labels/photo11.txt      \n",
            " extracting: labels/photo110.txt     \n",
            " extracting: labels/photo111.txt     \n",
            " extracting: labels/photo112.txt     \n",
            " extracting: labels/photo113.txt     \n",
            " extracting: labels/photo114.txt     \n",
            " extracting: labels/photo115.txt     \n",
            " extracting: labels/photo116.txt     \n",
            " extracting: labels/photo117.txt     \n",
            " extracting: labels/photo118.txt     \n",
            " extracting: labels/photo119.txt     \n",
            " extracting: labels/photo12.txt      \n",
            " extracting: labels/photo120.txt     \n",
            " extracting: labels/photo121.txt     \n",
            " extracting: labels/photo122.txt     \n",
            " extracting: labels/photo123.txt     \n",
            " extracting: labels/photo124.txt     \n",
            " extracting: labels/photo125.txt     \n",
            " extracting: labels/photo126.txt     \n",
            " extracting: labels/photo127.txt     \n",
            " extracting: labels/photo128.txt     \n",
            " extracting: labels/photo129.txt     \n",
            " extracting: labels/photo13.txt      \n",
            " extracting: labels/photo130.txt     \n",
            " extracting: labels/photo131.txt     \n",
            " extracting: labels/photo132.txt     \n",
            " extracting: labels/photo133.txt     \n",
            " extracting: labels/photo134.txt     \n",
            " extracting: labels/photo135.txt     \n",
            " extracting: labels/photo136.txt     \n",
            " extracting: labels/photo137.txt     \n",
            " extracting: labels/photo138.txt     \n",
            " extracting: labels/photo139.txt     \n",
            " extracting: labels/photo14.txt      \n",
            " extracting: labels/photo140.txt     \n",
            " extracting: labels/photo141.txt     \n",
            " extracting: labels/photo142.txt     \n",
            " extracting: labels/photo143.txt     \n",
            " extracting: labels/photo144.txt     \n",
            " extracting: labels/photo145.txt     \n",
            " extracting: labels/photo146.txt     \n",
            " extracting: labels/photo147.txt     \n",
            " extracting: labels/photo148.txt     \n",
            " extracting: labels/photo149.txt     \n",
            " extracting: labels/photo15.txt      \n",
            " extracting: labels/photo150.txt     \n",
            " extracting: labels/photo151.txt     \n",
            " extracting: labels/photo152.txt     \n",
            " extracting: labels/photo153.txt     \n",
            " extracting: labels/photo154.txt     \n",
            " extracting: labels/photo155.txt     \n",
            " extracting: labels/photo156.txt     \n",
            " extracting: labels/photo157.txt     \n",
            " extracting: labels/photo158.txt     \n",
            " extracting: labels/photo159.txt     \n",
            " extracting: labels/photo16.txt      \n",
            " extracting: labels/photo160.txt     \n",
            " extracting: labels/photo161.txt     \n",
            " extracting: labels/photo162.txt     \n",
            " extracting: labels/photo163.txt     \n",
            " extracting: labels/photo164.txt     \n",
            " extracting: labels/photo165.txt     \n",
            " extracting: labels/photo166.txt     \n",
            " extracting: labels/photo167.txt     \n",
            " extracting: labels/photo168.txt     \n",
            " extracting: labels/photo169.txt     \n",
            " extracting: labels/photo17.txt      \n",
            " extracting: labels/photo170.txt     \n",
            " extracting: labels/photo171.txt     \n",
            " extracting: labels/photo172.txt     \n",
            " extracting: labels/photo173.txt     \n",
            " extracting: labels/photo174.txt     \n",
            " extracting: labels/photo175.txt     \n",
            " extracting: labels/photo176.txt     \n",
            " extracting: labels/photo177.txt     \n",
            " extracting: labels/photo178.txt     \n",
            " extracting: labels/photo179.txt     \n",
            " extracting: labels/photo18.txt      \n",
            " extracting: labels/photo180.txt     \n",
            " extracting: labels/photo181.txt     \n",
            " extracting: labels/photo19.txt      \n",
            " extracting: labels/photo20.txt      \n",
            " extracting: labels/photo21.txt      \n",
            " extracting: labels/photo22.txt      \n",
            " extracting: labels/photo23.txt      \n",
            " extracting: labels/photo24.txt      \n",
            " extracting: labels/photo25.txt      \n",
            " extracting: labels/photo26.txt      \n",
            " extracting: labels/photo27.txt      \n",
            " extracting: labels/photo28.txt      \n",
            " extracting: labels/photo29.txt      \n",
            " extracting: labels/photo3.txt       \n",
            " extracting: labels/photo30.txt      \n",
            " extracting: labels/photo31.txt      \n",
            " extracting: labels/photo32.txt      \n",
            " extracting: labels/photo33.txt      \n",
            " extracting: labels/photo34.txt      \n",
            " extracting: labels/photo35.txt      \n",
            " extracting: labels/photo36.txt      \n",
            " extracting: labels/photo37.txt      \n",
            " extracting: labels/photo38.txt      \n",
            " extracting: labels/photo39.txt      \n",
            " extracting: labels/photo4.txt       \n",
            " extracting: labels/photo40.txt      \n",
            " extracting: labels/photo41.txt      \n",
            " extracting: labels/photo42.txt      \n",
            " extracting: labels/photo43.txt      \n",
            " extracting: labels/photo44.txt      \n",
            " extracting: labels/photo45.txt      \n",
            " extracting: labels/photo46.txt      \n",
            " extracting: labels/photo47.txt      \n",
            " extracting: labels/photo48.txt      \n",
            " extracting: labels/photo49.txt      \n",
            " extracting: labels/photo5.txt       \n",
            " extracting: labels/photo50.txt      \n",
            " extracting: labels/photo51.txt      \n",
            " extracting: labels/photo52.txt      \n",
            " extracting: labels/photo53.txt      \n",
            " extracting: labels/photo54.txt      \n",
            " extracting: labels/photo55.txt      \n",
            " extracting: labels/photo56.txt      \n",
            " extracting: labels/photo57.txt      \n",
            " extracting: labels/photo58.txt      \n",
            " extracting: labels/photo59.txt      \n",
            " extracting: labels/photo6.txt       \n",
            " extracting: labels/photo60.txt      \n",
            " extracting: labels/photo61.txt      \n",
            " extracting: labels/photo62.txt      \n",
            " extracting: labels/photo63.txt      \n",
            " extracting: labels/photo64.txt      \n",
            " extracting: labels/photo65.txt      \n",
            " extracting: labels/photo66.txt      \n",
            " extracting: labels/photo67.txt      \n",
            " extracting: labels/photo68.txt      \n",
            " extracting: labels/photo69.txt      \n",
            " extracting: labels/photo7.txt       \n",
            " extracting: labels/photo70.txt      \n",
            " extracting: labels/photo71.txt      \n",
            " extracting: labels/photo72.txt      \n",
            " extracting: labels/photo73.txt      \n",
            " extracting: labels/photo74.txt      \n",
            " extracting: labels/photo75.txt      \n",
            " extracting: labels/photo76.txt      \n",
            " extracting: labels/photo77.txt      \n",
            " extracting: labels/photo78.txt      \n",
            " extracting: labels/photo79.txt      \n",
            " extracting: labels/photo8.txt       \n",
            " extracting: labels/photo80.txt      \n",
            " extracting: labels/photo81.txt      \n",
            " extracting: labels/photo82.txt      \n",
            " extracting: labels/photo83.txt      \n",
            " extracting: labels/photo84.txt      \n",
            " extracting: labels/photo85.txt      \n",
            " extracting: labels/photo86.txt      \n",
            " extracting: labels/photo87.txt      \n",
            " extracting: labels/photo88.txt      \n",
            " extracting: labels/photo89.txt      \n",
            " extracting: labels/photo9.txt       \n",
            " extracting: labels/photo90.txt      \n",
            " extracting: labels/photo91.txt      \n",
            " extracting: labels/photo92.txt      \n",
            " extracting: labels/photo93.txt      \n",
            " extracting: labels/photo94.txt      \n",
            " extracting: labels/photo95.txt      \n",
            " extracting: labels/photo96.txt      \n",
            " extracting: labels/photo97.txt      \n",
            " extracting: labels/photo98.txt      \n",
            " extracting: labels/photo99.txt      \n"
          ]
        }
      ]
    },
    {
      "cell_type": "code",
      "source": [
        "import os\n",
        "import shutil\n",
        "from sklearn.model_selection import train_test_split\n",
        "\n",
        "# Paths\n",
        "images_path = \"/content/images\"  # Replace with the path to your images folder\n",
        "labels_path = \"/content/labels\"  # Replace with the path to your labels folder\n",
        "output_path = \"/content/dataset\"  # Folder where organized dataset will be saved\n",
        "\n",
        "# Create directories for train, val, and test\n",
        "os.makedirs(f\"{output_path}/images/train\", exist_ok=True)\n",
        "os.makedirs(f\"{output_path}/images/val\", exist_ok=True)\n",
        "os.makedirs(f\"{output_path}/images/test\", exist_ok=True)\n",
        "os.makedirs(f\"{output_path}/labels/train\", exist_ok=True)\n",
        "os.makedirs(f\"{output_path}/labels/val\", exist_ok=True)\n",
        "os.makedirs(f\"{output_path}/labels/test\", exist_ok=True)\n",
        "\n",
        "# Get all images and corresponding labels\n",
        "images = sorted([f for f in os.listdir(images_path) if f.lower().endswith(('.jpg', '.jpeg', '.png', '.webp'))])\n",
        "labels = sorted([f for f in os.listdir(labels_path) if f.endswith(\".txt\")])\n",
        "\n",
        "# Ensure image-label matching\n",
        "assert len(images) == len(labels), \"Number of images and labels must match!\"\n",
        "for img, lbl in zip(images, labels):\n",
        "    assert img.split(\".\")[0] == lbl.split(\".\")[0], f\"Mismatch: {img} and {lbl}\"\n",
        "\n",
        "# Split into train (70%), val (20%), and test (10%)\n",
        "train_images, temp_images, train_labels, temp_labels = train_test_split(\n",
        "    images, labels, test_size=0.3, random_state=42\n",
        ")\n",
        "val_images, test_images, val_labels, test_labels = train_test_split(\n",
        "    temp_images, temp_labels, test_size=0.33, random_state=42  # 33% of 30% = ~10% of total\n",
        ")\n",
        "\n",
        "# Move files to their respective folders\n",
        "def move_files(images_list, labels_list, image_dest, label_dest):\n",
        "    for img, lbl in zip(images_list, labels_list):\n",
        "        shutil.move(os.path.join(images_path, img), os.path.join(image_dest, img))\n",
        "        shutil.move(os.path.join(labels_path, lbl), os.path.join(label_dest, lbl))\n",
        "\n",
        "# Organize train, val, and test datasets\n",
        "move_files(train_images, train_labels, f\"{output_path}/images/train\", f\"{output_path}/labels/train\")\n",
        "move_files(val_images, val_labels, f\"{output_path}/images/val\", f\"{output_path}/labels/val\")\n",
        "move_files(test_images, test_labels, f\"{output_path}/images/test\", f\"{output_path}/labels/test\")\n",
        "\n",
        "print(\"Dataset organized successfully!\")\n"
      ],
      "metadata": {
        "colab": {
          "base_uri": "https://localhost:8080/"
        },
        "id": "OCRSm4hI3kL6",
        "outputId": "930dfc70-42a3-4664-cad9-6fab5e7e2877"
      },
      "execution_count": null,
      "outputs": [
        {
          "output_type": "stream",
          "name": "stdout",
          "text": [
            "Dataset organized successfully!\n"
          ]
        }
      ]
    },
    {
      "cell_type": "code",
      "source": [
        "data_yaml = \"\"\"\n",
        "train: /content/dataset/images/train\n",
        "val: /content/dataset/images/val\n",
        "nc: 2  # Number of classes (car, license plate)\n",
        "names: ['car', 'license_plate']\n",
        "\"\"\"\n",
        "with open('data.yaml', 'w') as f:\n",
        "    f.write(data_yaml)\n"
      ],
      "metadata": {
        "id": "OdRLx09V8dyM"
      },
      "execution_count": null,
      "outputs": []
    },
    {
      "cell_type": "code",
      "source": [
        "from ultralytics import YOLO\n",
        "model = YOLO('yolov8s.pt')\n",
        "model.train(data='/content/data.yaml', epochs=10, batch=16, imgsz=640)\n"
      ],
      "metadata": {
        "colab": {
          "base_uri": "https://localhost:8080/"
        },
        "id": "CzFwtFB890wi",
        "outputId": "dd3ae6ff-f034-4777-ad22-e5a4f262ba72"
      },
      "execution_count": null,
      "outputs": [
        {
          "metadata": {
            "tags": null
          },
          "name": "stdout",
          "output_type": "stream",
          "text": [
            "Creating new Ultralytics Settings v0.0.6 file ✅ \n",
            "View Ultralytics Settings with 'yolo settings' or at '/root/.config/Ultralytics/settings.json'\n",
            "Update Settings with 'yolo settings key=value', i.e. 'yolo settings runs_dir=path/to/dir'. For help see https://docs.ultralytics.com/quickstart/#ultralytics-settings.\n",
            "Downloading https://github.com/ultralytics/assets/releases/download/v8.3.0/yolov8s.pt to 'yolov8s.pt'...\n"
          ]
        },
        {
          "metadata": {
            "tags": null
          },
          "name": "stderr",
          "output_type": "stream",
          "text": [
            "100%|██████████| 21.5M/21.5M [00:00<00:00, 166MB/s]\n"
          ]
        },
        {
          "metadata": {
            "tags": null
          },
          "name": "stdout",
          "output_type": "stream",
          "text": [
            "Ultralytics 8.3.50 🚀 Python-3.10.12 torch-2.5.1+cu121 CPU (Intel Xeon 2.20GHz)\n",
            "\u001b[34m\u001b[1mengine/trainer: \u001b[0mtask=detect, mode=train, model=yolov8s.pt, data=/content/data.yaml, epochs=10, time=None, patience=100, batch=16, imgsz=640, save=True, save_period=-1, cache=False, device=None, workers=8, project=None, name=train, exist_ok=False, pretrained=True, optimizer=auto, verbose=True, seed=0, deterministic=True, single_cls=False, rect=False, cos_lr=False, close_mosaic=10, resume=False, amp=True, fraction=1.0, profile=False, freeze=None, multi_scale=False, overlap_mask=True, mask_ratio=4, dropout=0.0, val=True, split=val, save_json=False, save_hybrid=False, conf=None, iou=0.7, max_det=300, half=False, dnn=False, plots=True, source=None, vid_stride=1, stream_buffer=False, visualize=False, augment=False, agnostic_nms=False, classes=None, retina_masks=False, embed=None, show=False, save_frames=False, save_txt=False, save_conf=False, save_crop=False, show_labels=True, show_conf=True, show_boxes=True, line_width=None, format=torchscript, keras=False, optimize=False, int8=False, dynamic=False, simplify=True, opset=None, workspace=None, nms=False, lr0=0.01, lrf=0.01, momentum=0.937, weight_decay=0.0005, warmup_epochs=3.0, warmup_momentum=0.8, warmup_bias_lr=0.1, box=7.5, cls=0.5, dfl=1.5, pose=12.0, kobj=1.0, nbs=64, hsv_h=0.015, hsv_s=0.7, hsv_v=0.4, degrees=0.0, translate=0.1, scale=0.5, shear=0.0, perspective=0.0, flipud=0.0, fliplr=0.5, bgr=0.0, mosaic=1.0, mixup=0.0, copy_paste=0.0, copy_paste_mode=flip, auto_augment=randaugment, erasing=0.4, crop_fraction=1.0, cfg=None, tracker=botsort.yaml, save_dir=runs/detect/train\n",
            "Downloading https://ultralytics.com/assets/Arial.ttf to '/root/.config/Ultralytics/Arial.ttf'...\n"
          ]
        },
        {
          "metadata": {
            "tags": null
          },
          "name": "stderr",
          "output_type": "stream",
          "text": [
            "100%|██████████| 755k/755k [00:00<00:00, 14.8MB/s]\n"
          ]
        },
        {
          "metadata": {
            "tags": null
          },
          "name": "stdout",
          "output_type": "stream",
          "text": [
            "Overriding model.yaml nc=80 with nc=2\n",
            "\n",
            "                   from  n    params  module                                       arguments                     \n",
            "  0                  -1  1       928  ultralytics.nn.modules.conv.Conv             [3, 32, 3, 2]                 \n",
            "  1                  -1  1     18560  ultralytics.nn.modules.conv.Conv             [32, 64, 3, 2]                \n",
            "  2                  -1  1     29056  ultralytics.nn.modules.block.C2f             [64, 64, 1, True]             \n",
            "  3                  -1  1     73984  ultralytics.nn.modules.conv.Conv             [64, 128, 3, 2]               \n",
            "  4                  -1  2    197632  ultralytics.nn.modules.block.C2f             [128, 128, 2, True]           \n",
            "  5                  -1  1    295424  ultralytics.nn.modules.conv.Conv             [128, 256, 3, 2]              \n",
            "  6                  -1  2    788480  ultralytics.nn.modules.block.C2f             [256, 256, 2, True]           \n",
            "  7                  -1  1   1180672  ultralytics.nn.modules.conv.Conv             [256, 512, 3, 2]              \n",
            "  8                  -1  1   1838080  ultralytics.nn.modules.block.C2f             [512, 512, 1, True]           \n",
            "  9                  -1  1    656896  ultralytics.nn.modules.block.SPPF            [512, 512, 5]                 \n",
            " 10                  -1  1         0  torch.nn.modules.upsampling.Upsample         [None, 2, 'nearest']          \n",
            " 11             [-1, 6]  1         0  ultralytics.nn.modules.conv.Concat           [1]                           \n",
            " 12                  -1  1    591360  ultralytics.nn.modules.block.C2f             [768, 256, 1]                 \n",
            " 13                  -1  1         0  torch.nn.modules.upsampling.Upsample         [None, 2, 'nearest']          \n",
            " 14             [-1, 4]  1         0  ultralytics.nn.modules.conv.Concat           [1]                           \n",
            " 15                  -1  1    148224  ultralytics.nn.modules.block.C2f             [384, 128, 1]                 \n",
            " 16                  -1  1    147712  ultralytics.nn.modules.conv.Conv             [128, 128, 3, 2]              \n",
            " 17            [-1, 12]  1         0  ultralytics.nn.modules.conv.Concat           [1]                           \n",
            " 18                  -1  1    493056  ultralytics.nn.modules.block.C2f             [384, 256, 1]                 \n",
            " 19                  -1  1    590336  ultralytics.nn.modules.conv.Conv             [256, 256, 3, 2]              \n",
            " 20             [-1, 9]  1         0  ultralytics.nn.modules.conv.Concat           [1]                           \n",
            " 21                  -1  1   1969152  ultralytics.nn.modules.block.C2f             [768, 512, 1]                 \n",
            " 22        [15, 18, 21]  1   2116822  ultralytics.nn.modules.head.Detect           [2, [128, 256, 512]]          \n",
            "Model summary: 225 layers, 11,136,374 parameters, 11,136,358 gradients, 28.6 GFLOPs\n",
            "\n",
            "Transferred 349/355 items from pretrained weights\n",
            "\u001b[34m\u001b[1mTensorBoard: \u001b[0mStart with 'tensorboard --logdir runs/detect/train', view at http://localhost:6006/\n",
            "Freezing layer 'model.22.dfl.conv.weight'\n"
          ]
        },
        {
          "metadata": {
            "tags": null
          },
          "name": "stderr",
          "output_type": "stream",
          "text": [
            "\u001b[34m\u001b[1mtrain: \u001b[0mScanning /content/dataset/labels/train... 126 images, 0 backgrounds, 0 corrupt: 100%|██████████| 126/126 [00:00<00:00, 509.06it/s]"
          ]
        },
        {
          "metadata": {
            "tags": null
          },
          "name": "stdout",
          "output_type": "stream",
          "text": [
            "\u001b[34m\u001b[1mtrain: \u001b[0mNew cache created: /content/dataset/labels/train.cache\n"
          ]
        },
        {
          "metadata": {
            "tags": null
          },
          "name": "stderr",
          "output_type": "stream",
          "text": [
            "\n"
          ]
        },
        {
          "metadata": {
            "tags": null
          },
          "name": "stdout",
          "output_type": "stream",
          "text": [
            "\u001b[34m\u001b[1malbumentations: \u001b[0mBlur(p=0.01, blur_limit=(3, 7)), MedianBlur(p=0.01, blur_limit=(3, 7)), ToGray(p=0.01, num_output_channels=3, method='weighted_average'), CLAHE(p=0.01, clip_limit=(1.0, 4.0), tile_grid_size=(8, 8))\n"
          ]
        },
        {
          "metadata": {
            "tags": null
          },
          "name": "stderr",
          "output_type": "stream",
          "text": [
            "/usr/local/lib/python3.10/dist-packages/albumentations/__init__.py:24: UserWarning: A new version of Albumentations is available: 1.4.22 (you have 1.4.20). Upgrade using: pip install -U albumentations. To disable automatic update checks, set the environment variable NO_ALBUMENTATIONS_UPDATE to 1.\n",
            "  check_for_updates()\n",
            "\u001b[34m\u001b[1mval: \u001b[0mScanning /content/dataset/labels/val... 36 images, 0 backgrounds, 0 corrupt: 100%|██████████| 36/36 [00:00<00:00, 1825.20it/s]"
          ]
        },
        {
          "metadata": {
            "tags": null
          },
          "name": "stdout",
          "output_type": "stream",
          "text": [
            "\u001b[34m\u001b[1mval: \u001b[0mNew cache created: /content/dataset/labels/val.cache\n"
          ]
        },
        {
          "metadata": {
            "tags": null
          },
          "name": "stderr",
          "output_type": "stream",
          "text": [
            "\n"
          ]
        },
        {
          "metadata": {
            "tags": null
          },
          "name": "stdout",
          "output_type": "stream",
          "text": [
            "Plotting labels to runs/detect/train/labels.jpg... \n",
            "\u001b[34m\u001b[1moptimizer:\u001b[0m 'optimizer=auto' found, ignoring 'lr0=0.01' and 'momentum=0.937' and determining best 'optimizer', 'lr0' and 'momentum' automatically... \n",
            "\u001b[34m\u001b[1moptimizer:\u001b[0m AdamW(lr=0.001667, momentum=0.9) with parameter groups 57 weight(decay=0.0), 64 weight(decay=0.0005), 63 bias(decay=0.0)\n",
            "\u001b[34m\u001b[1mTensorBoard: \u001b[0mmodel graph visualization added ✅\n",
            "Image sizes 640 train, 640 val\n",
            "Using 0 dataloader workers\n",
            "Logging results to \u001b[1mruns/detect/train\u001b[0m\n",
            "Starting training for 10 epochs...\n",
            "Closing dataloader mosaic\n",
            "\u001b[34m\u001b[1malbumentations: \u001b[0mBlur(p=0.01, blur_limit=(3, 7)), MedianBlur(p=0.01, blur_limit=(3, 7)), ToGray(p=0.01, num_output_channels=3, method='weighted_average'), CLAHE(p=0.01, clip_limit=(1.0, 4.0), tile_grid_size=(8, 8))\n",
            "\n",
            "      Epoch    GPU_mem   box_loss   cls_loss   dfl_loss  Instances       Size\n"
          ]
        },
        {
          "metadata": {
            "tags": null
          },
          "name": "stderr",
          "output_type": "stream",
          "text": [
            "       1/10         0G      1.367       3.73      1.603         28        640: 100%|██████████| 8/8 [05:39<00:00, 42.43s/it]\n",
            "                 Class     Images  Instances      Box(P          R      mAP50  mAP50-95): 100%|██████████| 2/2 [00:34<00:00, 17.49s/it]"
          ]
        },
        {
          "metadata": {
            "tags": null
          },
          "name": "stdout",
          "output_type": "stream",
          "text": [
            "                   all         36         72      0.673      0.653      0.697      0.379\n"
          ]
        },
        {
          "metadata": {
            "tags": null
          },
          "name": "stderr",
          "output_type": "stream",
          "text": [
            "\n"
          ]
        },
        {
          "metadata": {
            "tags": null
          },
          "name": "stdout",
          "output_type": "stream",
          "text": [
            "\n",
            "      Epoch    GPU_mem   box_loss   cls_loss   dfl_loss  Instances       Size\n"
          ]
        },
        {
          "metadata": {
            "tags": null
          },
          "name": "stderr",
          "output_type": "stream",
          "text": [
            "       2/10         0G     0.9655      1.535      1.243         28        640: 100%|██████████| 8/8 [05:11<00:00, 38.96s/it]\n",
            "                 Class     Images  Instances      Box(P          R      mAP50  mAP50-95): 100%|██████████| 2/2 [00:31<00:00, 15.62s/it]"
          ]
        },
        {
          "metadata": {
            "tags": null
          },
          "name": "stdout",
          "output_type": "stream",
          "text": [
            "                   all         36         72      0.886      0.829      0.908       0.61\n"
          ]
        },
        {
          "metadata": {
            "tags": null
          },
          "name": "stderr",
          "output_type": "stream",
          "text": [
            "\n"
          ]
        },
        {
          "metadata": {
            "tags": null
          },
          "name": "stdout",
          "output_type": "stream",
          "text": [
            "\n",
            "      Epoch    GPU_mem   box_loss   cls_loss   dfl_loss  Instances       Size\n"
          ]
        },
        {
          "metadata": {
            "tags": null
          },
          "name": "stderr",
          "output_type": "stream",
          "text": [
            "       3/10         0G     0.8604      1.121       1.17         28        640: 100%|██████████| 8/8 [05:16<00:00, 39.55s/it]\n",
            "                 Class     Images  Instances      Box(P          R      mAP50  mAP50-95): 100%|██████████| 2/2 [00:31<00:00, 15.58s/it]"
          ]
        },
        {
          "metadata": {
            "tags": null
          },
          "name": "stdout",
          "output_type": "stream",
          "text": [
            "                   all         36         72      0.897      0.833      0.902      0.624\n"
          ]
        },
        {
          "metadata": {
            "tags": null
          },
          "name": "stderr",
          "output_type": "stream",
          "text": [
            "\n"
          ]
        },
        {
          "metadata": {
            "tags": null
          },
          "name": "stdout",
          "output_type": "stream",
          "text": [
            "\n",
            "      Epoch    GPU_mem   box_loss   cls_loss   dfl_loss  Instances       Size\n"
          ]
        },
        {
          "metadata": {
            "tags": null
          },
          "name": "stderr",
          "output_type": "stream",
          "text": [
            "       4/10         0G     0.8509      0.971      1.213         28        640: 100%|██████████| 8/8 [05:04<00:00, 38.05s/it]\n",
            "                 Class     Images  Instances      Box(P          R      mAP50  mAP50-95): 100%|██████████| 2/2 [00:29<00:00, 14.59s/it]"
          ]
        },
        {
          "metadata": {
            "tags": null
          },
          "name": "stdout",
          "output_type": "stream",
          "text": [
            "                   all         36         72      0.799      0.914      0.917       0.57\n"
          ]
        },
        {
          "metadata": {
            "tags": null
          },
          "name": "stderr",
          "output_type": "stream",
          "text": [
            "\n"
          ]
        },
        {
          "metadata": {
            "tags": null
          },
          "name": "stdout",
          "output_type": "stream",
          "text": [
            "\n",
            "      Epoch    GPU_mem   box_loss   cls_loss   dfl_loss  Instances       Size\n"
          ]
        },
        {
          "metadata": {
            "tags": null
          },
          "name": "stderr",
          "output_type": "stream",
          "text": [
            "       5/10         0G      0.854     0.8909      1.136         28        640: 100%|██████████| 8/8 [05:02<00:00, 37.81s/it]\n",
            "                 Class     Images  Instances      Box(P          R      mAP50  mAP50-95): 100%|██████████| 2/2 [00:29<00:00, 14.79s/it]"
          ]
        },
        {
          "metadata": {
            "tags": null
          },
          "name": "stdout",
          "output_type": "stream",
          "text": [
            "                   all         36         72      0.814      0.919      0.912      0.609\n"
          ]
        },
        {
          "metadata": {
            "tags": null
          },
          "name": "stderr",
          "output_type": "stream",
          "text": [
            "\n"
          ]
        },
        {
          "metadata": {
            "tags": null
          },
          "name": "stdout",
          "output_type": "stream",
          "text": [
            "\n",
            "      Epoch    GPU_mem   box_loss   cls_loss   dfl_loss  Instances       Size\n"
          ]
        },
        {
          "metadata": {
            "tags": null
          },
          "name": "stderr",
          "output_type": "stream",
          "text": [
            "       6/10         0G     0.8141     0.7715      1.109         28        640: 100%|██████████| 8/8 [05:04<00:00, 38.08s/it]\n",
            "                 Class     Images  Instances      Box(P          R      mAP50  mAP50-95): 100%|██████████| 2/2 [00:31<00:00, 15.90s/it]"
          ]
        },
        {
          "metadata": {
            "tags": null
          },
          "name": "stdout",
          "output_type": "stream",
          "text": [
            "                   all         36         72      0.872      0.865      0.941      0.691\n"
          ]
        },
        {
          "metadata": {
            "tags": null
          },
          "name": "stderr",
          "output_type": "stream",
          "text": [
            "\n"
          ]
        },
        {
          "metadata": {
            "tags": null
          },
          "name": "stdout",
          "output_type": "stream",
          "text": [
            "\n",
            "      Epoch    GPU_mem   box_loss   cls_loss   dfl_loss  Instances       Size\n"
          ]
        },
        {
          "metadata": {
            "tags": null
          },
          "name": "stderr",
          "output_type": "stream",
          "text": [
            "       7/10         0G     0.7744     0.6964      1.119         28        640: 100%|██████████| 8/8 [05:05<00:00, 38.14s/it]\n",
            "                 Class     Images  Instances      Box(P          R      mAP50  mAP50-95): 100%|██████████| 2/2 [00:29<00:00, 14.70s/it]"
          ]
        },
        {
          "metadata": {
            "tags": null
          },
          "name": "stdout",
          "output_type": "stream",
          "text": [
            "                   all         36         72      0.942      0.861      0.937      0.703\n"
          ]
        },
        {
          "metadata": {
            "tags": null
          },
          "name": "stderr",
          "output_type": "stream",
          "text": [
            "\n"
          ]
        },
        {
          "metadata": {
            "tags": null
          },
          "name": "stdout",
          "output_type": "stream",
          "text": [
            "\n",
            "      Epoch    GPU_mem   box_loss   cls_loss   dfl_loss  Instances       Size\n"
          ]
        },
        {
          "output_type": "stream",
          "name": "stderr",
          "text": [
            "       8/10         0G     0.7459     0.6388      1.102         28        640: 100%|██████████| 8/8 [05:07<00:00, 38.38s/it]\n",
            "                 Class     Images  Instances      Box(P          R      mAP50  mAP50-95): 100%|██████████| 2/2 [00:31<00:00, 15.55s/it]"
          ]
        },
        {
          "output_type": "stream",
          "name": "stdout",
          "text": [
            "                   all         36         72      0.905       0.85      0.918      0.697\n"
          ]
        },
        {
          "output_type": "stream",
          "name": "stderr",
          "text": [
            "\n"
          ]
        },
        {
          "output_type": "stream",
          "name": "stdout",
          "text": [
            "\n",
            "      Epoch    GPU_mem   box_loss   cls_loss   dfl_loss  Instances       Size\n"
          ]
        },
        {
          "output_type": "stream",
          "name": "stderr",
          "text": [
            "       9/10         0G     0.7227     0.6099      1.081         28        640: 100%|██████████| 8/8 [05:06<00:00, 38.30s/it]\n",
            "                 Class     Images  Instances      Box(P          R      mAP50  mAP50-95): 100%|██████████| 2/2 [00:31<00:00, 15.66s/it]"
          ]
        },
        {
          "output_type": "stream",
          "name": "stdout",
          "text": [
            "                   all         36         72      0.878      0.958      0.971      0.732\n"
          ]
        },
        {
          "output_type": "stream",
          "name": "stderr",
          "text": [
            "\n"
          ]
        },
        {
          "output_type": "stream",
          "name": "stdout",
          "text": [
            "\n",
            "      Epoch    GPU_mem   box_loss   cls_loss   dfl_loss  Instances       Size\n"
          ]
        },
        {
          "output_type": "stream",
          "name": "stderr",
          "text": [
            "      10/10         0G     0.7438     0.5939      1.115         28        640: 100%|██████████| 8/8 [05:05<00:00, 38.18s/it]\n",
            "                 Class     Images  Instances      Box(P          R      mAP50  mAP50-95): 100%|██████████| 2/2 [00:30<00:00, 15.01s/it]"
          ]
        },
        {
          "output_type": "stream",
          "name": "stdout",
          "text": [
            "                   all         36         72      0.924      0.943      0.978      0.752\n"
          ]
        },
        {
          "output_type": "stream",
          "name": "stderr",
          "text": [
            "\n"
          ]
        },
        {
          "output_type": "stream",
          "name": "stdout",
          "text": [
            "\n",
            "10 epochs completed in 0.955 hours.\n",
            "Optimizer stripped from runs/detect/train/weights/last.pt, 22.5MB\n",
            "Optimizer stripped from runs/detect/train/weights/best.pt, 22.5MB\n",
            "\n",
            "Validating runs/detect/train/weights/best.pt...\n",
            "Ultralytics 8.3.50 🚀 Python-3.10.12 torch-2.5.1+cu121 CPU (Intel Xeon 2.20GHz)\n",
            "Model summary (fused): 168 layers, 11,126,358 parameters, 0 gradients, 28.4 GFLOPs\n"
          ]
        },
        {
          "output_type": "stream",
          "name": "stderr",
          "text": [
            "                 Class     Images  Instances      Box(P          R      mAP50  mAP50-95): 100%|██████████| 2/2 [00:28<00:00, 14.40s/it]\n"
          ]
        },
        {
          "output_type": "stream",
          "name": "stdout",
          "text": [
            "                   all         36         72      0.923      0.944      0.978      0.751\n",
            "         license_plate         36         36      0.914      0.888      0.962      0.696\n",
            "                   car         36         36      0.933          1      0.995      0.807\n",
            "Speed: 2.7ms preprocess, 788.6ms inference, 0.0ms loss, 1.1ms postprocess per image\n",
            "Results saved to \u001b[1mruns/detect/train\u001b[0m\n"
          ]
        },
        {
          "output_type": "execute_result",
          "data": {
            "text/plain": [
              "ultralytics.utils.metrics.DetMetrics object with attributes:\n",
              "\n",
              "ap_class_index: array([0, 1])\n",
              "box: ultralytics.utils.metrics.Metric object\n",
              "confusion_matrix: <ultralytics.utils.metrics.ConfusionMatrix object at 0x7d32c42c9a80>\n",
              "curves: ['Precision-Recall(B)', 'F1-Confidence(B)', 'Precision-Confidence(B)', 'Recall-Confidence(B)']\n",
              "curves_results: [[array([          0,    0.001001,    0.002002,    0.003003,    0.004004,    0.005005,    0.006006,    0.007007,    0.008008,    0.009009,     0.01001,    0.011011,    0.012012,    0.013013,    0.014014,    0.015015,    0.016016,    0.017017,    0.018018,    0.019019,     0.02002,    0.021021,    0.022022,    0.023023,\n",
              "          0.024024,    0.025025,    0.026026,    0.027027,    0.028028,    0.029029,     0.03003,    0.031031,    0.032032,    0.033033,    0.034034,    0.035035,    0.036036,    0.037037,    0.038038,    0.039039,     0.04004,    0.041041,    0.042042,    0.043043,    0.044044,    0.045045,    0.046046,    0.047047,\n",
              "          0.048048,    0.049049,     0.05005,    0.051051,    0.052052,    0.053053,    0.054054,    0.055055,    0.056056,    0.057057,    0.058058,    0.059059,     0.06006,    0.061061,    0.062062,    0.063063,    0.064064,    0.065065,    0.066066,    0.067067,    0.068068,    0.069069,     0.07007,    0.071071,\n",
              "          0.072072,    0.073073,    0.074074,    0.075075,    0.076076,    0.077077,    0.078078,    0.079079,     0.08008,    0.081081,    0.082082,    0.083083,    0.084084,    0.085085,    0.086086,    0.087087,    0.088088,    0.089089,     0.09009,    0.091091,    0.092092,    0.093093,    0.094094,    0.095095,\n",
              "          0.096096,    0.097097,    0.098098,    0.099099,      0.1001,      0.1011,      0.1021,      0.1031,      0.1041,     0.10511,     0.10611,     0.10711,     0.10811,     0.10911,     0.11011,     0.11111,     0.11211,     0.11311,     0.11411,     0.11512,     0.11612,     0.11712,     0.11812,     0.11912,\n",
              "           0.12012,     0.12112,     0.12212,     0.12312,     0.12412,     0.12513,     0.12613,     0.12713,     0.12813,     0.12913,     0.13013,     0.13113,     0.13213,     0.13313,     0.13413,     0.13514,     0.13614,     0.13714,     0.13814,     0.13914,     0.14014,     0.14114,     0.14214,     0.14314,\n",
              "           0.14414,     0.14515,     0.14615,     0.14715,     0.14815,     0.14915,     0.15015,     0.15115,     0.15215,     0.15315,     0.15415,     0.15516,     0.15616,     0.15716,     0.15816,     0.15916,     0.16016,     0.16116,     0.16216,     0.16316,     0.16416,     0.16517,     0.16617,     0.16717,\n",
              "           0.16817,     0.16917,     0.17017,     0.17117,     0.17217,     0.17317,     0.17417,     0.17518,     0.17618,     0.17718,     0.17818,     0.17918,     0.18018,     0.18118,     0.18218,     0.18318,     0.18418,     0.18519,     0.18619,     0.18719,     0.18819,     0.18919,     0.19019,     0.19119,\n",
              "           0.19219,     0.19319,     0.19419,      0.1952,      0.1962,      0.1972,      0.1982,      0.1992,      0.2002,      0.2012,      0.2022,      0.2032,      0.2042,     0.20521,     0.20621,     0.20721,     0.20821,     0.20921,     0.21021,     0.21121,     0.21221,     0.21321,     0.21421,     0.21522,\n",
              "           0.21622,     0.21722,     0.21822,     0.21922,     0.22022,     0.22122,     0.22222,     0.22322,     0.22422,     0.22523,     0.22623,     0.22723,     0.22823,     0.22923,     0.23023,     0.23123,     0.23223,     0.23323,     0.23423,     0.23524,     0.23624,     0.23724,     0.23824,     0.23924,\n",
              "           0.24024,     0.24124,     0.24224,     0.24324,     0.24424,     0.24525,     0.24625,     0.24725,     0.24825,     0.24925,     0.25025,     0.25125,     0.25225,     0.25325,     0.25425,     0.25526,     0.25626,     0.25726,     0.25826,     0.25926,     0.26026,     0.26126,     0.26226,     0.26326,\n",
              "           0.26426,     0.26527,     0.26627,     0.26727,     0.26827,     0.26927,     0.27027,     0.27127,     0.27227,     0.27327,     0.27427,     0.27528,     0.27628,     0.27728,     0.27828,     0.27928,     0.28028,     0.28128,     0.28228,     0.28328,     0.28428,     0.28529,     0.28629,     0.28729,\n",
              "           0.28829,     0.28929,     0.29029,     0.29129,     0.29229,     0.29329,     0.29429,      0.2953,      0.2963,      0.2973,      0.2983,      0.2993,      0.3003,      0.3013,      0.3023,      0.3033,      0.3043,     0.30531,     0.30631,     0.30731,     0.30831,     0.30931,     0.31031,     0.31131,\n",
              "           0.31231,     0.31331,     0.31431,     0.31532,     0.31632,     0.31732,     0.31832,     0.31932,     0.32032,     0.32132,     0.32232,     0.32332,     0.32432,     0.32533,     0.32633,     0.32733,     0.32833,     0.32933,     0.33033,     0.33133,     0.33233,     0.33333,     0.33433,     0.33534,\n",
              "           0.33634,     0.33734,     0.33834,     0.33934,     0.34034,     0.34134,     0.34234,     0.34334,     0.34434,     0.34535,     0.34635,     0.34735,     0.34835,     0.34935,     0.35035,     0.35135,     0.35235,     0.35335,     0.35435,     0.35536,     0.35636,     0.35736,     0.35836,     0.35936,\n",
              "           0.36036,     0.36136,     0.36236,     0.36336,     0.36436,     0.36537,     0.36637,     0.36737,     0.36837,     0.36937,     0.37037,     0.37137,     0.37237,     0.37337,     0.37437,     0.37538,     0.37638,     0.37738,     0.37838,     0.37938,     0.38038,     0.38138,     0.38238,     0.38338,\n",
              "           0.38438,     0.38539,     0.38639,     0.38739,     0.38839,     0.38939,     0.39039,     0.39139,     0.39239,     0.39339,     0.39439,      0.3954,      0.3964,      0.3974,      0.3984,      0.3994,      0.4004,      0.4014,      0.4024,      0.4034,      0.4044,     0.40541,     0.40641,     0.40741,\n",
              "           0.40841,     0.40941,     0.41041,     0.41141,     0.41241,     0.41341,     0.41441,     0.41542,     0.41642,     0.41742,     0.41842,     0.41942,     0.42042,     0.42142,     0.42242,     0.42342,     0.42442,     0.42543,     0.42643,     0.42743,     0.42843,     0.42943,     0.43043,     0.43143,\n",
              "           0.43243,     0.43343,     0.43443,     0.43544,     0.43644,     0.43744,     0.43844,     0.43944,     0.44044,     0.44144,     0.44244,     0.44344,     0.44444,     0.44545,     0.44645,     0.44745,     0.44845,     0.44945,     0.45045,     0.45145,     0.45245,     0.45345,     0.45445,     0.45546,\n",
              "           0.45646,     0.45746,     0.45846,     0.45946,     0.46046,     0.46146,     0.46246,     0.46346,     0.46446,     0.46547,     0.46647,     0.46747,     0.46847,     0.46947,     0.47047,     0.47147,     0.47247,     0.47347,     0.47447,     0.47548,     0.47648,     0.47748,     0.47848,     0.47948,\n",
              "           0.48048,     0.48148,     0.48248,     0.48348,     0.48448,     0.48549,     0.48649,     0.48749,     0.48849,     0.48949,     0.49049,     0.49149,     0.49249,     0.49349,     0.49449,      0.4955,      0.4965,      0.4975,      0.4985,      0.4995,      0.5005,      0.5015,      0.5025,      0.5035,\n",
              "            0.5045,     0.50551,     0.50651,     0.50751,     0.50851,     0.50951,     0.51051,     0.51151,     0.51251,     0.51351,     0.51451,     0.51552,     0.51652,     0.51752,     0.51852,     0.51952,     0.52052,     0.52152,     0.52252,     0.52352,     0.52452,     0.52553,     0.52653,     0.52753,\n",
              "           0.52853,     0.52953,     0.53053,     0.53153,     0.53253,     0.53353,     0.53453,     0.53554,     0.53654,     0.53754,     0.53854,     0.53954,     0.54054,     0.54154,     0.54254,     0.54354,     0.54454,     0.54555,     0.54655,     0.54755,     0.54855,     0.54955,     0.55055,     0.55155,\n",
              "           0.55255,     0.55355,     0.55455,     0.55556,     0.55656,     0.55756,     0.55856,     0.55956,     0.56056,     0.56156,     0.56256,     0.56356,     0.56456,     0.56557,     0.56657,     0.56757,     0.56857,     0.56957,     0.57057,     0.57157,     0.57257,     0.57357,     0.57457,     0.57558,\n",
              "           0.57658,     0.57758,     0.57858,     0.57958,     0.58058,     0.58158,     0.58258,     0.58358,     0.58458,     0.58559,     0.58659,     0.58759,     0.58859,     0.58959,     0.59059,     0.59159,     0.59259,     0.59359,     0.59459,      0.5956,      0.5966,      0.5976,      0.5986,      0.5996,\n",
              "            0.6006,      0.6016,      0.6026,      0.6036,      0.6046,     0.60561,     0.60661,     0.60761,     0.60861,     0.60961,     0.61061,     0.61161,     0.61261,     0.61361,     0.61461,     0.61562,     0.61662,     0.61762,     0.61862,     0.61962,     0.62062,     0.62162,     0.62262,     0.62362,\n",
              "           0.62462,     0.62563,     0.62663,     0.62763,     0.62863,     0.62963,     0.63063,     0.63163,     0.63263,     0.63363,     0.63463,     0.63564,     0.63664,     0.63764,     0.63864,     0.63964,     0.64064,     0.64164,     0.64264,     0.64364,     0.64464,     0.64565,     0.64665,     0.64765,\n",
              "           0.64865,     0.64965,     0.65065,     0.65165,     0.65265,     0.65365,     0.65465,     0.65566,     0.65666,     0.65766,     0.65866,     0.65966,     0.66066,     0.66166,     0.66266,     0.66366,     0.66466,     0.66567,     0.66667,     0.66767,     0.66867,     0.66967,     0.67067,     0.67167,\n",
              "           0.67267,     0.67367,     0.67467,     0.67568,     0.67668,     0.67768,     0.67868,     0.67968,     0.68068,     0.68168,     0.68268,     0.68368,     0.68468,     0.68569,     0.68669,     0.68769,     0.68869,     0.68969,     0.69069,     0.69169,     0.69269,     0.69369,     0.69469,      0.6957,\n",
              "            0.6967,      0.6977,      0.6987,      0.6997,      0.7007,      0.7017,      0.7027,      0.7037,      0.7047,     0.70571,     0.70671,     0.70771,     0.70871,     0.70971,     0.71071,     0.71171,     0.71271,     0.71371,     0.71471,     0.71572,     0.71672,     0.71772,     0.71872,     0.71972,\n",
              "           0.72072,     0.72172,     0.72272,     0.72372,     0.72472,     0.72573,     0.72673,     0.72773,     0.72873,     0.72973,     0.73073,     0.73173,     0.73273,     0.73373,     0.73473,     0.73574,     0.73674,     0.73774,     0.73874,     0.73974,     0.74074,     0.74174,     0.74274,     0.74374,\n",
              "           0.74474,     0.74575,     0.74675,     0.74775,     0.74875,     0.74975,     0.75075,     0.75175,     0.75275,     0.75375,     0.75475,     0.75576,     0.75676,     0.75776,     0.75876,     0.75976,     0.76076,     0.76176,     0.76276,     0.76376,     0.76476,     0.76577,     0.76677,     0.76777,\n",
              "           0.76877,     0.76977,     0.77077,     0.77177,     0.77277,     0.77377,     0.77477,     0.77578,     0.77678,     0.77778,     0.77878,     0.77978,     0.78078,     0.78178,     0.78278,     0.78378,     0.78478,     0.78579,     0.78679,     0.78779,     0.78879,     0.78979,     0.79079,     0.79179,\n",
              "           0.79279,     0.79379,     0.79479,      0.7958,      0.7968,      0.7978,      0.7988,      0.7998,      0.8008,      0.8018,      0.8028,      0.8038,      0.8048,     0.80581,     0.80681,     0.80781,     0.80881,     0.80981,     0.81081,     0.81181,     0.81281,     0.81381,     0.81481,     0.81582,\n",
              "           0.81682,     0.81782,     0.81882,     0.81982,     0.82082,     0.82182,     0.82282,     0.82382,     0.82482,     0.82583,     0.82683,     0.82783,     0.82883,     0.82983,     0.83083,     0.83183,     0.83283,     0.83383,     0.83483,     0.83584,     0.83684,     0.83784,     0.83884,     0.83984,\n",
              "           0.84084,     0.84184,     0.84284,     0.84384,     0.84484,     0.84585,     0.84685,     0.84785,     0.84885,     0.84985,     0.85085,     0.85185,     0.85285,     0.85385,     0.85485,     0.85586,     0.85686,     0.85786,     0.85886,     0.85986,     0.86086,     0.86186,     0.86286,     0.86386,\n",
              "           0.86486,     0.86587,     0.86687,     0.86787,     0.86887,     0.86987,     0.87087,     0.87187,     0.87287,     0.87387,     0.87487,     0.87588,     0.87688,     0.87788,     0.87888,     0.87988,     0.88088,     0.88188,     0.88288,     0.88388,     0.88488,     0.88589,     0.88689,     0.88789,\n",
              "           0.88889,     0.88989,     0.89089,     0.89189,     0.89289,     0.89389,     0.89489,      0.8959,      0.8969,      0.8979,      0.8989,      0.8999,      0.9009,      0.9019,      0.9029,      0.9039,      0.9049,     0.90591,     0.90691,     0.90791,     0.90891,     0.90991,     0.91091,     0.91191,\n",
              "           0.91291,     0.91391,     0.91491,     0.91592,     0.91692,     0.91792,     0.91892,     0.91992,     0.92092,     0.92192,     0.92292,     0.92392,     0.92492,     0.92593,     0.92693,     0.92793,     0.92893,     0.92993,     0.93093,     0.93193,     0.93293,     0.93393,     0.93493,     0.93594,\n",
              "           0.93694,     0.93794,     0.93894,     0.93994,     0.94094,     0.94194,     0.94294,     0.94394,     0.94494,     0.94595,     0.94695,     0.94795,     0.94895,     0.94995,     0.95095,     0.95195,     0.95295,     0.95395,     0.95495,     0.95596,     0.95696,     0.95796,     0.95896,     0.95996,\n",
              "           0.96096,     0.96196,     0.96296,     0.96396,     0.96496,     0.96597,     0.96697,     0.96797,     0.96897,     0.96997,     0.97097,     0.97197,     0.97297,     0.97397,     0.97497,     0.97598,     0.97698,     0.97798,     0.97898,     0.97998,     0.98098,     0.98198,     0.98298,     0.98398,\n",
              "           0.98498,     0.98599,     0.98699,     0.98799,     0.98899,     0.98999,     0.99099,     0.99199,     0.99299,     0.99399,     0.99499,       0.996,       0.997,       0.998,       0.999,           1]), array([[          1,           1,           1, ...,     0.33962,     0.33962,           0],\n",
              "       [          1,           1,           1, ...,           1,           1,           0]]), 'Recall', 'Precision'], [array([          0,    0.001001,    0.002002,    0.003003,    0.004004,    0.005005,    0.006006,    0.007007,    0.008008,    0.009009,     0.01001,    0.011011,    0.012012,    0.013013,    0.014014,    0.015015,    0.016016,    0.017017,    0.018018,    0.019019,     0.02002,    0.021021,    0.022022,    0.023023,\n",
              "          0.024024,    0.025025,    0.026026,    0.027027,    0.028028,    0.029029,     0.03003,    0.031031,    0.032032,    0.033033,    0.034034,    0.035035,    0.036036,    0.037037,    0.038038,    0.039039,     0.04004,    0.041041,    0.042042,    0.043043,    0.044044,    0.045045,    0.046046,    0.047047,\n",
              "          0.048048,    0.049049,     0.05005,    0.051051,    0.052052,    0.053053,    0.054054,    0.055055,    0.056056,    0.057057,    0.058058,    0.059059,     0.06006,    0.061061,    0.062062,    0.063063,    0.064064,    0.065065,    0.066066,    0.067067,    0.068068,    0.069069,     0.07007,    0.071071,\n",
              "          0.072072,    0.073073,    0.074074,    0.075075,    0.076076,    0.077077,    0.078078,    0.079079,     0.08008,    0.081081,    0.082082,    0.083083,    0.084084,    0.085085,    0.086086,    0.087087,    0.088088,    0.089089,     0.09009,    0.091091,    0.092092,    0.093093,    0.094094,    0.095095,\n",
              "          0.096096,    0.097097,    0.098098,    0.099099,      0.1001,      0.1011,      0.1021,      0.1031,      0.1041,     0.10511,     0.10611,     0.10711,     0.10811,     0.10911,     0.11011,     0.11111,     0.11211,     0.11311,     0.11411,     0.11512,     0.11612,     0.11712,     0.11812,     0.11912,\n",
              "           0.12012,     0.12112,     0.12212,     0.12312,     0.12412,     0.12513,     0.12613,     0.12713,     0.12813,     0.12913,     0.13013,     0.13113,     0.13213,     0.13313,     0.13413,     0.13514,     0.13614,     0.13714,     0.13814,     0.13914,     0.14014,     0.14114,     0.14214,     0.14314,\n",
              "           0.14414,     0.14515,     0.14615,     0.14715,     0.14815,     0.14915,     0.15015,     0.15115,     0.15215,     0.15315,     0.15415,     0.15516,     0.15616,     0.15716,     0.15816,     0.15916,     0.16016,     0.16116,     0.16216,     0.16316,     0.16416,     0.16517,     0.16617,     0.16717,\n",
              "           0.16817,     0.16917,     0.17017,     0.17117,     0.17217,     0.17317,     0.17417,     0.17518,     0.17618,     0.17718,     0.17818,     0.17918,     0.18018,     0.18118,     0.18218,     0.18318,     0.18418,     0.18519,     0.18619,     0.18719,     0.18819,     0.18919,     0.19019,     0.19119,\n",
              "           0.19219,     0.19319,     0.19419,      0.1952,      0.1962,      0.1972,      0.1982,      0.1992,      0.2002,      0.2012,      0.2022,      0.2032,      0.2042,     0.20521,     0.20621,     0.20721,     0.20821,     0.20921,     0.21021,     0.21121,     0.21221,     0.21321,     0.21421,     0.21522,\n",
              "           0.21622,     0.21722,     0.21822,     0.21922,     0.22022,     0.22122,     0.22222,     0.22322,     0.22422,     0.22523,     0.22623,     0.22723,     0.22823,     0.22923,     0.23023,     0.23123,     0.23223,     0.23323,     0.23423,     0.23524,     0.23624,     0.23724,     0.23824,     0.23924,\n",
              "           0.24024,     0.24124,     0.24224,     0.24324,     0.24424,     0.24525,     0.24625,     0.24725,     0.24825,     0.24925,     0.25025,     0.25125,     0.25225,     0.25325,     0.25425,     0.25526,     0.25626,     0.25726,     0.25826,     0.25926,     0.26026,     0.26126,     0.26226,     0.26326,\n",
              "           0.26426,     0.26527,     0.26627,     0.26727,     0.26827,     0.26927,     0.27027,     0.27127,     0.27227,     0.27327,     0.27427,     0.27528,     0.27628,     0.27728,     0.27828,     0.27928,     0.28028,     0.28128,     0.28228,     0.28328,     0.28428,     0.28529,     0.28629,     0.28729,\n",
              "           0.28829,     0.28929,     0.29029,     0.29129,     0.29229,     0.29329,     0.29429,      0.2953,      0.2963,      0.2973,      0.2983,      0.2993,      0.3003,      0.3013,      0.3023,      0.3033,      0.3043,     0.30531,     0.30631,     0.30731,     0.30831,     0.30931,     0.31031,     0.31131,\n",
              "           0.31231,     0.31331,     0.31431,     0.31532,     0.31632,     0.31732,     0.31832,     0.31932,     0.32032,     0.32132,     0.32232,     0.32332,     0.32432,     0.32533,     0.32633,     0.32733,     0.32833,     0.32933,     0.33033,     0.33133,     0.33233,     0.33333,     0.33433,     0.33534,\n",
              "           0.33634,     0.33734,     0.33834,     0.33934,     0.34034,     0.34134,     0.34234,     0.34334,     0.34434,     0.34535,     0.34635,     0.34735,     0.34835,     0.34935,     0.35035,     0.35135,     0.35235,     0.35335,     0.35435,     0.35536,     0.35636,     0.35736,     0.35836,     0.35936,\n",
              "           0.36036,     0.36136,     0.36236,     0.36336,     0.36436,     0.36537,     0.36637,     0.36737,     0.36837,     0.36937,     0.37037,     0.37137,     0.37237,     0.37337,     0.37437,     0.37538,     0.37638,     0.37738,     0.37838,     0.37938,     0.38038,     0.38138,     0.38238,     0.38338,\n",
              "           0.38438,     0.38539,     0.38639,     0.38739,     0.38839,     0.38939,     0.39039,     0.39139,     0.39239,     0.39339,     0.39439,      0.3954,      0.3964,      0.3974,      0.3984,      0.3994,      0.4004,      0.4014,      0.4024,      0.4034,      0.4044,     0.40541,     0.40641,     0.40741,\n",
              "           0.40841,     0.40941,     0.41041,     0.41141,     0.41241,     0.41341,     0.41441,     0.41542,     0.41642,     0.41742,     0.41842,     0.41942,     0.42042,     0.42142,     0.42242,     0.42342,     0.42442,     0.42543,     0.42643,     0.42743,     0.42843,     0.42943,     0.43043,     0.43143,\n",
              "           0.43243,     0.43343,     0.43443,     0.43544,     0.43644,     0.43744,     0.43844,     0.43944,     0.44044,     0.44144,     0.44244,     0.44344,     0.44444,     0.44545,     0.44645,     0.44745,     0.44845,     0.44945,     0.45045,     0.45145,     0.45245,     0.45345,     0.45445,     0.45546,\n",
              "           0.45646,     0.45746,     0.45846,     0.45946,     0.46046,     0.46146,     0.46246,     0.46346,     0.46446,     0.46547,     0.46647,     0.46747,     0.46847,     0.46947,     0.47047,     0.47147,     0.47247,     0.47347,     0.47447,     0.47548,     0.47648,     0.47748,     0.47848,     0.47948,\n",
              "           0.48048,     0.48148,     0.48248,     0.48348,     0.48448,     0.48549,     0.48649,     0.48749,     0.48849,     0.48949,     0.49049,     0.49149,     0.49249,     0.49349,     0.49449,      0.4955,      0.4965,      0.4975,      0.4985,      0.4995,      0.5005,      0.5015,      0.5025,      0.5035,\n",
              "            0.5045,     0.50551,     0.50651,     0.50751,     0.50851,     0.50951,     0.51051,     0.51151,     0.51251,     0.51351,     0.51451,     0.51552,     0.51652,     0.51752,     0.51852,     0.51952,     0.52052,     0.52152,     0.52252,     0.52352,     0.52452,     0.52553,     0.52653,     0.52753,\n",
              "           0.52853,     0.52953,     0.53053,     0.53153,     0.53253,     0.53353,     0.53453,     0.53554,     0.53654,     0.53754,     0.53854,     0.53954,     0.54054,     0.54154,     0.54254,     0.54354,     0.54454,     0.54555,     0.54655,     0.54755,     0.54855,     0.54955,     0.55055,     0.55155,\n",
              "           0.55255,     0.55355,     0.55455,     0.55556,     0.55656,     0.55756,     0.55856,     0.55956,     0.56056,     0.56156,     0.56256,     0.56356,     0.56456,     0.56557,     0.56657,     0.56757,     0.56857,     0.56957,     0.57057,     0.57157,     0.57257,     0.57357,     0.57457,     0.57558,\n",
              "           0.57658,     0.57758,     0.57858,     0.57958,     0.58058,     0.58158,     0.58258,     0.58358,     0.58458,     0.58559,     0.58659,     0.58759,     0.58859,     0.58959,     0.59059,     0.59159,     0.59259,     0.59359,     0.59459,      0.5956,      0.5966,      0.5976,      0.5986,      0.5996,\n",
              "            0.6006,      0.6016,      0.6026,      0.6036,      0.6046,     0.60561,     0.60661,     0.60761,     0.60861,     0.60961,     0.61061,     0.61161,     0.61261,     0.61361,     0.61461,     0.61562,     0.61662,     0.61762,     0.61862,     0.61962,     0.62062,     0.62162,     0.62262,     0.62362,\n",
              "           0.62462,     0.62563,     0.62663,     0.62763,     0.62863,     0.62963,     0.63063,     0.63163,     0.63263,     0.63363,     0.63463,     0.63564,     0.63664,     0.63764,     0.63864,     0.63964,     0.64064,     0.64164,     0.64264,     0.64364,     0.64464,     0.64565,     0.64665,     0.64765,\n",
              "           0.64865,     0.64965,     0.65065,     0.65165,     0.65265,     0.65365,     0.65465,     0.65566,     0.65666,     0.65766,     0.65866,     0.65966,     0.66066,     0.66166,     0.66266,     0.66366,     0.66466,     0.66567,     0.66667,     0.66767,     0.66867,     0.66967,     0.67067,     0.67167,\n",
              "           0.67267,     0.67367,     0.67467,     0.67568,     0.67668,     0.67768,     0.67868,     0.67968,     0.68068,     0.68168,     0.68268,     0.68368,     0.68468,     0.68569,     0.68669,     0.68769,     0.68869,     0.68969,     0.69069,     0.69169,     0.69269,     0.69369,     0.69469,      0.6957,\n",
              "            0.6967,      0.6977,      0.6987,      0.6997,      0.7007,      0.7017,      0.7027,      0.7037,      0.7047,     0.70571,     0.70671,     0.70771,     0.70871,     0.70971,     0.71071,     0.71171,     0.71271,     0.71371,     0.71471,     0.71572,     0.71672,     0.71772,     0.71872,     0.71972,\n",
              "           0.72072,     0.72172,     0.72272,     0.72372,     0.72472,     0.72573,     0.72673,     0.72773,     0.72873,     0.72973,     0.73073,     0.73173,     0.73273,     0.73373,     0.73473,     0.73574,     0.73674,     0.73774,     0.73874,     0.73974,     0.74074,     0.74174,     0.74274,     0.74374,\n",
              "           0.74474,     0.74575,     0.74675,     0.74775,     0.74875,     0.74975,     0.75075,     0.75175,     0.75275,     0.75375,     0.75475,     0.75576,     0.75676,     0.75776,     0.75876,     0.75976,     0.76076,     0.76176,     0.76276,     0.76376,     0.76476,     0.76577,     0.76677,     0.76777,\n",
              "           0.76877,     0.76977,     0.77077,     0.77177,     0.77277,     0.77377,     0.77477,     0.77578,     0.77678,     0.77778,     0.77878,     0.77978,     0.78078,     0.78178,     0.78278,     0.78378,     0.78478,     0.78579,     0.78679,     0.78779,     0.78879,     0.78979,     0.79079,     0.79179,\n",
              "           0.79279,     0.79379,     0.79479,      0.7958,      0.7968,      0.7978,      0.7988,      0.7998,      0.8008,      0.8018,      0.8028,      0.8038,      0.8048,     0.80581,     0.80681,     0.80781,     0.80881,     0.80981,     0.81081,     0.81181,     0.81281,     0.81381,     0.81481,     0.81582,\n",
              "           0.81682,     0.81782,     0.81882,     0.81982,     0.82082,     0.82182,     0.82282,     0.82382,     0.82482,     0.82583,     0.82683,     0.82783,     0.82883,     0.82983,     0.83083,     0.83183,     0.83283,     0.83383,     0.83483,     0.83584,     0.83684,     0.83784,     0.83884,     0.83984,\n",
              "           0.84084,     0.84184,     0.84284,     0.84384,     0.84484,     0.84585,     0.84685,     0.84785,     0.84885,     0.84985,     0.85085,     0.85185,     0.85285,     0.85385,     0.85485,     0.85586,     0.85686,     0.85786,     0.85886,     0.85986,     0.86086,     0.86186,     0.86286,     0.86386,\n",
              "           0.86486,     0.86587,     0.86687,     0.86787,     0.86887,     0.86987,     0.87087,     0.87187,     0.87287,     0.87387,     0.87487,     0.87588,     0.87688,     0.87788,     0.87888,     0.87988,     0.88088,     0.88188,     0.88288,     0.88388,     0.88488,     0.88589,     0.88689,     0.88789,\n",
              "           0.88889,     0.88989,     0.89089,     0.89189,     0.89289,     0.89389,     0.89489,      0.8959,      0.8969,      0.8979,      0.8989,      0.8999,      0.9009,      0.9019,      0.9029,      0.9039,      0.9049,     0.90591,     0.90691,     0.90791,     0.90891,     0.90991,     0.91091,     0.91191,\n",
              "           0.91291,     0.91391,     0.91491,     0.91592,     0.91692,     0.91792,     0.91892,     0.91992,     0.92092,     0.92192,     0.92292,     0.92392,     0.92492,     0.92593,     0.92693,     0.92793,     0.92893,     0.92993,     0.93093,     0.93193,     0.93293,     0.93393,     0.93493,     0.93594,\n",
              "           0.93694,     0.93794,     0.93894,     0.93994,     0.94094,     0.94194,     0.94294,     0.94394,     0.94494,     0.94595,     0.94695,     0.94795,     0.94895,     0.94995,     0.95095,     0.95195,     0.95295,     0.95395,     0.95495,     0.95596,     0.95696,     0.95796,     0.95896,     0.95996,\n",
              "           0.96096,     0.96196,     0.96296,     0.96396,     0.96496,     0.96597,     0.96697,     0.96797,     0.96897,     0.96997,     0.97097,     0.97197,     0.97297,     0.97397,     0.97497,     0.97598,     0.97698,     0.97798,     0.97898,     0.97998,     0.98098,     0.98198,     0.98298,     0.98398,\n",
              "           0.98498,     0.98599,     0.98699,     0.98799,     0.98899,     0.98999,     0.99099,     0.99199,     0.99299,     0.99399,     0.99499,       0.996,       0.997,       0.998,       0.999,           1]), array([[  0.0097826,   0.0097916,    0.037133, ...,           0,           0,           0],\n",
              "       [   0.036791,    0.036855,     0.18151, ...,           0,           0,           0]]), 'Confidence', 'F1'], [array([          0,    0.001001,    0.002002,    0.003003,    0.004004,    0.005005,    0.006006,    0.007007,    0.008008,    0.009009,     0.01001,    0.011011,    0.012012,    0.013013,    0.014014,    0.015015,    0.016016,    0.017017,    0.018018,    0.019019,     0.02002,    0.021021,    0.022022,    0.023023,\n",
              "          0.024024,    0.025025,    0.026026,    0.027027,    0.028028,    0.029029,     0.03003,    0.031031,    0.032032,    0.033033,    0.034034,    0.035035,    0.036036,    0.037037,    0.038038,    0.039039,     0.04004,    0.041041,    0.042042,    0.043043,    0.044044,    0.045045,    0.046046,    0.047047,\n",
              "          0.048048,    0.049049,     0.05005,    0.051051,    0.052052,    0.053053,    0.054054,    0.055055,    0.056056,    0.057057,    0.058058,    0.059059,     0.06006,    0.061061,    0.062062,    0.063063,    0.064064,    0.065065,    0.066066,    0.067067,    0.068068,    0.069069,     0.07007,    0.071071,\n",
              "          0.072072,    0.073073,    0.074074,    0.075075,    0.076076,    0.077077,    0.078078,    0.079079,     0.08008,    0.081081,    0.082082,    0.083083,    0.084084,    0.085085,    0.086086,    0.087087,    0.088088,    0.089089,     0.09009,    0.091091,    0.092092,    0.093093,    0.094094,    0.095095,\n",
              "          0.096096,    0.097097,    0.098098,    0.099099,      0.1001,      0.1011,      0.1021,      0.1031,      0.1041,     0.10511,     0.10611,     0.10711,     0.10811,     0.10911,     0.11011,     0.11111,     0.11211,     0.11311,     0.11411,     0.11512,     0.11612,     0.11712,     0.11812,     0.11912,\n",
              "           0.12012,     0.12112,     0.12212,     0.12312,     0.12412,     0.12513,     0.12613,     0.12713,     0.12813,     0.12913,     0.13013,     0.13113,     0.13213,     0.13313,     0.13413,     0.13514,     0.13614,     0.13714,     0.13814,     0.13914,     0.14014,     0.14114,     0.14214,     0.14314,\n",
              "           0.14414,     0.14515,     0.14615,     0.14715,     0.14815,     0.14915,     0.15015,     0.15115,     0.15215,     0.15315,     0.15415,     0.15516,     0.15616,     0.15716,     0.15816,     0.15916,     0.16016,     0.16116,     0.16216,     0.16316,     0.16416,     0.16517,     0.16617,     0.16717,\n",
              "           0.16817,     0.16917,     0.17017,     0.17117,     0.17217,     0.17317,     0.17417,     0.17518,     0.17618,     0.17718,     0.17818,     0.17918,     0.18018,     0.18118,     0.18218,     0.18318,     0.18418,     0.18519,     0.18619,     0.18719,     0.18819,     0.18919,     0.19019,     0.19119,\n",
              "           0.19219,     0.19319,     0.19419,      0.1952,      0.1962,      0.1972,      0.1982,      0.1992,      0.2002,      0.2012,      0.2022,      0.2032,      0.2042,     0.20521,     0.20621,     0.20721,     0.20821,     0.20921,     0.21021,     0.21121,     0.21221,     0.21321,     0.21421,     0.21522,\n",
              "           0.21622,     0.21722,     0.21822,     0.21922,     0.22022,     0.22122,     0.22222,     0.22322,     0.22422,     0.22523,     0.22623,     0.22723,     0.22823,     0.22923,     0.23023,     0.23123,     0.23223,     0.23323,     0.23423,     0.23524,     0.23624,     0.23724,     0.23824,     0.23924,\n",
              "           0.24024,     0.24124,     0.24224,     0.24324,     0.24424,     0.24525,     0.24625,     0.24725,     0.24825,     0.24925,     0.25025,     0.25125,     0.25225,     0.25325,     0.25425,     0.25526,     0.25626,     0.25726,     0.25826,     0.25926,     0.26026,     0.26126,     0.26226,     0.26326,\n",
              "           0.26426,     0.26527,     0.26627,     0.26727,     0.26827,     0.26927,     0.27027,     0.27127,     0.27227,     0.27327,     0.27427,     0.27528,     0.27628,     0.27728,     0.27828,     0.27928,     0.28028,     0.28128,     0.28228,     0.28328,     0.28428,     0.28529,     0.28629,     0.28729,\n",
              "           0.28829,     0.28929,     0.29029,     0.29129,     0.29229,     0.29329,     0.29429,      0.2953,      0.2963,      0.2973,      0.2983,      0.2993,      0.3003,      0.3013,      0.3023,      0.3033,      0.3043,     0.30531,     0.30631,     0.30731,     0.30831,     0.30931,     0.31031,     0.31131,\n",
              "           0.31231,     0.31331,     0.31431,     0.31532,     0.31632,     0.31732,     0.31832,     0.31932,     0.32032,     0.32132,     0.32232,     0.32332,     0.32432,     0.32533,     0.32633,     0.32733,     0.32833,     0.32933,     0.33033,     0.33133,     0.33233,     0.33333,     0.33433,     0.33534,\n",
              "           0.33634,     0.33734,     0.33834,     0.33934,     0.34034,     0.34134,     0.34234,     0.34334,     0.34434,     0.34535,     0.34635,     0.34735,     0.34835,     0.34935,     0.35035,     0.35135,     0.35235,     0.35335,     0.35435,     0.35536,     0.35636,     0.35736,     0.35836,     0.35936,\n",
              "           0.36036,     0.36136,     0.36236,     0.36336,     0.36436,     0.36537,     0.36637,     0.36737,     0.36837,     0.36937,     0.37037,     0.37137,     0.37237,     0.37337,     0.37437,     0.37538,     0.37638,     0.37738,     0.37838,     0.37938,     0.38038,     0.38138,     0.38238,     0.38338,\n",
              "           0.38438,     0.38539,     0.38639,     0.38739,     0.38839,     0.38939,     0.39039,     0.39139,     0.39239,     0.39339,     0.39439,      0.3954,      0.3964,      0.3974,      0.3984,      0.3994,      0.4004,      0.4014,      0.4024,      0.4034,      0.4044,     0.40541,     0.40641,     0.40741,\n",
              "           0.40841,     0.40941,     0.41041,     0.41141,     0.41241,     0.41341,     0.41441,     0.41542,     0.41642,     0.41742,     0.41842,     0.41942,     0.42042,     0.42142,     0.42242,     0.42342,     0.42442,     0.42543,     0.42643,     0.42743,     0.42843,     0.42943,     0.43043,     0.43143,\n",
              "           0.43243,     0.43343,     0.43443,     0.43544,     0.43644,     0.43744,     0.43844,     0.43944,     0.44044,     0.44144,     0.44244,     0.44344,     0.44444,     0.44545,     0.44645,     0.44745,     0.44845,     0.44945,     0.45045,     0.45145,     0.45245,     0.45345,     0.45445,     0.45546,\n",
              "           0.45646,     0.45746,     0.45846,     0.45946,     0.46046,     0.46146,     0.46246,     0.46346,     0.46446,     0.46547,     0.46647,     0.46747,     0.46847,     0.46947,     0.47047,     0.47147,     0.47247,     0.47347,     0.47447,     0.47548,     0.47648,     0.47748,     0.47848,     0.47948,\n",
              "           0.48048,     0.48148,     0.48248,     0.48348,     0.48448,     0.48549,     0.48649,     0.48749,     0.48849,     0.48949,     0.49049,     0.49149,     0.49249,     0.49349,     0.49449,      0.4955,      0.4965,      0.4975,      0.4985,      0.4995,      0.5005,      0.5015,      0.5025,      0.5035,\n",
              "            0.5045,     0.50551,     0.50651,     0.50751,     0.50851,     0.50951,     0.51051,     0.51151,     0.51251,     0.51351,     0.51451,     0.51552,     0.51652,     0.51752,     0.51852,     0.51952,     0.52052,     0.52152,     0.52252,     0.52352,     0.52452,     0.52553,     0.52653,     0.52753,\n",
              "           0.52853,     0.52953,     0.53053,     0.53153,     0.53253,     0.53353,     0.53453,     0.53554,     0.53654,     0.53754,     0.53854,     0.53954,     0.54054,     0.54154,     0.54254,     0.54354,     0.54454,     0.54555,     0.54655,     0.54755,     0.54855,     0.54955,     0.55055,     0.55155,\n",
              "           0.55255,     0.55355,     0.55455,     0.55556,     0.55656,     0.55756,     0.55856,     0.55956,     0.56056,     0.56156,     0.56256,     0.56356,     0.56456,     0.56557,     0.56657,     0.56757,     0.56857,     0.56957,     0.57057,     0.57157,     0.57257,     0.57357,     0.57457,     0.57558,\n",
              "           0.57658,     0.57758,     0.57858,     0.57958,     0.58058,     0.58158,     0.58258,     0.58358,     0.58458,     0.58559,     0.58659,     0.58759,     0.58859,     0.58959,     0.59059,     0.59159,     0.59259,     0.59359,     0.59459,      0.5956,      0.5966,      0.5976,      0.5986,      0.5996,\n",
              "            0.6006,      0.6016,      0.6026,      0.6036,      0.6046,     0.60561,     0.60661,     0.60761,     0.60861,     0.60961,     0.61061,     0.61161,     0.61261,     0.61361,     0.61461,     0.61562,     0.61662,     0.61762,     0.61862,     0.61962,     0.62062,     0.62162,     0.62262,     0.62362,\n",
              "           0.62462,     0.62563,     0.62663,     0.62763,     0.62863,     0.62963,     0.63063,     0.63163,     0.63263,     0.63363,     0.63463,     0.63564,     0.63664,     0.63764,     0.63864,     0.63964,     0.64064,     0.64164,     0.64264,     0.64364,     0.64464,     0.64565,     0.64665,     0.64765,\n",
              "           0.64865,     0.64965,     0.65065,     0.65165,     0.65265,     0.65365,     0.65465,     0.65566,     0.65666,     0.65766,     0.65866,     0.65966,     0.66066,     0.66166,     0.66266,     0.66366,     0.66466,     0.66567,     0.66667,     0.66767,     0.66867,     0.66967,     0.67067,     0.67167,\n",
              "           0.67267,     0.67367,     0.67467,     0.67568,     0.67668,     0.67768,     0.67868,     0.67968,     0.68068,     0.68168,     0.68268,     0.68368,     0.68468,     0.68569,     0.68669,     0.68769,     0.68869,     0.68969,     0.69069,     0.69169,     0.69269,     0.69369,     0.69469,      0.6957,\n",
              "            0.6967,      0.6977,      0.6987,      0.6997,      0.7007,      0.7017,      0.7027,      0.7037,      0.7047,     0.70571,     0.70671,     0.70771,     0.70871,     0.70971,     0.71071,     0.71171,     0.71271,     0.71371,     0.71471,     0.71572,     0.71672,     0.71772,     0.71872,     0.71972,\n",
              "           0.72072,     0.72172,     0.72272,     0.72372,     0.72472,     0.72573,     0.72673,     0.72773,     0.72873,     0.72973,     0.73073,     0.73173,     0.73273,     0.73373,     0.73473,     0.73574,     0.73674,     0.73774,     0.73874,     0.73974,     0.74074,     0.74174,     0.74274,     0.74374,\n",
              "           0.74474,     0.74575,     0.74675,     0.74775,     0.74875,     0.74975,     0.75075,     0.75175,     0.75275,     0.75375,     0.75475,     0.75576,     0.75676,     0.75776,     0.75876,     0.75976,     0.76076,     0.76176,     0.76276,     0.76376,     0.76476,     0.76577,     0.76677,     0.76777,\n",
              "           0.76877,     0.76977,     0.77077,     0.77177,     0.77277,     0.77377,     0.77477,     0.77578,     0.77678,     0.77778,     0.77878,     0.77978,     0.78078,     0.78178,     0.78278,     0.78378,     0.78478,     0.78579,     0.78679,     0.78779,     0.78879,     0.78979,     0.79079,     0.79179,\n",
              "           0.79279,     0.79379,     0.79479,      0.7958,      0.7968,      0.7978,      0.7988,      0.7998,      0.8008,      0.8018,      0.8028,      0.8038,      0.8048,     0.80581,     0.80681,     0.80781,     0.80881,     0.80981,     0.81081,     0.81181,     0.81281,     0.81381,     0.81481,     0.81582,\n",
              "           0.81682,     0.81782,     0.81882,     0.81982,     0.82082,     0.82182,     0.82282,     0.82382,     0.82482,     0.82583,     0.82683,     0.82783,     0.82883,     0.82983,     0.83083,     0.83183,     0.83283,     0.83383,     0.83483,     0.83584,     0.83684,     0.83784,     0.83884,     0.83984,\n",
              "           0.84084,     0.84184,     0.84284,     0.84384,     0.84484,     0.84585,     0.84685,     0.84785,     0.84885,     0.84985,     0.85085,     0.85185,     0.85285,     0.85385,     0.85485,     0.85586,     0.85686,     0.85786,     0.85886,     0.85986,     0.86086,     0.86186,     0.86286,     0.86386,\n",
              "           0.86486,     0.86587,     0.86687,     0.86787,     0.86887,     0.86987,     0.87087,     0.87187,     0.87287,     0.87387,     0.87487,     0.87588,     0.87688,     0.87788,     0.87888,     0.87988,     0.88088,     0.88188,     0.88288,     0.88388,     0.88488,     0.88589,     0.88689,     0.88789,\n",
              "           0.88889,     0.88989,     0.89089,     0.89189,     0.89289,     0.89389,     0.89489,      0.8959,      0.8969,      0.8979,      0.8989,      0.8999,      0.9009,      0.9019,      0.9029,      0.9039,      0.9049,     0.90591,     0.90691,     0.90791,     0.90891,     0.90991,     0.91091,     0.91191,\n",
              "           0.91291,     0.91391,     0.91491,     0.91592,     0.91692,     0.91792,     0.91892,     0.91992,     0.92092,     0.92192,     0.92292,     0.92392,     0.92492,     0.92593,     0.92693,     0.92793,     0.92893,     0.92993,     0.93093,     0.93193,     0.93293,     0.93393,     0.93493,     0.93594,\n",
              "           0.93694,     0.93794,     0.93894,     0.93994,     0.94094,     0.94194,     0.94294,     0.94394,     0.94494,     0.94595,     0.94695,     0.94795,     0.94895,     0.94995,     0.95095,     0.95195,     0.95295,     0.95395,     0.95495,     0.95596,     0.95696,     0.95796,     0.95896,     0.95996,\n",
              "           0.96096,     0.96196,     0.96296,     0.96396,     0.96496,     0.96597,     0.96697,     0.96797,     0.96897,     0.96997,     0.97097,     0.97197,     0.97297,     0.97397,     0.97497,     0.97598,     0.97698,     0.97798,     0.97898,     0.97998,     0.98098,     0.98198,     0.98298,     0.98398,\n",
              "           0.98498,     0.98599,     0.98699,     0.98799,     0.98899,     0.98999,     0.99099,     0.99199,     0.99299,     0.99399,     0.99499,       0.996,       0.997,       0.998,       0.999,           1]), array([[  0.0049153,   0.0049199,    0.018918, ...,           1,           1,           1],\n",
              "       [    0.01874,    0.018774,    0.099815, ...,           1,           1,           1]]), 'Confidence', 'Precision'], [array([          0,    0.001001,    0.002002,    0.003003,    0.004004,    0.005005,    0.006006,    0.007007,    0.008008,    0.009009,     0.01001,    0.011011,    0.012012,    0.013013,    0.014014,    0.015015,    0.016016,    0.017017,    0.018018,    0.019019,     0.02002,    0.021021,    0.022022,    0.023023,\n",
              "          0.024024,    0.025025,    0.026026,    0.027027,    0.028028,    0.029029,     0.03003,    0.031031,    0.032032,    0.033033,    0.034034,    0.035035,    0.036036,    0.037037,    0.038038,    0.039039,     0.04004,    0.041041,    0.042042,    0.043043,    0.044044,    0.045045,    0.046046,    0.047047,\n",
              "          0.048048,    0.049049,     0.05005,    0.051051,    0.052052,    0.053053,    0.054054,    0.055055,    0.056056,    0.057057,    0.058058,    0.059059,     0.06006,    0.061061,    0.062062,    0.063063,    0.064064,    0.065065,    0.066066,    0.067067,    0.068068,    0.069069,     0.07007,    0.071071,\n",
              "          0.072072,    0.073073,    0.074074,    0.075075,    0.076076,    0.077077,    0.078078,    0.079079,     0.08008,    0.081081,    0.082082,    0.083083,    0.084084,    0.085085,    0.086086,    0.087087,    0.088088,    0.089089,     0.09009,    0.091091,    0.092092,    0.093093,    0.094094,    0.095095,\n",
              "          0.096096,    0.097097,    0.098098,    0.099099,      0.1001,      0.1011,      0.1021,      0.1031,      0.1041,     0.10511,     0.10611,     0.10711,     0.10811,     0.10911,     0.11011,     0.11111,     0.11211,     0.11311,     0.11411,     0.11512,     0.11612,     0.11712,     0.11812,     0.11912,\n",
              "           0.12012,     0.12112,     0.12212,     0.12312,     0.12412,     0.12513,     0.12613,     0.12713,     0.12813,     0.12913,     0.13013,     0.13113,     0.13213,     0.13313,     0.13413,     0.13514,     0.13614,     0.13714,     0.13814,     0.13914,     0.14014,     0.14114,     0.14214,     0.14314,\n",
              "           0.14414,     0.14515,     0.14615,     0.14715,     0.14815,     0.14915,     0.15015,     0.15115,     0.15215,     0.15315,     0.15415,     0.15516,     0.15616,     0.15716,     0.15816,     0.15916,     0.16016,     0.16116,     0.16216,     0.16316,     0.16416,     0.16517,     0.16617,     0.16717,\n",
              "           0.16817,     0.16917,     0.17017,     0.17117,     0.17217,     0.17317,     0.17417,     0.17518,     0.17618,     0.17718,     0.17818,     0.17918,     0.18018,     0.18118,     0.18218,     0.18318,     0.18418,     0.18519,     0.18619,     0.18719,     0.18819,     0.18919,     0.19019,     0.19119,\n",
              "           0.19219,     0.19319,     0.19419,      0.1952,      0.1962,      0.1972,      0.1982,      0.1992,      0.2002,      0.2012,      0.2022,      0.2032,      0.2042,     0.20521,     0.20621,     0.20721,     0.20821,     0.20921,     0.21021,     0.21121,     0.21221,     0.21321,     0.21421,     0.21522,\n",
              "           0.21622,     0.21722,     0.21822,     0.21922,     0.22022,     0.22122,     0.22222,     0.22322,     0.22422,     0.22523,     0.22623,     0.22723,     0.22823,     0.22923,     0.23023,     0.23123,     0.23223,     0.23323,     0.23423,     0.23524,     0.23624,     0.23724,     0.23824,     0.23924,\n",
              "           0.24024,     0.24124,     0.24224,     0.24324,     0.24424,     0.24525,     0.24625,     0.24725,     0.24825,     0.24925,     0.25025,     0.25125,     0.25225,     0.25325,     0.25425,     0.25526,     0.25626,     0.25726,     0.25826,     0.25926,     0.26026,     0.26126,     0.26226,     0.26326,\n",
              "           0.26426,     0.26527,     0.26627,     0.26727,     0.26827,     0.26927,     0.27027,     0.27127,     0.27227,     0.27327,     0.27427,     0.27528,     0.27628,     0.27728,     0.27828,     0.27928,     0.28028,     0.28128,     0.28228,     0.28328,     0.28428,     0.28529,     0.28629,     0.28729,\n",
              "           0.28829,     0.28929,     0.29029,     0.29129,     0.29229,     0.29329,     0.29429,      0.2953,      0.2963,      0.2973,      0.2983,      0.2993,      0.3003,      0.3013,      0.3023,      0.3033,      0.3043,     0.30531,     0.30631,     0.30731,     0.30831,     0.30931,     0.31031,     0.31131,\n",
              "           0.31231,     0.31331,     0.31431,     0.31532,     0.31632,     0.31732,     0.31832,     0.31932,     0.32032,     0.32132,     0.32232,     0.32332,     0.32432,     0.32533,     0.32633,     0.32733,     0.32833,     0.32933,     0.33033,     0.33133,     0.33233,     0.33333,     0.33433,     0.33534,\n",
              "           0.33634,     0.33734,     0.33834,     0.33934,     0.34034,     0.34134,     0.34234,     0.34334,     0.34434,     0.34535,     0.34635,     0.34735,     0.34835,     0.34935,     0.35035,     0.35135,     0.35235,     0.35335,     0.35435,     0.35536,     0.35636,     0.35736,     0.35836,     0.35936,\n",
              "           0.36036,     0.36136,     0.36236,     0.36336,     0.36436,     0.36537,     0.36637,     0.36737,     0.36837,     0.36937,     0.37037,     0.37137,     0.37237,     0.37337,     0.37437,     0.37538,     0.37638,     0.37738,     0.37838,     0.37938,     0.38038,     0.38138,     0.38238,     0.38338,\n",
              "           0.38438,     0.38539,     0.38639,     0.38739,     0.38839,     0.38939,     0.39039,     0.39139,     0.39239,     0.39339,     0.39439,      0.3954,      0.3964,      0.3974,      0.3984,      0.3994,      0.4004,      0.4014,      0.4024,      0.4034,      0.4044,     0.40541,     0.40641,     0.40741,\n",
              "           0.40841,     0.40941,     0.41041,     0.41141,     0.41241,     0.41341,     0.41441,     0.41542,     0.41642,     0.41742,     0.41842,     0.41942,     0.42042,     0.42142,     0.42242,     0.42342,     0.42442,     0.42543,     0.42643,     0.42743,     0.42843,     0.42943,     0.43043,     0.43143,\n",
              "           0.43243,     0.43343,     0.43443,     0.43544,     0.43644,     0.43744,     0.43844,     0.43944,     0.44044,     0.44144,     0.44244,     0.44344,     0.44444,     0.44545,     0.44645,     0.44745,     0.44845,     0.44945,     0.45045,     0.45145,     0.45245,     0.45345,     0.45445,     0.45546,\n",
              "           0.45646,     0.45746,     0.45846,     0.45946,     0.46046,     0.46146,     0.46246,     0.46346,     0.46446,     0.46547,     0.46647,     0.46747,     0.46847,     0.46947,     0.47047,     0.47147,     0.47247,     0.47347,     0.47447,     0.47548,     0.47648,     0.47748,     0.47848,     0.47948,\n",
              "           0.48048,     0.48148,     0.48248,     0.48348,     0.48448,     0.48549,     0.48649,     0.48749,     0.48849,     0.48949,     0.49049,     0.49149,     0.49249,     0.49349,     0.49449,      0.4955,      0.4965,      0.4975,      0.4985,      0.4995,      0.5005,      0.5015,      0.5025,      0.5035,\n",
              "            0.5045,     0.50551,     0.50651,     0.50751,     0.50851,     0.50951,     0.51051,     0.51151,     0.51251,     0.51351,     0.51451,     0.51552,     0.51652,     0.51752,     0.51852,     0.51952,     0.52052,     0.52152,     0.52252,     0.52352,     0.52452,     0.52553,     0.52653,     0.52753,\n",
              "           0.52853,     0.52953,     0.53053,     0.53153,     0.53253,     0.53353,     0.53453,     0.53554,     0.53654,     0.53754,     0.53854,     0.53954,     0.54054,     0.54154,     0.54254,     0.54354,     0.54454,     0.54555,     0.54655,     0.54755,     0.54855,     0.54955,     0.55055,     0.55155,\n",
              "           0.55255,     0.55355,     0.55455,     0.55556,     0.55656,     0.55756,     0.55856,     0.55956,     0.56056,     0.56156,     0.56256,     0.56356,     0.56456,     0.56557,     0.56657,     0.56757,     0.56857,     0.56957,     0.57057,     0.57157,     0.57257,     0.57357,     0.57457,     0.57558,\n",
              "           0.57658,     0.57758,     0.57858,     0.57958,     0.58058,     0.58158,     0.58258,     0.58358,     0.58458,     0.58559,     0.58659,     0.58759,     0.58859,     0.58959,     0.59059,     0.59159,     0.59259,     0.59359,     0.59459,      0.5956,      0.5966,      0.5976,      0.5986,      0.5996,\n",
              "            0.6006,      0.6016,      0.6026,      0.6036,      0.6046,     0.60561,     0.60661,     0.60761,     0.60861,     0.60961,     0.61061,     0.61161,     0.61261,     0.61361,     0.61461,     0.61562,     0.61662,     0.61762,     0.61862,     0.61962,     0.62062,     0.62162,     0.62262,     0.62362,\n",
              "           0.62462,     0.62563,     0.62663,     0.62763,     0.62863,     0.62963,     0.63063,     0.63163,     0.63263,     0.63363,     0.63463,     0.63564,     0.63664,     0.63764,     0.63864,     0.63964,     0.64064,     0.64164,     0.64264,     0.64364,     0.64464,     0.64565,     0.64665,     0.64765,\n",
              "           0.64865,     0.64965,     0.65065,     0.65165,     0.65265,     0.65365,     0.65465,     0.65566,     0.65666,     0.65766,     0.65866,     0.65966,     0.66066,     0.66166,     0.66266,     0.66366,     0.66466,     0.66567,     0.66667,     0.66767,     0.66867,     0.66967,     0.67067,     0.67167,\n",
              "           0.67267,     0.67367,     0.67467,     0.67568,     0.67668,     0.67768,     0.67868,     0.67968,     0.68068,     0.68168,     0.68268,     0.68368,     0.68468,     0.68569,     0.68669,     0.68769,     0.68869,     0.68969,     0.69069,     0.69169,     0.69269,     0.69369,     0.69469,      0.6957,\n",
              "            0.6967,      0.6977,      0.6987,      0.6997,      0.7007,      0.7017,      0.7027,      0.7037,      0.7047,     0.70571,     0.70671,     0.70771,     0.70871,     0.70971,     0.71071,     0.71171,     0.71271,     0.71371,     0.71471,     0.71572,     0.71672,     0.71772,     0.71872,     0.71972,\n",
              "           0.72072,     0.72172,     0.72272,     0.72372,     0.72472,     0.72573,     0.72673,     0.72773,     0.72873,     0.72973,     0.73073,     0.73173,     0.73273,     0.73373,     0.73473,     0.73574,     0.73674,     0.73774,     0.73874,     0.73974,     0.74074,     0.74174,     0.74274,     0.74374,\n",
              "           0.74474,     0.74575,     0.74675,     0.74775,     0.74875,     0.74975,     0.75075,     0.75175,     0.75275,     0.75375,     0.75475,     0.75576,     0.75676,     0.75776,     0.75876,     0.75976,     0.76076,     0.76176,     0.76276,     0.76376,     0.76476,     0.76577,     0.76677,     0.76777,\n",
              "           0.76877,     0.76977,     0.77077,     0.77177,     0.77277,     0.77377,     0.77477,     0.77578,     0.77678,     0.77778,     0.77878,     0.77978,     0.78078,     0.78178,     0.78278,     0.78378,     0.78478,     0.78579,     0.78679,     0.78779,     0.78879,     0.78979,     0.79079,     0.79179,\n",
              "           0.79279,     0.79379,     0.79479,      0.7958,      0.7968,      0.7978,      0.7988,      0.7998,      0.8008,      0.8018,      0.8028,      0.8038,      0.8048,     0.80581,     0.80681,     0.80781,     0.80881,     0.80981,     0.81081,     0.81181,     0.81281,     0.81381,     0.81481,     0.81582,\n",
              "           0.81682,     0.81782,     0.81882,     0.81982,     0.82082,     0.82182,     0.82282,     0.82382,     0.82482,     0.82583,     0.82683,     0.82783,     0.82883,     0.82983,     0.83083,     0.83183,     0.83283,     0.83383,     0.83483,     0.83584,     0.83684,     0.83784,     0.83884,     0.83984,\n",
              "           0.84084,     0.84184,     0.84284,     0.84384,     0.84484,     0.84585,     0.84685,     0.84785,     0.84885,     0.84985,     0.85085,     0.85185,     0.85285,     0.85385,     0.85485,     0.85586,     0.85686,     0.85786,     0.85886,     0.85986,     0.86086,     0.86186,     0.86286,     0.86386,\n",
              "           0.86486,     0.86587,     0.86687,     0.86787,     0.86887,     0.86987,     0.87087,     0.87187,     0.87287,     0.87387,     0.87487,     0.87588,     0.87688,     0.87788,     0.87888,     0.87988,     0.88088,     0.88188,     0.88288,     0.88388,     0.88488,     0.88589,     0.88689,     0.88789,\n",
              "           0.88889,     0.88989,     0.89089,     0.89189,     0.89289,     0.89389,     0.89489,      0.8959,      0.8969,      0.8979,      0.8989,      0.8999,      0.9009,      0.9019,      0.9029,      0.9039,      0.9049,     0.90591,     0.90691,     0.90791,     0.90891,     0.90991,     0.91091,     0.91191,\n",
              "           0.91291,     0.91391,     0.91491,     0.91592,     0.91692,     0.91792,     0.91892,     0.91992,     0.92092,     0.92192,     0.92292,     0.92392,     0.92492,     0.92593,     0.92693,     0.92793,     0.92893,     0.92993,     0.93093,     0.93193,     0.93293,     0.93393,     0.93493,     0.93594,\n",
              "           0.93694,     0.93794,     0.93894,     0.93994,     0.94094,     0.94194,     0.94294,     0.94394,     0.94494,     0.94595,     0.94695,     0.94795,     0.94895,     0.94995,     0.95095,     0.95195,     0.95295,     0.95395,     0.95495,     0.95596,     0.95696,     0.95796,     0.95896,     0.95996,\n",
              "           0.96096,     0.96196,     0.96296,     0.96396,     0.96496,     0.96597,     0.96697,     0.96797,     0.96897,     0.96997,     0.97097,     0.97197,     0.97297,     0.97397,     0.97497,     0.97598,     0.97698,     0.97798,     0.97898,     0.97998,     0.98098,     0.98198,     0.98298,     0.98398,\n",
              "           0.98498,     0.98599,     0.98699,     0.98799,     0.98899,     0.98999,     0.99099,     0.99199,     0.99299,     0.99399,     0.99499,       0.996,       0.997,       0.998,       0.999,           1]), array([[          1,           1,           1, ...,           0,           0,           0],\n",
              "       [          1,           1,           1, ...,           0,           0,           0]]), 'Confidence', 'Recall']]\n",
              "fitness: 0.7739013105376995\n",
              "keys: ['metrics/precision(B)', 'metrics/recall(B)', 'metrics/mAP50(B)', 'metrics/mAP50-95(B)']\n",
              "maps: array([    0.69559,     0.80679])\n",
              "names: {0: 'license_plate', 1: 'car'}\n",
              "plot: True\n",
              "results_dict: {'metrics/precision(B)': 0.9233573799453345, 'metrics/recall(B)': 0.9439626358767128, 'metrics/mAP50(B)': 0.978290215231497, 'metrics/mAP50-95(B)': 0.7511914322383886, 'fitness': 0.7739013105376995}\n",
              "save_dir: PosixPath('runs/detect/train')\n",
              "speed: {'preprocess': 2.663526270124647, 'inference': 788.56137726042, 'loss': 0.00019205941094292534, 'postprocess': 1.0566049151950414}\n",
              "task: 'detect'"
            ]
          },
          "metadata": {},
          "execution_count": 6
        }
      ]
    },
    {
      "cell_type": "code",
      "source": [
        "metrics = model.val(data='/content/data.yaml')\n"
      ],
      "metadata": {
        "colab": {
          "base_uri": "https://localhost:8080/"
        },
        "id": "HVkZ2kFC9050",
        "outputId": "9183158c-874f-445f-e2b8-abc96163f7e0"
      },
      "execution_count": null,
      "outputs": [
        {
          "output_type": "stream",
          "name": "stdout",
          "text": [
            "Ultralytics 8.3.50 🚀 Python-3.10.12 torch-2.5.1+cu121 CPU (Intel Xeon 2.20GHz)\n",
            "Model summary (fused): 168 layers, 11,126,358 parameters, 0 gradients, 28.4 GFLOPs\n"
          ]
        },
        {
          "output_type": "stream",
          "name": "stderr",
          "text": [
            "\u001b[34m\u001b[1mval: \u001b[0mScanning /content/dataset/labels/val.cache... 36 images, 0 backgrounds, 0 corrupt: 100%|██████████| 36/36 [00:00<?, ?it/s]\n",
            "                 Class     Images  Instances      Box(P          R      mAP50  mAP50-95): 100%|██████████| 3/3 [00:27<00:00,  9.06s/it]\n"
          ]
        },
        {
          "output_type": "stream",
          "name": "stdout",
          "text": [
            "                   all         36         72      0.923      0.944      0.978      0.751\n",
            "         license_plate         36         36      0.914      0.888      0.962      0.696\n",
            "                   car         36         36      0.933          1      0.995      0.807\n",
            "Speed: 4.9ms preprocess, 734.7ms inference, 0.0ms loss, 1.3ms postprocess per image\n",
            "Results saved to \u001b[1mruns/detect/train2\u001b[0m\n"
          ]
        }
      ]
    },
    {
      "cell_type": "code",
      "source": [
        "results = model.predict(source='/content/dataset/images/test', save=True)"
      ],
      "metadata": {
        "colab": {
          "base_uri": "https://localhost:8080/"
        },
        "id": "G8BBbuAUJ1M_",
        "outputId": "6deb38bf-6e4d-4638-dba2-acea306501c3"
      },
      "execution_count": null,
      "outputs": [
        {
          "output_type": "stream",
          "name": "stdout",
          "text": [
            "\n",
            "image 1/18 /content/dataset/images/test/photo100.jpg: 640x640 2 license_plates, 1 car, 1092.9ms\n",
            "image 2/18 /content/dataset/images/test/photo107.jpg: 640x640 1 license_plate, 1 car, 763.3ms\n",
            "image 3/18 /content/dataset/images/test/photo112.jpg: 640x640 1 license_plate, 2 cars, 625.7ms\n",
            "image 4/18 /content/dataset/images/test/photo120.jpg: 640x640 1 license_plate, 1 car, 640.0ms\n",
            "image 5/18 /content/dataset/images/test/photo15.jpg: 640x640 2 license_plates, 1 car, 621.5ms\n",
            "image 6/18 /content/dataset/images/test/photo153.jpg: 640x640 1 license_plate, 1 car, 632.2ms\n",
            "image 7/18 /content/dataset/images/test/photo158.jpg: 640x640 1 license_plate, 3 cars, 626.0ms\n",
            "image 8/18 /content/dataset/images/test/photo159.jpg: 640x640 1 license_plate, 2 cars, 623.1ms\n",
            "image 9/18 /content/dataset/images/test/photo161.jpg: 640x640 3 cars, 608.6ms\n",
            "image 10/18 /content/dataset/images/test/photo17.jpg: 640x640 1 license_plate, 1 car, 623.3ms\n",
            "image 11/18 /content/dataset/images/test/photo39.jpg: 640x640 1 license_plate, 1 car, 608.4ms\n",
            "image 12/18 /content/dataset/images/test/photo40.jpg: 640x640 1 license_plate, 1 car, 633.8ms\n",
            "image 13/18 /content/dataset/images/test/photo5.jpg: 640x640 1 license_plate, 1 car, 620.0ms\n",
            "image 14/18 /content/dataset/images/test/photo63.jpg: 640x640 1 license_plate, 1 car, 605.5ms\n",
            "image 15/18 /content/dataset/images/test/photo65.jpg: 640x640 1 license_plate, 1 car, 622.9ms\n",
            "image 16/18 /content/dataset/images/test/photo68.jpg: 640x640 2 license_plates, 1 car, 594.9ms\n",
            "image 17/18 /content/dataset/images/test/photo82.jpg: 640x640 1 license_plate, 1 car, 608.5ms\n",
            "image 18/18 /content/dataset/images/test/photo9.jpg: 640x640 1 license_plate, 2 cars, 951.1ms\n",
            "Speed: 3.7ms preprocess, 672.3ms inference, 1.5ms postprocess per image at shape (1, 3, 640, 640)\n",
            "Results saved to \u001b[1mruns/detect/train3\u001b[0m\n"
          ]
        }
      ]
    },
    {
      "cell_type": "code",
      "source": [
        "!cp /content/runs/detect/train/weights/best.pt /content/drive/MyDrive/best.pt\n"
      ],
      "metadata": {
        "id": "09mHokpwJ4YA"
      },
      "execution_count": null,
      "outputs": []
    },
    {
      "cell_type": "code",
      "source": [
        "!cp /content/drive/MyDrive/best.pt ./best.pt\n"
      ],
      "metadata": {
        "id": "ymeMKGI0QT_s"
      },
      "execution_count": null,
      "outputs": []
    },
    {
      "cell_type": "code",
      "source": [
        "from ultralytics import YOLO\n",
        "\n",
        "# Load the trained model\n",
        "model = YOLO('best.pt')  # Replace 'best.pt' with your actual weights path\n",
        "\n",
        "# Run inference on your test image\n",
        "results = model.predict(source='/content/test2.jpg', save=True, conf=0.25)\n",
        "\n",
        "# Get the directory where results are saved\n",
        "print(\"Results saved to:\", model.predictor.save_dir)\n"
      ],
      "metadata": {
        "colab": {
          "base_uri": "https://localhost:8080/"
        },
        "id": "Hdevkuw6QUC7",
        "outputId": "56f9a29c-19e2-4921-c197-9948004c66a1"
      },
      "execution_count": null,
      "outputs": [
        {
          "output_type": "stream",
          "name": "stdout",
          "text": [
            "\n",
            "image 1/1 /content/test2.jpg: 640x640 1 license_plate, 1 car, 816.6ms\n",
            "Speed: 13.9ms preprocess, 816.6ms inference, 39.1ms postprocess per image at shape (1, 3, 640, 640)\n",
            "Results saved to \u001b[1mruns/detect/predict\u001b[0m\n",
            "Results saved to: runs/detect/predict\n"
          ]
        }
      ]
    },
    {
      "cell_type": "markdown",
      "source": [
        "\n",
        "OCR\n",
        "```\n",
        "```\n",
        "\n"
      ],
      "metadata": {
        "id": "kWQD2Xmvgk9L"
      }
    },
    {
      "cell_type": "code",
      "source": [
        "!unzip labels_my-project-name_2024-12-17-09-23-06.zip -d labels/"
      ],
      "metadata": {
        "colab": {
          "base_uri": "https://localhost:8080/"
        },
        "id": "GbTIWdZahZwA",
        "outputId": "79f0ff18-4044-428f-ab4b-e542763412d5"
      },
      "execution_count": null,
      "outputs": [
        {
          "output_type": "stream",
          "name": "stdout",
          "text": [
            "Archive:  labels_my-project-name_2024-12-17-09-23-06.zip\n",
            " extracting: labels/photo1.txt       \n",
            " extracting: labels/photo10.txt      \n",
            " extracting: labels/photo100.txt     \n",
            " extracting: labels/photo101.txt     \n",
            " extracting: labels/photo102.txt     \n",
            " extracting: labels/photo103.txt     \n",
            " extracting: labels/photo104.txt     \n",
            " extracting: labels/photo105.txt     \n",
            " extracting: labels/photo106.txt     \n",
            " extracting: labels/photo107.txt     \n",
            " extracting: labels/photo108.txt     \n",
            " extracting: labels/photo109.txt     \n",
            " extracting: labels/photo11.txt      \n",
            " extracting: labels/photo110.txt     \n",
            " extracting: labels/photo111.txt     \n",
            " extracting: labels/photo112.txt     \n",
            " extracting: labels/photo113.txt     \n",
            " extracting: labels/photo114.txt     \n",
            " extracting: labels/photo115.txt     \n",
            " extracting: labels/photo116.txt     \n",
            " extracting: labels/photo117.txt     \n",
            " extracting: labels/photo118.txt     \n",
            " extracting: labels/photo119.txt     \n",
            " extracting: labels/photo12.txt      \n",
            " extracting: labels/photo120.txt     \n",
            " extracting: labels/photo121.txt     \n",
            " extracting: labels/photo122.txt     \n",
            " extracting: labels/photo123.txt     \n",
            " extracting: labels/photo124.txt     \n",
            " extracting: labels/photo125.txt     \n",
            " extracting: labels/photo126.txt     \n",
            " extracting: labels/photo127.txt     \n",
            " extracting: labels/photo128.txt     \n",
            " extracting: labels/photo129.txt     \n",
            " extracting: labels/photo13.txt      \n",
            " extracting: labels/photo130.txt     \n",
            " extracting: labels/photo131.txt     \n",
            " extracting: labels/photo132.txt     \n",
            " extracting: labels/photo133.txt     \n",
            " extracting: labels/photo134.txt     \n",
            " extracting: labels/photo135.txt     \n",
            " extracting: labels/photo136.txt     \n",
            " extracting: labels/photo137.txt     \n",
            " extracting: labels/photo138.txt     \n",
            " extracting: labels/photo139.txt     \n",
            " extracting: labels/photo14.txt      \n",
            " extracting: labels/photo140.txt     \n",
            " extracting: labels/photo141.txt     \n",
            " extracting: labels/photo142.txt     \n",
            " extracting: labels/photo143.txt     \n",
            " extracting: labels/photo144.txt     \n",
            " extracting: labels/photo145.txt     \n",
            " extracting: labels/photo146.txt     \n",
            " extracting: labels/photo147.txt     \n",
            " extracting: labels/photo148.txt     \n",
            " extracting: labels/photo149.txt     \n",
            " extracting: labels/photo15.txt      \n",
            " extracting: labels/photo150.txt     \n",
            " extracting: labels/photo151.txt     \n",
            " extracting: labels/photo152.txt     \n",
            " extracting: labels/photo153.txt     \n",
            " extracting: labels/photo154.txt     \n",
            " extracting: labels/photo155.txt     \n",
            " extracting: labels/photo156.txt     \n",
            " extracting: labels/photo157.txt     \n",
            " extracting: labels/photo158.txt     \n",
            " extracting: labels/photo159.txt     \n",
            " extracting: labels/photo16.txt      \n",
            " extracting: labels/photo160.txt     \n",
            " extracting: labels/photo161.txt     \n",
            " extracting: labels/photo162.txt     \n",
            " extracting: labels/photo163.txt     \n",
            " extracting: labels/photo164.txt     \n",
            " extracting: labels/photo165.txt     \n",
            " extracting: labels/photo166.txt     \n",
            " extracting: labels/photo167.txt     \n",
            " extracting: labels/photo168.txt     \n",
            " extracting: labels/photo169.txt     \n",
            " extracting: labels/photo17.txt      \n",
            " extracting: labels/photo170.txt     \n",
            " extracting: labels/photo171.txt     \n",
            " extracting: labels/photo172.txt     \n",
            " extracting: labels/photo173.txt     \n",
            " extracting: labels/photo174.txt     \n",
            " extracting: labels/photo175.txt     \n",
            " extracting: labels/photo176.txt     \n",
            " extracting: labels/photo177.txt     \n",
            " extracting: labels/photo178.txt     \n",
            " extracting: labels/photo179.txt     \n",
            " extracting: labels/photo18.txt      \n",
            " extracting: labels/photo180.txt     \n",
            " extracting: labels/photo181.txt     \n",
            " extracting: labels/photo19.txt      \n",
            " extracting: labels/photo20.txt      \n",
            " extracting: labels/photo21.txt      \n",
            " extracting: labels/photo22.txt      \n",
            " extracting: labels/photo23.txt      \n",
            " extracting: labels/photo24.txt      \n",
            " extracting: labels/photo25.txt      \n",
            " extracting: labels/photo26.txt      \n",
            " extracting: labels/photo27.txt      \n",
            " extracting: labels/photo28.txt      \n",
            " extracting: labels/photo29.txt      \n",
            " extracting: labels/photo3.txt       \n",
            " extracting: labels/photo30.txt      \n",
            " extracting: labels/photo31.txt      \n",
            " extracting: labels/photo32.txt      \n",
            " extracting: labels/photo33.txt      \n",
            " extracting: labels/photo34.txt      \n",
            " extracting: labels/photo35.txt      \n",
            " extracting: labels/photo36.txt      \n",
            " extracting: labels/photo37.txt      \n",
            " extracting: labels/photo38.txt      \n",
            " extracting: labels/photo39.txt      \n",
            " extracting: labels/photo4.txt       \n",
            " extracting: labels/photo40.txt      \n",
            " extracting: labels/photo41.txt      \n",
            " extracting: labels/photo42.txt      \n",
            " extracting: labels/photo43.txt      \n",
            " extracting: labels/photo44.txt      \n",
            " extracting: labels/photo45.txt      \n",
            " extracting: labels/photo46.txt      \n",
            " extracting: labels/photo47.txt      \n",
            " extracting: labels/photo48.txt      \n",
            " extracting: labels/photo49.txt      \n",
            " extracting: labels/photo5.txt       \n",
            " extracting: labels/photo50.txt      \n",
            " extracting: labels/photo51.txt      \n",
            " extracting: labels/photo52.txt      \n",
            " extracting: labels/photo53.txt      \n",
            " extracting: labels/photo54.txt      \n",
            " extracting: labels/photo55.txt      \n",
            " extracting: labels/photo56.txt      \n",
            " extracting: labels/photo57.txt      \n",
            " extracting: labels/photo58.txt      \n",
            " extracting: labels/photo59.txt      \n",
            " extracting: labels/photo6.txt       \n",
            " extracting: labels/photo60.txt      \n",
            " extracting: labels/photo61.txt      \n",
            " extracting: labels/photo62.txt      \n",
            " extracting: labels/photo63.txt      \n",
            " extracting: labels/photo64.txt      \n",
            " extracting: labels/photo65.txt      \n",
            " extracting: labels/photo66.txt      \n",
            " extracting: labels/photo67.txt      \n",
            " extracting: labels/photo68.txt      \n",
            " extracting: labels/photo69.txt      \n",
            " extracting: labels/photo7.txt       \n",
            " extracting: labels/photo70.txt      \n",
            " extracting: labels/photo71.txt      \n",
            " extracting: labels/photo72.txt      \n",
            " extracting: labels/photo73.txt      \n",
            " extracting: labels/photo74.txt      \n",
            " extracting: labels/photo75.txt      \n",
            " extracting: labels/photo76.txt      \n",
            " extracting: labels/photo77.txt      \n",
            " extracting: labels/photo78.txt      \n",
            " extracting: labels/photo79.txt      \n",
            " extracting: labels/photo8.txt       \n",
            " extracting: labels/photo80.txt      \n",
            " extracting: labels/photo81.txt      \n",
            " extracting: labels/photo82.txt      \n",
            " extracting: labels/photo83.txt      \n",
            " extracting: labels/photo84.txt      \n",
            " extracting: labels/photo85.txt      \n",
            " extracting: labels/photo86.txt      \n",
            " extracting: labels/photo87.txt      \n",
            " extracting: labels/photo88.txt      \n",
            " extracting: labels/photo89.txt      \n",
            " extracting: labels/photo9.txt       \n",
            " extracting: labels/photo90.txt      \n",
            " extracting: labels/photo91.txt      \n",
            " extracting: labels/photo92.txt      \n",
            " extracting: labels/photo93.txt      \n",
            " extracting: labels/photo94.txt      \n",
            " extracting: labels/photo95.txt      \n",
            " extracting: labels/photo96.txt      \n",
            " extracting: labels/photo97.txt      \n",
            " extracting: labels/photo98.txt      \n",
            " extracting: labels/photo99.txt      \n"
          ]
        }
      ]
    },
    {
      "cell_type": "code",
      "source": [],
      "metadata": {
        "id": "hydqT0JL2NO7"
      },
      "execution_count": null,
      "outputs": []
    },
    {
      "cell_type": "code",
      "source": [
        "import os\n",
        "import cv2\n",
        "import shutil\n",
        "\n",
        "# Paths\n",
        "images_path = \"/content/images\"  # Path to images\n",
        "labels_path = \"/content/labels\"  # Path to labels\n",
        "output_crops_path = \"/content/cropped_plates\"  # Path to save cropped plates\n",
        "\n",
        "# Supported image formats\n",
        "image_extensions = [\".jpg\", \".jpeg\", \".webp\", \".png\"]\n",
        "\n",
        "# Delete existing cropped plates folder and create a new one\n",
        "if os.path.exists(output_crops_path):\n",
        "    shutil.rmtree(output_crops_path)  # Delete the folder\n",
        "os.makedirs(output_crops_path, exist_ok=True)  # Create a new one\n",
        "\n",
        "# Process each label file\n",
        "for label_file in os.listdir(labels_path):\n",
        "    # Find the corresponding image file with any of the supported extensions\n",
        "    image_name = os.path.splitext(label_file)[0]  # Get the base name (e.g., \"photo123\" from \"photo123.txt\")\n",
        "    image_path = None\n",
        "    for ext in image_extensions:\n",
        "        potential_path = os.path.join(images_path, image_name + ext)\n",
        "        if os.path.exists(potential_path):\n",
        "            image_path = potential_path\n",
        "            break\n",
        "\n",
        "    # Skip if no matching image file is found\n",
        "    if not image_path:\n",
        "        print(f\"No matching image found for label: {label_file}\")\n",
        "        continue\n",
        "\n",
        "    # Read the image\n",
        "    img = cv2.imread(image_path)\n",
        "    if img is None:\n",
        "        print(f\"Failed to read image: {image_path}\")\n",
        "        continue\n",
        "\n",
        "    # Get image dimensions\n",
        "    img_height, img_width, _ = img.shape\n",
        "\n",
        "    # Read the label file\n",
        "    label_path = os.path.join(labels_path, label_file)\n",
        "    with open(label_path, \"r\") as file:\n",
        "        lines = file.readlines()\n",
        "\n",
        "    # Process each line in the label file\n",
        "    for i, line in enumerate(lines):\n",
        "        parts = line.strip().split()\n",
        "        cls = int(parts[0])  # Class ID\n",
        "        if cls != 0:  # Skip if not class 0\n",
        "            continue\n",
        "\n",
        "        # Extract bounding box information (normalized format: x_center, y_center, width, height)\n",
        "        x_center, y_center, width, height = map(float, parts[1:])\n",
        "\n",
        "        # Convert to pixel coordinates\n",
        "        x1 = int((x_center - width / 2) * img_width)\n",
        "        y1 = int((y_center - height / 2) * img_height)\n",
        "        x2 = int((x_center + width / 2) * img_width)\n",
        "        y2 = int((y_center + height / 2) * img_height)\n",
        "\n",
        "        # Ensure bounding box coordinates are within image bounds\n",
        "        x1 = max(0, x1)\n",
        "        y1 = max(0, y1)\n",
        "        x2 = min(img_width, x2)\n",
        "        y2 = min(img_height, y2)\n",
        "\n",
        "        # Crop the license plate region\n",
        "        cropped_plate = img[y1:y2, x1:x2]\n",
        "\n",
        "        # Save the cropped image\n",
        "        output_filename = f\"{os.path.splitext(image_name)[0]}_plate_{i+1}.jpg\"\n",
        "        output_path = os.path.join(output_crops_path, output_filename)\n",
        "        cv2.imwrite(output_path, cropped_plate)\n",
        "        print(f\"Cropped plate saved: {output_filename}\")\n"
      ],
      "metadata": {
        "colab": {
          "base_uri": "https://localhost:8080/"
        },
        "id": "QVI9ko-_yCD-",
        "outputId": "990f9f5e-f969-4eb1-bb12-538057ecdbaa"
      },
      "execution_count": null,
      "outputs": [
        {
          "output_type": "stream",
          "name": "stdout",
          "text": [
            "Cropped plate saved: photo68_plate_1.jpg\n",
            "Cropped plate saved: photo136_plate_1.jpg\n",
            "Cropped plate saved: photo113_plate_1.jpg\n",
            "Cropped plate saved: photo120_plate_1.jpg\n",
            "Cropped plate saved: photo100_plate_1.jpg\n",
            "Cropped plate saved: photo41_plate_1.jpg\n",
            "Cropped plate saved: photo115_plate_1.jpg\n",
            "Cropped plate saved: photo58_plate_1.jpg\n",
            "Cropped plate saved: photo49_plate_1.jpg\n",
            "Cropped plate saved: photo175_plate_1.jpg\n",
            "Cropped plate saved: photo5_plate_1.jpg\n",
            "Cropped plate saved: photo47_plate_1.jpg\n",
            "Cropped plate saved: photo107_plate_1.jpg\n",
            "Cropped plate saved: photo130_plate_1.jpg\n",
            "Cropped plate saved: photo131_plate_1.jpg\n",
            "Cropped plate saved: photo40_plate_1.jpg\n",
            "Cropped plate saved: photo72_plate_1.jpg\n",
            "Cropped plate saved: photo34_plate_1.jpg\n",
            "Cropped plate saved: photo99_plate_1.jpg\n",
            "Cropped plate saved: photo29_plate_1.jpg\n",
            "Cropped plate saved: photo59_plate_1.jpg\n",
            "Cropped plate saved: photo67_plate_1.jpg\n",
            "Cropped plate saved: photo108_plate_1.jpg\n",
            "Cropped plate saved: photo165_plate_1.jpg\n",
            "Cropped plate saved: photo6_plate_1.jpg\n",
            "Cropped plate saved: photo117_plate_1.jpg\n",
            "Cropped plate saved: photo75_plate_1.jpg\n",
            "Cropped plate saved: photo19_plate_1.jpg\n",
            "Cropped plate saved: photo118_plate_1.jpg\n",
            "Cropped plate saved: photo85_plate_1.jpg\n",
            "Cropped plate saved: photo61_plate_1.jpg\n",
            "Cropped plate saved: photo77_plate_1.jpg\n",
            "Cropped plate saved: photo45_plate_1.jpg\n",
            "Cropped plate saved: photo46_plate_1.jpg\n",
            "Cropped plate saved: photo42_plate_1.jpg\n",
            "Cropped plate saved: photo127_plate_1.jpg\n",
            "Cropped plate saved: photo140_plate_1.jpg\n",
            "Cropped plate saved: photo92_plate_1.jpg\n",
            "Cropped plate saved: photo18_plate_1.jpg\n",
            "Cropped plate saved: photo64_plate_1.jpg\n",
            "Cropped plate saved: photo134_plate_1.jpg\n",
            "Cropped plate saved: photo63_plate_1.jpg\n",
            "Cropped plate saved: photo89_plate_1.jpg\n",
            "Cropped plate saved: photo44_plate_1.jpg\n",
            "Cropped plate saved: photo88_plate_1.jpg\n",
            "Cropped plate saved: photo146_plate_1.jpg\n",
            "Cropped plate saved: photo15_plate_1.jpg\n",
            "Cropped plate saved: photo152_plate_1.jpg\n",
            "Cropped plate saved: photo133_plate_1.jpg\n",
            "Cropped plate saved: photo124_plate_1.jpg\n",
            "Cropped plate saved: photo116_plate_1.jpg\n",
            "Cropped plate saved: photo164_plate_1.jpg\n",
            "Cropped plate saved: photo145_plate_1.jpg\n",
            "Cropped plate saved: photo174_plate_1.jpg\n",
            "Cropped plate saved: photo163_plate_1.jpg\n",
            "Cropped plate saved: photo30_plate_1.jpg\n",
            "Cropped plate saved: photo22_plate_1.jpg\n",
            "Cropped plate saved: photo160_plate_1.jpg\n",
            "Cropped plate saved: photo147_plate_1.jpg\n",
            "Cropped plate saved: photo170_plate_1.jpg\n",
            "Cropped plate saved: photo16_plate_1.jpg\n",
            "Cropped plate saved: photo180_plate_1.jpg\n",
            "Cropped plate saved: photo176_plate_1.jpg\n",
            "Cropped plate saved: photo155_plate_1.jpg\n",
            "Cropped plate saved: photo114_plate_1.jpg\n",
            "Cropped plate saved: photo32_plate_1.jpg\n",
            "Cropped plate saved: photo82_plate_1.jpg\n",
            "Cropped plate saved: photo21_plate_1.jpg\n",
            "Cropped plate saved: photo103_plate_1.jpg\n",
            "Cropped plate saved: photo154_plate_1.jpg\n",
            "Cropped plate saved: photo181_plate_1.jpg\n",
            "Cropped plate saved: photo112_plate_1.jpg\n",
            "Cropped plate saved: photo38_plate_1.jpg\n",
            "Cropped plate saved: photo74_plate_1.jpg\n",
            "Cropped plate saved: photo4_plate_1.jpg\n",
            "Cropped plate saved: photo178_plate_1.jpg\n",
            "Cropped plate saved: photo37_plate_1.jpg\n",
            "Cropped plate saved: photo1_plate_1.jpg\n",
            "Cropped plate saved: photo31_plate_1.jpg\n",
            "Cropped plate saved: photo69_plate_1.jpg\n",
            "Cropped plate saved: photo76_plate_1.jpg\n",
            "Cropped plate saved: photo78_plate_1.jpg\n",
            "Cropped plate saved: photo106_plate_1.jpg\n",
            "Cropped plate saved: photo51_plate_1.jpg\n",
            "Cropped plate saved: photo122_plate_1.jpg\n",
            "Cropped plate saved: photo171_plate_1.jpg\n",
            "Cropped plate saved: photo139_plate_1.jpg\n",
            "Cropped plate saved: photo94_plate_1.jpg\n",
            "Cropped plate saved: photo7_plate_1.jpg\n",
            "Cropped plate saved: photo179_plate_1.jpg\n",
            "Cropped plate saved: photo105_plate_1.jpg\n",
            "Cropped plate saved: photo104_plate_1.jpg\n",
            "Cropped plate saved: photo166_plate_1.jpg\n",
            "Cropped plate saved: photo84_plate_1.jpg\n",
            "Cropped plate saved: photo172_plate_1.jpg\n",
            "Cropped plate saved: photo53_plate_1.jpg\n",
            "Cropped plate saved: photo39_plate_1.jpg\n",
            "Cropped plate saved: photo23_plate_1.jpg\n",
            "Cropped plate saved: photo95_plate_1.jpg\n",
            "Cropped plate saved: photo135_plate_1.jpg\n",
            "Cropped plate saved: photo12_plate_1.jpg\n",
            "Cropped plate saved: photo73_plate_1.jpg\n",
            "Cropped plate saved: photo87_plate_1.jpg\n",
            "Cropped plate saved: photo144_plate_1.jpg\n",
            "Cropped plate saved: photo56_plate_1.jpg\n",
            "Cropped plate saved: photo149_plate_1.jpg\n",
            "Cropped plate saved: photo71_plate_1.jpg\n",
            "Cropped plate saved: photo36_plate_1.jpg\n",
            "Cropped plate saved: photo123_plate_1.jpg\n",
            "Cropped plate saved: photo96_plate_1.jpg\n",
            "Cropped plate saved: photo80_plate_1.jpg\n",
            "Cropped plate saved: photo132_plate_1.jpg\n",
            "Cropped plate saved: photo65_plate_1.jpg\n",
            "Cropped plate saved: photo143_plate_1.jpg\n",
            "Cropped plate saved: photo98_plate_1.jpg\n",
            "Cropped plate saved: photo33_plate_1.jpg\n",
            "Cropped plate saved: photo157_plate_1.jpg\n",
            "Cropped plate saved: photo129_plate_1.jpg\n",
            "Cropped plate saved: photo111_plate_1.jpg\n",
            "Cropped plate saved: photo50_plate_1.jpg\n",
            "Cropped plate saved: photo83_plate_1.jpg\n",
            "Cropped plate saved: photo70_plate_1.jpg\n",
            "Cropped plate saved: photo128_plate_1.jpg\n",
            "Cropped plate saved: photo62_plate_1.jpg\n",
            "Cropped plate saved: photo110_plate_1.jpg\n",
            "Cropped plate saved: photo156_plate_1.jpg\n",
            "Cropped plate saved: photo153_plate_1.jpg\n",
            "Cropped plate saved: photo167_plate_1.jpg\n",
            "Cropped plate saved: photo125_plate_1.jpg\n",
            "Cropped plate saved: photo126_plate_1.jpg\n",
            "Cropped plate saved: photo169_plate_1.jpg\n",
            "Cropped plate saved: photo109_plate_1.jpg\n",
            "Cropped plate saved: photo86_plate_1.jpg\n",
            "Cropped plate saved: photo158_plate_1.jpg\n",
            "Cropped plate saved: photo66_plate_1.jpg\n",
            "Cropped plate saved: photo79_plate_1.jpg\n",
            "Cropped plate saved: photo159_plate_1.jpg\n",
            "Cropped plate saved: photo93_plate_1.jpg\n",
            "Cropped plate saved: photo3_plate_1.jpg\n",
            "Cropped plate saved: photo13_plate_1.jpg\n",
            "Cropped plate saved: photo26_plate_1.jpg\n",
            "Cropped plate saved: photo141_plate_1.jpg\n",
            "Cropped plate saved: photo14_plate_1.jpg\n",
            "Cropped plate saved: photo25_plate_1.jpg\n",
            "Cropped plate saved: photo28_plate_1.jpg\n",
            "Cropped plate saved: photo9_plate_1.jpg\n",
            "Cropped plate saved: photo138_plate_1.jpg\n",
            "Cropped plate saved: photo162_plate_1.jpg\n",
            "Cropped plate saved: photo168_plate_1.jpg\n",
            "Cropped plate saved: photo43_plate_1.jpg\n",
            "Cropped plate saved: photo173_plate_1.jpg\n",
            "Cropped plate saved: photo151_plate_1.jpg\n",
            "Cropped plate saved: photo11_plate_1.jpg\n",
            "Cropped plate saved: photo161_plate_1.jpg\n",
            "Cropped plate saved: photo48_plate_1.jpg\n",
            "Cropped plate saved: photo81_plate_1.jpg\n",
            "Cropped plate saved: photo148_plate_1.jpg\n",
            "Cropped plate saved: photo150_plate_1.jpg\n",
            "Cropped plate saved: photo91_plate_1.jpg\n",
            "Cropped plate saved: photo142_plate_1.jpg\n",
            "Cropped plate saved: photo17_plate_1.jpg\n",
            "Cropped plate saved: photo27_plate_1.jpg\n",
            "Cropped plate saved: photo97_plate_1.jpg\n",
            "Cropped plate saved: photo119_plate_1.jpg\n",
            "Cropped plate saved: photo121_plate_1.jpg\n",
            "Cropped plate saved: photo24_plate_1.jpg\n",
            "Cropped plate saved: photo90_plate_1.jpg\n",
            "Cropped plate saved: photo57_plate_1.jpg\n",
            "Cropped plate saved: photo52_plate_1.jpg\n",
            "Cropped plate saved: photo10_plate_1.jpg\n",
            "Cropped plate saved: photo137_plate_1.jpg\n",
            "Cropped plate saved: photo20_plate_1.jpg\n",
            "Cropped plate saved: photo55_plate_1.jpg\n",
            "Cropped plate saved: photo60_plate_1.jpg\n",
            "Cropped plate saved: photo177_plate_1.jpg\n",
            "Cropped plate saved: photo35_plate_1.jpg\n",
            "Cropped plate saved: photo54_plate_1.jpg\n",
            "Cropped plate saved: photo8_plate_1.jpg\n",
            "Cropped plate saved: photo102_plate_1.jpg\n",
            "Cropped plate saved: photo101_plate_1.jpg\n"
          ]
        }
      ]
    },
    {
      "cell_type": "markdown",
      "source": [
        "OCR\n"
      ],
      "metadata": {
        "id": "mDswy3_MH_uX"
      }
    },
    {
      "cell_type": "code",
      "source": [
        "!pip install easyocr\n"
      ],
      "metadata": {
        "colab": {
          "base_uri": "https://localhost:8080/"
        },
        "id": "qiEYWm_v5tWf",
        "outputId": "8c601627-a570-42e3-a232-e9a1b8682a98"
      },
      "execution_count": null,
      "outputs": [
        {
          "output_type": "stream",
          "name": "stdout",
          "text": [
            "Requirement already satisfied: easyocr in /usr/local/lib/python3.10/dist-packages (1.7.2)\n",
            "Requirement already satisfied: torch in /usr/local/lib/python3.10/dist-packages (from easyocr) (2.5.1+cu121)\n",
            "Requirement already satisfied: torchvision>=0.5 in /usr/local/lib/python3.10/dist-packages (from easyocr) (0.20.1+cu121)\n",
            "Requirement already satisfied: opencv-python-headless in /usr/local/lib/python3.10/dist-packages (from easyocr) (4.10.0.84)\n",
            "Requirement already satisfied: scipy in /usr/local/lib/python3.10/dist-packages (from easyocr) (1.13.1)\n",
            "Requirement already satisfied: numpy in /usr/local/lib/python3.10/dist-packages (from easyocr) (1.26.4)\n",
            "Requirement already satisfied: Pillow in /usr/local/lib/python3.10/dist-packages (from easyocr) (11.0.0)\n",
            "Requirement already satisfied: scikit-image in /usr/local/lib/python3.10/dist-packages (from easyocr) (0.24.0)\n",
            "Requirement already satisfied: python-bidi in /usr/local/lib/python3.10/dist-packages (from easyocr) (0.6.3)\n",
            "Requirement already satisfied: PyYAML in /usr/local/lib/python3.10/dist-packages (from easyocr) (6.0.2)\n",
            "Requirement already satisfied: Shapely in /usr/local/lib/python3.10/dist-packages (from easyocr) (2.0.6)\n",
            "Requirement already satisfied: pyclipper in /usr/local/lib/python3.10/dist-packages (from easyocr) (1.3.0.post6)\n",
            "Requirement already satisfied: ninja in /usr/local/lib/python3.10/dist-packages (from easyocr) (1.11.1.3)\n",
            "Requirement already satisfied: filelock in /usr/local/lib/python3.10/dist-packages (from torch->easyocr) (3.16.1)\n",
            "Requirement already satisfied: typing-extensions>=4.8.0 in /usr/local/lib/python3.10/dist-packages (from torch->easyocr) (4.12.2)\n",
            "Requirement already satisfied: networkx in /usr/local/lib/python3.10/dist-packages (from torch->easyocr) (3.4.2)\n",
            "Requirement already satisfied: jinja2 in /usr/local/lib/python3.10/dist-packages (from torch->easyocr) (3.1.4)\n",
            "Requirement already satisfied: fsspec in /usr/local/lib/python3.10/dist-packages (from torch->easyocr) (2024.10.0)\n",
            "Requirement already satisfied: sympy==1.13.1 in /usr/local/lib/python3.10/dist-packages (from torch->easyocr) (1.13.1)\n",
            "Requirement already satisfied: mpmath<1.4,>=1.1.0 in /usr/local/lib/python3.10/dist-packages (from sympy==1.13.1->torch->easyocr) (1.3.0)\n",
            "Requirement already satisfied: imageio>=2.33 in /usr/local/lib/python3.10/dist-packages (from scikit-image->easyocr) (2.36.1)\n",
            "Requirement already satisfied: tifffile>=2022.8.12 in /usr/local/lib/python3.10/dist-packages (from scikit-image->easyocr) (2024.12.12)\n",
            "Requirement already satisfied: packaging>=21 in /usr/local/lib/python3.10/dist-packages (from scikit-image->easyocr) (24.2)\n",
            "Requirement already satisfied: lazy-loader>=0.4 in /usr/local/lib/python3.10/dist-packages (from scikit-image->easyocr) (0.4)\n",
            "Requirement already satisfied: MarkupSafe>=2.0 in /usr/local/lib/python3.10/dist-packages (from jinja2->torch->easyocr) (3.0.2)\n"
          ]
        }
      ]
    },
    {
      "cell_type": "code",
      "source": [
        "from google.colab import files\n",
        "import zipfile\n",
        "import os\n",
        "from tensorflow.keras.preprocessing.image import ImageDataGenerator, load_img, img_to_array, array_to_img\n",
        "\n",
        "\n",
        "# Extract the ZIP file\n",
        "zip_path = \"/content/plaques.zip\"  # Ensure this matches the uploaded file name\n",
        "extract_to = \"/content/plaques\"\n",
        "with zipfile.ZipFile(zip_path, 'r') as zip_ref:\n",
        "    zip_ref.extractall(extract_to)\n",
        "\n",
        "print(f\"Files extracted to {extract_to}\")\n",
        "\n",
        "\n",
        "# Base directory (set after extraction)\n",
        "base_dir = \"/content/plaques/plaques\"\n",
        "folders = [\"nounta\", \"ideria\", \"others\"]  # Folders to augment\n",
        "target_count = 155  # Target number of images per folder\n",
        "\n",
        "# Data Augmentation Generator\n",
        "datagen = ImageDataGenerator(\n",
        "    rotation_range=30,       # Random rotations\n",
        "    width_shift_range=0.2,   # Random horizontal shifts\n",
        "    height_shift_range=0.2,  # Random vertical shifts\n",
        "    shear_range=0.2,         # Shearing\n",
        "    zoom_range=0.2,          # Random zoom\n",
        "    horizontal_flip=True,    # Random horizontal flip\n",
        "    fill_mode='nearest'      # Fill in missing pixels\n",
        ")\n",
        "\n",
        "# Augment images in each folder\n",
        "for folder in folders:\n",
        "    folder_path = os.path.join(base_dir, folder)\n",
        "    images = os.listdir(folder_path)\n",
        "    current_count = len(images)\n",
        "    print(f\"Augmenting '{folder}' with {current_count} images...\")\n",
        "\n",
        "    # Stop if the folder already has the target count\n",
        "    if current_count >= target_count:\n",
        "        print(f\"'{folder}' already has {current_count} images.\")\n",
        "        continue\n",
        "\n",
        "    # Loop to generate augmented images\n",
        "    for i in range(target_count - current_count):\n",
        "        # Pick a random image\n",
        "        img_name = images[i % current_count]  # Loop through images cyclically\n",
        "        img_path = os.path.join(folder_path, img_name)\n",
        "\n",
        "        # Load and preprocess the image\n",
        "        img = load_img(img_path)  # Load the image\n",
        "        img_array = img_to_array(img)  # Convert to array\n",
        "        img_array = img_array.reshape((1,) + img_array.shape)  # Reshape for generator\n",
        "\n",
        "        # Generate an augmented image\n",
        "        for batch in datagen.flow(img_array, batch_size=1):\n",
        "            # Save the augmented image\n",
        "            new_img_name = f\"aug_{i}_{img_name}\"  # Unique name for the new image\n",
        "            new_img_path = os.path.join(folder_path, new_img_name)\n",
        "            array_to_img(batch[0]).save(new_img_path)\n",
        "            break  # Generate one image per iteration\n",
        "\n",
        "    print(f\"'{folder}' now has {len(os.listdir(folder_path))} images.\")\n",
        "\n",
        "print(\"Data augmentation complete!\")\n",
        "!zip -r augmented_plaques.zip /content/plaques\n",
        "from google.colab import files\n",
        "files.download(\"augmented_plaques.zip\")\n"
      ],
      "metadata": {
        "colab": {
          "base_uri": "https://localhost:8080/",
          "height": 1000
        },
        "id": "SxPAj6VBE6QR",
        "outputId": "cfe9e942-0beb-4801-9275-ba36d0dbd50d"
      },
      "execution_count": null,
      "outputs": [
        {
          "output_type": "stream",
          "name": "stdout",
          "text": [
            "Files extracted to /content/plaques\n",
            "Augmenting 'nounta' with 21 images...\n",
            "'nounta' now has 155 images.\n",
            "Augmenting 'ideria' with 16 images...\n",
            "'ideria' now has 155 images.\n",
            "Augmenting 'others' with 6 images...\n",
            "'others' now has 155 images.\n",
            "Data augmentation complete!\n",
            "  adding: content/plaques/ (stored 0%)\n",
            "  adding: content/plaques/plaques/ (stored 0%)\n",
            "  adding: content/plaques/plaques/tounsia/ (stored 0%)\n",
            "  adding: content/plaques/plaques/tounsia/plaque_tounsia_143.jpg (deflated 3%)\n",
            "  adding: content/plaques/plaques/tounsia/plaque_tounsia_106.jpg (deflated 1%)\n",
            "  adding: content/plaques/plaques/tounsia/plaque_tounsia_42.jpg (deflated 3%)\n",
            "  adding: content/plaques/plaques/tounsia/plaque_tounsia_140.jpg (deflated 4%)\n",
            "  adding: content/plaques/plaques/tounsia/plaque_tounsia_30.jpg (deflated 3%)\n",
            "  adding: content/plaques/plaques/tounsia/plaque_tounsia_72.jpg (deflated 4%)\n",
            "  adding: content/plaques/plaques/tounsia/plaque_tounsia_111.jpg (deflated 3%)\n",
            "  adding: content/plaques/plaques/tounsia/plaque_tounsia_7.jpg (deflated 3%)\n",
            "  adding: content/plaques/plaques/tounsia/plaque_tounsia_40.jpg (deflated 4%)\n",
            "  adding: content/plaques/plaques/tounsia/plaque_tounsia_94.jpg (deflated 5%)\n",
            "  adding: content/plaques/plaques/tounsia/plaque_tounsia_39.jpg (deflated 12%)\n",
            "  adding: content/plaques/plaques/tounsia/plaque_tounsia_99.jpg (deflated 14%)\n",
            "  adding: content/plaques/plaques/tounsia/plaque_tounsia_67.jpg (deflated 2%)\n",
            "  adding: content/plaques/plaques/tounsia/plaque_tounsia_37.jpg (deflated 3%)\n",
            "  adding: content/plaques/plaques/tounsia/plaque_tounsia_126.jpg (deflated 3%)\n",
            "  adding: content/plaques/plaques/tounsia/plaque_tounsia_13.jpg (deflated 2%)\n",
            "  adding: content/plaques/plaques/tounsia/plaque_tounsia_3.jpg (deflated 2%)\n",
            "  adding: content/plaques/plaques/tounsia/plaque_tounsia_15.jpg (deflated 3%)\n",
            "  adding: content/plaques/plaques/tounsia/plaque_tounsia_1.jpg (deflated 8%)\n",
            "  adding: content/plaques/plaques/tounsia/plaque_tounsia_4.jpg (deflated 3%)\n",
            "  adding: content/plaques/plaques/tounsia/plaque_tounsia_49.jpg (deflated 4%)\n",
            "  adding: content/plaques/plaques/tounsia/plaque_tounsia_152.jpg (deflated 3%)\n",
            "  adding: content/plaques/plaques/tounsia/plaque_tounsia_107.jpg (deflated 5%)\n",
            "  adding: content/plaques/plaques/tounsia/plaque_tounsia_121.jpg (deflated 17%)\n",
            "  adding: content/plaques/plaques/tounsia/plaque_tounsia_51.jpg (deflated 3%)\n",
            "  adding: content/plaques/plaques/tounsia/plaque_tounsia_50.jpg (deflated 3%)\n",
            "  adding: content/plaques/plaques/tounsia/plaque_tounsia_150.jpg (deflated 3%)\n",
            "  adding: content/plaques/plaques/tounsia/plaque_tounsia_57.jpg (deflated 2%)\n",
            "  adding: content/plaques/plaques/tounsia/plaque_tounsia_154.jpg (deflated 3%)\n",
            "  adding: content/plaques/plaques/tounsia/plaque_tounsia_58.jpg (deflated 3%)\n",
            "  adding: content/plaques/plaques/tounsia/plaque_tounsia_131.jpg (deflated 10%)\n",
            "  adding: content/plaques/plaques/tounsia/plaque_tounsia_33.jpg (deflated 4%)\n",
            "  adding: content/plaques/plaques/tounsia/plaque_tounsia_16.jpg (deflated 2%)\n",
            "  adding: content/plaques/plaques/tounsia/plaque_tounsia_47.jpg (deflated 7%)\n",
            "  adding: content/plaques/plaques/tounsia/plaque_tounsia_9.jpg (deflated 2%)\n",
            "  adding: content/plaques/plaques/tounsia/plaque_tounsia_151.jpg (deflated 3%)\n",
            "  adding: content/plaques/plaques/tounsia/plaque_tounsia_137.jpg (deflated 2%)\n",
            "  adding: content/plaques/plaques/tounsia/plaque_tounsia_139.jpg (deflated 2%)\n",
            "  adding: content/plaques/plaques/tounsia/plaque_tounsia_11.jpg (deflated 3%)\n",
            "  adding: content/plaques/plaques/tounsia/plaque_tounsia_59.jpg (deflated 2%)\n",
            "  adding: content/plaques/plaques/tounsia/plaque_tounsia_117.jpg (deflated 19%)\n",
            "  adding: content/plaques/plaques/tounsia/plaque_tounsia_8.jpg (deflated 4%)\n",
            "  adding: content/plaques/plaques/tounsia/plaque_tounsia_27.jpg (deflated 3%)\n",
            "  adding: content/plaques/plaques/tounsia/plaque_tounsia_135.jpg (deflated 3%)\n",
            "  adding: content/plaques/plaques/tounsia/plaque_tounsia_90.jpg (deflated 4%)\n",
            "  adding: content/plaques/plaques/tounsia/plaque_tounsia_73.jpg (deflated 4%)\n",
            "  adding: content/plaques/plaques/tounsia/plaque_tounsia_43.jpg (deflated 3%)\n",
            "  adding: content/plaques/plaques/tounsia/plaque_tounsia_6.jpg (deflated 3%)\n",
            "  adding: content/plaques/plaques/tounsia/plaque_tounsia_122.jpg (deflated 10%)\n",
            "  adding: content/plaques/plaques/tounsia/plaque_tounsia_110.jpg (deflated 1%)\n",
            "  adding: content/plaques/plaques/tounsia/plaque_tounsia_153.jpg (deflated 3%)\n",
            "  adding: content/plaques/plaques/tounsia/plaque_tounsia_145.jpg (deflated 3%)\n",
            "  adding: content/plaques/plaques/tounsia/plaque_tounsia_2.jpg (deflated 14%)\n",
            "  adding: content/plaques/plaques/tounsia/plaque_tounsia_10.jpg (deflated 4%)\n",
            "  adding: content/plaques/plaques/tounsia/plaque_tounsia_26.jpg (deflated 2%)\n",
            "  adding: content/plaques/plaques/tounsia/plaque_tounsia_28.jpg (deflated 12%)\n",
            "  adding: content/plaques/plaques/tounsia/plaque_tounsia_87.jpg (deflated 5%)\n",
            "  adding: content/plaques/plaques/tounsia/plaque_tounsia_134.jpg (deflated 12%)\n",
            "  adding: content/plaques/plaques/tounsia/plaque_tounsia_17.jpg (deflated 3%)\n",
            "  adding: content/plaques/plaques/tounsia/plaque_tounsia_65.jpg (deflated 4%)\n",
            "  adding: content/plaques/plaques/tounsia/plaque_tounsia_54.jpg (deflated 2%)\n",
            "  adding: content/plaques/plaques/tounsia/plaque_tounsia_66.jpg (deflated 4%)\n",
            "  adding: content/plaques/plaques/tounsia/plaque_tounsia_113.jpg (deflated 12%)\n",
            "  adding: content/plaques/plaques/tounsia/plaque_tounsia_100.jpg (deflated 3%)\n",
            "  adding: content/plaques/plaques/tounsia/plaque_tounsia_68.jpg (deflated 4%)\n",
            "  adding: content/plaques/plaques/tounsia/plaque_tounsia_21.jpg (deflated 5%)\n",
            "  adding: content/plaques/plaques/tounsia/plaque_tounsia_144.jpg (deflated 18%)\n",
            "  adding: content/plaques/plaques/tounsia/plaque_tounsia_38.jpg (deflated 7%)\n",
            "  adding: content/plaques/plaques/tounsia/plaque_tounsia_14.jpg (deflated 3%)\n",
            "  adding: content/plaques/plaques/tounsia/plaque_tounsia_44.jpg (deflated 2%)\n",
            "  adding: content/plaques/plaques/tounsia/plaque_tounsia_41.jpg (deflated 2%)\n",
            "  adding: content/plaques/plaques/tounsia/plaque_tounsia_62.jpg (deflated 2%)\n",
            "  adding: content/plaques/plaques/tounsia/plaque_tounsia_85.jpg (deflated 4%)\n",
            "  adding: content/plaques/plaques/tounsia/plaque_tounsia_23.jpg (deflated 2%)\n",
            "  adding: content/plaques/plaques/tounsia/plaque_tounsia_78.jpg (deflated 3%)\n",
            "  adding: content/plaques/plaques/tounsia/plaque_tounsia_112.jpg (deflated 5%)\n",
            "  adding: content/plaques/plaques/tounsia/plaque_tounsia_24.jpg (deflated 7%)\n",
            "  adding: content/plaques/plaques/tounsia/plaque_tounsia_96.jpg (deflated 7%)\n",
            "  adding: content/plaques/plaques/tounsia/plaque_tounsia_102.jpg (deflated 9%)\n",
            "  adding: content/plaques/plaques/tounsia/plaque_tounsia_75.jpg (deflated 2%)\n",
            "  adding: content/plaques/plaques/tounsia/plaque_tounsia_32.jpg (deflated 4%)\n",
            "  adding: content/plaques/plaques/tounsia/plaque_tounsia_12.jpg (deflated 3%)\n",
            "  adding: content/plaques/plaques/tounsia/plaque_tounsia_46.jpg (deflated 3%)\n",
            "  adding: content/plaques/plaques/tounsia/plaque_tounsia_89.jpg (deflated 3%)\n",
            "  adding: content/plaques/plaques/tounsia/plaque_tounsia_101.jpg (deflated 4%)\n",
            "  adding: content/plaques/plaques/tounsia/plaque_tounsia_104.jpg (deflated 7%)\n",
            "  adding: content/plaques/plaques/tounsia/plaque_tounsia_69.jpg (deflated 3%)\n",
            "  adding: content/plaques/plaques/tounsia/plaque_tounsia_20.jpg (deflated 3%)\n",
            "  adding: content/plaques/plaques/tounsia/plaque_tounsia_63.jpg (deflated 4%)\n",
            "  adding: content/plaques/plaques/tounsia/plaque_tounsia_108.jpg (deflated 13%)\n",
            "  adding: content/plaques/plaques/tounsia/plaque_tounsia_80.jpg (deflated 5%)\n",
            "  adding: content/plaques/plaques/tounsia/plaque_tounsia_155.jpg (deflated 2%)\n",
            "  adding: content/plaques/plaques/tounsia/plaque_tounsia_79.jpg (deflated 3%)\n",
            "  adding: content/plaques/plaques/tounsia/plaque_tounsia_18.jpg (deflated 2%)\n",
            "  adding: content/plaques/plaques/tounsia/plaque_tounsia_64.jpg (deflated 6%)\n",
            "  adding: content/plaques/plaques/tounsia/plaque_tounsia_148.jpg (deflated 2%)\n",
            "  adding: content/plaques/plaques/tounsia/plaque_tounsia_124.jpg (deflated 3%)\n",
            "  adding: content/plaques/plaques/tounsia/plaque_tounsia_71.jpg (deflated 3%)\n",
            "  adding: content/plaques/plaques/tounsia/plaque_tounsia_77.jpg (deflated 3%)\n",
            "  adding: content/plaques/plaques/tounsia/plaque_tounsia_115.jpg (deflated 8%)\n",
            "  adding: content/plaques/plaques/tounsia/plaque_tounsia_83.jpg (deflated 2%)\n",
            "  adding: content/plaques/plaques/tounsia/plaque_tounsia_31.jpg (deflated 3%)\n",
            "  adding: content/plaques/plaques/tounsia/plaque_tounsia_82.jpg (deflated 3%)\n",
            "  adding: content/plaques/plaques/tounsia/plaque_tounsia_146.jpg (deflated 3%)\n",
            "  adding: content/plaques/plaques/tounsia/plaque_tounsia_25.jpg (deflated 3%)\n",
            "  adding: content/plaques/plaques/tounsia/plaque_tounsia_52.jpg (deflated 3%)\n",
            "  adding: content/plaques/plaques/tounsia/plaque_tounsia_123.jpg (deflated 9%)\n",
            "  adding: content/plaques/plaques/tounsia/plaque_tounsia_76.jpg (deflated 2%)\n",
            "  adding: content/plaques/plaques/tounsia/plaque_tounsia_93.jpg (deflated 6%)\n",
            "  adding: content/plaques/plaques/tounsia/plaque_tounsia_29.jpg (deflated 3%)\n",
            "  adding: content/plaques/plaques/tounsia/plaque_tounsia_125.jpg (deflated 4%)\n",
            "  adding: content/plaques/plaques/tounsia/plaque_tounsia_95.jpg (deflated 7%)\n",
            "  adding: content/plaques/plaques/tounsia/plaque_tounsia_118.jpg (deflated 16%)\n",
            "  adding: content/plaques/plaques/tounsia/plaque_tounsia_60.jpg (deflated 3%)\n",
            "  adding: content/plaques/plaques/tounsia/plaque_tounsia_127.jpg (deflated 6%)\n",
            "  adding: content/plaques/plaques/tounsia/plaque_tounsia_48.jpg (deflated 3%)\n",
            "  adding: content/plaques/plaques/tounsia/plaque_tounsia_22.jpg (deflated 3%)\n",
            "  adding: content/plaques/plaques/tounsia/plaque_tounsia_109.jpg (deflated 3%)\n",
            "  adding: content/plaques/plaques/tounsia/plaque_tounsia_53.jpg (deflated 2%)\n",
            "  adding: content/plaques/plaques/tounsia/plaque_tounsia_91.jpg (deflated 3%)\n",
            "  adding: content/plaques/plaques/tounsia/plaque_tounsia_130.jpg (deflated 2%)\n",
            "  adding: content/plaques/plaques/tounsia/plaque_tounsia_88.jpg (deflated 7%)\n",
            "  adding: content/plaques/plaques/tounsia/plaque_tounsia_103.jpg (deflated 8%)\n",
            "  adding: content/plaques/plaques/tounsia/plaque_tounsia_119.jpg (deflated 2%)\n",
            "  adding: content/plaques/plaques/tounsia/plaque_tounsia_141.jpg (deflated 5%)\n",
            "  adding: content/plaques/plaques/tounsia/plaque_tounsia_114.jpg (deflated 11%)\n",
            "  adding: content/plaques/plaques/tounsia/plaque_tounsia_116.jpg (deflated 7%)\n",
            "  adding: content/plaques/plaques/tounsia/plaque_tounsia_128.jpg (deflated 1%)\n",
            "  adding: content/plaques/plaques/tounsia/plaque_tounsia_129.jpg (deflated 2%)\n",
            "  adding: content/plaques/plaques/tounsia/plaque_tounsia_74.jpg (deflated 7%)\n",
            "  adding: content/plaques/plaques/tounsia/plaque_tounsia_45.jpg (deflated 4%)\n",
            "  adding: content/plaques/plaques/tounsia/plaque_tounsia_34.jpg (deflated 3%)\n",
            "  adding: content/plaques/plaques/tounsia/plaque_tounsia_19.jpg (deflated 3%)\n",
            "  adding: content/plaques/plaques/tounsia/plaque_tounsia_138.jpg (deflated 3%)\n",
            "  adding: content/plaques/plaques/tounsia/plaque_tounsia_136.jpg (deflated 2%)\n",
            "  adding: content/plaques/plaques/tounsia/plaque_tounsia_98.jpg (deflated 5%)\n",
            "  adding: content/plaques/plaques/tounsia/plaque_tounsia_105.jpg (deflated 1%)\n",
            "  adding: content/plaques/plaques/tounsia/plaque_tounsia_133.jpg (deflated 4%)\n",
            "  adding: content/plaques/plaques/tounsia/plaque_tounsia_149.jpg (deflated 4%)\n",
            "  adding: content/plaques/plaques/tounsia/plaque_tounsia_35.jpg (deflated 1%)\n",
            "  adding: content/plaques/plaques/tounsia/plaque_tounsia_81.jpg (deflated 3%)\n",
            "  adding: content/plaques/plaques/tounsia/plaque_tounsia_86.jpg (deflated 6%)\n",
            "  adding: content/plaques/plaques/tounsia/plaque_tounsia_61.jpg (deflated 3%)\n",
            "  adding: content/plaques/plaques/tounsia/plaque_tounsia_92.jpg (deflated 4%)\n",
            "  adding: content/plaques/plaques/tounsia/plaque_tounsia_5.jpg (deflated 3%)\n",
            "  adding: content/plaques/plaques/tounsia/plaque_tounsia_84.jpg (deflated 3%)\n",
            "  adding: content/plaques/plaques/tounsia/plaque_tounsia_147.jpg (deflated 3%)\n",
            "  adding: content/plaques/plaques/tounsia/plaque_tounsia_55.jpg (deflated 3%)\n",
            "  adding: content/plaques/plaques/tounsia/plaque_tounsia_142.jpg (deflated 3%)\n",
            "  adding: content/plaques/plaques/tounsia/plaque_tounsia_120.jpg (deflated 2%)\n",
            "  adding: content/plaques/plaques/tounsia/plaque_tounsia_56.jpg (deflated 2%)\n",
            "  adding: content/plaques/plaques/tounsia/plaque_tounsia_97.jpg (deflated 13%)\n",
            "  adding: content/plaques/plaques/tounsia/plaque_tounsia_132.jpg (deflated 4%)\n",
            "  adding: content/plaques/plaques/tounsia/plaque_tounsia_70.jpg (deflated 2%)\n",
            "  adding: content/plaques/plaques/tounsia/plaque_tounsia_36.jpg (deflated 14%)\n",
            "  adding: content/plaques/plaques/others/ (stored 0%)\n",
            "  adding: content/plaques/plaques/others/aug_15_plaque_others_5.jpg (deflated 6%)\n",
            "  adding: content/plaques/plaques/others/aug_57_plaque_others_5.jpg (deflated 5%)\n",
            "  adding: content/plaques/plaques/others/aug_1_plaque_others_4.jpg (deflated 7%)\n",
            "  adding: content/plaques/plaques/others/aug_90_plaque_others_6.jpg (deflated 9%)\n",
            "  adding: content/plaques/plaques/others/aug_60_plaque_others_6.jpg (deflated 7%)\n",
            "  adding: content/plaques/plaques/others/aug_81_plaque_others_5.jpg (deflated 4%)\n",
            "  adding: content/plaques/plaques/others/aug_22_plaque_others_2.jpg (deflated 4%)\n",
            "  adding: content/plaques/plaques/others/aug_62_plaque_others_3.jpg (deflated 10%)\n",
            "  adding: content/plaques/plaques/others/aug_10_plaque_others_2.jpg (deflated 6%)\n",
            "  adding: content/plaques/plaques/others/aug_24_plaque_others_6.jpg (deflated 8%)\n",
            "  adding: content/plaques/plaques/others/aug_44_plaque_others_3.jpg (deflated 7%)\n",
            "  adding: content/plaques/plaques/others/aug_88_plaque_others_2.jpg (deflated 3%)\n",
            "  adding: content/plaques/plaques/others/aug_58_plaque_others_2.jpg (deflated 6%)\n",
            "  adding: content/plaques/plaques/others/aug_59_plaque_others_1.jpg (deflated 12%)\n",
            "  adding: content/plaques/plaques/others/aug_146_plaque_others_3.jpg (deflated 8%)\n",
            "  adding: content/plaques/plaques/others/aug_23_plaque_others_1.jpg (deflated 15%)\n",
            "  adding: content/plaques/plaques/others/aug_142_plaque_others_2.jpg (deflated 3%)\n",
            "  adding: content/plaques/plaques/others/aug_94_plaque_others_2.jpg (deflated 3%)\n",
            "  adding: content/plaques/plaques/others/aug_106_plaque_others_2.jpg (deflated 3%)\n",
            "  adding: content/plaques/plaques/others/aug_8_plaque_others_3.jpg (deflated 4%)\n",
            "  adding: content/plaques/plaques/others/aug_11_plaque_others_1.jpg (deflated 10%)\n",
            "  adding: content/plaques/plaques/others/aug_12_plaque_others_6.jpg (deflated 8%)\n",
            "  adding: content/plaques/plaques/others/aug_2_plaque_others_3.jpg (deflated 5%)\n",
            "  adding: content/plaques/plaques/others/aug_56_plaque_others_3.jpg (deflated 14%)\n",
            "  adding: content/plaques/plaques/others/aug_28_plaque_others_2.jpg (deflated 8%)\n",
            "  adding: content/plaques/plaques/others/aug_76_plaque_others_2.jpg (deflated 7%)\n",
            "  adding: content/plaques/plaques/others/aug_145_plaque_others_4.jpg (deflated 7%)\n",
            "  adding: content/plaques/plaques/others/aug_33_plaque_others_5.jpg (deflated 4%)\n",
            "  adding: content/plaques/plaques/others/aug_34_plaque_others_2.jpg (deflated 6%)\n",
            "  adding: content/plaques/plaques/others/aug_89_plaque_others_1.jpg (deflated 14%)\n",
            "  adding: content/plaques/plaques/others/aug_136_plaque_others_2.jpg (deflated 4%)\n",
            "  adding: content/plaques/plaques/others/aug_103_plaque_others_4.jpg (deflated 12%)\n",
            "  adding: content/plaques/plaques/others/aug_4_plaque_others_2.jpg (deflated 3%)\n",
            "  adding: content/plaques/plaques/others/aug_80_plaque_others_3.jpg (deflated 5%)\n",
            "  adding: content/plaques/plaques/others/plaque_others_6.jpg (deflated 6%)\n",
            "  adding: content/plaques/plaques/others/aug_115_plaque_others_4.jpg (deflated 7%)\n",
            "  adding: content/plaques/plaques/others/aug_77_plaque_others_1.jpg (deflated 10%)\n",
            "  adding: content/plaques/plaques/others/aug_61_plaque_others_4.jpg (deflated 7%)\n",
            "  adding: content/plaques/plaques/others/aug_122_plaque_others_3.jpg (deflated 4%)\n",
            "  adding: content/plaques/plaques/others/aug_66_plaque_others_6.jpg (deflated 7%)\n",
            "  adding: content/plaques/plaques/others/aug_114_plaque_others_6.jpg (deflated 7%)\n",
            "  adding: content/plaques/plaques/others/aug_91_plaque_others_4.jpg (deflated 7%)\n",
            "  adding: content/plaques/plaques/others/aug_21_plaque_others_5.jpg (deflated 4%)\n",
            "  adding: content/plaques/plaques/others/aug_143_plaque_others_1.jpg (deflated 13%)\n",
            "  adding: content/plaques/plaques/others/aug_93_plaque_others_5.jpg (deflated 4%)\n",
            "  adding: content/plaques/plaques/others/aug_109_plaque_others_4.jpg (deflated 9%)\n",
            "  adding: content/plaques/plaques/others/aug_138_plaque_others_6.jpg (deflated 8%)\n",
            "  adding: content/plaques/plaques/others/plaque_others_4.jpg (deflated 5%)\n",
            "  adding: content/plaques/plaques/others/aug_148_plaque_others_2.jpg (deflated 7%)\n",
            "  adding: content/plaques/plaques/others/aug_25_plaque_others_4.jpg (deflated 8%)\n",
            "  adding: content/plaques/plaques/others/aug_111_plaque_others_5.jpg (deflated 5%)\n",
            "  adding: content/plaques/plaques/others/aug_144_plaque_others_6.jpg (deflated 8%)\n",
            "  adding: content/plaques/plaques/others/aug_41_plaque_others_1.jpg (deflated 11%)\n",
            "  adding: content/plaques/plaques/others/aug_14_plaque_others_3.jpg (deflated 5%)\n",
            "  adding: content/plaques/plaques/others/aug_95_plaque_others_1.jpg (deflated 19%)\n",
            "  adding: content/plaques/plaques/others/aug_79_plaque_others_4.jpg (deflated 7%)\n",
            "  adding: content/plaques/plaques/others/aug_16_plaque_others_2.jpg (deflated 6%)\n",
            "  adding: content/plaques/plaques/others/aug_35_plaque_others_1.jpg (deflated 12%)\n",
            "  adding: content/plaques/plaques/others/aug_20_plaque_others_3.jpg (deflated 5%)\n",
            "  adding: content/plaques/plaques/others/aug_55_plaque_others_4.jpg (deflated 9%)\n",
            "  adding: content/plaques/plaques/others/aug_18_plaque_others_6.jpg (deflated 7%)\n",
            "  adding: content/plaques/plaques/others/aug_125_plaque_others_1.jpg (deflated 18%)\n",
            "  adding: content/plaques/plaques/others/aug_129_plaque_others_5.jpg (deflated 4%)\n",
            "  adding: content/plaques/plaques/others/aug_98_plaque_others_3.jpg (deflated 5%)\n",
            "  adding: content/plaques/plaques/others/aug_139_plaque_others_4.jpg (deflated 7%)\n",
            "  adding: content/plaques/plaques/others/aug_112_plaque_others_2.jpg (deflated 6%)\n",
            "  adding: content/plaques/plaques/others/aug_26_plaque_others_3.jpg (deflated 5%)\n",
            "  adding: content/plaques/plaques/others/aug_48_plaque_others_6.jpg (deflated 9%)\n",
            "  adding: content/plaques/plaques/others/plaque_others_3.jpg (deflated 4%)\n",
            "  adding: content/plaques/plaques/others/aug_110_plaque_others_3.jpg (deflated 6%)\n",
            "  adding: content/plaques/plaques/others/aug_119_plaque_others_1.jpg (deflated 10%)\n",
            "  adding: content/plaques/plaques/others/aug_17_plaque_others_1.jpg (deflated 19%)\n",
            "  adding: content/plaques/plaques/others/aug_31_plaque_others_4.jpg (deflated 8%)\n",
            "  adding: content/plaques/plaques/others/aug_101_plaque_others_1.jpg (deflated 9%)\n",
            "  adding: content/plaques/plaques/others/aug_99_plaque_others_5.jpg (deflated 4%)\n",
            "  adding: content/plaques/plaques/others/aug_128_plaque_others_3.jpg (deflated 5%)\n",
            "  adding: content/plaques/plaques/others/aug_53_plaque_others_1.jpg (deflated 9%)\n",
            "  adding: content/plaques/plaques/others/aug_63_plaque_others_5.jpg (deflated 4%)\n",
            "  adding: content/plaques/plaques/others/aug_47_plaque_others_1.jpg (deflated 9%)\n",
            "  adding: content/plaques/plaques/others/aug_19_plaque_others_4.jpg (deflated 9%)\n",
            "  adding: content/plaques/plaques/others/aug_78_plaque_others_6.jpg (deflated 10%)\n",
            "  adding: content/plaques/plaques/others/aug_46_plaque_others_2.jpg (deflated 6%)\n",
            "  adding: content/plaques/plaques/others/aug_29_plaque_others_1.jpg (deflated 14%)\n",
            "  adding: content/plaques/plaques/others/aug_117_plaque_others_5.jpg (deflated 4%)\n",
            "  adding: content/plaques/plaques/others/aug_49_plaque_others_4.jpg (deflated 7%)\n",
            "  adding: content/plaques/plaques/others/aug_131_plaque_others_1.jpg (deflated 10%)\n",
            "  adding: content/plaques/plaques/others/aug_30_plaque_others_6.jpg (deflated 7%)\n",
            "  adding: content/plaques/plaques/others/aug_6_plaque_others_6.jpg (deflated 9%)\n",
            "  adding: content/plaques/plaques/others/aug_137_plaque_others_1.jpg (deflated 11%)\n",
            "  adding: content/plaques/plaques/others/aug_107_plaque_others_1.jpg (deflated 11%)\n",
            "  adding: content/plaques/plaques/others/aug_73_plaque_others_4.jpg (deflated 8%)\n",
            "  adding: content/plaques/plaques/others/aug_130_plaque_others_2.jpg (deflated 3%)\n",
            "  adding: content/plaques/plaques/others/aug_140_plaque_others_3.jpg (deflated 5%)\n",
            "  adding: content/plaques/plaques/others/aug_42_plaque_others_6.jpg (deflated 8%)\n",
            "  adding: content/plaques/plaques/others/aug_43_plaque_others_4.jpg (deflated 7%)\n",
            "  adding: content/plaques/plaques/others/aug_133_plaque_others_4.jpg (deflated 12%)\n",
            "  adding: content/plaques/plaques/others/aug_127_plaque_others_4.jpg (deflated 7%)\n",
            "  adding: content/plaques/plaques/others/aug_68_plaque_others_3.jpg (deflated 4%)\n",
            "  adding: content/plaques/plaques/others/aug_113_plaque_others_1.jpg (deflated 9%)\n",
            "  adding: content/plaques/plaques/others/plaque_others_5.jpg (deflated 2%)\n",
            "  adding: content/plaques/plaques/others/aug_40_plaque_others_2.jpg (deflated 3%)\n",
            "  adding: content/plaques/plaques/others/aug_32_plaque_others_3.jpg (deflated 4%)\n",
            "  adding: content/plaques/plaques/others/aug_121_plaque_others_4.jpg (deflated 7%)\n",
            "  adding: content/plaques/plaques/others/aug_3_plaque_others_5.jpg (deflated 5%)\n",
            "  adding: content/plaques/plaques/others/aug_102_plaque_others_6.jpg (deflated 7%)\n",
            "  adding: content/plaques/plaques/others/aug_104_plaque_others_3.jpg (deflated 5%)\n",
            "  adding: content/plaques/plaques/others/aug_97_plaque_others_4.jpg (deflated 8%)\n",
            "  adding: content/plaques/plaques/others/aug_50_plaque_others_3.jpg (deflated 4%)\n",
            "  adding: content/plaques/plaques/others/aug_38_plaque_others_3.jpg (deflated 11%)\n",
            "  adding: content/plaques/plaques/others/aug_105_plaque_others_5.jpg (deflated 4%)\n",
            "  adding: content/plaques/plaques/others/aug_87_plaque_others_5.jpg (deflated 4%)\n",
            "  adding: content/plaques/plaques/others/aug_132_plaque_others_6.jpg (deflated 7%)\n",
            "  adding: content/plaques/plaques/others/aug_124_plaque_others_2.jpg (deflated 8%)\n",
            "  adding: content/plaques/plaques/others/aug_13_plaque_others_4.jpg (deflated 6%)\n",
            "  adding: content/plaques/plaques/others/aug_52_plaque_others_2.jpg (deflated 4%)\n",
            "  adding: content/plaques/plaques/others/aug_67_plaque_others_4.jpg (deflated 7%)\n",
            "  adding: content/plaques/plaques/others/aug_39_plaque_others_5.jpg (deflated 4%)\n",
            "  adding: content/plaques/plaques/others/aug_72_plaque_others_6.jpg (deflated 10%)\n",
            "  adding: content/plaques/plaques/others/aug_134_plaque_others_3.jpg (deflated 5%)\n",
            "  adding: content/plaques/plaques/others/aug_135_plaque_others_5.jpg (deflated 4%)\n",
            "  adding: content/plaques/plaques/others/aug_71_plaque_others_1.jpg (deflated 10%)\n",
            "  adding: content/plaques/plaques/others/aug_141_plaque_others_5.jpg (deflated 4%)\n",
            "  adding: content/plaques/plaques/others/aug_51_plaque_others_5.jpg (deflated 5%)\n",
            "  adding: content/plaques/plaques/others/aug_82_plaque_others_2.jpg (deflated 8%)\n",
            "  adding: content/plaques/plaques/others/aug_85_plaque_others_4.jpg (deflated 7%)\n",
            "  adding: content/plaques/plaques/others/aug_126_plaque_others_6.jpg (deflated 7%)\n",
            "  adding: content/plaques/plaques/others/aug_70_plaque_others_2.jpg (deflated 8%)\n",
            "  adding: content/plaques/plaques/others/aug_100_plaque_others_2.jpg (deflated 3%)\n",
            "  adding: content/plaques/plaques/others/aug_5_plaque_others_1.jpg (deflated 14%)\n",
            "  adding: content/plaques/plaques/others/aug_54_plaque_others_6.jpg (deflated 10%)\n",
            "  adding: content/plaques/plaques/others/aug_84_plaque_others_6.jpg (deflated 7%)\n",
            "  adding: content/plaques/plaques/others/aug_9_plaque_others_5.jpg (deflated 5%)\n",
            "  adding: content/plaques/plaques/others/aug_64_plaque_others_2.jpg (deflated 3%)\n",
            "  adding: content/plaques/plaques/others/aug_27_plaque_others_5.jpg (deflated 5%)\n",
            "  adding: content/plaques/plaques/others/aug_37_plaque_others_4.jpg (deflated 7%)\n",
            "  adding: content/plaques/plaques/others/plaque_others_2.jpg (deflated 3%)\n",
            "  adding: content/plaques/plaques/others/aug_120_plaque_others_6.jpg (deflated 7%)\n",
            "  adding: content/plaques/plaques/others/aug_45_plaque_others_5.jpg (deflated 4%)\n",
            "  adding: content/plaques/plaques/others/aug_92_plaque_others_3.jpg (deflated 9%)\n",
            "  adding: content/plaques/plaques/others/aug_108_plaque_others_6.jpg (deflated 7%)\n",
            "  adding: content/plaques/plaques/others/aug_69_plaque_others_5.jpg (deflated 4%)\n",
            "  adding: content/plaques/plaques/others/aug_116_plaque_others_3.jpg (deflated 4%)\n",
            "  adding: content/plaques/plaques/others/aug_86_plaque_others_3.jpg (deflated 5%)\n",
            "  adding: content/plaques/plaques/others/aug_74_plaque_others_3.jpg (deflated 10%)\n",
            "  adding: content/plaques/plaques/others/aug_118_plaque_others_2.jpg (deflated 6%)\n",
            "  adding: content/plaques/plaques/others/aug_36_plaque_others_6.jpg (deflated 9%)\n",
            "  adding: content/plaques/plaques/others/aug_96_plaque_others_6.jpg (deflated 7%)\n",
            "  adding: content/plaques/plaques/others/aug_65_plaque_others_1.jpg (deflated 16%)\n",
            "  adding: content/plaques/plaques/others/aug_123_plaque_others_5.jpg (deflated 4%)\n",
            "  adding: content/plaques/plaques/others/aug_147_plaque_others_5.jpg (deflated 5%)\n",
            "  adding: content/plaques/plaques/others/aug_75_plaque_others_5.jpg (deflated 4%)\n",
            "  adding: content/plaques/plaques/others/aug_83_plaque_others_1.jpg (deflated 13%)\n",
            "  adding: content/plaques/plaques/others/aug_7_plaque_others_4.jpg (deflated 7%)\n",
            "  adding: content/plaques/plaques/others/aug_0_plaque_others_6.jpg (deflated 9%)\n",
            "  adding: content/plaques/plaques/others/plaque_others_1.jpg (deflated 7%)\n",
            "  adding: content/plaques/plaques/nounta/ (stored 0%)\n",
            "  adding: content/plaques/plaques/nounta/aug_105_plaque_nounta_19.jpg (deflated 10%)\n",
            "  adding: content/plaques/plaques/nounta/aug_2_plaque_nounta_18.jpg (deflated 7%)\n",
            "  adding: content/plaques/plaques/nounta/plaque_nounta_19.jpg (deflated 6%)\n",
            "  adding: content/plaques/plaques/nounta/aug_111_plaque_nounta_14.jpg (deflated 3%)\n",
            "  adding: content/plaques/plaques/nounta/aug_10_plaque_nounta_9.jpg (deflated 3%)\n",
            "  adding: content/plaques/plaques/nounta/aug_81_plaque_nounta_2.jpg (deflated 5%)\n",
            "  adding: content/plaques/plaques/nounta/aug_58_plaque_nounta_4.jpg (deflated 7%)\n",
            "  adding: content/plaques/plaques/nounta/aug_45_plaque_nounta_11.jpg (deflated 6%)\n",
            "  adding: content/plaques/plaques/nounta/aug_57_plaque_nounta_21.jpg (deflated 12%)\n",
            "  adding: content/plaques/plaques/nounta/aug_65_plaque_nounta_18.jpg (deflated 7%)\n",
            "  adding: content/plaques/plaques/nounta/plaque_nounta_8.jpg (deflated 3%)\n",
            "  adding: content/plaques/plaques/nounta/aug_52_plaque_nounta_9.jpg (deflated 2%)\n",
            "  adding: content/plaques/plaques/nounta/aug_109_plaque_nounta_5.jpg (deflated 6%)\n",
            "  adding: content/plaques/plaques/nounta/aug_85_plaque_nounta_8.jpg (deflated 4%)\n",
            "  adding: content/plaques/plaques/nounta/aug_113_plaque_nounta_12.jpg (deflated 16%)\n",
            "  adding: content/plaques/plaques/nounta/plaque_nounta_18.jpg (deflated 4%)\n",
            "  adding: content/plaques/plaques/nounta/aug_44_plaque_nounta_18.jpg (deflated 11%)\n",
            "  adding: content/plaques/plaques/nounta/aug_23_plaque_nounta_18.jpg (deflated 11%)\n",
            "  adding: content/plaques/plaques/nounta/aug_12_plaque_nounta_16.jpg (deflated 8%)\n",
            "  adding: content/plaques/plaques/nounta/aug_129_plaque_nounta_11.jpg (deflated 5%)\n",
            "  adding: content/plaques/plaques/nounta/aug_114_plaque_nounta_6.jpg (deflated 12%)\n",
            "  adding: content/plaques/plaques/nounta/aug_31_plaque_nounta_9.jpg (deflated 2%)\n",
            "  adding: content/plaques/plaques/nounta/aug_1_plaque_nounta_8.jpg (deflated 3%)\n",
            "  adding: content/plaques/plaques/nounta/aug_42_plaque_nounta_19.jpg (deflated 9%)\n",
            "  adding: content/plaques/plaques/nounta/aug_22_plaque_nounta_8.jpg (deflated 4%)\n",
            "  adding: content/plaques/plaques/nounta/aug_123_plaque_nounta_2.jpg (deflated 6%)\n",
            "  adding: content/plaques/plaques/nounta/aug_14_plaque_nounta_20.jpg (deflated 7%)\n",
            "  adding: content/plaques/plaques/nounta/plaque_nounta_11.jpg (deflated 4%)\n",
            "  adding: content/plaques/plaques/nounta/aug_124_plaque_nounta_10.jpg (deflated 5%)\n",
            "  adding: content/plaques/plaques/nounta/aug_73_plaque_nounta_9.jpg (deflated 3%)\n",
            "  adding: content/plaques/plaques/nounta/aug_79_plaque_nounta_4.jpg (deflated 5%)\n",
            "  adding: content/plaques/plaques/nounta/aug_13_plaque_nounta_1.jpg (deflated 5%)\n",
            "  adding: content/plaques/plaques/nounta/aug_83_plaque_nounta_3.jpg (deflated 5%)\n",
            "  adding: content/plaques/plaques/nounta/aug_63_plaque_nounta_19.jpg (deflated 9%)\n",
            "  adding: content/plaques/plaques/nounta/plaque_nounta_5.jpg (deflated 5%)\n",
            "  adding: content/plaques/plaques/nounta/aug_91_plaque_nounta_7.jpg (deflated 5%)\n",
            "  adding: content/plaques/plaques/nounta/aug_127_plaque_nounta_8.jpg (deflated 3%)\n",
            "  adding: content/plaques/plaques/nounta/aug_126_plaque_nounta_19.jpg (deflated 10%)\n",
            "  adding: content/plaques/plaques/nounta/aug_104_plaque_nounta_3.jpg (deflated 5%)\n",
            "  adding: content/plaques/plaques/nounta/aug_100_plaque_nounta_4.jpg (deflated 7%)\n",
            "  adding: content/plaques/plaques/nounta/aug_4_plaque_nounta_5.jpg (deflated 6%)\n",
            "  adding: content/plaques/plaques/nounta/aug_115_plaque_nounta_9.jpg (deflated 2%)\n",
            "  adding: content/plaques/plaques/nounta/aug_35_plaque_nounta_20.jpg (deflated 6%)\n",
            "  adding: content/plaques/plaques/nounta/aug_59_plaque_nounta_17.jpg (deflated 9%)\n",
            "  adding: content/plaques/plaques/nounta/aug_128_plaque_nounta_18.jpg (deflated 7%)\n",
            "  adding: content/plaques/plaques/nounta/aug_87_plaque_nounta_11.jpg (deflated 6%)\n",
            "  adding: content/plaques/plaques/nounta/aug_90_plaque_nounta_14.jpg (deflated 4%)\n",
            "  adding: content/plaques/plaques/nounta/plaque_nounta_13.jpg (deflated 3%)\n",
            "  adding: content/plaques/plaques/nounta/aug_54_plaque_nounta_16.jpg (deflated 7%)\n",
            "  adding: content/plaques/plaques/nounta/plaque_nounta_14.jpg (deflated 3%)\n",
            "  adding: content/plaques/plaques/nounta/aug_55_plaque_nounta_1.jpg (deflated 5%)\n",
            "  adding: content/plaques/plaques/nounta/aug_67_plaque_nounta_5.jpg (deflated 8%)\n",
            "  adding: content/plaques/plaques/nounta/aug_99_plaque_nounta_21.jpg (deflated 7%)\n",
            "  adding: content/plaques/plaques/nounta/aug_94_plaque_nounta_9.jpg (deflated 2%)\n",
            "  adding: content/plaques/plaques/nounta/aug_27_plaque_nounta_14.jpg (deflated 4%)\n",
            "  adding: content/plaques/plaques/nounta/aug_20_plaque_nounta_3.jpg (deflated 5%)\n",
            "  adding: content/plaques/plaques/nounta/plaque_nounta_7.jpg (deflated 4%)\n",
            "  adding: content/plaques/plaques/nounta/aug_3_plaque_nounta_11.jpg (deflated 7%)\n",
            "  adding: content/plaques/plaques/nounta/aug_25_plaque_nounta_5.jpg (deflated 8%)\n",
            "  adding: content/plaques/plaques/nounta/aug_70_plaque_nounta_7.jpg (deflated 6%)\n",
            "  adding: content/plaques/plaques/nounta/aug_122_plaque_nounta_17.jpg (deflated 11%)\n",
            "  adding: content/plaques/plaques/nounta/aug_71_plaque_nounta_12.jpg (deflated 12%)\n",
            "  adding: content/plaques/plaques/nounta/aug_66_plaque_nounta_11.jpg (deflated 5%)\n",
            "  adding: content/plaques/plaques/nounta/aug_26_plaque_nounta_13.jpg (deflated 4%)\n",
            "  adding: content/plaques/plaques/nounta/aug_36_plaque_nounta_21.jpg (deflated 8%)\n",
            "  adding: content/plaques/plaques/nounta/aug_28_plaque_nounta_7.jpg (deflated 5%)\n",
            "  adding: content/plaques/plaques/nounta/aug_32_plaque_nounta_15.jpg (deflated 9%)\n",
            "  adding: content/plaques/plaques/nounta/aug_120_plaque_nounta_21.jpg (deflated 9%)\n",
            "  adding: content/plaques/plaques/nounta/aug_118_plaque_nounta_1.jpg (deflated 5%)\n",
            "  adding: content/plaques/plaques/nounta/aug_53_plaque_nounta_15.jpg (deflated 12%)\n",
            "  adding: content/plaques/plaques/nounta/aug_96_plaque_nounta_16.jpg (deflated 6%)\n",
            "  adding: content/plaques/plaques/nounta/aug_11_plaque_nounta_15.jpg (deflated 13%)\n",
            "  adding: content/plaques/plaques/nounta/aug_21_plaque_nounta_19.jpg (deflated 9%)\n",
            "  adding: content/plaques/plaques/nounta/aug_61_plaque_nounta_10.jpg (deflated 5%)\n",
            "  adding: content/plaques/plaques/nounta/plaque_nounta_12.jpg (deflated 8%)\n",
            "  adding: content/plaques/plaques/nounta/aug_8_plaque_nounta_12.jpg (deflated 11%)\n",
            "  adding: content/plaques/plaques/nounta/aug_69_plaque_nounta_14.jpg (deflated 5%)\n",
            "  adding: content/plaques/plaques/nounta/aug_112_plaque_nounta_7.jpg (deflated 7%)\n",
            "  adding: content/plaques/plaques/nounta/aug_110_plaque_nounta_13.jpg (deflated 4%)\n",
            "  adding: content/plaques/plaques/nounta/plaque_nounta_6.jpg (deflated 6%)\n",
            "  adding: content/plaques/plaques/nounta/aug_41_plaque_nounta_3.jpg (deflated 5%)\n",
            "  adding: content/plaques/plaques/nounta/plaque_nounta_9.jpg (deflated 1%)\n",
            "  adding: content/plaques/plaques/nounta/aug_132_plaque_nounta_14.jpg (deflated 4%)\n",
            "  adding: content/plaques/plaques/nounta/plaque_nounta_15.jpg (deflated 5%)\n",
            "  adding: content/plaques/plaques/nounta/aug_60_plaque_nounta_2.jpg (deflated 5%)\n",
            "  adding: content/plaques/plaques/nounta/aug_15_plaque_nounta_21.jpg (deflated 7%)\n",
            "  adding: content/plaques/plaques/nounta/aug_133_plaque_nounta_7.jpg (deflated 5%)\n",
            "  adding: content/plaques/plaques/nounta/aug_101_plaque_nounta_17.jpg (deflated 9%)\n",
            "  adding: content/plaques/plaques/nounta/aug_39_plaque_nounta_2.jpg (deflated 5%)\n",
            "  adding: content/plaques/plaques/nounta/aug_92_plaque_nounta_12.jpg (deflated 13%)\n",
            "  adding: content/plaques/plaques/nounta/aug_106_plaque_nounta_8.jpg (deflated 4%)\n",
            "  adding: content/plaques/plaques/nounta/aug_116_plaque_nounta_15.jpg (deflated 7%)\n",
            "  adding: content/plaques/plaques/nounta/aug_6_plaque_nounta_14.jpg (deflated 3%)\n",
            "  adding: content/plaques/plaques/nounta/aug_16_plaque_nounta_4.jpg (deflated 7%)\n",
            "  adding: content/plaques/plaques/nounta/plaque_nounta_16.jpg (deflated 4%)\n",
            "  adding: content/plaques/plaques/nounta/aug_34_plaque_nounta_1.jpg (deflated 4%)\n",
            "  adding: content/plaques/plaques/nounta/aug_130_plaque_nounta_5.jpg (deflated 13%)\n",
            "  adding: content/plaques/plaques/nounta/aug_30_plaque_nounta_6.jpg (deflated 12%)\n",
            "  adding: content/plaques/plaques/nounta/aug_93_plaque_nounta_6.jpg (deflated 10%)\n",
            "  adding: content/plaques/plaques/nounta/aug_18_plaque_nounta_2.jpg (deflated 4%)\n",
            "  adding: content/plaques/plaques/nounta/aug_7_plaque_nounta_7.jpg (deflated 6%)\n",
            "  adding: content/plaques/plaques/nounta/aug_80_plaque_nounta_17.jpg (deflated 9%)\n",
            "  adding: content/plaques/plaques/nounta/aug_33_plaque_nounta_16.jpg (deflated 6%)\n",
            "  adding: content/plaques/plaques/nounta/aug_50_plaque_nounta_12.jpg (deflated 17%)\n",
            "  adding: content/plaques/plaques/nounta/aug_78_plaque_nounta_21.jpg (deflated 7%)\n",
            "  adding: content/plaques/plaques/nounta/aug_95_plaque_nounta_15.jpg (deflated 8%)\n",
            "  adding: content/plaques/plaques/nounta/aug_46_plaque_nounta_5.jpg (deflated 7%)\n",
            "  adding: content/plaques/plaques/nounta/aug_40_plaque_nounta_10.jpg (deflated 6%)\n",
            "  adding: content/plaques/plaques/nounta/aug_62_plaque_nounta_3.jpg (deflated 5%)\n",
            "  adding: content/plaques/plaques/nounta/aug_97_plaque_nounta_1.jpg (deflated 5%)\n",
            "  adding: content/plaques/plaques/nounta/aug_68_plaque_nounta_13.jpg (deflated 5%)\n",
            "  adding: content/plaques/plaques/nounta/aug_38_plaque_nounta_17.jpg (deflated 15%)\n",
            "  adding: content/plaques/plaques/nounta/aug_47_plaque_nounta_13.jpg (deflated 4%)\n",
            "  adding: content/plaques/plaques/nounta/aug_125_plaque_nounta_3.jpg (deflated 5%)\n",
            "  adding: content/plaques/plaques/nounta/aug_43_plaque_nounta_8.jpg (deflated 4%)\n",
            "  adding: content/plaques/plaques/nounta/plaque_nounta_1.jpg (deflated 3%)\n",
            "  adding: content/plaques/plaques/nounta/aug_102_plaque_nounta_2.jpg (deflated 5%)\n",
            "  adding: content/plaques/plaques/nounta/aug_131_plaque_nounta_13.jpg (deflated 5%)\n",
            "  adding: content/plaques/plaques/nounta/aug_64_plaque_nounta_8.jpg (deflated 3%)\n",
            "  adding: content/plaques/plaques/nounta/aug_76_plaque_nounta_1.jpg (deflated 6%)\n",
            "  adding: content/plaques/plaques/nounta/plaque_nounta_20.jpg (deflated 5%)\n",
            "  adding: content/plaques/plaques/nounta/aug_17_plaque_nounta_17.jpg (deflated 14%)\n",
            "  adding: content/plaques/plaques/nounta/plaque_nounta_21.jpg (deflated 6%)\n",
            "  adding: content/plaques/plaques/nounta/aug_98_plaque_nounta_20.jpg (deflated 10%)\n",
            "  adding: content/plaques/plaques/nounta/aug_74_plaque_nounta_15.jpg (deflated 8%)\n",
            "  adding: content/plaques/plaques/nounta/plaque_nounta_4.jpg (deflated 4%)\n",
            "  adding: content/plaques/plaques/nounta/aug_19_plaque_nounta_10.jpg (deflated 8%)\n",
            "  adding: content/plaques/plaques/nounta/aug_9_plaque_nounta_6.jpg (deflated 9%)\n",
            "  adding: content/plaques/plaques/nounta/aug_119_plaque_nounta_20.jpg (deflated 7%)\n",
            "  adding: content/plaques/plaques/nounta/aug_84_plaque_nounta_19.jpg (deflated 11%)\n",
            "  adding: content/plaques/plaques/nounta/aug_48_plaque_nounta_14.jpg (deflated 4%)\n",
            "  adding: content/plaques/plaques/nounta/aug_108_plaque_nounta_11.jpg (deflated 6%)\n",
            "  adding: content/plaques/plaques/nounta/aug_0_plaque_nounta_19.jpg (deflated 10%)\n",
            "  adding: content/plaques/plaques/nounta/aug_121_plaque_nounta_4.jpg (deflated 7%)\n",
            "  adding: content/plaques/plaques/nounta/aug_56_plaque_nounta_20.jpg (deflated 7%)\n",
            "  adding: content/plaques/plaques/nounta/aug_77_plaque_nounta_20.jpg (deflated 9%)\n",
            "  adding: content/plaques/plaques/nounta/aug_103_plaque_nounta_10.jpg (deflated 5%)\n",
            "  adding: content/plaques/plaques/nounta/plaque_nounta_17.jpg (deflated 6%)\n",
            "  adding: content/plaques/plaques/nounta/aug_89_plaque_nounta_13.jpg (deflated 4%)\n",
            "  adding: content/plaques/plaques/nounta/aug_49_plaque_nounta_7.jpg (deflated 5%)\n",
            "  adding: content/plaques/plaques/nounta/aug_29_plaque_nounta_12.jpg (deflated 16%)\n",
            "  adding: content/plaques/plaques/nounta/aug_117_plaque_nounta_16.jpg (deflated 8%)\n",
            "  adding: content/plaques/plaques/nounta/aug_37_plaque_nounta_4.jpg (deflated 6%)\n",
            "  adding: content/plaques/plaques/nounta/aug_86_plaque_nounta_18.jpg (deflated 10%)\n",
            "  adding: content/plaques/plaques/nounta/aug_5_plaque_nounta_13.jpg (deflated 6%)\n",
            "  adding: content/plaques/plaques/nounta/aug_51_plaque_nounta_6.jpg (deflated 13%)\n",
            "  adding: content/plaques/plaques/nounta/plaque_nounta_2.jpg (deflated 3%)\n",
            "  adding: content/plaques/plaques/nounta/aug_82_plaque_nounta_10.jpg (deflated 6%)\n",
            "  adding: content/plaques/plaques/nounta/aug_24_plaque_nounta_11.jpg (deflated 6%)\n",
            "  adding: content/plaques/plaques/nounta/aug_107_plaque_nounta_18.jpg (deflated 10%)\n",
            "  adding: content/plaques/plaques/nounta/plaque_nounta_10.jpg (deflated 4%)\n",
            "  adding: content/plaques/plaques/nounta/aug_72_plaque_nounta_6.jpg (deflated 13%)\n",
            "  adding: content/plaques/plaques/nounta/plaque_nounta_3.jpg (deflated 4%)\n",
            "  adding: content/plaques/plaques/nounta/aug_88_plaque_nounta_5.jpg (deflated 7%)\n",
            "  adding: content/plaques/plaques/nounta/aug_75_plaque_nounta_16.jpg (deflated 6%)\n",
            "  adding: content/plaques/plaques/ideria/ (stored 0%)\n",
            "  adding: content/plaques/plaques/ideria/aug_20_plaque_ideria_11.jpg (deflated 3%)\n",
            "  adding: content/plaques/plaques/ideria/aug_95_plaque_ideria_7.jpg (deflated 8%)\n",
            "  adding: content/plaques/plaques/ideria/aug_51_plaque_ideria_15.jpg (deflated 9%)\n",
            "  adding: content/plaques/plaques/ideria/aug_9_plaque_ideria_10.jpg (deflated 7%)\n",
            "  adding: content/plaques/plaques/ideria/aug_33_plaque_ideria_12.jpg (deflated 9%)\n",
            "  adding: content/plaques/plaques/ideria/aug_35_plaque_ideria_15.jpg (deflated 12%)\n",
            "  adding: content/plaques/plaques/ideria/aug_86_plaque_ideria_4.jpg (deflated 7%)\n",
            "  adding: content/plaques/plaques/ideria/aug_137_plaque_ideria_10.jpg (deflated 9%)\n",
            "  adding: content/plaques/plaques/ideria/aug_2_plaque_ideria_14.jpg (deflated 4%)\n",
            "  adding: content/plaques/plaques/ideria/aug_19_plaque_ideria_15.jpg (deflated 9%)\n",
            "  adding: content/plaques/plaques/ideria/aug_40_plaque_ideria_2.jpg (deflated 10%)\n",
            "  adding: content/plaques/plaques/ideria/aug_56_plaque_ideria_2.jpg (deflated 10%)\n",
            "  adding: content/plaques/plaques/ideria/aug_65_plaque_ideria_12.jpg (deflated 10%)\n",
            "  adding: content/plaques/plaques/ideria/aug_91_plaque_ideria_5.jpg (deflated 6%)\n",
            "  adding: content/plaques/plaques/ideria/aug_77_plaque_ideria_1.jpg (deflated 9%)\n",
            "  adding: content/plaques/plaques/ideria/plaque_ideria_3.jpg (deflated 4%)\n",
            "  adding: content/plaques/plaques/ideria/aug_0_plaque_ideria_3.jpg (deflated 7%)\n",
            "  adding: content/plaques/plaques/ideria/aug_111_plaque_ideria_7.jpg (deflated 7%)\n",
            "  adding: content/plaques/plaques/ideria/aug_127_plaque_ideria_7.jpg (deflated 7%)\n",
            "  adding: content/plaques/plaques/ideria/aug_110_plaque_ideria_16.jpg (deflated 5%)\n",
            "  adding: content/plaques/plaques/ideria/aug_29_plaque_ideria_1.jpg (deflated 13%)\n",
            "  adding: content/plaques/plaques/ideria/plaque_ideria_12.jpg (deflated 7%)\n",
            "  adding: content/plaques/plaques/ideria/aug_96_plaque_ideria_3.jpg (deflated 6%)\n",
            "  adding: content/plaques/plaques/ideria/plaque_ideria_14.jpg (deflated 2%)\n",
            "  adding: content/plaques/plaques/ideria/aug_32_plaque_ideria_3.jpg (deflated 6%)\n",
            "  adding: content/plaques/plaques/ideria/aug_119_plaque_ideria_13.jpg (deflated 7%)\n",
            "  adding: content/plaques/plaques/ideria/aug_53_plaque_ideria_6.jpg (deflated 3%)\n",
            "  adding: content/plaques/plaques/ideria/aug_74_plaque_ideria_8.jpg (deflated 6%)\n",
            "  adding: content/plaques/plaques/ideria/aug_100_plaque_ideria_11.jpg (deflated 3%)\n",
            "  adding: content/plaques/plaques/ideria/aug_31_plaque_ideria_7.jpg (deflated 7%)\n",
            "  adding: content/plaques/plaques/ideria/aug_121_plaque_ideria_10.jpg (deflated 11%)\n",
            "  adding: content/plaques/plaques/ideria/aug_43_plaque_ideria_5.jpg (deflated 6%)\n",
            "  adding: content/plaques/plaques/ideria/aug_17_plaque_ideria_12.jpg (deflated 10%)\n",
            "  adding: content/plaques/plaques/ideria/aug_120_plaque_ideria_2.jpg (deflated 9%)\n",
            "  adding: content/plaques/plaques/ideria/aug_66_plaque_ideria_14.jpg (deflated 4%)\n",
            "  adding: content/plaques/plaques/ideria/aug_73_plaque_ideria_10.jpg (deflated 10%)\n",
            "  adding: content/plaques/plaques/ideria/aug_103_plaque_ideria_13.jpg (deflated 9%)\n",
            "  adding: content/plaques/plaques/ideria/aug_122_plaque_ideria_8.jpg (deflated 6%)\n",
            "  adding: content/plaques/plaques/ideria/aug_124_plaque_ideria_9.jpg (deflated 7%)\n",
            "  adding: content/plaques/plaques/ideria/aug_93_plaque_ideria_1.jpg (deflated 13%)\n",
            "  adding: content/plaques/plaques/ideria/aug_3_plaque_ideria_15.jpg (deflated 10%)\n",
            "  adding: content/plaques/plaques/ideria/aug_94_plaque_ideria_16.jpg (deflated 6%)\n",
            "  adding: content/plaques/plaques/ideria/aug_36_plaque_ideria_11.jpg (deflated 3%)\n",
            "  adding: content/plaques/plaques/ideria/aug_49_plaque_ideria_12.jpg (deflated 11%)\n",
            "  adding: content/plaques/plaques/ideria/aug_6_plaque_ideria_4.jpg (deflated 7%)\n",
            "  adding: content/plaques/plaques/ideria/aug_82_plaque_ideria_14.jpg (deflated 5%)\n",
            "  adding: content/plaques/plaques/ideria/aug_1_plaque_ideria_12.jpg (deflated 9%)\n",
            "  adding: content/plaques/plaques/ideria/aug_62_plaque_ideria_16.jpg (deflated 6%)\n",
            "  adding: content/plaques/plaques/ideria/plaque_ideria_15.jpg (deflated 5%)\n",
            "  adding: content/plaques/plaques/ideria/aug_87_plaque_ideria_13.jpg (deflated 8%)\n",
            "  adding: content/plaques/plaques/ideria/aug_107_plaque_ideria_5.jpg (deflated 6%)\n",
            "  adding: content/plaques/plaques/ideria/aug_115_plaque_ideria_15.jpg (deflated 8%)\n",
            "  adding: content/plaques/plaques/ideria/aug_12_plaque_ideria_9.jpg (deflated 6%)\n",
            "  adding: content/plaques/plaques/ideria/aug_45_plaque_ideria_1.jpg (deflated 9%)\n",
            "  adding: content/plaques/plaques/ideria/aug_34_plaque_ideria_14.jpg (deflated 8%)\n",
            "  adding: content/plaques/plaques/ideria/plaque_ideria_11.jpg (deflated 2%)\n",
            "  adding: content/plaques/plaques/ideria/aug_90_plaque_ideria_8.jpg (deflated 5%)\n",
            "  adding: content/plaques/plaques/ideria/aug_39_plaque_ideria_13.jpg (deflated 7%)\n",
            "  adding: content/plaques/plaques/ideria/aug_41_plaque_ideria_10.jpg (deflated 10%)\n",
            "  adding: content/plaques/plaques/ideria/aug_57_plaque_ideria_10.jpg (deflated 8%)\n",
            "  adding: content/plaques/plaques/ideria/aug_44_plaque_ideria_9.jpg (deflated 5%)\n",
            "  adding: content/plaques/plaques/ideria/aug_80_plaque_ideria_3.jpg (deflated 6%)\n",
            "  adding: content/plaques/plaques/ideria/aug_42_plaque_ideria_8.jpg (deflated 5%)\n",
            "  adding: content/plaques/plaques/ideria/aug_16_plaque_ideria_3.jpg (deflated 6%)\n",
            "  adding: content/plaques/plaques/ideria/aug_38_plaque_ideria_4.jpg (deflated 7%)\n",
            "  adding: content/plaques/plaques/ideria/aug_28_plaque_ideria_9.jpg (deflated 6%)\n",
            "  adding: content/plaques/plaques/ideria/aug_60_plaque_ideria_9.jpg (deflated 6%)\n",
            "  adding: content/plaques/plaques/ideria/aug_134_plaque_ideria_4.jpg (deflated 7%)\n",
            "  adding: content/plaques/plaques/ideria/plaque_ideria_6.jpg (deflated 2%)\n",
            "  adding: content/plaques/plaques/ideria/aug_116_plaque_ideria_11.jpg (deflated 4%)\n",
            "  adding: content/plaques/plaques/ideria/aug_132_plaque_ideria_11.jpg (deflated 4%)\n",
            "  adding: content/plaques/plaques/ideria/plaque_ideria_4.jpg (deflated 5%)\n",
            "  adding: content/plaques/plaques/ideria/aug_18_plaque_ideria_14.jpg (deflated 5%)\n",
            "  adding: content/plaques/plaques/ideria/plaque_ideria_13.jpg (deflated 6%)\n",
            "  adding: content/plaques/plaques/ideria/aug_63_plaque_ideria_7.jpg (deflated 9%)\n",
            "  adding: content/plaques/plaques/ideria/aug_58_plaque_ideria_8.jpg (deflated 5%)\n",
            "  adding: content/plaques/plaques/ideria/aug_101_plaque_ideria_6.jpg (deflated 3%)\n",
            "  adding: content/plaques/plaques/ideria/aug_136_plaque_ideria_2.jpg (deflated 9%)\n",
            "  adding: content/plaques/plaques/ideria/aug_89_plaque_ideria_10.jpg (deflated 9%)\n",
            "  adding: content/plaques/plaques/ideria/aug_135_plaque_ideria_13.jpg (deflated 10%)\n",
            "  adding: content/plaques/plaques/ideria/aug_117_plaque_ideria_6.jpg (deflated 3%)\n",
            "  adding: content/plaques/plaques/ideria/aug_71_plaque_ideria_13.jpg (deflated 8%)\n",
            "  adding: content/plaques/plaques/ideria/aug_79_plaque_ideria_7.jpg (deflated 7%)\n",
            "  adding: content/plaques/plaques/ideria/plaque_ideria_2.jpg (deflated 8%)\n",
            "  adding: content/plaques/plaques/ideria/aug_72_plaque_ideria_2.jpg (deflated 11%)\n",
            "  adding: content/plaques/plaques/ideria/aug_26_plaque_ideria_8.jpg (deflated 5%)\n",
            "  adding: content/plaques/plaques/ideria/aug_92_plaque_ideria_9.jpg (deflated 5%)\n",
            "  adding: content/plaques/plaques/ideria/aug_109_plaque_ideria_1.jpg (deflated 15%)\n",
            "  adding: content/plaques/plaques/ideria/aug_14_plaque_ideria_16.jpg (deflated 5%)\n",
            "  adding: content/plaques/plaques/ideria/aug_48_plaque_ideria_3.jpg (deflated 5%)\n",
            "  adding: content/plaques/plaques/ideria/aug_64_plaque_ideria_3.jpg (deflated 6%)\n",
            "  adding: content/plaques/plaques/ideria/aug_114_plaque_ideria_14.jpg (deflated 5%)\n",
            "  adding: content/plaques/plaques/ideria/aug_8_plaque_ideria_2.jpg (deflated 9%)\n",
            "  adding: content/plaques/plaques/ideria/aug_46_plaque_ideria_16.jpg (deflated 6%)\n",
            "  adding: content/plaques/plaques/ideria/plaque_ideria_10.jpg (deflated 6%)\n",
            "  adding: content/plaques/plaques/ideria/aug_25_plaque_ideria_10.jpg (deflated 8%)\n",
            "  adding: content/plaques/plaques/ideria/aug_102_plaque_ideria_4.jpg (deflated 7%)\n",
            "  adding: content/plaques/plaques/ideria/aug_55_plaque_ideria_13.jpg (deflated 8%)\n",
            "  adding: content/plaques/plaques/ideria/aug_59_plaque_ideria_5.jpg (deflated 5%)\n",
            "  adding: content/plaques/plaques/ideria/aug_37_plaque_ideria_6.jpg (deflated 4%)\n",
            "  adding: content/plaques/plaques/ideria/aug_112_plaque_ideria_3.jpg (deflated 6%)\n",
            "  adding: content/plaques/plaques/ideria/aug_23_plaque_ideria_13.jpg (deflated 10%)\n",
            "  adding: content/plaques/plaques/ideria/aug_78_plaque_ideria_16.jpg (deflated 6%)\n",
            "  adding: content/plaques/plaques/ideria/aug_15_plaque_ideria_7.jpg (deflated 7%)\n",
            "  adding: content/plaques/plaques/ideria/aug_27_plaque_ideria_5.jpg (deflated 5%)\n",
            "  adding: content/plaques/plaques/ideria/aug_123_plaque_ideria_5.jpg (deflated 5%)\n",
            "  adding: content/plaques/plaques/ideria/aug_108_plaque_ideria_9.jpg (deflated 5%)\n",
            "  adding: content/plaques/plaques/ideria/aug_5_plaque_ideria_6.jpg (deflated 2%)\n",
            "  adding: content/plaques/plaques/ideria/plaque_ideria_8.jpg (deflated 3%)\n",
            "  adding: content/plaques/plaques/ideria/aug_52_plaque_ideria_11.jpg (deflated 5%)\n",
            "  adding: content/plaques/plaques/ideria/aug_106_plaque_ideria_8.jpg (deflated 5%)\n",
            "  adding: content/plaques/plaques/ideria/aug_85_plaque_ideria_6.jpg (deflated 2%)\n",
            "  adding: content/plaques/plaques/ideria/plaque_ideria_5.jpg (deflated 4%)\n",
            "  adding: content/plaques/plaques/ideria/aug_104_plaque_ideria_2.jpg (deflated 9%)\n",
            "  adding: content/plaques/plaques/ideria/aug_75_plaque_ideria_5.jpg (deflated 6%)\n",
            "  adding: content/plaques/plaques/ideria/aug_138_plaque_ideria_8.jpg (deflated 7%)\n",
            "  adding: content/plaques/plaques/ideria/aug_69_plaque_ideria_6.jpg (deflated 3%)\n",
            "  adding: content/plaques/plaques/ideria/aug_67_plaque_ideria_15.jpg (deflated 9%)\n",
            "  adding: content/plaques/plaques/ideria/aug_61_plaque_ideria_1.jpg (deflated 9%)\n",
            "  adding: content/plaques/plaques/ideria/aug_30_plaque_ideria_16.jpg (deflated 6%)\n",
            "  adding: content/plaques/plaques/ideria/aug_131_plaque_ideria_15.jpg (deflated 9%)\n",
            "  adding: content/plaques/plaques/ideria/aug_133_plaque_ideria_6.jpg (deflated 2%)\n",
            "  adding: content/plaques/plaques/ideria/aug_88_plaque_ideria_2.jpg (deflated 10%)\n",
            "  adding: content/plaques/plaques/ideria/aug_22_plaque_ideria_4.jpg (deflated 7%)\n",
            "  adding: content/plaques/plaques/ideria/aug_24_plaque_ideria_2.jpg (deflated 9%)\n",
            "  adding: content/plaques/plaques/ideria/aug_21_plaque_ideria_6.jpg (deflated 2%)\n",
            "  adding: content/plaques/plaques/ideria/aug_10_plaque_ideria_8.jpg (deflated 5%)\n",
            "  adding: content/plaques/plaques/ideria/aug_68_plaque_ideria_11.jpg (deflated 4%)\n",
            "  adding: content/plaques/plaques/ideria/aug_126_plaque_ideria_16.jpg (deflated 5%)\n",
            "  adding: content/plaques/plaques/ideria/aug_50_plaque_ideria_14.jpg (deflated 4%)\n",
            "  adding: content/plaques/plaques/ideria/aug_47_plaque_ideria_7.jpg (deflated 9%)\n",
            "  adding: content/plaques/plaques/ideria/aug_4_plaque_ideria_11.jpg (deflated 4%)\n",
            "  adding: content/plaques/plaques/ideria/aug_129_plaque_ideria_12.jpg (deflated 10%)\n",
            "  adding: content/plaques/plaques/ideria/aug_113_plaque_ideria_12.jpg (deflated 9%)\n",
            "  adding: content/plaques/plaques/ideria/aug_11_plaque_ideria_5.jpg (deflated 6%)\n",
            "  adding: content/plaques/plaques/ideria/aug_76_plaque_ideria_9.jpg (deflated 6%)\n",
            "  adding: content/plaques/plaques/ideria/plaque_ideria_9.jpg (deflated 4%)\n",
            "  adding: content/plaques/plaques/ideria/aug_125_plaque_ideria_1.jpg (deflated 8%)\n",
            "  adding: content/plaques/plaques/ideria/aug_105_plaque_ideria_10.jpg (deflated 7%)\n",
            "  adding: content/plaques/plaques/ideria/aug_70_plaque_ideria_4.jpg (deflated 6%)\n",
            "  adding: content/plaques/plaques/ideria/aug_118_plaque_ideria_4.jpg (deflated 7%)\n",
            "  adding: content/plaques/plaques/ideria/aug_7_plaque_ideria_13.jpg (deflated 13%)\n",
            "  adding: content/plaques/plaques/ideria/plaque_ideria_1.jpg (deflated 6%)\n",
            "  adding: content/plaques/plaques/ideria/aug_98_plaque_ideria_14.jpg (deflated 4%)\n",
            "  adding: content/plaques/plaques/ideria/plaque_ideria_16.jpg (deflated 4%)\n",
            "  adding: content/plaques/plaques/ideria/aug_84_plaque_ideria_11.jpg (deflated 3%)\n",
            "  adding: content/plaques/plaques/ideria/aug_81_plaque_ideria_12.jpg (deflated 10%)\n",
            "  adding: content/plaques/plaques/ideria/aug_99_plaque_ideria_15.jpg (deflated 10%)\n",
            "  adding: content/plaques/plaques/ideria/plaque_ideria_7.jpg (deflated 5%)\n",
            "  adding: content/plaques/plaques/ideria/aug_13_plaque_ideria_1.jpg (deflated 9%)\n",
            "  adding: content/plaques/plaques/ideria/aug_83_plaque_ideria_15.jpg (deflated 9%)\n",
            "  adding: content/plaques/plaques/ideria/aug_128_plaque_ideria_3.jpg (deflated 5%)\n",
            "  adding: content/plaques/plaques/ideria/aug_97_plaque_ideria_12.jpg (deflated 10%)\n",
            "  adding: content/plaques/plaques/ideria/aug_54_plaque_ideria_4.jpg (deflated 7%)\n",
            "  adding: content/plaques/plaques/ideria/aug_130_plaque_ideria_14.jpg (deflated 7%)\n"
          ]
        },
        {
          "output_type": "display_data",
          "data": {
            "text/plain": [
              "<IPython.core.display.Javascript object>"
            ],
            "application/javascript": [
              "\n",
              "    async function download(id, filename, size) {\n",
              "      if (!google.colab.kernel.accessAllowed) {\n",
              "        return;\n",
              "      }\n",
              "      const div = document.createElement('div');\n",
              "      const label = document.createElement('label');\n",
              "      label.textContent = `Downloading \"${filename}\": `;\n",
              "      div.appendChild(label);\n",
              "      const progress = document.createElement('progress');\n",
              "      progress.max = size;\n",
              "      div.appendChild(progress);\n",
              "      document.body.appendChild(div);\n",
              "\n",
              "      const buffers = [];\n",
              "      let downloaded = 0;\n",
              "\n",
              "      const channel = await google.colab.kernel.comms.open(id);\n",
              "      // Send a message to notify the kernel that we're ready.\n",
              "      channel.send({})\n",
              "\n",
              "      for await (const message of channel.messages) {\n",
              "        // Send a message to notify the kernel that we're ready.\n",
              "        channel.send({})\n",
              "        if (message.buffers) {\n",
              "          for (const buffer of message.buffers) {\n",
              "            buffers.push(buffer);\n",
              "            downloaded += buffer.byteLength;\n",
              "            progress.value = downloaded;\n",
              "          }\n",
              "        }\n",
              "      }\n",
              "      const blob = new Blob(buffers, {type: 'application/binary'});\n",
              "      const a = document.createElement('a');\n",
              "      a.href = window.URL.createObjectURL(blob);\n",
              "      a.download = filename;\n",
              "      div.appendChild(a);\n",
              "      a.click();\n",
              "      div.remove();\n",
              "    }\n",
              "  "
            ]
          },
          "metadata": {}
        },
        {
          "output_type": "display_data",
          "data": {
            "text/plain": [
              "<IPython.core.display.Javascript object>"
            ],
            "application/javascript": [
              "download(\"download_64c183b7-fb92-4419-ad43-c3e9d00c44c2\", \"augmented_plaques.zip\", 2347884)"
            ]
          },
          "metadata": {}
        }
      ]
    },
    {
      "cell_type": "code",
      "source": [
        "import os\n",
        "import tensorflow as tf\n",
        "from tensorflow.keras.models import Sequential\n",
        "from tensorflow.keras.layers import Conv2D, MaxPooling2D, Flatten, Dense, Dropout\n",
        "from tensorflow.keras.preprocessing.image import ImageDataGenerator\n",
        "from tensorflow.keras.callbacks import EarlyStopping\n",
        "# Paths\n",
        "base_dir = \"/content/plaques/plaques\"\n",
        "\n",
        "# Data Generators\n",
        "train_datagen = ImageDataGenerator(\n",
        "    rescale=1.0/255,  # Normalize pixel values\n",
        "    validation_split=0.2  # 20% for validation\n",
        ")\n",
        "\n",
        "# Training Data\n",
        "train_generator = train_datagen.flow_from_directory(\n",
        "    base_dir,\n",
        "    target_size=(150, 150),  # Resize images\n",
        "    batch_size=32,          # Number of images per batch\n",
        "    class_mode='categorical',  # Multi-class classification\n",
        "    subset='training'       # Use the training subset\n",
        ")\n",
        "\n",
        "# Validation Data\n",
        "val_generator = train_datagen.flow_from_directory(\n",
        "    base_dir,\n",
        "    target_size=(150, 150),\n",
        "    batch_size=32,\n",
        "    class_mode='categorical',\n",
        "    subset='validation'  # Use the validation subset\n",
        ")\n"
      ],
      "metadata": {
        "colab": {
          "base_uri": "https://localhost:8080/"
        },
        "id": "Ntxa2NTVFsjf",
        "outputId": "2f311b72-46c3-4799-dd95-1a02ffb2ccc2"
      },
      "execution_count": null,
      "outputs": [
        {
          "output_type": "stream",
          "name": "stdout",
          "text": [
            "Found 496 images belonging to 4 classes.\n",
            "Found 124 images belonging to 4 classes.\n"
          ]
        }
      ]
    },
    {
      "cell_type": "code",
      "source": [
        "from tensorflow.keras.models import Sequential\n",
        "from tensorflow.keras.layers import Conv2D, MaxPooling2D, Flatten, Dense, Dropout\n",
        "from tensorflow.keras.regularizers import l2\n",
        "\n",
        "model = Sequential([\n",
        "    # Convolutional layers\n",
        "    Conv2D(32, (3, 3), activation='relu', input_shape=(150, 150, 3)),\n",
        "    MaxPooling2D(pool_size=(2, 2)),\n",
        "\n",
        "    Conv2D(64, (3, 3), activation='relu'),\n",
        "    MaxPooling2D(pool_size=(2, 2)),\n",
        "\n",
        "    Conv2D(128, (3, 3), activation='relu'),\n",
        "    MaxPooling2D(pool_size=(2, 2)),\n",
        "\n",
        "    # Flatten the feature maps\n",
        "    Flatten(),\n",
        "\n",
        "    # Fully connected layers with L2 regularization\n",
        "    Dense(512, activation='relu', kernel_regularizer=l2(0.01)),\n",
        "    Dropout(0.5),  # Add Dropout to reduce overfitting\n",
        "\n",
        "    # Output layer for classification\n",
        "    Dense(4, activation='softmax')  # 4 classes: ideria, nounta, others, tounsia\n",
        "])\n",
        "\n",
        "# Compile the model\n",
        "model.compile(optimizer='adam',\n",
        "              loss='categorical_crossentropy',\n",
        "              metrics=['accuracy'])\n",
        "\n",
        "# Model Summary\n",
        "model.summary()\n"
      ],
      "metadata": {
        "colab": {
          "base_uri": "https://localhost:8080/",
          "height": 521
        },
        "id": "0Patblc0HGXE",
        "outputId": "f0a396aa-5634-4a76-e562-bbbf1ca09665"
      },
      "execution_count": null,
      "outputs": [
        {
          "output_type": "stream",
          "name": "stderr",
          "text": [
            "/usr/local/lib/python3.10/dist-packages/keras/src/layers/convolutional/base_conv.py:107: UserWarning: Do not pass an `input_shape`/`input_dim` argument to a layer. When using Sequential models, prefer using an `Input(shape)` object as the first layer in the model instead.\n",
            "  super().__init__(activity_regularizer=activity_regularizer, **kwargs)\n"
          ]
        },
        {
          "output_type": "display_data",
          "data": {
            "text/plain": [
              "\u001b[1mModel: \"sequential\"\u001b[0m\n"
            ],
            "text/html": [
              "<pre style=\"white-space:pre;overflow-x:auto;line-height:normal;font-family:Menlo,'DejaVu Sans Mono',consolas,'Courier New',monospace\"><span style=\"font-weight: bold\">Model: \"sequential\"</span>\n",
              "</pre>\n"
            ]
          },
          "metadata": {}
        },
        {
          "output_type": "display_data",
          "data": {
            "text/plain": [
              "┏━━━━━━━━━━━━━━━━━━━━━━━━━━━━━━━━━━━━━━┳━━━━━━━━━━━━━━━━━━━━━━━━━━━━━┳━━━━━━━━━━━━━━━━━┓\n",
              "┃\u001b[1m \u001b[0m\u001b[1mLayer (type)                        \u001b[0m\u001b[1m \u001b[0m┃\u001b[1m \u001b[0m\u001b[1mOutput Shape               \u001b[0m\u001b[1m \u001b[0m┃\u001b[1m \u001b[0m\u001b[1m        Param #\u001b[0m\u001b[1m \u001b[0m┃\n",
              "┡━━━━━━━━━━━━━━━━━━━━━━━━━━━━━━━━━━━━━━╇━━━━━━━━━━━━━━━━━━━━━━━━━━━━━╇━━━━━━━━━━━━━━━━━┩\n",
              "│ conv2d (\u001b[38;5;33mConv2D\u001b[0m)                      │ (\u001b[38;5;45mNone\u001b[0m, \u001b[38;5;34m148\u001b[0m, \u001b[38;5;34m148\u001b[0m, \u001b[38;5;34m32\u001b[0m)        │             \u001b[38;5;34m896\u001b[0m │\n",
              "├──────────────────────────────────────┼─────────────────────────────┼─────────────────┤\n",
              "│ max_pooling2d (\u001b[38;5;33mMaxPooling2D\u001b[0m)         │ (\u001b[38;5;45mNone\u001b[0m, \u001b[38;5;34m74\u001b[0m, \u001b[38;5;34m74\u001b[0m, \u001b[38;5;34m32\u001b[0m)          │               \u001b[38;5;34m0\u001b[0m │\n",
              "├──────────────────────────────────────┼─────────────────────────────┼─────────────────┤\n",
              "│ conv2d_1 (\u001b[38;5;33mConv2D\u001b[0m)                    │ (\u001b[38;5;45mNone\u001b[0m, \u001b[38;5;34m72\u001b[0m, \u001b[38;5;34m72\u001b[0m, \u001b[38;5;34m64\u001b[0m)          │          \u001b[38;5;34m18,496\u001b[0m │\n",
              "├──────────────────────────────────────┼─────────────────────────────┼─────────────────┤\n",
              "│ max_pooling2d_1 (\u001b[38;5;33mMaxPooling2D\u001b[0m)       │ (\u001b[38;5;45mNone\u001b[0m, \u001b[38;5;34m36\u001b[0m, \u001b[38;5;34m36\u001b[0m, \u001b[38;5;34m64\u001b[0m)          │               \u001b[38;5;34m0\u001b[0m │\n",
              "├──────────────────────────────────────┼─────────────────────────────┼─────────────────┤\n",
              "│ conv2d_2 (\u001b[38;5;33mConv2D\u001b[0m)                    │ (\u001b[38;5;45mNone\u001b[0m, \u001b[38;5;34m34\u001b[0m, \u001b[38;5;34m34\u001b[0m, \u001b[38;5;34m128\u001b[0m)         │          \u001b[38;5;34m73,856\u001b[0m │\n",
              "├──────────────────────────────────────┼─────────────────────────────┼─────────────────┤\n",
              "│ max_pooling2d_2 (\u001b[38;5;33mMaxPooling2D\u001b[0m)       │ (\u001b[38;5;45mNone\u001b[0m, \u001b[38;5;34m17\u001b[0m, \u001b[38;5;34m17\u001b[0m, \u001b[38;5;34m128\u001b[0m)         │               \u001b[38;5;34m0\u001b[0m │\n",
              "├──────────────────────────────────────┼─────────────────────────────┼─────────────────┤\n",
              "│ flatten (\u001b[38;5;33mFlatten\u001b[0m)                    │ (\u001b[38;5;45mNone\u001b[0m, \u001b[38;5;34m36992\u001b[0m)               │               \u001b[38;5;34m0\u001b[0m │\n",
              "├──────────────────────────────────────┼─────────────────────────────┼─────────────────┤\n",
              "│ dense (\u001b[38;5;33mDense\u001b[0m)                        │ (\u001b[38;5;45mNone\u001b[0m, \u001b[38;5;34m512\u001b[0m)                 │      \u001b[38;5;34m18,940,416\u001b[0m │\n",
              "├──────────────────────────────────────┼─────────────────────────────┼─────────────────┤\n",
              "│ dropout (\u001b[38;5;33mDropout\u001b[0m)                    │ (\u001b[38;5;45mNone\u001b[0m, \u001b[38;5;34m512\u001b[0m)                 │               \u001b[38;5;34m0\u001b[0m │\n",
              "├──────────────────────────────────────┼─────────────────────────────┼─────────────────┤\n",
              "│ dense_1 (\u001b[38;5;33mDense\u001b[0m)                      │ (\u001b[38;5;45mNone\u001b[0m, \u001b[38;5;34m4\u001b[0m)                   │           \u001b[38;5;34m2,052\u001b[0m │\n",
              "└──────────────────────────────────────┴─────────────────────────────┴─────────────────┘\n"
            ],
            "text/html": [
              "<pre style=\"white-space:pre;overflow-x:auto;line-height:normal;font-family:Menlo,'DejaVu Sans Mono',consolas,'Courier New',monospace\">┏━━━━━━━━━━━━━━━━━━━━━━━━━━━━━━━━━━━━━━┳━━━━━━━━━━━━━━━━━━━━━━━━━━━━━┳━━━━━━━━━━━━━━━━━┓\n",
              "┃<span style=\"font-weight: bold\"> Layer (type)                         </span>┃<span style=\"font-weight: bold\"> Output Shape                </span>┃<span style=\"font-weight: bold\">         Param # </span>┃\n",
              "┡━━━━━━━━━━━━━━━━━━━━━━━━━━━━━━━━━━━━━━╇━━━━━━━━━━━━━━━━━━━━━━━━━━━━━╇━━━━━━━━━━━━━━━━━┩\n",
              "│ conv2d (<span style=\"color: #0087ff; text-decoration-color: #0087ff\">Conv2D</span>)                      │ (<span style=\"color: #00d7ff; text-decoration-color: #00d7ff\">None</span>, <span style=\"color: #00af00; text-decoration-color: #00af00\">148</span>, <span style=\"color: #00af00; text-decoration-color: #00af00\">148</span>, <span style=\"color: #00af00; text-decoration-color: #00af00\">32</span>)        │             <span style=\"color: #00af00; text-decoration-color: #00af00\">896</span> │\n",
              "├──────────────────────────────────────┼─────────────────────────────┼─────────────────┤\n",
              "│ max_pooling2d (<span style=\"color: #0087ff; text-decoration-color: #0087ff\">MaxPooling2D</span>)         │ (<span style=\"color: #00d7ff; text-decoration-color: #00d7ff\">None</span>, <span style=\"color: #00af00; text-decoration-color: #00af00\">74</span>, <span style=\"color: #00af00; text-decoration-color: #00af00\">74</span>, <span style=\"color: #00af00; text-decoration-color: #00af00\">32</span>)          │               <span style=\"color: #00af00; text-decoration-color: #00af00\">0</span> │\n",
              "├──────────────────────────────────────┼─────────────────────────────┼─────────────────┤\n",
              "│ conv2d_1 (<span style=\"color: #0087ff; text-decoration-color: #0087ff\">Conv2D</span>)                    │ (<span style=\"color: #00d7ff; text-decoration-color: #00d7ff\">None</span>, <span style=\"color: #00af00; text-decoration-color: #00af00\">72</span>, <span style=\"color: #00af00; text-decoration-color: #00af00\">72</span>, <span style=\"color: #00af00; text-decoration-color: #00af00\">64</span>)          │          <span style=\"color: #00af00; text-decoration-color: #00af00\">18,496</span> │\n",
              "├──────────────────────────────────────┼─────────────────────────────┼─────────────────┤\n",
              "│ max_pooling2d_1 (<span style=\"color: #0087ff; text-decoration-color: #0087ff\">MaxPooling2D</span>)       │ (<span style=\"color: #00d7ff; text-decoration-color: #00d7ff\">None</span>, <span style=\"color: #00af00; text-decoration-color: #00af00\">36</span>, <span style=\"color: #00af00; text-decoration-color: #00af00\">36</span>, <span style=\"color: #00af00; text-decoration-color: #00af00\">64</span>)          │               <span style=\"color: #00af00; text-decoration-color: #00af00\">0</span> │\n",
              "├──────────────────────────────────────┼─────────────────────────────┼─────────────────┤\n",
              "│ conv2d_2 (<span style=\"color: #0087ff; text-decoration-color: #0087ff\">Conv2D</span>)                    │ (<span style=\"color: #00d7ff; text-decoration-color: #00d7ff\">None</span>, <span style=\"color: #00af00; text-decoration-color: #00af00\">34</span>, <span style=\"color: #00af00; text-decoration-color: #00af00\">34</span>, <span style=\"color: #00af00; text-decoration-color: #00af00\">128</span>)         │          <span style=\"color: #00af00; text-decoration-color: #00af00\">73,856</span> │\n",
              "├──────────────────────────────────────┼─────────────────────────────┼─────────────────┤\n",
              "│ max_pooling2d_2 (<span style=\"color: #0087ff; text-decoration-color: #0087ff\">MaxPooling2D</span>)       │ (<span style=\"color: #00d7ff; text-decoration-color: #00d7ff\">None</span>, <span style=\"color: #00af00; text-decoration-color: #00af00\">17</span>, <span style=\"color: #00af00; text-decoration-color: #00af00\">17</span>, <span style=\"color: #00af00; text-decoration-color: #00af00\">128</span>)         │               <span style=\"color: #00af00; text-decoration-color: #00af00\">0</span> │\n",
              "├──────────────────────────────────────┼─────────────────────────────┼─────────────────┤\n",
              "│ flatten (<span style=\"color: #0087ff; text-decoration-color: #0087ff\">Flatten</span>)                    │ (<span style=\"color: #00d7ff; text-decoration-color: #00d7ff\">None</span>, <span style=\"color: #00af00; text-decoration-color: #00af00\">36992</span>)               │               <span style=\"color: #00af00; text-decoration-color: #00af00\">0</span> │\n",
              "├──────────────────────────────────────┼─────────────────────────────┼─────────────────┤\n",
              "│ dense (<span style=\"color: #0087ff; text-decoration-color: #0087ff\">Dense</span>)                        │ (<span style=\"color: #00d7ff; text-decoration-color: #00d7ff\">None</span>, <span style=\"color: #00af00; text-decoration-color: #00af00\">512</span>)                 │      <span style=\"color: #00af00; text-decoration-color: #00af00\">18,940,416</span> │\n",
              "├──────────────────────────────────────┼─────────────────────────────┼─────────────────┤\n",
              "│ dropout (<span style=\"color: #0087ff; text-decoration-color: #0087ff\">Dropout</span>)                    │ (<span style=\"color: #00d7ff; text-decoration-color: #00d7ff\">None</span>, <span style=\"color: #00af00; text-decoration-color: #00af00\">512</span>)                 │               <span style=\"color: #00af00; text-decoration-color: #00af00\">0</span> │\n",
              "├──────────────────────────────────────┼─────────────────────────────┼─────────────────┤\n",
              "│ dense_1 (<span style=\"color: #0087ff; text-decoration-color: #0087ff\">Dense</span>)                      │ (<span style=\"color: #00d7ff; text-decoration-color: #00d7ff\">None</span>, <span style=\"color: #00af00; text-decoration-color: #00af00\">4</span>)                   │           <span style=\"color: #00af00; text-decoration-color: #00af00\">2,052</span> │\n",
              "└──────────────────────────────────────┴─────────────────────────────┴─────────────────┘\n",
              "</pre>\n"
            ]
          },
          "metadata": {}
        },
        {
          "output_type": "display_data",
          "data": {
            "text/plain": [
              "\u001b[1m Total params: \u001b[0m\u001b[38;5;34m19,035,716\u001b[0m (72.62 MB)\n"
            ],
            "text/html": [
              "<pre style=\"white-space:pre;overflow-x:auto;line-height:normal;font-family:Menlo,'DejaVu Sans Mono',consolas,'Courier New',monospace\"><span style=\"font-weight: bold\"> Total params: </span><span style=\"color: #00af00; text-decoration-color: #00af00\">19,035,716</span> (72.62 MB)\n",
              "</pre>\n"
            ]
          },
          "metadata": {}
        },
        {
          "output_type": "display_data",
          "data": {
            "text/plain": [
              "\u001b[1m Trainable params: \u001b[0m\u001b[38;5;34m19,035,716\u001b[0m (72.62 MB)\n"
            ],
            "text/html": [
              "<pre style=\"white-space:pre;overflow-x:auto;line-height:normal;font-family:Menlo,'DejaVu Sans Mono',consolas,'Courier New',monospace\"><span style=\"font-weight: bold\"> Trainable params: </span><span style=\"color: #00af00; text-decoration-color: #00af00\">19,035,716</span> (72.62 MB)\n",
              "</pre>\n"
            ]
          },
          "metadata": {}
        },
        {
          "output_type": "display_data",
          "data": {
            "text/plain": [
              "\u001b[1m Non-trainable params: \u001b[0m\u001b[38;5;34m0\u001b[0m (0.00 B)\n"
            ],
            "text/html": [
              "<pre style=\"white-space:pre;overflow-x:auto;line-height:normal;font-family:Menlo,'DejaVu Sans Mono',consolas,'Courier New',monospace\"><span style=\"font-weight: bold\"> Non-trainable params: </span><span style=\"color: #00af00; text-decoration-color: #00af00\">0</span> (0.00 B)\n",
              "</pre>\n"
            ]
          },
          "metadata": {}
        }
      ]
    },
    {
      "cell_type": "code",
      "source": [
        "model.compile(\n",
        "    optimizer='adam',  # Adaptive learning rate\n",
        "    loss='categorical_crossentropy',  # Suitable for multi-class classification\n",
        "    metrics=['accuracy']  # Track accuracy during training\n",
        ")\n"
      ],
      "metadata": {
        "id": "mv7qCUNiHMVG"
      },
      "execution_count": null,
      "outputs": []
    },
    {
      "cell_type": "code",
      "source": [
        "early_stop = EarlyStopping(monitor='val_loss', patience=5, restore_best_weights=True)\n",
        "\n",
        "# Train the model\n",
        "history = model.fit(\n",
        "    train_generator,\n",
        "    epochs=15,  # Number of epochs\n",
        "    validation_data=val_generator,\n",
        "    callbacks=[early_stop]\n",
        ")\n",
        "\n",
        "\n"
      ],
      "metadata": {
        "colab": {
          "base_uri": "https://localhost:8080/"
        },
        "id": "xTnV_qg-HPaB",
        "outputId": "3dcee659-c878-4414-e9d2-25321afe8f87"
      },
      "execution_count": null,
      "outputs": [
        {
          "output_type": "stream",
          "name": "stdout",
          "text": [
            "Epoch 1/15\n"
          ]
        },
        {
          "output_type": "stream",
          "name": "stderr",
          "text": [
            "/usr/local/lib/python3.10/dist-packages/keras/src/trainers/data_adapters/py_dataset_adapter.py:122: UserWarning: Your `PyDataset` class should call `super().__init__(**kwargs)` in its constructor. `**kwargs` can include `workers`, `use_multiprocessing`, `max_queue_size`. Do not pass these arguments to `fit()`, as they will be ignored.\n",
            "  self._warn_if_super_not_called()\n"
          ]
        },
        {
          "output_type": "stream",
          "name": "stdout",
          "text": [
            "\u001b[1m16/16\u001b[0m \u001b[32m━━━━━━━━━━━━━━━━━━━━\u001b[0m\u001b[37m\u001b[0m \u001b[1m51s\u001b[0m 3s/step - accuracy: 0.2972 - loss: 8.7612 - val_accuracy: 0.5565 - val_loss: 3.2280\n",
            "Epoch 2/15\n",
            "\u001b[1m16/16\u001b[0m \u001b[32m━━━━━━━━━━━━━━━━━━━━\u001b[0m\u001b[37m\u001b[0m \u001b[1m75s\u001b[0m 2s/step - accuracy: 0.6107 - loss: 2.8354 - val_accuracy: 0.6774 - val_loss: 1.8973\n",
            "Epoch 3/15\n",
            "\u001b[1m16/16\u001b[0m \u001b[32m━━━━━━━━━━━━━━━━━━━━\u001b[0m\u001b[37m\u001b[0m \u001b[1m34s\u001b[0m 2s/step - accuracy: 0.7303 - loss: 1.7156 - val_accuracy: 0.6613 - val_loss: 1.4372\n",
            "Epoch 4/15\n",
            "\u001b[1m16/16\u001b[0m \u001b[32m━━━━━━━━━━━━━━━━━━━━\u001b[0m\u001b[37m\u001b[0m \u001b[1m34s\u001b[0m 2s/step - accuracy: 0.7796 - loss: 1.2067 - val_accuracy: 0.6452 - val_loss: 1.3320\n",
            "Epoch 5/15\n",
            "\u001b[1m16/16\u001b[0m \u001b[32m━━━━━━━━━━━━━━━━━━━━\u001b[0m\u001b[37m\u001b[0m \u001b[1m42s\u001b[0m 2s/step - accuracy: 0.7739 - loss: 1.0546 - val_accuracy: 0.7258 - val_loss: 1.1921\n",
            "Epoch 6/15\n",
            "\u001b[1m16/16\u001b[0m \u001b[32m━━━━━━━━━━━━━━━━━━━━\u001b[0m\u001b[37m\u001b[0m \u001b[1m40s\u001b[0m 2s/step - accuracy: 0.8176 - loss: 0.9664 - val_accuracy: 0.7339 - val_loss: 1.2192\n",
            "Epoch 7/15\n",
            "\u001b[1m16/16\u001b[0m \u001b[32m━━━━━━━━━━━━━━━━━━━━\u001b[0m\u001b[37m\u001b[0m \u001b[1m43s\u001b[0m 3s/step - accuracy: 0.8493 - loss: 1.0061 - val_accuracy: 0.6613 - val_loss: 1.2664\n",
            "Epoch 8/15\n",
            "\u001b[1m16/16\u001b[0m \u001b[32m━━━━━━━━━━━━━━━━━━━━\u001b[0m\u001b[37m\u001b[0m \u001b[1m73s\u001b[0m 2s/step - accuracy: 0.8635 - loss: 0.9049 - val_accuracy: 0.7097 - val_loss: 1.1933\n",
            "Epoch 9/15\n",
            "\u001b[1m16/16\u001b[0m \u001b[32m━━━━━━━━━━━━━━━━━━━━\u001b[0m\u001b[37m\u001b[0m \u001b[1m35s\u001b[0m 2s/step - accuracy: 0.8362 - loss: 0.8767 - val_accuracy: 0.6694 - val_loss: 1.3617\n",
            "Epoch 10/15\n",
            "\u001b[1m16/16\u001b[0m \u001b[32m━━━━━━━━━━━━━━━━━━━━\u001b[0m\u001b[37m\u001b[0m \u001b[1m41s\u001b[0m 2s/step - accuracy: 0.8776 - loss: 0.8550 - val_accuracy: 0.7339 - val_loss: 1.2368\n"
          ]
        }
      ]
    },
    {
      "cell_type": "code",
      "source": [
        "from google.colab import drive\n",
        "drive.mount('/content/drive')\n",
        "import zipfile\n",
        "import os\n",
        "\n",
        "# Path to the zip file in Google Drive\n",
        "zip_path = '/content/drive/MyDrive/YOLO_DATA/car_plaques_cnn_model.zip'  # Update the path if needed\n",
        "extract_path = '/content/car_plaques_cnn_model'  # Destination folder to extract the model\n",
        "\n",
        "# Unzipping the model\n",
        "with zipfile.ZipFile(zip_path, 'r') as zip_ref:\n",
        "    zip_ref.extractall(extract_path)\n",
        "\n",
        "print(\"Model unzipped successfully!\")\n",
        "from tensorflow.keras.models import load_model\n",
        "\n",
        "model = load_model('/content/car_plaques_cnn_model')\n",
        "\n",
        "print(\"Model loaded successfully!\")\n",
        "\n"
      ],
      "metadata": {
        "id": "5U9Ix-24zBVE"
      },
      "execution_count": null,
      "outputs": []
    },
    {
      "cell_type": "code",
      "source": [
        "val_loss, val_accuracy = model.evaluate(val_generator)\n",
        "print(f\"Validation Loss: {val_loss}\")\n",
        "print(f\"Validation Accuracy: {val_accuracy}\")\n"
      ],
      "metadata": {
        "colab": {
          "base_uri": "https://localhost:8080/"
        },
        "id": "rUvekNbcJ53c",
        "outputId": "a9abe147-e2bf-44b5-f5b8-c1161f7b5994"
      },
      "execution_count": null,
      "outputs": [
        {
          "output_type": "stream",
          "name": "stdout",
          "text": [
            "\u001b[1m4/4\u001b[0m \u001b[32m━━━━━━━━━━━━━━━━━━━━\u001b[0m\u001b[37m\u001b[0m \u001b[1m2s\u001b[0m 453ms/step - accuracy: 0.7039 - loss: 1.1873\n",
            "Validation Loss: 1.1921322345733643\n",
            "Validation Accuracy: 0.725806474685669\n"
          ]
        }
      ]
    },
    {
      "cell_type": "code",
      "source": [
        "model.save(\"car_plaques_cnn_model.h5\")\n",
        "from google.colab import files\n",
        "files.download(\"car_plaques_cnn_model.h5\")\n"
      ],
      "metadata": {
        "id": "CDYPGUcfHVrU"
      },
      "execution_count": null,
      "outputs": []
    },
    {
      "cell_type": "code",
      "source": [
        "import numpy as np\n",
        "import matplotlib.pyplot as plt\n",
        "from sklearn.metrics import confusion_matrix, classification_report\n",
        "import seaborn as sns\n",
        "# Get true labels and predicted labels\n",
        "val_generator.reset()  # Reset the validation generator\n",
        "\n",
        "# Predict the probabilities for all validation images\n",
        "predictions = model.predict(val_generator)\n",
        "\n",
        "# Convert predicted probabilities to class indices\n",
        "y_pred = np.argmax(predictions, axis=1)\n",
        "\n",
        "# Get true labels\n",
        "y_true = val_generator.classes\n",
        "\n",
        "# Get class names\n",
        "class_names = list(val_generator.class_indices.keys())\n"
      ],
      "metadata": {
        "colab": {
          "base_uri": "https://localhost:8080/"
        },
        "id": "r2DDn1mkHY3C",
        "outputId": "36e1d08c-2d3d-43b4-f9a0-3f144b3e4770"
      },
      "execution_count": null,
      "outputs": [
        {
          "output_type": "stream",
          "name": "stdout",
          "text": [
            "\u001b[1m4/4\u001b[0m \u001b[32m━━━━━━━━━━━━━━━━━━━━\u001b[0m\u001b[37m\u001b[0m \u001b[1m2s\u001b[0m 444ms/step\n"
          ]
        }
      ]
    },
    {
      "cell_type": "code",
      "source": [
        "# Image paths (replace with your actual file paths)\n",
        "image_paths = [\"/content/tunis.jpg\",\"/content/2.jpg\",\"/content/3.jpg\",\"/content/5.jpg\"]\n",
        "\n",
        "# Preprocessing and visualization\n",
        "img_size = (150, 150)\n",
        "\n",
        "images = []\n",
        "\n",
        "plt.figure(figsize=(10, 5))\n",
        "for i, img_path in enumerate(image_paths):\n",
        "    # Load and preprocess the image\n",
        "    img = load_img(img_path, target_size=img_size)\n",
        "    img_array = img_to_array(img) / 255.0  # Normalize pixel values\n",
        "    images.append(img_array)\n",
        "\n",
        "    # Plot the image\n",
        "    plt.subplot(1, 4, i+1)\n",
        "    plt.imshow(img)\n",
        "    plt.axis('off')\n",
        "    plt.title(f\"Image {i+1}\")\n",
        "\n",
        "plt.show()\n",
        "\n",
        "# Convert to numpy array\n",
        "images = np.array(images)\n"
      ],
      "metadata": {
        "colab": {
          "base_uri": "https://localhost:8080/",
          "height": 183
        },
        "id": "Orvcvk3-HlvL",
        "outputId": "54ab25b8-000f-4240-cf76-60714af88d75"
      },
      "execution_count": null,
      "outputs": [
        {
          "output_type": "display_data",
          "data": {
            "text/plain": [
              "<Figure size 1000x500 with 4 Axes>"
            ],
            "image/png": "[encoded data removed]"
          },
          "metadata": {}
        }
      ]
    },
    {
      "cell_type": "code",
      "source": [
        "# Predict class probabilities\n",
        "predictions = model.predict(images)\n",
        "\n",
        "# Get the class indices with the highest probabilities\n",
        "predicted_classes = np.argmax(predictions, axis=1)\n",
        "\n",
        "# Class names (update with your actual class labels)\n",
        "class_names = ['ideria', 'nounta', 'others', 'tounsia']\n",
        "\n",
        "# Print predictions\n",
        "for i, pred in enumerate(predicted_classes):\n",
        "    print(f\"Image {i+1} is predicted as: {class_names[pred]} (Class {pred})\")\n"
      ],
      "metadata": {
        "colab": {
          "base_uri": "https://localhost:8080/",
          "height": 460
        },
        "id": "4zdg0UeEHoLi",
        "outputId": "9681d701-b0d0-48a5-ec93-da514e283172"
      },
      "execution_count": null,
      "outputs": [
        {
          "output_type": "stream",
          "name": "stdout",
          "text": [
            "\n"
          ]
        },
        {
          "output_type": "error",
          "ename": "error",
          "evalue": "OpenCV(4.10.0) /io/opencv/modules/imgproc/src/resize.cpp:3789: error: (-215:Assertion failed) !dsize.empty() in function 'resize'\n",
          "traceback": [
            "\u001b[0;31m---------------------------------------------------------------------------\u001b[0m",
            "\u001b[0;31merror\u001b[0m                                     Traceback (most recent call last)",
            "\u001b[0;32m<ipython-input-36-d56dc312302d>\u001b[0m in \u001b[0;36m<cell line: 2>\u001b[0;34m()\u001b[0m\n\u001b[1;32m      1\u001b[0m \u001b[0;31m# Predict class probabilities\u001b[0m\u001b[0;34m\u001b[0m\u001b[0;34m\u001b[0m\u001b[0m\n\u001b[0;32m----> 2\u001b[0;31m \u001b[0mpredictions\u001b[0m \u001b[0;34m=\u001b[0m \u001b[0mmodel\u001b[0m\u001b[0;34m.\u001b[0m\u001b[0mpredict\u001b[0m\u001b[0;34m(\u001b[0m\u001b[0mimages\u001b[0m\u001b[0;34m)\u001b[0m\u001b[0;34m\u001b[0m\u001b[0;34m\u001b[0m\u001b[0m\n\u001b[0m\u001b[1;32m      3\u001b[0m \u001b[0;34m\u001b[0m\u001b[0m\n\u001b[1;32m      4\u001b[0m \u001b[0;31m# Get the class indices with the highest probabilities\u001b[0m\u001b[0;34m\u001b[0m\u001b[0;34m\u001b[0m\u001b[0m\n\u001b[1;32m      5\u001b[0m \u001b[0mpredicted_classes\u001b[0m \u001b[0;34m=\u001b[0m \u001b[0mnp\u001b[0m\u001b[0;34m.\u001b[0m\u001b[0margmax\u001b[0m\u001b[0;34m(\u001b[0m\u001b[0mpredictions\u001b[0m\u001b[0;34m,\u001b[0m \u001b[0maxis\u001b[0m\u001b[0;34m=\u001b[0m\u001b[0;36m1\u001b[0m\u001b[0;34m)\u001b[0m\u001b[0;34m\u001b[0m\u001b[0;34m\u001b[0m\u001b[0m\n",
            "\u001b[0;32m/usr/local/lib/python3.10/dist-packages/ultralytics/engine/model.py\u001b[0m in \u001b[0;36mpredict\u001b[0;34m(self, source, stream, predictor, **kwargs)\u001b[0m\n\u001b[1;32m    556\u001b[0m         \u001b[0;32mif\u001b[0m \u001b[0mprompts\u001b[0m \u001b[0;32mand\u001b[0m \u001b[0mhasattr\u001b[0m\u001b[0;34m(\u001b[0m\u001b[0mself\u001b[0m\u001b[0;34m.\u001b[0m\u001b[0mpredictor\u001b[0m\u001b[0;34m,\u001b[0m \u001b[0;34m\"set_prompts\"\u001b[0m\u001b[0;34m)\u001b[0m\u001b[0;34m:\u001b[0m  \u001b[0;31m# for SAM-type models\u001b[0m\u001b[0;34m\u001b[0m\u001b[0;34m\u001b[0m\u001b[0m\n\u001b[1;32m    557\u001b[0m             \u001b[0mself\u001b[0m\u001b[0;34m.\u001b[0m\u001b[0mpredictor\u001b[0m\u001b[0;34m.\u001b[0m\u001b[0mset_prompts\u001b[0m\u001b[0;34m(\u001b[0m\u001b[0mprompts\u001b[0m\u001b[0;34m)\u001b[0m\u001b[0;34m\u001b[0m\u001b[0;34m\u001b[0m\u001b[0m\n\u001b[0;32m--> 558\u001b[0;31m         \u001b[0;32mreturn\u001b[0m \u001b[0mself\u001b[0m\u001b[0;34m.\u001b[0m\u001b[0mpredictor\u001b[0m\u001b[0;34m.\u001b[0m\u001b[0mpredict_cli\u001b[0m\u001b[0;34m(\u001b[0m\u001b[0msource\u001b[0m\u001b[0;34m=\u001b[0m\u001b[0msource\u001b[0m\u001b[0;34m)\u001b[0m \u001b[0;32mif\u001b[0m \u001b[0mis_cli\u001b[0m \u001b[0;32melse\u001b[0m \u001b[0mself\u001b[0m\u001b[0;34m.\u001b[0m\u001b[0mpredictor\u001b[0m\u001b[0;34m(\u001b[0m\u001b[0msource\u001b[0m\u001b[0;34m=\u001b[0m\u001b[0msource\u001b[0m\u001b[0;34m,\u001b[0m \u001b[0mstream\u001b[0m\u001b[0;34m=\u001b[0m\u001b[0mstream\u001b[0m\u001b[0;34m)\u001b[0m\u001b[0;34m\u001b[0m\u001b[0;34m\u001b[0m\u001b[0m\n\u001b[0m\u001b[1;32m    559\u001b[0m \u001b[0;34m\u001b[0m\u001b[0m\n\u001b[1;32m    560\u001b[0m     def track(\n",
            "\u001b[0;32m/usr/local/lib/python3.10/dist-packages/ultralytics/engine/predictor.py\u001b[0m in \u001b[0;36m__call__\u001b[0;34m(self, source, model, stream, *args, **kwargs)\u001b[0m\n\u001b[1;32m    171\u001b[0m             \u001b[0;32mreturn\u001b[0m \u001b[0mself\u001b[0m\u001b[0;34m.\u001b[0m\u001b[0mstream_inference\u001b[0m\u001b[0;34m(\u001b[0m\u001b[0msource\u001b[0m\u001b[0;34m,\u001b[0m \u001b[0mmodel\u001b[0m\u001b[0;34m,\u001b[0m \u001b[0;34m*\u001b[0m\u001b[0margs\u001b[0m\u001b[0;34m,\u001b[0m \u001b[0;34m**\u001b[0m\u001b[0mkwargs\u001b[0m\u001b[0;34m)\u001b[0m\u001b[0;34m\u001b[0m\u001b[0;34m\u001b[0m\u001b[0m\n\u001b[1;32m    172\u001b[0m         \u001b[0;32melse\u001b[0m\u001b[0;34m:\u001b[0m\u001b[0;34m\u001b[0m\u001b[0;34m\u001b[0m\u001b[0m\n\u001b[0;32m--> 173\u001b[0;31m             \u001b[0;32mreturn\u001b[0m \u001b[0mlist\u001b[0m\u001b[0;34m(\u001b[0m\u001b[0mself\u001b[0m\u001b[0;34m.\u001b[0m\u001b[0mstream_inference\u001b[0m\u001b[0;34m(\u001b[0m\u001b[0msource\u001b[0m\u001b[0;34m,\u001b[0m \u001b[0mmodel\u001b[0m\u001b[0;34m,\u001b[0m \u001b[0;34m*\u001b[0m\u001b[0margs\u001b[0m\u001b[0;34m,\u001b[0m \u001b[0;34m**\u001b[0m\u001b[0mkwargs\u001b[0m\u001b[0;34m)\u001b[0m\u001b[0;34m)\u001b[0m  \u001b[0;31m# merge list of Result into one\u001b[0m\u001b[0;34m\u001b[0m\u001b[0;34m\u001b[0m\u001b[0m\n\u001b[0m\u001b[1;32m    174\u001b[0m \u001b[0;34m\u001b[0m\u001b[0m\n\u001b[1;32m    175\u001b[0m     \u001b[0;32mdef\u001b[0m \u001b[0mpredict_cli\u001b[0m\u001b[0;34m(\u001b[0m\u001b[0mself\u001b[0m\u001b[0;34m,\u001b[0m \u001b[0msource\u001b[0m\u001b[0;34m=\u001b[0m\u001b[0;32mNone\u001b[0m\u001b[0;34m,\u001b[0m \u001b[0mmodel\u001b[0m\u001b[0;34m=\u001b[0m\u001b[0;32mNone\u001b[0m\u001b[0;34m)\u001b[0m\u001b[0;34m:\u001b[0m\u001b[0;34m\u001b[0m\u001b[0;34m\u001b[0m\u001b[0m\n",
            "\u001b[0;32m/usr/local/lib/python3.10/dist-packages/torch/utils/_contextlib.py\u001b[0m in \u001b[0;36mgenerator_context\u001b[0;34m(*args, **kwargs)\u001b[0m\n\u001b[1;32m     34\u001b[0m             \u001b[0;31m# Issuing `None` to a generator fires it up\u001b[0m\u001b[0;34m\u001b[0m\u001b[0;34m\u001b[0m\u001b[0m\n\u001b[1;32m     35\u001b[0m             \u001b[0;32mwith\u001b[0m \u001b[0mctx_factory\u001b[0m\u001b[0;34m(\u001b[0m\u001b[0;34m)\u001b[0m\u001b[0;34m:\u001b[0m\u001b[0;34m\u001b[0m\u001b[0;34m\u001b[0m\u001b[0m\n\u001b[0;32m---> 36\u001b[0;31m                 \u001b[0mresponse\u001b[0m \u001b[0;34m=\u001b[0m \u001b[0mgen\u001b[0m\u001b[0;34m.\u001b[0m\u001b[0msend\u001b[0m\u001b[0;34m(\u001b[0m\u001b[0;32mNone\u001b[0m\u001b[0;34m)\u001b[0m\u001b[0;34m\u001b[0m\u001b[0;34m\u001b[0m\u001b[0m\n\u001b[0m\u001b[1;32m     37\u001b[0m \u001b[0;34m\u001b[0m\u001b[0m\n\u001b[1;32m     38\u001b[0m             \u001b[0;32mwhile\u001b[0m \u001b[0;32mTrue\u001b[0m\u001b[0;34m:\u001b[0m\u001b[0;34m\u001b[0m\u001b[0;34m\u001b[0m\u001b[0m\n",
            "\u001b[0;32m/usr/local/lib/python3.10/dist-packages/ultralytics/engine/predictor.py\u001b[0m in \u001b[0;36mstream_inference\u001b[0;34m(self, source, model, *args, **kwargs)\u001b[0m\n\u001b[1;32m    253\u001b[0m                 \u001b[0;31m# Preprocess\u001b[0m\u001b[0;34m\u001b[0m\u001b[0;34m\u001b[0m\u001b[0m\n\u001b[1;32m    254\u001b[0m                 \u001b[0;32mwith\u001b[0m \u001b[0mprofilers\u001b[0m\u001b[0;34m[\u001b[0m\u001b[0;36m0\u001b[0m\u001b[0;34m]\u001b[0m\u001b[0;34m:\u001b[0m\u001b[0;34m\u001b[0m\u001b[0;34m\u001b[0m\u001b[0m\n\u001b[0;32m--> 255\u001b[0;31m                     \u001b[0mim\u001b[0m \u001b[0;34m=\u001b[0m \u001b[0mself\u001b[0m\u001b[0;34m.\u001b[0m\u001b[0mpreprocess\u001b[0m\u001b[0;34m(\u001b[0m\u001b[0mim0s\u001b[0m\u001b[0;34m)\u001b[0m\u001b[0;34m\u001b[0m\u001b[0;34m\u001b[0m\u001b[0m\n\u001b[0m\u001b[1;32m    256\u001b[0m \u001b[0;34m\u001b[0m\u001b[0m\n\u001b[1;32m    257\u001b[0m                 \u001b[0;31m# Inference\u001b[0m\u001b[0;34m\u001b[0m\u001b[0;34m\u001b[0m\u001b[0m\n",
            "\u001b[0;32m/usr/local/lib/python3.10/dist-packages/ultralytics/engine/predictor.py\u001b[0m in \u001b[0;36mpreprocess\u001b[0;34m(self, im)\u001b[0m\n\u001b[1;32m    123\u001b[0m         \u001b[0mnot_tensor\u001b[0m \u001b[0;34m=\u001b[0m \u001b[0;32mnot\u001b[0m \u001b[0misinstance\u001b[0m\u001b[0;34m(\u001b[0m\u001b[0mim\u001b[0m\u001b[0;34m,\u001b[0m \u001b[0mtorch\u001b[0m\u001b[0;34m.\u001b[0m\u001b[0mTensor\u001b[0m\u001b[0;34m)\u001b[0m\u001b[0;34m\u001b[0m\u001b[0;34m\u001b[0m\u001b[0m\n\u001b[1;32m    124\u001b[0m         \u001b[0;32mif\u001b[0m \u001b[0mnot_tensor\u001b[0m\u001b[0;34m:\u001b[0m\u001b[0;34m\u001b[0m\u001b[0;34m\u001b[0m\u001b[0m\n\u001b[0;32m--> 125\u001b[0;31m             \u001b[0mim\u001b[0m \u001b[0;34m=\u001b[0m \u001b[0mnp\u001b[0m\u001b[0;34m.\u001b[0m\u001b[0mstack\u001b[0m\u001b[0;34m(\u001b[0m\u001b[0mself\u001b[0m\u001b[0;34m.\u001b[0m\u001b[0mpre_transform\u001b[0m\u001b[0;34m(\u001b[0m\u001b[0mim\u001b[0m\u001b[0;34m)\u001b[0m\u001b[0;34m)\u001b[0m\u001b[0;34m\u001b[0m\u001b[0;34m\u001b[0m\u001b[0m\n\u001b[0m\u001b[1;32m    126\u001b[0m             \u001b[0mim\u001b[0m \u001b[0;34m=\u001b[0m \u001b[0mim\u001b[0m\u001b[0;34m[\u001b[0m\u001b[0;34m...\u001b[0m\u001b[0;34m,\u001b[0m \u001b[0;34m:\u001b[0m\u001b[0;34m:\u001b[0m\u001b[0;34m-\u001b[0m\u001b[0;36m1\u001b[0m\u001b[0;34m]\u001b[0m\u001b[0;34m.\u001b[0m\u001b[0mtranspose\u001b[0m\u001b[0;34m(\u001b[0m\u001b[0;34m(\u001b[0m\u001b[0;36m0\u001b[0m\u001b[0;34m,\u001b[0m \u001b[0;36m3\u001b[0m\u001b[0;34m,\u001b[0m \u001b[0;36m1\u001b[0m\u001b[0;34m,\u001b[0m \u001b[0;36m2\u001b[0m\u001b[0;34m)\u001b[0m\u001b[0;34m)\u001b[0m  \u001b[0;31m# BGR to RGB, BHWC to BCHW, (n, 3, h, w)\u001b[0m\u001b[0;34m\u001b[0m\u001b[0;34m\u001b[0m\u001b[0m\n\u001b[1;32m    127\u001b[0m             \u001b[0mim\u001b[0m \u001b[0;34m=\u001b[0m \u001b[0mnp\u001b[0m\u001b[0;34m.\u001b[0m\u001b[0mascontiguousarray\u001b[0m\u001b[0;34m(\u001b[0m\u001b[0mim\u001b[0m\u001b[0;34m)\u001b[0m  \u001b[0;31m# contiguous\u001b[0m\u001b[0;34m\u001b[0m\u001b[0;34m\u001b[0m\u001b[0m\n",
            "\u001b[0;32m/usr/local/lib/python3.10/dist-packages/ultralytics/engine/predictor.py\u001b[0m in \u001b[0;36mpre_transform\u001b[0;34m(self, im)\u001b[0m\n\u001b[1;32m    159\u001b[0m             \u001b[0mstride\u001b[0m\u001b[0;34m=\u001b[0m\u001b[0mself\u001b[0m\u001b[0;34m.\u001b[0m\u001b[0mmodel\u001b[0m\u001b[0;34m.\u001b[0m\u001b[0mstride\u001b[0m\u001b[0;34m,\u001b[0m\u001b[0;34m\u001b[0m\u001b[0;34m\u001b[0m\u001b[0m\n\u001b[1;32m    160\u001b[0m         )\n\u001b[0;32m--> 161\u001b[0;31m         \u001b[0;32mreturn\u001b[0m \u001b[0;34m[\u001b[0m\u001b[0mletterbox\u001b[0m\u001b[0;34m(\u001b[0m\u001b[0mimage\u001b[0m\u001b[0;34m=\u001b[0m\u001b[0mx\u001b[0m\u001b[0;34m)\u001b[0m \u001b[0;32mfor\u001b[0m \u001b[0mx\u001b[0m \u001b[0;32min\u001b[0m \u001b[0mim\u001b[0m\u001b[0;34m]\u001b[0m\u001b[0;34m\u001b[0m\u001b[0;34m\u001b[0m\u001b[0m\n\u001b[0m\u001b[1;32m    162\u001b[0m \u001b[0;34m\u001b[0m\u001b[0m\n\u001b[1;32m    163\u001b[0m     \u001b[0;32mdef\u001b[0m \u001b[0mpostprocess\u001b[0m\u001b[0;34m(\u001b[0m\u001b[0mself\u001b[0m\u001b[0;34m,\u001b[0m \u001b[0mpreds\u001b[0m\u001b[0;34m,\u001b[0m \u001b[0mimg\u001b[0m\u001b[0;34m,\u001b[0m \u001b[0morig_imgs\u001b[0m\u001b[0;34m)\u001b[0m\u001b[0;34m:\u001b[0m\u001b[0;34m\u001b[0m\u001b[0;34m\u001b[0m\u001b[0m\n",
            "\u001b[0;32m/usr/local/lib/python3.10/dist-packages/ultralytics/engine/predictor.py\u001b[0m in \u001b[0;36m<listcomp>\u001b[0;34m(.0)\u001b[0m\n\u001b[1;32m    159\u001b[0m             \u001b[0mstride\u001b[0m\u001b[0;34m=\u001b[0m\u001b[0mself\u001b[0m\u001b[0;34m.\u001b[0m\u001b[0mmodel\u001b[0m\u001b[0;34m.\u001b[0m\u001b[0mstride\u001b[0m\u001b[0;34m,\u001b[0m\u001b[0;34m\u001b[0m\u001b[0;34m\u001b[0m\u001b[0m\n\u001b[1;32m    160\u001b[0m         )\n\u001b[0;32m--> 161\u001b[0;31m         \u001b[0;32mreturn\u001b[0m \u001b[0;34m[\u001b[0m\u001b[0mletterbox\u001b[0m\u001b[0;34m(\u001b[0m\u001b[0mimage\u001b[0m\u001b[0;34m=\u001b[0m\u001b[0mx\u001b[0m\u001b[0;34m)\u001b[0m \u001b[0;32mfor\u001b[0m \u001b[0mx\u001b[0m \u001b[0;32min\u001b[0m \u001b[0mim\u001b[0m\u001b[0;34m]\u001b[0m\u001b[0;34m\u001b[0m\u001b[0;34m\u001b[0m\u001b[0m\n\u001b[0m\u001b[1;32m    162\u001b[0m \u001b[0;34m\u001b[0m\u001b[0m\n\u001b[1;32m    163\u001b[0m     \u001b[0;32mdef\u001b[0m \u001b[0mpostprocess\u001b[0m\u001b[0;34m(\u001b[0m\u001b[0mself\u001b[0m\u001b[0;34m,\u001b[0m \u001b[0mpreds\u001b[0m\u001b[0;34m,\u001b[0m \u001b[0mimg\u001b[0m\u001b[0;34m,\u001b[0m \u001b[0morig_imgs\u001b[0m\u001b[0;34m)\u001b[0m\u001b[0;34m:\u001b[0m\u001b[0;34m\u001b[0m\u001b[0;34m\u001b[0m\u001b[0m\n",
            "\u001b[0;32m/usr/local/lib/python3.10/dist-packages/ultralytics/data/augment.py\u001b[0m in \u001b[0;36m__call__\u001b[0;34m(self, labels, image)\u001b[0m\n\u001b[1;32m   1582\u001b[0m \u001b[0;34m\u001b[0m\u001b[0m\n\u001b[1;32m   1583\u001b[0m         \u001b[0;32mif\u001b[0m \u001b[0mshape\u001b[0m\u001b[0;34m[\u001b[0m\u001b[0;34m:\u001b[0m\u001b[0;34m:\u001b[0m\u001b[0;34m-\u001b[0m\u001b[0;36m1\u001b[0m\u001b[0;34m]\u001b[0m \u001b[0;34m!=\u001b[0m \u001b[0mnew_unpad\u001b[0m\u001b[0;34m:\u001b[0m  \u001b[0;31m# resize\u001b[0m\u001b[0;34m\u001b[0m\u001b[0;34m\u001b[0m\u001b[0m\n\u001b[0;32m-> 1584\u001b[0;31m             \u001b[0mimg\u001b[0m \u001b[0;34m=\u001b[0m \u001b[0mcv2\u001b[0m\u001b[0;34m.\u001b[0m\u001b[0mresize\u001b[0m\u001b[0;34m(\u001b[0m\u001b[0mimg\u001b[0m\u001b[0;34m,\u001b[0m \u001b[0mnew_unpad\u001b[0m\u001b[0;34m,\u001b[0m \u001b[0minterpolation\u001b[0m\u001b[0;34m=\u001b[0m\u001b[0mcv2\u001b[0m\u001b[0;34m.\u001b[0m\u001b[0mINTER_LINEAR\u001b[0m\u001b[0;34m)\u001b[0m\u001b[0;34m\u001b[0m\u001b[0;34m\u001b[0m\u001b[0m\n\u001b[0m\u001b[1;32m   1585\u001b[0m         \u001b[0mtop\u001b[0m\u001b[0;34m,\u001b[0m \u001b[0mbottom\u001b[0m \u001b[0;34m=\u001b[0m \u001b[0mint\u001b[0m\u001b[0;34m(\u001b[0m\u001b[0mround\u001b[0m\u001b[0;34m(\u001b[0m\u001b[0mdh\u001b[0m \u001b[0;34m-\u001b[0m \u001b[0;36m0.1\u001b[0m\u001b[0;34m)\u001b[0m\u001b[0;34m)\u001b[0m \u001b[0;32mif\u001b[0m \u001b[0mself\u001b[0m\u001b[0;34m.\u001b[0m\u001b[0mcenter\u001b[0m \u001b[0;32melse\u001b[0m \u001b[0;36m0\u001b[0m\u001b[0;34m,\u001b[0m \u001b[0mint\u001b[0m\u001b[0;34m(\u001b[0m\u001b[0mround\u001b[0m\u001b[0;34m(\u001b[0m\u001b[0mdh\u001b[0m \u001b[0;34m+\u001b[0m \u001b[0;36m0.1\u001b[0m\u001b[0;34m)\u001b[0m\u001b[0;34m)\u001b[0m\u001b[0;34m\u001b[0m\u001b[0;34m\u001b[0m\u001b[0m\n\u001b[1;32m   1586\u001b[0m         \u001b[0mleft\u001b[0m\u001b[0;34m,\u001b[0m \u001b[0mright\u001b[0m \u001b[0;34m=\u001b[0m \u001b[0mint\u001b[0m\u001b[0;34m(\u001b[0m\u001b[0mround\u001b[0m\u001b[0;34m(\u001b[0m\u001b[0mdw\u001b[0m \u001b[0;34m-\u001b[0m \u001b[0;36m0.1\u001b[0m\u001b[0;34m)\u001b[0m\u001b[0;34m)\u001b[0m \u001b[0;32mif\u001b[0m \u001b[0mself\u001b[0m\u001b[0;34m.\u001b[0m\u001b[0mcenter\u001b[0m \u001b[0;32melse\u001b[0m \u001b[0;36m0\u001b[0m\u001b[0;34m,\u001b[0m \u001b[0mint\u001b[0m\u001b[0;34m(\u001b[0m\u001b[0mround\u001b[0m\u001b[0;34m(\u001b[0m\u001b[0mdw\u001b[0m \u001b[0;34m+\u001b[0m \u001b[0;36m0.1\u001b[0m\u001b[0;34m)\u001b[0m\u001b[0;34m)\u001b[0m\u001b[0;34m\u001b[0m\u001b[0;34m\u001b[0m\u001b[0m\n",
            "\u001b[0;31merror\u001b[0m: OpenCV(4.10.0) /io/opencv/modules/imgproc/src/resize.cpp:3789: error: (-215:Assertion failed) !dsize.empty() in function 'resize'\n"
          ]
        }
      ]
    },
    {
      "cell_type": "code",
      "source": [
        "!pip install arabic_reshaper\n",
        "!pip install python-bidi\n"
      ],
      "metadata": {
        "colab": {
          "base_uri": "https://localhost:8080/"
        },
        "id": "NZ7uLHf4Hs2i",
        "outputId": "4196a9c5-a97f-4995-e7e2-ef923d77f8fb"
      },
      "execution_count": null,
      "outputs": [
        {
          "output_type": "stream",
          "name": "stdout",
          "text": [
            "Collecting arabic_reshaper\n",
            "  Downloading arabic_reshaper-3.0.0-py3-none-any.whl.metadata (12 kB)\n",
            "Downloading arabic_reshaper-3.0.0-py3-none-any.whl (20 kB)\n",
            "Installing collected packages: arabic_reshaper\n",
            "Successfully installed arabic_reshaper-3.0.0\n",
            "Requirement already satisfied: python-bidi in /usr/local/lib/python3.10/dist-packages (0.6.3)\n"
          ]
        }
      ]
    },
    {
      "cell_type": "code",
      "source": [
        "rm -rf ~/.EasyOCR/model\n"
      ],
      "metadata": {
        "id": "ZPRJgsJ8jstS"
      },
      "execution_count": null,
      "outputs": []
    },
    {
      "cell_type": "code",
      "source": [
        "!pip install --upgrade easyocr\n"
      ],
      "metadata": {
        "colab": {
          "base_uri": "https://localhost:8080/"
        },
        "id": "kXOwXHI9jnpO",
        "outputId": "fbe3d8ce-7d37-4270-c99c-b1f461772efd"
      },
      "execution_count": null,
      "outputs": [
        {
          "output_type": "stream",
          "name": "stdout",
          "text": [
            "Requirement already satisfied: easyocr in /usr/local/lib/python3.10/dist-packages (1.7.2)\n",
            "Requirement already satisfied: torch in /usr/local/lib/python3.10/dist-packages (from easyocr) (2.5.1+cu121)\n",
            "Requirement already satisfied: torchvision>=0.5 in /usr/local/lib/python3.10/dist-packages (from easyocr) (0.20.1+cu121)\n",
            "Requirement already satisfied: opencv-python-headless in /usr/local/lib/python3.10/dist-packages (from easyocr) (4.10.0.84)\n",
            "Requirement already satisfied: scipy in /usr/local/lib/python3.10/dist-packages (from easyocr) (1.13.1)\n",
            "Requirement already satisfied: numpy in /usr/local/lib/python3.10/dist-packages (from easyocr) (1.26.4)\n",
            "Requirement already satisfied: Pillow in /usr/local/lib/python3.10/dist-packages (from easyocr) (11.0.0)\n",
            "Requirement already satisfied: scikit-image in /usr/local/lib/python3.10/dist-packages (from easyocr) (0.24.0)\n",
            "Requirement already satisfied: python-bidi in /usr/local/lib/python3.10/dist-packages (from easyocr) (0.6.3)\n",
            "Requirement already satisfied: PyYAML in /usr/local/lib/python3.10/dist-packages (from easyocr) (6.0.2)\n",
            "Requirement already satisfied: Shapely in /usr/local/lib/python3.10/dist-packages (from easyocr) (2.0.6)\n",
            "Requirement already satisfied: pyclipper in /usr/local/lib/python3.10/dist-packages (from easyocr) (1.3.0.post6)\n",
            "Requirement already satisfied: ninja in /usr/local/lib/python3.10/dist-packages (from easyocr) (1.11.1.3)\n",
            "Requirement already satisfied: filelock in /usr/local/lib/python3.10/dist-packages (from torch->easyocr) (3.16.1)\n",
            "Requirement already satisfied: typing-extensions>=4.8.0 in /usr/local/lib/python3.10/dist-packages (from torch->easyocr) (4.12.2)\n",
            "Requirement already satisfied: networkx in /usr/local/lib/python3.10/dist-packages (from torch->easyocr) (3.4.2)\n",
            "Requirement already satisfied: jinja2 in /usr/local/lib/python3.10/dist-packages (from torch->easyocr) (3.1.4)\n",
            "Requirement already satisfied: fsspec in /usr/local/lib/python3.10/dist-packages (from torch->easyocr) (2024.10.0)\n",
            "Requirement already satisfied: sympy==1.13.1 in /usr/local/lib/python3.10/dist-packages (from torch->easyocr) (1.13.1)\n",
            "Requirement already satisfied: mpmath<1.4,>=1.1.0 in /usr/local/lib/python3.10/dist-packages (from sympy==1.13.1->torch->easyocr) (1.3.0)\n",
            "Requirement already satisfied: imageio>=2.33 in /usr/local/lib/python3.10/dist-packages (from scikit-image->easyocr) (2.36.1)\n",
            "Requirement already satisfied: tifffile>=2022.8.12 in /usr/local/lib/python3.10/dist-packages (from scikit-image->easyocr) (2024.12.12)\n",
            "Requirement already satisfied: packaging>=21 in /usr/local/lib/python3.10/dist-packages (from scikit-image->easyocr) (24.2)\n",
            "Requirement already satisfied: lazy-loader>=0.4 in /usr/local/lib/python3.10/dist-packages (from scikit-image->easyocr) (0.4)\n",
            "Requirement already satisfied: MarkupSafe>=2.0 in /usr/local/lib/python3.10/dist-packages (from jinja2->torch->easyocr) (3.0.2)\n"
          ]
        }
      ]
    },
    {
      "cell_type": "code",
      "source": [
        "import easyocr\n",
        "import cv2\n",
        "import numpy as np\n",
        "import matplotlib.pyplot as plt\n",
        "import arabic_reshaper\n",
        "from bidi.algorithm import get_display\n",
        "from PIL import ImageFont, ImageDraw, Image\n",
        "\n",
        "# Initialize EasyOCR reader with Arabic support\n",
        "reader = easyocr.Reader(['ar', 'en'], download_enabled=True)\n",
        "\n",
        "\n",
        "# Function to process images and detect text using EasyOCR\n",
        "def process_image(image_path, class_label):\n",
        "    # Load the image\n",
        "    image = cv2.imread(image_path)\n",
        "    image_rgb = cv2.cvtColor(image, cv2.COLOR_BGR2RGB)\n",
        "\n",
        "    # Run EasyOCR to detect text\n",
        "    results = reader.readtext(image_rgb)\n",
        "\n",
        "    # Define replacements based on class label\n",
        "    replacements = {\n",
        "        \"nounta\": \"ن ت\",  # For nounta class\n",
        "        \"tounsia\": \"تونس\",  # For tounsia class\n",
        "    }\n",
        "\n",
        "    # Create a copy of the original image for displaying results\n",
        "    image_copy = image_rgb.copy()\n",
        "\n",
        "    # Load font for rendering Arabic text (Ensure the font supports Arabic)\n",
        "    fontpath = \"/content/arial.ttf\"  # Replace with your actual font path\n",
        "    font = ImageFont.truetype(fontpath, 32)\n",
        "\n",
        "    # Loop over OCR results and display updated text\n",
        "    for (bbox, text, prob) in results:\n",
        "        (top_left, top_right, bottom_right, bottom_left) = bbox\n",
        "        top_left = tuple(map(int, top_left))\n",
        "        bottom_right = tuple(map(int, bottom_right))\n",
        "\n",
        "        # Replace '?' text manually based on the class label\n",
        "        if \"?\" in text:\n",
        "            print(f\"Detected text with '?????': {text}\")  # Print out detected text for debugging\n",
        "            text = replacements.get(class_label, text)\n",
        "            print(f\"Replaced text: {text}\")  # Print the replaced text for debugging\n",
        "\n",
        "        # Reshape and bidi text for Arabic\n",
        "        reshaped_text = arabic_reshaper.reshape(text)\n",
        "        bidi_text = get_display(reshaped_text)\n",
        "\n",
        "        # Create a PIL image from the OpenCV image for text rendering\n",
        "        img_pil = Image.fromarray(image_copy)\n",
        "        draw = ImageDraw.Draw(img_pil)\n",
        "\n",
        "        # Draw the bounding box (on the OpenCV image, which is later converted to PIL)\n",
        "        cv2.rectangle(image_copy, top_left, bottom_right, (0, 255, 0), 2)\n",
        "\n",
        "        # Get the bounding box of the text using textbbox (instead of textsize)\n",
        "        text_bbox = draw.textbbox((top_left[0], top_left[1]), bidi_text, font=font)\n",
        "        text_width = text_bbox[2] - text_bbox[0]\n",
        "        text_height = text_bbox[3] - text_bbox[1]\n",
        "\n",
        "        # Adjust text position so it fits within the image and is inside the bounding box\n",
        "        text_x = top_left[0]\n",
        "        text_y = top_left[1] - text_height - 5  # Position the text above the box\n",
        "\n",
        "        # Draw the corrected Arabic text on the image\n",
        "        draw.text((text_x, text_y), bidi_text, font=font, fill=(255, 0, 0))  # Red text for visibility\n",
        "\n",
        "        print(f\"Detected Text: {text} (Confidence: {prob:.2f})\")\n",
        "\n",
        "    # Convert the PIL image back to OpenCV format\n",
        "    img = np.array(img_pil)\n",
        "\n",
        "    # Show the updated image with the replaced text\n",
        "    plt.imshow(img)\n",
        "    plt.axis('off')\n",
        "    plt.show()\n",
        "\n",
        "# Example Usage\n",
        "image_path = '/content/tunis.jpg'  # Replace with your image path\n",
        "class_label = 'nounta'  # Replace with actual class label ('nounta' or 'tounsia')\n",
        "\n",
        "# Process the image with the given class label\n",
        "process_image(image_path, class_label)\n"
      ],
      "metadata": {
        "colab": {
          "base_uri": "https://localhost:8080/",
          "height": 241
        },
        "id": "txYptrBfHuBL",
        "outputId": "59466dff-e0be-4471-b4bb-115ff460253c"
      },
      "execution_count": null,
      "outputs": [
        {
          "output_type": "stream",
          "name": "stderr",
          "text": [
            "WARNING:easyocr.easyocr:Neither CUDA nor MPS are available - defaulting to CPU. Note: This module is much faster with a GPU.\n"
          ]
        },
        {
          "output_type": "stream",
          "name": "stdout",
          "text": [
            "Detected Text: 7863 تونن 138 (Confidence: 0.51)\n"
          ]
        },
        {
          "output_type": "display_data",
          "data": {
            "text/plain": [
              "<Figure size 640x480 with 1 Axes>"
            ],
            "image/png": "[encoded data removed]"
          },
          "metadata": {}
        }
      ]
    },
    {
      "cell_type": "markdown",
      "source": [
        "vd\n"
      ],
      "metadata": {
        "id": "777rVkCMH0t8"
      }
    },
    {
      "cell_type": "code",
      "source": [
        "!pip install ultralytics opencv-python-headless easyocr\n"
      ],
      "metadata": {
        "colab": {
          "base_uri": "https://localhost:8080/"
        },
        "id": "Tm7R6_MyTNXH",
        "outputId": "bb9ef9e3-f1bf-40f8-9edf-e3b73704f500"
      },
      "execution_count": null,
      "outputs": [
        {
          "output_type": "stream",
          "name": "stdout",
          "text": [
            "Requirement already satisfied: ultralytics in /usr/local/lib/python3.10/dist-packages (8.3.51)\n",
            "Requirement already satisfied: opencv-python-headless in /usr/local/lib/python3.10/dist-packages (4.10.0.84)\n",
            "Requirement already satisfied: easyocr in /usr/local/lib/python3.10/dist-packages (1.7.2)\n",
            "Requirement already satisfied: numpy>=1.23.0 in /usr/local/lib/python3.10/dist-packages (from ultralytics) (1.26.4)\n",
            "Requirement already satisfied: matplotlib>=3.3.0 in /usr/local/lib/python3.10/dist-packages (from ultralytics) (3.8.0)\n",
            "Requirement already satisfied: opencv-python>=4.6.0 in /usr/local/lib/python3.10/dist-packages (from ultralytics) (4.10.0.84)\n",
            "Requirement already satisfied: pillow>=7.1.2 in /usr/local/lib/python3.10/dist-packages (from ultralytics) (11.0.0)\n",
            "Requirement already satisfied: pyyaml>=5.3.1 in /usr/local/lib/python3.10/dist-packages (from ultralytics) (6.0.2)\n",
            "Requirement already satisfied: requests>=2.23.0 in /usr/local/lib/python3.10/dist-packages (from ultralytics) (2.32.3)\n",
            "Requirement already satisfied: scipy>=1.4.1 in /usr/local/lib/python3.10/dist-packages (from ultralytics) (1.13.1)\n",
            "Requirement already satisfied: torch>=1.8.0 in /usr/local/lib/python3.10/dist-packages (from ultralytics) (2.5.1+cu121)\n",
            "Requirement already satisfied: torchvision>=0.9.0 in /usr/local/lib/python3.10/dist-packages (from ultralytics) (0.20.1+cu121)\n",
            "Requirement already satisfied: tqdm>=4.64.0 in /usr/local/lib/python3.10/dist-packages (from ultralytics) (4.66.6)\n",
            "Requirement already satisfied: psutil in /usr/local/lib/python3.10/dist-packages (from ultralytics) (5.9.5)\n",
            "Requirement already satisfied: py-cpuinfo in /usr/local/lib/python3.10/dist-packages (from ultralytics) (9.0.0)\n",
            "Requirement already satisfied: pandas>=1.1.4 in /usr/local/lib/python3.10/dist-packages (from ultralytics) (2.2.2)\n",
            "Requirement already satisfied: seaborn>=0.11.0 in /usr/local/lib/python3.10/dist-packages (from ultralytics) (0.13.2)\n",
            "Requirement already satisfied: ultralytics-thop>=2.0.0 in /usr/local/lib/python3.10/dist-packages (from ultralytics) (2.0.13)\n",
            "Requirement already satisfied: scikit-image in /usr/local/lib/python3.10/dist-packages (from easyocr) (0.24.0)\n",
            "Requirement already satisfied: python-bidi in /usr/local/lib/python3.10/dist-packages (from easyocr) (0.6.3)\n",
            "Requirement already satisfied: Shapely in /usr/local/lib/python3.10/dist-packages (from easyocr) (2.0.6)\n",
            "Requirement already satisfied: pyclipper in /usr/local/lib/python3.10/dist-packages (from easyocr) (1.3.0.post6)\n",
            "Requirement already satisfied: ninja in /usr/local/lib/python3.10/dist-packages (from easyocr) (1.11.1.3)\n",
            "Requirement already satisfied: contourpy>=1.0.1 in /usr/local/lib/python3.10/dist-packages (from matplotlib>=3.3.0->ultralytics) (1.3.1)\n",
            "Requirement already satisfied: cycler>=0.10 in /usr/local/lib/python3.10/dist-packages (from matplotlib>=3.3.0->ultralytics) (0.12.1)\n",
            "Requirement already satisfied: fonttools>=4.22.0 in /usr/local/lib/python3.10/dist-packages (from matplotlib>=3.3.0->ultralytics) (4.55.3)\n",
            "Requirement already satisfied: kiwisolver>=1.0.1 in /usr/local/lib/python3.10/dist-packages (from matplotlib>=3.3.0->ultralytics) (1.4.7)\n",
            "Requirement already satisfied: packaging>=20.0 in /usr/local/lib/python3.10/dist-packages (from matplotlib>=3.3.0->ultralytics) (24.2)\n",
            "Requirement already satisfied: pyparsing>=2.3.1 in /usr/local/lib/python3.10/dist-packages (from matplotlib>=3.3.0->ultralytics) (3.2.0)\n",
            "Requirement already satisfied: python-dateutil>=2.7 in /usr/local/lib/python3.10/dist-packages (from matplotlib>=3.3.0->ultralytics) (2.8.2)\n",
            "Requirement already satisfied: pytz>=2020.1 in /usr/local/lib/python3.10/dist-packages (from pandas>=1.1.4->ultralytics) (2024.2)\n",
            "Requirement already satisfied: tzdata>=2022.7 in /usr/local/lib/python3.10/dist-packages (from pandas>=1.1.4->ultralytics) (2024.2)\n",
            "Requirement already satisfied: charset-normalizer<4,>=2 in /usr/local/lib/python3.10/dist-packages (from requests>=2.23.0->ultralytics) (3.4.0)\n",
            "Requirement already satisfied: idna<4,>=2.5 in /usr/local/lib/python3.10/dist-packages (from requests>=2.23.0->ultralytics) (3.10)\n",
            "Requirement already satisfied: urllib3<3,>=1.21.1 in /usr/local/lib/python3.10/dist-packages (from requests>=2.23.0->ultralytics) (2.2.3)\n",
            "Requirement already satisfied: certifi>=2017.4.17 in /usr/local/lib/python3.10/dist-packages (from requests>=2.23.0->ultralytics) (2024.8.30)\n",
            "Requirement already satisfied: filelock in /usr/local/lib/python3.10/dist-packages (from torch>=1.8.0->ultralytics) (3.16.1)\n",
            "Requirement already satisfied: typing-extensions>=4.8.0 in /usr/local/lib/python3.10/dist-packages (from torch>=1.8.0->ultralytics) (4.12.2)\n",
            "Requirement already satisfied: networkx in /usr/local/lib/python3.10/dist-packages (from torch>=1.8.0->ultralytics) (3.4.2)\n",
            "Requirement already satisfied: jinja2 in /usr/local/lib/python3.10/dist-packages (from torch>=1.8.0->ultralytics) (3.1.4)\n",
            "Requirement already satisfied: fsspec in /usr/local/lib/python3.10/dist-packages (from torch>=1.8.0->ultralytics) (2024.10.0)\n",
            "Requirement already satisfied: sympy==1.13.1 in /usr/local/lib/python3.10/dist-packages (from torch>=1.8.0->ultralytics) (1.13.1)\n",
            "Requirement already satisfied: mpmath<1.4,>=1.1.0 in /usr/local/lib/python3.10/dist-packages (from sympy==1.13.1->torch>=1.8.0->ultralytics) (1.3.0)\n",
            "Requirement already satisfied: imageio>=2.33 in /usr/local/lib/python3.10/dist-packages (from scikit-image->easyocr) (2.36.1)\n",
            "Requirement already satisfied: tifffile>=2022.8.12 in /usr/local/lib/python3.10/dist-packages (from scikit-image->easyocr) (2024.12.12)\n",
            "Requirement already satisfied: lazy-loader>=0.4 in /usr/local/lib/python3.10/dist-packages (from scikit-image->easyocr) (0.4)\n",
            "Requirement already satisfied: six>=1.5 in /usr/local/lib/python3.10/dist-packages (from python-dateutil>=2.7->matplotlib>=3.3.0->ultralytics) (1.17.0)\n",
            "Requirement already satisfied: MarkupSafe>=2.0 in /usr/local/lib/python3.10/dist-packages (from jinja2->torch>=1.8.0->ultralytics) (3.0.2)\n"
          ]
        }
      ]
    },
    {
      "cell_type": "code",
      "source": [
        "!pip install ultralytics easyocr arabic-reshaper python-bidi pillow\n"
      ],
      "metadata": {
        "colab": {
          "base_uri": "https://localhost:8080/"
        },
        "id": "q0-coEhrYA7q",
        "outputId": "aae95534-fbb9-4228-ee05-57cdd4fce8cd"
      },
      "execution_count": null,
      "outputs": [
        {
          "output_type": "stream",
          "name": "stdout",
          "text": [
            "Requirement already satisfied: ultralytics in /usr/local/lib/python3.10/dist-packages (8.3.51)\n",
            "Requirement already satisfied: easyocr in /usr/local/lib/python3.10/dist-packages (1.7.2)\n",
            "Requirement already satisfied: arabic-reshaper in /usr/local/lib/python3.10/dist-packages (3.0.0)\n",
            "Requirement already satisfied: python-bidi in /usr/local/lib/python3.10/dist-packages (0.6.3)\n",
            "Requirement already satisfied: pillow in /usr/local/lib/python3.10/dist-packages (11.0.0)\n",
            "Requirement already satisfied: numpy>=1.23.0 in /usr/local/lib/python3.10/dist-packages (from ultralytics) (1.26.4)\n",
            "Requirement already satisfied: matplotlib>=3.3.0 in /usr/local/lib/python3.10/dist-packages (from ultralytics) (3.8.0)\n",
            "Requirement already satisfied: opencv-python>=4.6.0 in /usr/local/lib/python3.10/dist-packages (from ultralytics) (4.10.0.84)\n",
            "Requirement already satisfied: pyyaml>=5.3.1 in /usr/local/lib/python3.10/dist-packages (from ultralytics) (6.0.2)\n",
            "Requirement already satisfied: requests>=2.23.0 in /usr/local/lib/python3.10/dist-packages (from ultralytics) (2.32.3)\n",
            "Requirement already satisfied: scipy>=1.4.1 in /usr/local/lib/python3.10/dist-packages (from ultralytics) (1.13.1)\n",
            "Requirement already satisfied: torch>=1.8.0 in /usr/local/lib/python3.10/dist-packages (from ultralytics) (2.5.1+cu121)\n",
            "Requirement already satisfied: torchvision>=0.9.0 in /usr/local/lib/python3.10/dist-packages (from ultralytics) (0.20.1+cu121)\n",
            "Requirement already satisfied: tqdm>=4.64.0 in /usr/local/lib/python3.10/dist-packages (from ultralytics) (4.66.6)\n",
            "Requirement already satisfied: psutil in /usr/local/lib/python3.10/dist-packages (from ultralytics) (5.9.5)\n",
            "Requirement already satisfied: py-cpuinfo in /usr/local/lib/python3.10/dist-packages (from ultralytics) (9.0.0)\n",
            "Requirement already satisfied: pandas>=1.1.4 in /usr/local/lib/python3.10/dist-packages (from ultralytics) (2.2.2)\n",
            "Requirement already satisfied: seaborn>=0.11.0 in /usr/local/lib/python3.10/dist-packages (from ultralytics) (0.13.2)\n",
            "Requirement already satisfied: ultralytics-thop>=2.0.0 in /usr/local/lib/python3.10/dist-packages (from ultralytics) (2.0.13)\n",
            "Requirement already satisfied: opencv-python-headless in /usr/local/lib/python3.10/dist-packages (from easyocr) (4.10.0.84)\n",
            "Requirement already satisfied: scikit-image in /usr/local/lib/python3.10/dist-packages (from easyocr) (0.24.0)\n",
            "Requirement already satisfied: Shapely in /usr/local/lib/python3.10/dist-packages (from easyocr) (2.0.6)\n",
            "Requirement already satisfied: pyclipper in /usr/local/lib/python3.10/dist-packages (from easyocr) (1.3.0.post6)\n",
            "Requirement already satisfied: ninja in /usr/local/lib/python3.10/dist-packages (from easyocr) (1.11.1.3)\n",
            "Requirement already satisfied: contourpy>=1.0.1 in /usr/local/lib/python3.10/dist-packages (from matplotlib>=3.3.0->ultralytics) (1.3.1)\n",
            "Requirement already satisfied: cycler>=0.10 in /usr/local/lib/python3.10/dist-packages (from matplotlib>=3.3.0->ultralytics) (0.12.1)\n",
            "Requirement already satisfied: fonttools>=4.22.0 in /usr/local/lib/python3.10/dist-packages (from matplotlib>=3.3.0->ultralytics) (4.55.3)\n",
            "Requirement already satisfied: kiwisolver>=1.0.1 in /usr/local/lib/python3.10/dist-packages (from matplotlib>=3.3.0->ultralytics) (1.4.7)\n",
            "Requirement already satisfied: packaging>=20.0 in /usr/local/lib/python3.10/dist-packages (from matplotlib>=3.3.0->ultralytics) (24.2)\n",
            "Requirement already satisfied: pyparsing>=2.3.1 in /usr/local/lib/python3.10/dist-packages (from matplotlib>=3.3.0->ultralytics) (3.2.0)\n",
            "Requirement already satisfied: python-dateutil>=2.7 in /usr/local/lib/python3.10/dist-packages (from matplotlib>=3.3.0->ultralytics) (2.8.2)\n",
            "Requirement already satisfied: pytz>=2020.1 in /usr/local/lib/python3.10/dist-packages (from pandas>=1.1.4->ultralytics) (2024.2)\n",
            "Requirement already satisfied: tzdata>=2022.7 in /usr/local/lib/python3.10/dist-packages (from pandas>=1.1.4->ultralytics) (2024.2)\n",
            "Requirement already satisfied: charset-normalizer<4,>=2 in /usr/local/lib/python3.10/dist-packages (from requests>=2.23.0->ultralytics) (3.4.0)\n",
            "Requirement already satisfied: idna<4,>=2.5 in /usr/local/lib/python3.10/dist-packages (from requests>=2.23.0->ultralytics) (3.10)\n",
            "Requirement already satisfied: urllib3<3,>=1.21.1 in /usr/local/lib/python3.10/dist-packages (from requests>=2.23.0->ultralytics) (2.2.3)\n",
            "Requirement already satisfied: certifi>=2017.4.17 in /usr/local/lib/python3.10/dist-packages (from requests>=2.23.0->ultralytics) (2024.8.30)\n",
            "Requirement already satisfied: filelock in /usr/local/lib/python3.10/dist-packages (from torch>=1.8.0->ultralytics) (3.16.1)\n",
            "Requirement already satisfied: typing-extensions>=4.8.0 in /usr/local/lib/python3.10/dist-packages (from torch>=1.8.0->ultralytics) (4.12.2)\n",
            "Requirement already satisfied: networkx in /usr/local/lib/python3.10/dist-packages (from torch>=1.8.0->ultralytics) (3.4.2)\n",
            "Requirement already satisfied: jinja2 in /usr/local/lib/python3.10/dist-packages (from torch>=1.8.0->ultralytics) (3.1.4)\n",
            "Requirement already satisfied: fsspec in /usr/local/lib/python3.10/dist-packages (from torch>=1.8.0->ultralytics) (2024.10.0)\n",
            "Requirement already satisfied: sympy==1.13.1 in /usr/local/lib/python3.10/dist-packages (from torch>=1.8.0->ultralytics) (1.13.1)\n",
            "Requirement already satisfied: mpmath<1.4,>=1.1.0 in /usr/local/lib/python3.10/dist-packages (from sympy==1.13.1->torch>=1.8.0->ultralytics) (1.3.0)\n",
            "Requirement already satisfied: imageio>=2.33 in /usr/local/lib/python3.10/dist-packages (from scikit-image->easyocr) (2.36.1)\n",
            "Requirement already satisfied: tifffile>=2022.8.12 in /usr/local/lib/python3.10/dist-packages (from scikit-image->easyocr) (2024.12.12)\n",
            "Requirement already satisfied: lazy-loader>=0.4 in /usr/local/lib/python3.10/dist-packages (from scikit-image->easyocr) (0.4)\n",
            "Requirement already satisfied: six>=1.5 in /usr/local/lib/python3.10/dist-packages (from python-dateutil>=2.7->matplotlib>=3.3.0->ultralytics) (1.17.0)\n",
            "Requirement already satisfied: MarkupSafe>=2.0 in /usr/local/lib/python3.10/dist-packages (from jinja2->torch>=1.8.0->ultralytics) (3.0.2)\n"
          ]
        }
      ]
    },
    {
      "cell_type": "code",
      "source": [
        "from ultralytics import YOLO\n",
        "import cv2\n",
        "import easyocr\n",
        "import numpy as np\n",
        "from PIL import Image, ImageFont, ImageDraw\n",
        "import arabic_reshaper\n",
        "from bidi.algorithm import get_display\n",
        "\n",
        "# Initialize EasyOCR reader with Arabic and English support\n",
        "reader = easyocr.Reader(['ar', 'en'])\n",
        "\n",
        "# Load the trained YOLO model\n",
        "model = YOLO('best.pt')  # Replace with the path to your YOLO model weights\n",
        "\n",
        "# Path to input and output video\n",
        "input_video_path = '/content/VID20241217133043.mp4'  # Replace with your input video path\n",
        "output_video_path = 'result_vd.mp4'  # Replace with your desired output video path\n",
        "\n",
        "# Load font for rendering Arabic text (ensure the font supports Arabic)\n",
        "font_path = \"/content/arial.ttf\"  # Replace with the actual path to your Arabic-supported font\n",
        "font = ImageFont.truetype(font_path, 32)\n",
        "\n",
        "# Open the video file\n",
        "cap = cv2.VideoCapture(input_video_path)\n",
        "\n",
        "# Get video properties\n",
        "frame_width = int(cap.get(cv2.CAP_PROP_FRAME_WIDTH))\n",
        "frame_height = int(cap.get(cv2.CAP_PROP_FRAME_HEIGHT))\n",
        "fps = int(cap.get(cv2.CAP_PROP_FPS))\n",
        "\n",
        "# Define the codec and create VideoWriter\n",
        "fourcc = cv2.VideoWriter_fourcc(*'mp4v')\n",
        "out = cv2.VideoWriter(output_video_path, fourcc, fps, (frame_width, frame_height))\n",
        "\n",
        "# Process the video frame by frame\n",
        "while cap.isOpened():\n",
        "    ret, frame = cap.read()\n",
        "    if not ret:\n",
        "        break\n",
        "\n",
        "    # Run YOLO detection on the frame\n",
        "    results = model(frame, conf=0.25)\n",
        "\n",
        "    # Convert the OpenCV frame to PIL format for rendering\n",
        "    img_pil = Image.fromarray(cv2.cvtColor(frame, cv2.COLOR_BGR2RGB))\n",
        "    draw = ImageDraw.Draw(img_pil)  # Initialize the draw object\n",
        "\n",
        "    # Loop through detections and process each bounding box\n",
        "    for result in results[0].boxes.data:\n",
        "        x1, y1, x2, y2, conf, cls = result.tolist()\n",
        "        x1, y1, x2, y2 = map(int, [x1, y1, x2, y2])  # Convert to integer coordinates\n",
        "\n",
        "        # Crop the detected region\n",
        "        cropped_region = frame[y1:y2, x1:x2]\n",
        "\n",
        "        # Apply EasyOCR to the cropped region\n",
        "        ocr_result = reader.readtext(cropped_region)\n",
        "        text = \"\"\n",
        "        if ocr_result:\n",
        "            text = ocr_result[0][-2]  # Extract the detected text\n",
        "\n",
        "            # Reshape and adjust Arabic text\n",
        "            reshaped_text = arabic_reshaper.reshape(text)\n",
        "            bidi_text = get_display(reshaped_text)\n",
        "        else:\n",
        "            bidi_text = f\"Class: {int(cls)}\"  # Display class ID if no text is detected\n",
        "\n",
        "        # Draw the bounding box on the frame\n",
        "        draw.rectangle([(x1, y1), (x2, y2)], outline=\"blue\", width=2)\n",
        "\n",
        "        # Calculate text position\n",
        "        text_x = x1\n",
        "        text_y = y1 - 35 if y1 > 35 else y2 + 5\n",
        "\n",
        "        # Draw text on the frame\n",
        "        draw.text((text_x, text_y), bidi_text, font=font, fill=(255, 0, 0))  # Red text\n",
        "\n",
        "    # Convert back to OpenCV format\n",
        "    frame = cv2.cvtColor(np.array(img_pil), cv2.COLOR_RGB2BGR)\n",
        "\n",
        "    # Write the processed frame to the output video\n",
        "    out.write(frame)\n",
        "\n",
        "# Release resources\n",
        "cap.release()\n",
        "out.release()\n",
        "\n",
        "print(f\"Processed video saved at: {output_video_path}\")\n"
      ],
      "metadata": {
        "colab": {
          "base_uri": "https://localhost:8080/",
          "height": 1000
        },
        "id": "xzThoq-kb6mW",
        "outputId": "20d78ef6-0389-45b8-baa4-01f31661c5a4"
      },
      "execution_count": null,
      "outputs": [
        {
          "output_type": "stream",
          "name": "stderr",
          "text": [
            "WARNING:easyocr.easyocr:Neither CUDA nor MPS are available - defaulting to CPU. Note: This module is much faster with a GPU.\n"
          ]
        },
        {
          "output_type": "stream",
          "name": "stdout",
          "text": [
            "\n",
            "0: 640x384 1 car, 407.3ms\n",
            "Speed: 3.4ms preprocess, 407.3ms inference, 1.0ms postprocess per image at shape (1, 3, 640, 384)\n",
            "\n",
            "0: 640x384 1 car, 439.0ms\n",
            "Speed: 6.6ms preprocess, 439.0ms inference, 1.1ms postprocess per image at shape (1, 3, 640, 384)\n",
            "\n",
            "0: 640x384 1 car, 384.0ms\n",
            "Speed: 4.7ms preprocess, 384.0ms inference, 1.0ms postprocess per image at shape (1, 3, 640, 384)\n",
            "\n",
            "0: 640x384 1 car, 1800.0ms\n",
            "Speed: 12.0ms preprocess, 1800.0ms inference, 1.2ms postprocess per image at shape (1, 3, 640, 384)\n",
            "\n",
            "0: 640x384 (no detections), 418.0ms\n",
            "Speed: 4.8ms preprocess, 418.0ms inference, 0.6ms postprocess per image at shape (1, 3, 640, 384)\n",
            "\n",
            "0: 640x384 (no detections), 559.6ms\n",
            "Speed: 4.6ms preprocess, 559.6ms inference, 0.7ms postprocess per image at shape (1, 3, 640, 384)\n",
            "\n",
            "0: 640x384 (no detections), 609.0ms\n",
            "Speed: 9.4ms preprocess, 609.0ms inference, 0.7ms postprocess per image at shape (1, 3, 640, 384)\n",
            "\n",
            "0: 640x384 1 car, 609.6ms\n",
            "Speed: 6.7ms preprocess, 609.6ms inference, 1.4ms postprocess per image at shape (1, 3, 640, 384)\n",
            "\n",
            "0: 640x384 1 car, 631.2ms\n",
            "Speed: 8.4ms preprocess, 631.2ms inference, 1.2ms postprocess per image at shape (1, 3, 640, 384)\n",
            "\n",
            "0: 640x384 1 car, 660.4ms\n",
            "Speed: 4.6ms preprocess, 660.4ms inference, 1.2ms postprocess per image at shape (1, 3, 640, 384)\n",
            "\n",
            "0: 640x384 1 car, 433.1ms\n",
            "Speed: 10.7ms preprocess, 433.1ms inference, 1.1ms postprocess per image at shape (1, 3, 640, 384)\n",
            "\n",
            "0: 640x384 1 car, 461.3ms\n",
            "Speed: 5.1ms preprocess, 461.3ms inference, 1.6ms postprocess per image at shape (1, 3, 640, 384)\n",
            "\n",
            "0: 640x384 1 car, 445.3ms\n",
            "Speed: 4.8ms preprocess, 445.3ms inference, 1.1ms postprocess per image at shape (1, 3, 640, 384)\n",
            "\n",
            "0: 640x384 1 car, 612.3ms\n",
            "Speed: 6.6ms preprocess, 612.3ms inference, 1.2ms postprocess per image at shape (1, 3, 640, 384)\n",
            "\n",
            "0: 640x384 1 car, 705.0ms\n",
            "Speed: 5.1ms preprocess, 705.0ms inference, 1.8ms postprocess per image at shape (1, 3, 640, 384)\n",
            "\n",
            "0: 640x384 1 car, 400.4ms\n",
            "Speed: 4.2ms preprocess, 400.4ms inference, 1.0ms postprocess per image at shape (1, 3, 640, 384)\n",
            "\n",
            "0: 640x384 1 car, 447.4ms\n",
            "Speed: 6.6ms preprocess, 447.4ms inference, 1.3ms postprocess per image at shape (1, 3, 640, 384)\n",
            "\n",
            "0: 640x384 1 car, 418.0ms\n",
            "Speed: 4.3ms preprocess, 418.0ms inference, 1.0ms postprocess per image at shape (1, 3, 640, 384)\n",
            "\n",
            "0: 640x384 1 car, 682.8ms\n",
            "Speed: 5.1ms preprocess, 682.8ms inference, 1.4ms postprocess per image at shape (1, 3, 640, 384)\n",
            "\n",
            "0: 640x384 1 car, 662.0ms\n",
            "Speed: 8.3ms preprocess, 662.0ms inference, 1.3ms postprocess per image at shape (1, 3, 640, 384)\n",
            "\n",
            "0: 640x384 1 car, 400.2ms\n",
            "Speed: 7.9ms preprocess, 400.2ms inference, 1.0ms postprocess per image at shape (1, 3, 640, 384)\n",
            "\n",
            "0: 640x384 1 car, 387.9ms\n",
            "Speed: 4.4ms preprocess, 387.9ms inference, 0.9ms postprocess per image at shape (1, 3, 640, 384)\n",
            "\n",
            "0: 640x384 1 car, 442.5ms\n",
            "Speed: 6.0ms preprocess, 442.5ms inference, 1.2ms postprocess per image at shape (1, 3, 640, 384)\n",
            "\n",
            "0: 640x384 1 car, 545.7ms\n",
            "Speed: 6.0ms preprocess, 545.7ms inference, 1.2ms postprocess per image at shape (1, 3, 640, 384)\n",
            "\n",
            "0: 640x384 1 car, 635.0ms\n",
            "Speed: 7.3ms preprocess, 635.0ms inference, 1.5ms postprocess per image at shape (1, 3, 640, 384)\n",
            "\n",
            "0: 640x384 1 car, 432.6ms\n",
            "Speed: 5.7ms preprocess, 432.6ms inference, 1.2ms postprocess per image at shape (1, 3, 640, 384)\n",
            "\n",
            "0: 640x384 1 car, 400.1ms\n",
            "Speed: 4.1ms preprocess, 400.1ms inference, 1.0ms postprocess per image at shape (1, 3, 640, 384)\n",
            "\n",
            "0: 640x384 1 car, 387.4ms\n",
            "Speed: 5.2ms preprocess, 387.4ms inference, 0.9ms postprocess per image at shape (1, 3, 640, 384)\n",
            "\n",
            "0: 640x384 1 car, 617.8ms\n",
            "Speed: 11.9ms preprocess, 617.8ms inference, 1.3ms postprocess per image at shape (1, 3, 640, 384)\n",
            "\n",
            "0: 640x384 1 car, 412.7ms\n",
            "Speed: 4.4ms preprocess, 412.7ms inference, 1.3ms postprocess per image at shape (1, 3, 640, 384)\n",
            "\n",
            "0: 640x384 1 car, 445.1ms\n",
            "Speed: 6.5ms preprocess, 445.1ms inference, 1.4ms postprocess per image at shape (1, 3, 640, 384)\n",
            "\n",
            "0: 640x384 1 car, 420.8ms\n",
            "Speed: 6.3ms preprocess, 420.8ms inference, 1.2ms postprocess per image at shape (1, 3, 640, 384)\n",
            "\n",
            "0: 640x384 1 car, 425.7ms\n",
            "Speed: 5.5ms preprocess, 425.7ms inference, 1.2ms postprocess per image at shape (1, 3, 640, 384)\n",
            "\n",
            "0: 640x384 1 car, 642.0ms\n",
            "Speed: 6.3ms preprocess, 642.0ms inference, 1.2ms postprocess per image at shape (1, 3, 640, 384)\n",
            "\n",
            "0: 640x384 1 car, 387.1ms\n",
            "Speed: 4.9ms preprocess, 387.1ms inference, 1.4ms postprocess per image at shape (1, 3, 640, 384)\n",
            "\n",
            "0: 640x384 1 car, 402.9ms\n",
            "Speed: 4.1ms preprocess, 402.9ms inference, 0.9ms postprocess per image at shape (1, 3, 640, 384)\n",
            "\n",
            "0: 640x384 1 car, 425.7ms\n",
            "Speed: 5.4ms preprocess, 425.7ms inference, 1.1ms postprocess per image at shape (1, 3, 640, 384)\n",
            "\n",
            "0: 640x384 1 car, 447.6ms\n",
            "Speed: 5.1ms preprocess, 447.6ms inference, 1.2ms postprocess per image at shape (1, 3, 640, 384)\n",
            "\n",
            "0: 640x384 1 car, 1444.9ms\n",
            "Speed: 6.8ms preprocess, 1444.9ms inference, 1.2ms postprocess per image at shape (1, 3, 640, 384)\n",
            "\n",
            "0: 640x384 1 car, 442.5ms\n",
            "Speed: 6.4ms preprocess, 442.5ms inference, 1.3ms postprocess per image at shape (1, 3, 640, 384)\n",
            "\n",
            "0: 640x384 1 car, 1523.8ms\n",
            "Speed: 4.4ms preprocess, 1523.8ms inference, 1.2ms postprocess per image at shape (1, 3, 640, 384)\n",
            "\n",
            "0: 640x384 1 car, 616.3ms\n",
            "Speed: 4.3ms preprocess, 616.3ms inference, 1.2ms postprocess per image at shape (1, 3, 640, 384)\n",
            "\n",
            "0: 640x384 1 car, 900.2ms\n",
            "Speed: 7.9ms preprocess, 900.2ms inference, 3.1ms postprocess per image at shape (1, 3, 640, 384)\n",
            "\n",
            "0: 640x384 1 car, 439.9ms\n",
            "Speed: 7.2ms preprocess, 439.9ms inference, 1.1ms postprocess per image at shape (1, 3, 640, 384)\n",
            "\n",
            "0: 640x384 1 car, 392.6ms\n",
            "Speed: 4.8ms preprocess, 392.6ms inference, 1.0ms postprocess per image at shape (1, 3, 640, 384)\n",
            "\n",
            "0: 640x384 1 car, 386.7ms\n",
            "Speed: 4.2ms preprocess, 386.7ms inference, 0.9ms postprocess per image at shape (1, 3, 640, 384)\n",
            "\n",
            "0: 640x384 1 car, 651.9ms\n",
            "Speed: 6.8ms preprocess, 651.9ms inference, 1.2ms postprocess per image at shape (1, 3, 640, 384)\n",
            "\n",
            "0: 640x384 1 car, 392.9ms\n",
            "Speed: 5.5ms preprocess, 392.9ms inference, 1.0ms postprocess per image at shape (1, 3, 640, 384)\n",
            "\n",
            "0: 640x384 1 car, 447.0ms\n",
            "Speed: 5.0ms preprocess, 447.0ms inference, 1.2ms postprocess per image at shape (1, 3, 640, 384)\n",
            "\n",
            "0: 640x384 1 car, 447.0ms\n",
            "Speed: 6.0ms preprocess, 447.0ms inference, 1.2ms postprocess per image at shape (1, 3, 640, 384)\n",
            "\n",
            "0: 640x384 1 car, 613.9ms\n",
            "Speed: 7.4ms preprocess, 613.9ms inference, 1.2ms postprocess per image at shape (1, 3, 640, 384)\n",
            "\n",
            "0: 640x384 1 car, 387.2ms\n",
            "Speed: 7.4ms preprocess, 387.2ms inference, 1.0ms postprocess per image at shape (1, 3, 640, 384)\n",
            "\n",
            "0: 640x384 1 car, 408.7ms\n",
            "Speed: 8.4ms preprocess, 408.7ms inference, 0.9ms postprocess per image at shape (1, 3, 640, 384)\n",
            "\n",
            "0: 640x384 1 car, 384.1ms\n",
            "Speed: 4.7ms preprocess, 384.1ms inference, 1.1ms postprocess per image at shape (1, 3, 640, 384)\n",
            "\n",
            "0: 640x384 1 car, 619.0ms\n",
            "Speed: 9.5ms preprocess, 619.0ms inference, 1.3ms postprocess per image at shape (1, 3, 640, 384)\n",
            "\n",
            "0: 640x384 1 car, 708.3ms\n",
            "Speed: 11.5ms preprocess, 708.3ms inference, 1.2ms postprocess per image at shape (1, 3, 640, 384)\n",
            "\n",
            "0: 640x384 1 car, 456.5ms\n",
            "Speed: 4.3ms preprocess, 456.5ms inference, 1.0ms postprocess per image at shape (1, 3, 640, 384)\n",
            "\n",
            "0: 640x384 1 car, 427.7ms\n",
            "Speed: 8.3ms preprocess, 427.7ms inference, 1.1ms postprocess per image at shape (1, 3, 640, 384)\n",
            "\n",
            "0: 640x384 1 car, 463.1ms\n",
            "Speed: 6.1ms preprocess, 463.1ms inference, 1.1ms postprocess per image at shape (1, 3, 640, 384)\n",
            "\n",
            "0: 640x384 1 car, 868.4ms\n",
            "Speed: 4.6ms preprocess, 868.4ms inference, 1.3ms postprocess per image at shape (1, 3, 640, 384)\n",
            "\n",
            "0: 640x384 1 car, 439.4ms\n",
            "Speed: 4.9ms preprocess, 439.4ms inference, 1.5ms postprocess per image at shape (1, 3, 640, 384)\n",
            "\n",
            "0: 640x384 1 car, 451.3ms\n",
            "Speed: 6.1ms preprocess, 451.3ms inference, 1.4ms postprocess per image at shape (1, 3, 640, 384)\n"
          ]
        },
        {
          "output_type": "error",
          "ename": "KeyboardInterrupt",
          "evalue": "",
          "traceback": [
            "\u001b[0;31m---------------------------------------------------------------------------\u001b[0m",
            "\u001b[0;31mKeyboardInterrupt\u001b[0m                         Traceback (most recent call last)",
            "\u001b[0;32m<ipython-input-34-8528f6b39f69>\u001b[0m in \u001b[0;36m<cell line: 36>\u001b[0;34m()\u001b[0m\n\u001b[1;32m     55\u001b[0m \u001b[0;34m\u001b[0m\u001b[0m\n\u001b[1;32m     56\u001b[0m         \u001b[0;31m# Apply EasyOCR to the cropped region\u001b[0m\u001b[0;34m\u001b[0m\u001b[0;34m\u001b[0m\u001b[0m\n\u001b[0;32m---> 57\u001b[0;31m         \u001b[0mocr_result\u001b[0m \u001b[0;34m=\u001b[0m \u001b[0mreader\u001b[0m\u001b[0;34m.\u001b[0m\u001b[0mreadtext\u001b[0m\u001b[0;34m(\u001b[0m\u001b[0mcropped_region\u001b[0m\u001b[0;34m)\u001b[0m\u001b[0;34m\u001b[0m\u001b[0;34m\u001b[0m\u001b[0m\n\u001b[0m\u001b[1;32m     58\u001b[0m         \u001b[0mtext\u001b[0m \u001b[0;34m=\u001b[0m \u001b[0;34m\"\"\u001b[0m\u001b[0;34m\u001b[0m\u001b[0;34m\u001b[0m\u001b[0m\n\u001b[1;32m     59\u001b[0m         \u001b[0;32mif\u001b[0m \u001b[0mocr_result\u001b[0m\u001b[0;34m:\u001b[0m\u001b[0;34m\u001b[0m\u001b[0;34m\u001b[0m\u001b[0m\n",
            "\u001b[0;32m/usr/local/lib/python3.10/dist-packages/easyocr/easyocr.py\u001b[0m in \u001b[0;36mreadtext\u001b[0;34m(self, image, decoder, beamWidth, batch_size, workers, allowlist, blocklist, detail, rotation_info, paragraph, min_size, contrast_ths, adjust_contrast, filter_ths, text_threshold, low_text, link_threshold, canvas_size, mag_ratio, slope_ths, ycenter_ths, height_ths, width_ths, y_ths, x_ths, add_margin, threshold, bbox_min_score, bbox_min_size, max_candidates, output_format)\u001b[0m\n\u001b[1;32m    466\u001b[0m         \u001b[0;31m# get the 1st result from hor & free list as self.detect returns a list of depth 3\u001b[0m\u001b[0;34m\u001b[0m\u001b[0;34m\u001b[0m\u001b[0m\n\u001b[1;32m    467\u001b[0m         \u001b[0mhorizontal_list\u001b[0m\u001b[0;34m,\u001b[0m \u001b[0mfree_list\u001b[0m \u001b[0;34m=\u001b[0m \u001b[0mhorizontal_list\u001b[0m\u001b[0;34m[\u001b[0m\u001b[0;36m0\u001b[0m\u001b[0;34m]\u001b[0m\u001b[0;34m,\u001b[0m \u001b[0mfree_list\u001b[0m\u001b[0;34m[\u001b[0m\u001b[0;36m0\u001b[0m\u001b[0;34m]\u001b[0m\u001b[0;34m\u001b[0m\u001b[0;34m\u001b[0m\u001b[0m\n\u001b[0;32m--> 468\u001b[0;31m         result = self.recognize(img_cv_grey, horizontal_list, free_list,\\\n\u001b[0m\u001b[1;32m    469\u001b[0m                                 \u001b[0mdecoder\u001b[0m\u001b[0;34m,\u001b[0m \u001b[0mbeamWidth\u001b[0m\u001b[0;34m,\u001b[0m \u001b[0mbatch_size\u001b[0m\u001b[0;34m,\u001b[0m\u001b[0;31m\\\u001b[0m\u001b[0;34m\u001b[0m\u001b[0;34m\u001b[0m\u001b[0m\n\u001b[1;32m    470\u001b[0m                                 \u001b[0mworkers\u001b[0m\u001b[0;34m,\u001b[0m \u001b[0mallowlist\u001b[0m\u001b[0;34m,\u001b[0m \u001b[0mblocklist\u001b[0m\u001b[0;34m,\u001b[0m \u001b[0mdetail\u001b[0m\u001b[0;34m,\u001b[0m \u001b[0mrotation_info\u001b[0m\u001b[0;34m,\u001b[0m\u001b[0;31m\\\u001b[0m\u001b[0;34m\u001b[0m\u001b[0;34m\u001b[0m\u001b[0m\n",
            "\u001b[0;32m/usr/local/lib/python3.10/dist-packages/easyocr/easyocr.py\u001b[0m in \u001b[0;36mrecognize\u001b[0;34m(self, img_cv_grey, horizontal_list, free_list, decoder, beamWidth, batch_size, workers, allowlist, blocklist, detail, rotation_info, paragraph, contrast_ths, adjust_contrast, filter_ths, y_ths, x_ths, reformat, output_format)\u001b[0m\n\u001b[1;32m    382\u001b[0m                 \u001b[0mf_list\u001b[0m \u001b[0;34m=\u001b[0m \u001b[0;34m[\u001b[0m\u001b[0;34m]\u001b[0m\u001b[0;34m\u001b[0m\u001b[0;34m\u001b[0m\u001b[0m\n\u001b[1;32m    383\u001b[0m                 \u001b[0mimage_list\u001b[0m\u001b[0;34m,\u001b[0m \u001b[0mmax_width\u001b[0m \u001b[0;34m=\u001b[0m \u001b[0mget_image_list\u001b[0m\u001b[0;34m(\u001b[0m\u001b[0mh_list\u001b[0m\u001b[0;34m,\u001b[0m \u001b[0mf_list\u001b[0m\u001b[0;34m,\u001b[0m \u001b[0mimg_cv_grey\u001b[0m\u001b[0;34m,\u001b[0m \u001b[0mmodel_height\u001b[0m \u001b[0;34m=\u001b[0m \u001b[0mimgH\u001b[0m\u001b[0;34m)\u001b[0m\u001b[0;34m\u001b[0m\u001b[0;34m\u001b[0m\u001b[0m\n\u001b[0;32m--> 384\u001b[0;31m                 result0 = get_text(self.character, imgH, int(max_width), self.recognizer, self.converter, image_list,\\\n\u001b[0m\u001b[1;32m    385\u001b[0m                               \u001b[0mignore_char\u001b[0m\u001b[0;34m,\u001b[0m \u001b[0mdecoder\u001b[0m\u001b[0;34m,\u001b[0m \u001b[0mbeamWidth\u001b[0m\u001b[0;34m,\u001b[0m \u001b[0mbatch_size\u001b[0m\u001b[0;34m,\u001b[0m \u001b[0mcontrast_ths\u001b[0m\u001b[0;34m,\u001b[0m \u001b[0madjust_contrast\u001b[0m\u001b[0;34m,\u001b[0m \u001b[0mfilter_ths\u001b[0m\u001b[0;34m,\u001b[0m\u001b[0;31m\\\u001b[0m\u001b[0;34m\u001b[0m\u001b[0;34m\u001b[0m\u001b[0m\n\u001b[1;32m    386\u001b[0m                               workers, self.device)\n",
            "\u001b[0;32m/usr/local/lib/python3.10/dist-packages/easyocr/recognition.py\u001b[0m in \u001b[0;36mget_text\u001b[0;34m(character, imgH, imgW, recognizer, converter, image_list, ignore_char, decoder, beamWidth, batch_size, contrast_ths, adjust_contrast, filter_ths, workers, device)\u001b[0m\n\u001b[1;32m    204\u001b[0m \u001b[0;34m\u001b[0m\u001b[0m\n\u001b[1;32m    205\u001b[0m     \u001b[0;31m# predict first round\u001b[0m\u001b[0;34m\u001b[0m\u001b[0;34m\u001b[0m\u001b[0m\n\u001b[0;32m--> 206\u001b[0;31m     result1 = recognizer_predict(recognizer, converter, test_loader,batch_max_length,\\\n\u001b[0m\u001b[1;32m    207\u001b[0m                                  ignore_idx, char_group_idx, decoder, beamWidth, device = device)\n\u001b[1;32m    208\u001b[0m \u001b[0;34m\u001b[0m\u001b[0m\n",
            "\u001b[0;32m/usr/local/lib/python3.10/dist-packages/easyocr/recognition.py\u001b[0m in \u001b[0;36mrecognizer_predict\u001b[0;34m(model, converter, test_loader, batch_max_length, ignore_idx, char_group_idx, decoder, beamWidth, device)\u001b[0m\n\u001b[1;32m    109\u001b[0m             \u001b[0mtext_for_pred\u001b[0m \u001b[0;34m=\u001b[0m \u001b[0mtorch\u001b[0m\u001b[0;34m.\u001b[0m\u001b[0mLongTensor\u001b[0m\u001b[0;34m(\u001b[0m\u001b[0mbatch_size\u001b[0m\u001b[0;34m,\u001b[0m \u001b[0mbatch_max_length\u001b[0m \u001b[0;34m+\u001b[0m \u001b[0;36m1\u001b[0m\u001b[0;34m)\u001b[0m\u001b[0;34m.\u001b[0m\u001b[0mfill_\u001b[0m\u001b[0;34m(\u001b[0m\u001b[0;36m0\u001b[0m\u001b[0;34m)\u001b[0m\u001b[0;34m.\u001b[0m\u001b[0mto\u001b[0m\u001b[0;34m(\u001b[0m\u001b[0mdevice\u001b[0m\u001b[0;34m)\u001b[0m\u001b[0;34m\u001b[0m\u001b[0;34m\u001b[0m\u001b[0m\n\u001b[1;32m    110\u001b[0m \u001b[0;34m\u001b[0m\u001b[0m\n\u001b[0;32m--> 111\u001b[0;31m             \u001b[0mpreds\u001b[0m \u001b[0;34m=\u001b[0m \u001b[0mmodel\u001b[0m\u001b[0;34m(\u001b[0m\u001b[0mimage\u001b[0m\u001b[0;34m,\u001b[0m \u001b[0mtext_for_pred\u001b[0m\u001b[0;34m)\u001b[0m\u001b[0;34m\u001b[0m\u001b[0;34m\u001b[0m\u001b[0m\n\u001b[0m\u001b[1;32m    112\u001b[0m \u001b[0;34m\u001b[0m\u001b[0m\n\u001b[1;32m    113\u001b[0m             \u001b[0;31m# Select max probabilty (greedy decoding) then decode index to character\u001b[0m\u001b[0;34m\u001b[0m\u001b[0;34m\u001b[0m\u001b[0m\n",
            "\u001b[0;32m/usr/local/lib/python3.10/dist-packages/torch/nn/modules/module.py\u001b[0m in \u001b[0;36m_wrapped_call_impl\u001b[0;34m(self, *args, **kwargs)\u001b[0m\n\u001b[1;32m   1734\u001b[0m             \u001b[0;32mreturn\u001b[0m \u001b[0mself\u001b[0m\u001b[0;34m.\u001b[0m\u001b[0m_compiled_call_impl\u001b[0m\u001b[0;34m(\u001b[0m\u001b[0;34m*\u001b[0m\u001b[0margs\u001b[0m\u001b[0;34m,\u001b[0m \u001b[0;34m**\u001b[0m\u001b[0mkwargs\u001b[0m\u001b[0;34m)\u001b[0m  \u001b[0;31m# type: ignore[misc]\u001b[0m\u001b[0;34m\u001b[0m\u001b[0;34m\u001b[0m\u001b[0m\n\u001b[1;32m   1735\u001b[0m         \u001b[0;32melse\u001b[0m\u001b[0;34m:\u001b[0m\u001b[0;34m\u001b[0m\u001b[0;34m\u001b[0m\u001b[0m\n\u001b[0;32m-> 1736\u001b[0;31m             \u001b[0;32mreturn\u001b[0m \u001b[0mself\u001b[0m\u001b[0;34m.\u001b[0m\u001b[0m_call_impl\u001b[0m\u001b[0;34m(\u001b[0m\u001b[0;34m*\u001b[0m\u001b[0margs\u001b[0m\u001b[0;34m,\u001b[0m \u001b[0;34m**\u001b[0m\u001b[0mkwargs\u001b[0m\u001b[0;34m)\u001b[0m\u001b[0;34m\u001b[0m\u001b[0;34m\u001b[0m\u001b[0m\n\u001b[0m\u001b[1;32m   1737\u001b[0m \u001b[0;34m\u001b[0m\u001b[0m\n\u001b[1;32m   1738\u001b[0m     \u001b[0;31m# torchrec tests the code consistency with the following code\u001b[0m\u001b[0;34m\u001b[0m\u001b[0;34m\u001b[0m\u001b[0m\n",
            "\u001b[0;32m/usr/local/lib/python3.10/dist-packages/torch/nn/modules/module.py\u001b[0m in \u001b[0;36m_call_impl\u001b[0;34m(self, *args, **kwargs)\u001b[0m\n\u001b[1;32m   1745\u001b[0m                 \u001b[0;32mor\u001b[0m \u001b[0m_global_backward_pre_hooks\u001b[0m \u001b[0;32mor\u001b[0m \u001b[0m_global_backward_hooks\u001b[0m\u001b[0;34m\u001b[0m\u001b[0;34m\u001b[0m\u001b[0m\n\u001b[1;32m   1746\u001b[0m                 or _global_forward_hooks or _global_forward_pre_hooks):\n\u001b[0;32m-> 1747\u001b[0;31m             \u001b[0;32mreturn\u001b[0m \u001b[0mforward_call\u001b[0m\u001b[0;34m(\u001b[0m\u001b[0;34m*\u001b[0m\u001b[0margs\u001b[0m\u001b[0;34m,\u001b[0m \u001b[0;34m**\u001b[0m\u001b[0mkwargs\u001b[0m\u001b[0;34m)\u001b[0m\u001b[0;34m\u001b[0m\u001b[0;34m\u001b[0m\u001b[0m\n\u001b[0m\u001b[1;32m   1748\u001b[0m \u001b[0;34m\u001b[0m\u001b[0m\n\u001b[1;32m   1749\u001b[0m         \u001b[0mresult\u001b[0m \u001b[0;34m=\u001b[0m \u001b[0;32mNone\u001b[0m\u001b[0;34m\u001b[0m\u001b[0;34m\u001b[0m\u001b[0m\n",
            "\u001b[0;32m/usr/local/lib/python3.10/dist-packages/easyocr/model/model.py\u001b[0m in \u001b[0;36mforward\u001b[0;34m(self, input, text)\u001b[0m\n\u001b[1;32m     23\u001b[0m     \u001b[0;32mdef\u001b[0m \u001b[0mforward\u001b[0m\u001b[0;34m(\u001b[0m\u001b[0mself\u001b[0m\u001b[0;34m,\u001b[0m \u001b[0minput\u001b[0m\u001b[0;34m,\u001b[0m \u001b[0mtext\u001b[0m\u001b[0;34m)\u001b[0m\u001b[0;34m:\u001b[0m\u001b[0;34m\u001b[0m\u001b[0;34m\u001b[0m\u001b[0m\n\u001b[1;32m     24\u001b[0m         \u001b[0;34m\"\"\" Feature extraction stage \"\"\"\u001b[0m\u001b[0;34m\u001b[0m\u001b[0;34m\u001b[0m\u001b[0m\n\u001b[0;32m---> 25\u001b[0;31m         \u001b[0mvisual_feature\u001b[0m \u001b[0;34m=\u001b[0m \u001b[0mself\u001b[0m\u001b[0;34m.\u001b[0m\u001b[0mFeatureExtraction\u001b[0m\u001b[0;34m(\u001b[0m\u001b[0minput\u001b[0m\u001b[0;34m)\u001b[0m\u001b[0;34m\u001b[0m\u001b[0;34m\u001b[0m\u001b[0m\n\u001b[0m\u001b[1;32m     26\u001b[0m         \u001b[0mvisual_feature\u001b[0m \u001b[0;34m=\u001b[0m \u001b[0mself\u001b[0m\u001b[0;34m.\u001b[0m\u001b[0mAdaptiveAvgPool\u001b[0m\u001b[0;34m(\u001b[0m\u001b[0mvisual_feature\u001b[0m\u001b[0;34m.\u001b[0m\u001b[0mpermute\u001b[0m\u001b[0;34m(\u001b[0m\u001b[0;36m0\u001b[0m\u001b[0;34m,\u001b[0m \u001b[0;36m3\u001b[0m\u001b[0;34m,\u001b[0m \u001b[0;36m1\u001b[0m\u001b[0;34m,\u001b[0m \u001b[0;36m2\u001b[0m\u001b[0;34m)\u001b[0m\u001b[0;34m)\u001b[0m  \u001b[0;31m# [b, c, h, w] -> [b, w, c, h]\u001b[0m\u001b[0;34m\u001b[0m\u001b[0;34m\u001b[0m\u001b[0m\n\u001b[1;32m     27\u001b[0m         \u001b[0mvisual_feature\u001b[0m \u001b[0;34m=\u001b[0m \u001b[0mvisual_feature\u001b[0m\u001b[0;34m.\u001b[0m\u001b[0msqueeze\u001b[0m\u001b[0;34m(\u001b[0m\u001b[0;36m3\u001b[0m\u001b[0;34m)\u001b[0m\u001b[0;34m\u001b[0m\u001b[0;34m\u001b[0m\u001b[0m\n",
            "\u001b[0;32m/usr/local/lib/python3.10/dist-packages/torch/nn/modules/module.py\u001b[0m in \u001b[0;36m_wrapped_call_impl\u001b[0;34m(self, *args, **kwargs)\u001b[0m\n\u001b[1;32m   1734\u001b[0m             \u001b[0;32mreturn\u001b[0m \u001b[0mself\u001b[0m\u001b[0;34m.\u001b[0m\u001b[0m_compiled_call_impl\u001b[0m\u001b[0;34m(\u001b[0m\u001b[0;34m*\u001b[0m\u001b[0margs\u001b[0m\u001b[0;34m,\u001b[0m \u001b[0;34m**\u001b[0m\u001b[0mkwargs\u001b[0m\u001b[0;34m)\u001b[0m  \u001b[0;31m# type: ignore[misc]\u001b[0m\u001b[0;34m\u001b[0m\u001b[0;34m\u001b[0m\u001b[0m\n\u001b[1;32m   1735\u001b[0m         \u001b[0;32melse\u001b[0m\u001b[0;34m:\u001b[0m\u001b[0;34m\u001b[0m\u001b[0;34m\u001b[0m\u001b[0m\n\u001b[0;32m-> 1736\u001b[0;31m             \u001b[0;32mreturn\u001b[0m \u001b[0mself\u001b[0m\u001b[0;34m.\u001b[0m\u001b[0m_call_impl\u001b[0m\u001b[0;34m(\u001b[0m\u001b[0;34m*\u001b[0m\u001b[0margs\u001b[0m\u001b[0;34m,\u001b[0m \u001b[0;34m**\u001b[0m\u001b[0mkwargs\u001b[0m\u001b[0;34m)\u001b[0m\u001b[0;34m\u001b[0m\u001b[0;34m\u001b[0m\u001b[0m\n\u001b[0m\u001b[1;32m   1737\u001b[0m \u001b[0;34m\u001b[0m\u001b[0m\n\u001b[1;32m   1738\u001b[0m     \u001b[0;31m# torchrec tests the code consistency with the following code\u001b[0m\u001b[0;34m\u001b[0m\u001b[0;34m\u001b[0m\u001b[0m\n",
            "\u001b[0;32m/usr/local/lib/python3.10/dist-packages/torch/nn/modules/module.py\u001b[0m in \u001b[0;36m_call_impl\u001b[0;34m(self, *args, **kwargs)\u001b[0m\n\u001b[1;32m   1745\u001b[0m                 \u001b[0;32mor\u001b[0m \u001b[0m_global_backward_pre_hooks\u001b[0m \u001b[0;32mor\u001b[0m \u001b[0m_global_backward_hooks\u001b[0m\u001b[0;34m\u001b[0m\u001b[0;34m\u001b[0m\u001b[0m\n\u001b[1;32m   1746\u001b[0m                 or _global_forward_hooks or _global_forward_pre_hooks):\n\u001b[0;32m-> 1747\u001b[0;31m             \u001b[0;32mreturn\u001b[0m \u001b[0mforward_call\u001b[0m\u001b[0;34m(\u001b[0m\u001b[0;34m*\u001b[0m\u001b[0margs\u001b[0m\u001b[0;34m,\u001b[0m \u001b[0;34m**\u001b[0m\u001b[0mkwargs\u001b[0m\u001b[0;34m)\u001b[0m\u001b[0;34m\u001b[0m\u001b[0;34m\u001b[0m\u001b[0m\n\u001b[0m\u001b[1;32m   1748\u001b[0m \u001b[0;34m\u001b[0m\u001b[0m\n\u001b[1;32m   1749\u001b[0m         \u001b[0mresult\u001b[0m \u001b[0;34m=\u001b[0m \u001b[0;32mNone\u001b[0m\u001b[0;34m\u001b[0m\u001b[0;34m\u001b[0m\u001b[0m\n",
            "\u001b[0;32m/usr/local/lib/python3.10/dist-packages/easyocr/model/modules.py\u001b[0m in \u001b[0;36mforward\u001b[0;34m(self, input)\u001b[0m\n\u001b[1;32m    132\u001b[0m \u001b[0;34m\u001b[0m\u001b[0m\n\u001b[1;32m    133\u001b[0m     \u001b[0;32mdef\u001b[0m \u001b[0mforward\u001b[0m\u001b[0;34m(\u001b[0m\u001b[0mself\u001b[0m\u001b[0;34m,\u001b[0m \u001b[0minput\u001b[0m\u001b[0;34m)\u001b[0m\u001b[0;34m:\u001b[0m\u001b[0;34m\u001b[0m\u001b[0;34m\u001b[0m\u001b[0m\n\u001b[0;32m--> 134\u001b[0;31m         \u001b[0;32mreturn\u001b[0m \u001b[0mself\u001b[0m\u001b[0;34m.\u001b[0m\u001b[0mConvNet\u001b[0m\u001b[0;34m(\u001b[0m\u001b[0minput\u001b[0m\u001b[0;34m)\u001b[0m\u001b[0;34m\u001b[0m\u001b[0;34m\u001b[0m\u001b[0m\n\u001b[0m\u001b[1;32m    135\u001b[0m \u001b[0;34m\u001b[0m\u001b[0m\n\u001b[1;32m    136\u001b[0m \u001b[0;32mclass\u001b[0m \u001b[0mBasicBlock\u001b[0m\u001b[0;34m(\u001b[0m\u001b[0mnn\u001b[0m\u001b[0;34m.\u001b[0m\u001b[0mModule\u001b[0m\u001b[0;34m)\u001b[0m\u001b[0;34m:\u001b[0m\u001b[0;34m\u001b[0m\u001b[0;34m\u001b[0m\u001b[0m\n",
            "\u001b[0;32m/usr/local/lib/python3.10/dist-packages/torch/nn/modules/module.py\u001b[0m in \u001b[0;36m_wrapped_call_impl\u001b[0;34m(self, *args, **kwargs)\u001b[0m\n\u001b[1;32m   1734\u001b[0m             \u001b[0;32mreturn\u001b[0m \u001b[0mself\u001b[0m\u001b[0;34m.\u001b[0m\u001b[0m_compiled_call_impl\u001b[0m\u001b[0;34m(\u001b[0m\u001b[0;34m*\u001b[0m\u001b[0margs\u001b[0m\u001b[0;34m,\u001b[0m \u001b[0;34m**\u001b[0m\u001b[0mkwargs\u001b[0m\u001b[0;34m)\u001b[0m  \u001b[0;31m# type: ignore[misc]\u001b[0m\u001b[0;34m\u001b[0m\u001b[0;34m\u001b[0m\u001b[0m\n\u001b[1;32m   1735\u001b[0m         \u001b[0;32melse\u001b[0m\u001b[0;34m:\u001b[0m\u001b[0;34m\u001b[0m\u001b[0;34m\u001b[0m\u001b[0m\n\u001b[0;32m-> 1736\u001b[0;31m             \u001b[0;32mreturn\u001b[0m \u001b[0mself\u001b[0m\u001b[0;34m.\u001b[0m\u001b[0m_call_impl\u001b[0m\u001b[0;34m(\u001b[0m\u001b[0;34m*\u001b[0m\u001b[0margs\u001b[0m\u001b[0;34m,\u001b[0m \u001b[0;34m**\u001b[0m\u001b[0mkwargs\u001b[0m\u001b[0;34m)\u001b[0m\u001b[0;34m\u001b[0m\u001b[0;34m\u001b[0m\u001b[0m\n\u001b[0m\u001b[1;32m   1737\u001b[0m \u001b[0;34m\u001b[0m\u001b[0m\n\u001b[1;32m   1738\u001b[0m     \u001b[0;31m# torchrec tests the code consistency with the following code\u001b[0m\u001b[0;34m\u001b[0m\u001b[0;34m\u001b[0m\u001b[0m\n",
            "\u001b[0;32m/usr/local/lib/python3.10/dist-packages/torch/nn/modules/module.py\u001b[0m in \u001b[0;36m_call_impl\u001b[0;34m(self, *args, **kwargs)\u001b[0m\n\u001b[1;32m   1745\u001b[0m                 \u001b[0;32mor\u001b[0m \u001b[0m_global_backward_pre_hooks\u001b[0m \u001b[0;32mor\u001b[0m \u001b[0m_global_backward_hooks\u001b[0m\u001b[0;34m\u001b[0m\u001b[0;34m\u001b[0m\u001b[0m\n\u001b[1;32m   1746\u001b[0m                 or _global_forward_hooks or _global_forward_pre_hooks):\n\u001b[0;32m-> 1747\u001b[0;31m             \u001b[0;32mreturn\u001b[0m \u001b[0mforward_call\u001b[0m\u001b[0;34m(\u001b[0m\u001b[0;34m*\u001b[0m\u001b[0margs\u001b[0m\u001b[0;34m,\u001b[0m \u001b[0;34m**\u001b[0m\u001b[0mkwargs\u001b[0m\u001b[0;34m)\u001b[0m\u001b[0;34m\u001b[0m\u001b[0;34m\u001b[0m\u001b[0m\n\u001b[0m\u001b[1;32m   1748\u001b[0m \u001b[0;34m\u001b[0m\u001b[0m\n\u001b[1;32m   1749\u001b[0m         \u001b[0mresult\u001b[0m \u001b[0;34m=\u001b[0m \u001b[0;32mNone\u001b[0m\u001b[0;34m\u001b[0m\u001b[0;34m\u001b[0m\u001b[0m\n",
            "\u001b[0;32m/usr/local/lib/python3.10/dist-packages/easyocr/model/modules.py\u001b[0m in \u001b[0;36mforward\u001b[0;34m(self, x)\u001b[0m\n\u001b[1;32m    254\u001b[0m         \u001b[0mx\u001b[0m \u001b[0;34m=\u001b[0m \u001b[0mself\u001b[0m\u001b[0;34m.\u001b[0m\u001b[0mrelu\u001b[0m\u001b[0;34m(\u001b[0m\u001b[0mx\u001b[0m\u001b[0;34m)\u001b[0m\u001b[0;34m\u001b[0m\u001b[0;34m\u001b[0m\u001b[0m\n\u001b[1;32m    255\u001b[0m \u001b[0;34m\u001b[0m\u001b[0m\n\u001b[0;32m--> 256\u001b[0;31m         \u001b[0mx\u001b[0m \u001b[0;34m=\u001b[0m \u001b[0mself\u001b[0m\u001b[0;34m.\u001b[0m\u001b[0mlayer4\u001b[0m\u001b[0;34m(\u001b[0m\u001b[0mx\u001b[0m\u001b[0;34m)\u001b[0m\u001b[0;34m\u001b[0m\u001b[0;34m\u001b[0m\u001b[0m\n\u001b[0m\u001b[1;32m    257\u001b[0m         \u001b[0mx\u001b[0m \u001b[0;34m=\u001b[0m \u001b[0mself\u001b[0m\u001b[0;34m.\u001b[0m\u001b[0mconv4_1\u001b[0m\u001b[0;34m(\u001b[0m\u001b[0mx\u001b[0m\u001b[0;34m)\u001b[0m\u001b[0;34m\u001b[0m\u001b[0;34m\u001b[0m\u001b[0m\n\u001b[1;32m    258\u001b[0m         \u001b[0mx\u001b[0m \u001b[0;34m=\u001b[0m \u001b[0mself\u001b[0m\u001b[0;34m.\u001b[0m\u001b[0mbn4_1\u001b[0m\u001b[0;34m(\u001b[0m\u001b[0mx\u001b[0m\u001b[0;34m)\u001b[0m\u001b[0;34m\u001b[0m\u001b[0;34m\u001b[0m\u001b[0m\n",
            "\u001b[0;32m/usr/local/lib/python3.10/dist-packages/torch/nn/modules/module.py\u001b[0m in \u001b[0;36m_wrapped_call_impl\u001b[0;34m(self, *args, **kwargs)\u001b[0m\n\u001b[1;32m   1734\u001b[0m             \u001b[0;32mreturn\u001b[0m \u001b[0mself\u001b[0m\u001b[0;34m.\u001b[0m\u001b[0m_compiled_call_impl\u001b[0m\u001b[0;34m(\u001b[0m\u001b[0;34m*\u001b[0m\u001b[0margs\u001b[0m\u001b[0;34m,\u001b[0m \u001b[0;34m**\u001b[0m\u001b[0mkwargs\u001b[0m\u001b[0;34m)\u001b[0m  \u001b[0;31m# type: ignore[misc]\u001b[0m\u001b[0;34m\u001b[0m\u001b[0;34m\u001b[0m\u001b[0m\n\u001b[1;32m   1735\u001b[0m         \u001b[0;32melse\u001b[0m\u001b[0;34m:\u001b[0m\u001b[0;34m\u001b[0m\u001b[0;34m\u001b[0m\u001b[0m\n\u001b[0;32m-> 1736\u001b[0;31m             \u001b[0;32mreturn\u001b[0m \u001b[0mself\u001b[0m\u001b[0;34m.\u001b[0m\u001b[0m_call_impl\u001b[0m\u001b[0;34m(\u001b[0m\u001b[0;34m*\u001b[0m\u001b[0margs\u001b[0m\u001b[0;34m,\u001b[0m \u001b[0;34m**\u001b[0m\u001b[0mkwargs\u001b[0m\u001b[0;34m)\u001b[0m\u001b[0;34m\u001b[0m\u001b[0;34m\u001b[0m\u001b[0m\n\u001b[0m\u001b[1;32m   1737\u001b[0m \u001b[0;34m\u001b[0m\u001b[0m\n\u001b[1;32m   1738\u001b[0m     \u001b[0;31m# torchrec tests the code consistency with the following code\u001b[0m\u001b[0;34m\u001b[0m\u001b[0;34m\u001b[0m\u001b[0m\n",
            "\u001b[0;32m/usr/local/lib/python3.10/dist-packages/torch/nn/modules/module.py\u001b[0m in \u001b[0;36m_call_impl\u001b[0;34m(self, *args, **kwargs)\u001b[0m\n\u001b[1;32m   1745\u001b[0m                 \u001b[0;32mor\u001b[0m \u001b[0m_global_backward_pre_hooks\u001b[0m \u001b[0;32mor\u001b[0m \u001b[0m_global_backward_hooks\u001b[0m\u001b[0;34m\u001b[0m\u001b[0;34m\u001b[0m\u001b[0m\n\u001b[1;32m   1746\u001b[0m                 or _global_forward_hooks or _global_forward_pre_hooks):\n\u001b[0;32m-> 1747\u001b[0;31m             \u001b[0;32mreturn\u001b[0m \u001b[0mforward_call\u001b[0m\u001b[0;34m(\u001b[0m\u001b[0;34m*\u001b[0m\u001b[0margs\u001b[0m\u001b[0;34m,\u001b[0m \u001b[0;34m**\u001b[0m\u001b[0mkwargs\u001b[0m\u001b[0;34m)\u001b[0m\u001b[0;34m\u001b[0m\u001b[0;34m\u001b[0m\u001b[0m\n\u001b[0m\u001b[1;32m   1748\u001b[0m \u001b[0;34m\u001b[0m\u001b[0m\n\u001b[1;32m   1749\u001b[0m         \u001b[0mresult\u001b[0m \u001b[0;34m=\u001b[0m \u001b[0;32mNone\u001b[0m\u001b[0;34m\u001b[0m\u001b[0;34m\u001b[0m\u001b[0m\n",
            "\u001b[0;32m/usr/local/lib/python3.10/dist-packages/torch/nn/modules/container.py\u001b[0m in \u001b[0;36mforward\u001b[0;34m(self, input)\u001b[0m\n\u001b[1;32m    248\u001b[0m     \u001b[0;32mdef\u001b[0m \u001b[0mforward\u001b[0m\u001b[0;34m(\u001b[0m\u001b[0mself\u001b[0m\u001b[0;34m,\u001b[0m \u001b[0minput\u001b[0m\u001b[0;34m)\u001b[0m\u001b[0;34m:\u001b[0m\u001b[0;34m\u001b[0m\u001b[0;34m\u001b[0m\u001b[0m\n\u001b[1;32m    249\u001b[0m         \u001b[0;32mfor\u001b[0m \u001b[0mmodule\u001b[0m \u001b[0;32min\u001b[0m \u001b[0mself\u001b[0m\u001b[0;34m:\u001b[0m\u001b[0;34m\u001b[0m\u001b[0;34m\u001b[0m\u001b[0m\n\u001b[0;32m--> 250\u001b[0;31m             \u001b[0minput\u001b[0m \u001b[0;34m=\u001b[0m \u001b[0mmodule\u001b[0m\u001b[0;34m(\u001b[0m\u001b[0minput\u001b[0m\u001b[0;34m)\u001b[0m\u001b[0;34m\u001b[0m\u001b[0;34m\u001b[0m\u001b[0m\n\u001b[0m\u001b[1;32m    251\u001b[0m         \u001b[0;32mreturn\u001b[0m \u001b[0minput\u001b[0m\u001b[0;34m\u001b[0m\u001b[0;34m\u001b[0m\u001b[0m\n\u001b[1;32m    252\u001b[0m \u001b[0;34m\u001b[0m\u001b[0m\n",
            "\u001b[0;32m/usr/local/lib/python3.10/dist-packages/torch/nn/modules/module.py\u001b[0m in \u001b[0;36m_wrapped_call_impl\u001b[0;34m(self, *args, **kwargs)\u001b[0m\n\u001b[1;32m   1734\u001b[0m             \u001b[0;32mreturn\u001b[0m \u001b[0mself\u001b[0m\u001b[0;34m.\u001b[0m\u001b[0m_compiled_call_impl\u001b[0m\u001b[0;34m(\u001b[0m\u001b[0;34m*\u001b[0m\u001b[0margs\u001b[0m\u001b[0;34m,\u001b[0m \u001b[0;34m**\u001b[0m\u001b[0mkwargs\u001b[0m\u001b[0;34m)\u001b[0m  \u001b[0;31m# type: ignore[misc]\u001b[0m\u001b[0;34m\u001b[0m\u001b[0;34m\u001b[0m\u001b[0m\n\u001b[1;32m   1735\u001b[0m         \u001b[0;32melse\u001b[0m\u001b[0;34m:\u001b[0m\u001b[0;34m\u001b[0m\u001b[0;34m\u001b[0m\u001b[0m\n\u001b[0;32m-> 1736\u001b[0;31m             \u001b[0;32mreturn\u001b[0m \u001b[0mself\u001b[0m\u001b[0;34m.\u001b[0m\u001b[0m_call_impl\u001b[0m\u001b[0;34m(\u001b[0m\u001b[0;34m*\u001b[0m\u001b[0margs\u001b[0m\u001b[0;34m,\u001b[0m \u001b[0;34m**\u001b[0m\u001b[0mkwargs\u001b[0m\u001b[0;34m)\u001b[0m\u001b[0;34m\u001b[0m\u001b[0;34m\u001b[0m\u001b[0m\n\u001b[0m\u001b[1;32m   1737\u001b[0m \u001b[0;34m\u001b[0m\u001b[0m\n\u001b[1;32m   1738\u001b[0m     \u001b[0;31m# torchrec tests the code consistency with the following code\u001b[0m\u001b[0;34m\u001b[0m\u001b[0;34m\u001b[0m\u001b[0m\n",
            "\u001b[0;32m/usr/local/lib/python3.10/dist-packages/torch/nn/modules/module.py\u001b[0m in \u001b[0;36m_call_impl\u001b[0;34m(self, *args, **kwargs)\u001b[0m\n\u001b[1;32m   1745\u001b[0m                 \u001b[0;32mor\u001b[0m \u001b[0m_global_backward_pre_hooks\u001b[0m \u001b[0;32mor\u001b[0m \u001b[0m_global_backward_hooks\u001b[0m\u001b[0;34m\u001b[0m\u001b[0;34m\u001b[0m\u001b[0m\n\u001b[1;32m   1746\u001b[0m                 or _global_forward_hooks or _global_forward_pre_hooks):\n\u001b[0;32m-> 1747\u001b[0;31m             \u001b[0;32mreturn\u001b[0m \u001b[0mforward_call\u001b[0m\u001b[0;34m(\u001b[0m\u001b[0;34m*\u001b[0m\u001b[0margs\u001b[0m\u001b[0;34m,\u001b[0m \u001b[0;34m**\u001b[0m\u001b[0mkwargs\u001b[0m\u001b[0;34m)\u001b[0m\u001b[0;34m\u001b[0m\u001b[0;34m\u001b[0m\u001b[0m\n\u001b[0m\u001b[1;32m   1748\u001b[0m \u001b[0;34m\u001b[0m\u001b[0m\n\u001b[1;32m   1749\u001b[0m         \u001b[0mresult\u001b[0m \u001b[0;34m=\u001b[0m \u001b[0;32mNone\u001b[0m\u001b[0;34m\u001b[0m\u001b[0;34m\u001b[0m\u001b[0m\n",
            "\u001b[0;32m/usr/local/lib/python3.10/dist-packages/easyocr/model/modules.py\u001b[0m in \u001b[0;36mforward\u001b[0;34m(self, x)\u001b[0m\n\u001b[1;32m    155\u001b[0m         \u001b[0mresidual\u001b[0m \u001b[0;34m=\u001b[0m \u001b[0mx\u001b[0m\u001b[0;34m\u001b[0m\u001b[0;34m\u001b[0m\u001b[0m\n\u001b[1;32m    156\u001b[0m \u001b[0;34m\u001b[0m\u001b[0m\n\u001b[0;32m--> 157\u001b[0;31m         \u001b[0mout\u001b[0m \u001b[0;34m=\u001b[0m \u001b[0mself\u001b[0m\u001b[0;34m.\u001b[0m\u001b[0mconv1\u001b[0m\u001b[0;34m(\u001b[0m\u001b[0mx\u001b[0m\u001b[0;34m)\u001b[0m\u001b[0;34m\u001b[0m\u001b[0;34m\u001b[0m\u001b[0m\n\u001b[0m\u001b[1;32m    158\u001b[0m         \u001b[0mout\u001b[0m \u001b[0;34m=\u001b[0m \u001b[0mself\u001b[0m\u001b[0;34m.\u001b[0m\u001b[0mbn1\u001b[0m\u001b[0;34m(\u001b[0m\u001b[0mout\u001b[0m\u001b[0;34m)\u001b[0m\u001b[0;34m\u001b[0m\u001b[0;34m\u001b[0m\u001b[0m\n\u001b[1;32m    159\u001b[0m         \u001b[0mout\u001b[0m \u001b[0;34m=\u001b[0m \u001b[0mself\u001b[0m\u001b[0;34m.\u001b[0m\u001b[0mrelu\u001b[0m\u001b[0;34m(\u001b[0m\u001b[0mout\u001b[0m\u001b[0;34m)\u001b[0m\u001b[0;34m\u001b[0m\u001b[0;34m\u001b[0m\u001b[0m\n",
            "\u001b[0;32m/usr/local/lib/python3.10/dist-packages/torch/nn/modules/module.py\u001b[0m in \u001b[0;36m_wrapped_call_impl\u001b[0;34m(self, *args, **kwargs)\u001b[0m\n\u001b[1;32m   1734\u001b[0m             \u001b[0;32mreturn\u001b[0m \u001b[0mself\u001b[0m\u001b[0;34m.\u001b[0m\u001b[0m_compiled_call_impl\u001b[0m\u001b[0;34m(\u001b[0m\u001b[0;34m*\u001b[0m\u001b[0margs\u001b[0m\u001b[0;34m,\u001b[0m \u001b[0;34m**\u001b[0m\u001b[0mkwargs\u001b[0m\u001b[0;34m)\u001b[0m  \u001b[0;31m# type: ignore[misc]\u001b[0m\u001b[0;34m\u001b[0m\u001b[0;34m\u001b[0m\u001b[0m\n\u001b[1;32m   1735\u001b[0m         \u001b[0;32melse\u001b[0m\u001b[0;34m:\u001b[0m\u001b[0;34m\u001b[0m\u001b[0;34m\u001b[0m\u001b[0m\n\u001b[0;32m-> 1736\u001b[0;31m             \u001b[0;32mreturn\u001b[0m \u001b[0mself\u001b[0m\u001b[0;34m.\u001b[0m\u001b[0m_call_impl\u001b[0m\u001b[0;34m(\u001b[0m\u001b[0;34m*\u001b[0m\u001b[0margs\u001b[0m\u001b[0;34m,\u001b[0m \u001b[0;34m**\u001b[0m\u001b[0mkwargs\u001b[0m\u001b[0;34m)\u001b[0m\u001b[0;34m\u001b[0m\u001b[0;34m\u001b[0m\u001b[0m\n\u001b[0m\u001b[1;32m   1737\u001b[0m \u001b[0;34m\u001b[0m\u001b[0m\n\u001b[1;32m   1738\u001b[0m     \u001b[0;31m# torchrec tests the code consistency with the following code\u001b[0m\u001b[0;34m\u001b[0m\u001b[0;34m\u001b[0m\u001b[0m\n",
            "\u001b[0;32m/usr/local/lib/python3.10/dist-packages/torch/nn/modules/module.py\u001b[0m in \u001b[0;36m_call_impl\u001b[0;34m(self, *args, **kwargs)\u001b[0m\n\u001b[1;32m   1745\u001b[0m                 \u001b[0;32mor\u001b[0m \u001b[0m_global_backward_pre_hooks\u001b[0m \u001b[0;32mor\u001b[0m \u001b[0m_global_backward_hooks\u001b[0m\u001b[0;34m\u001b[0m\u001b[0;34m\u001b[0m\u001b[0m\n\u001b[1;32m   1746\u001b[0m                 or _global_forward_hooks or _global_forward_pre_hooks):\n\u001b[0;32m-> 1747\u001b[0;31m             \u001b[0;32mreturn\u001b[0m \u001b[0mforward_call\u001b[0m\u001b[0;34m(\u001b[0m\u001b[0;34m*\u001b[0m\u001b[0margs\u001b[0m\u001b[0;34m,\u001b[0m \u001b[0;34m**\u001b[0m\u001b[0mkwargs\u001b[0m\u001b[0;34m)\u001b[0m\u001b[0;34m\u001b[0m\u001b[0;34m\u001b[0m\u001b[0m\n\u001b[0m\u001b[1;32m   1748\u001b[0m \u001b[0;34m\u001b[0m\u001b[0m\n\u001b[1;32m   1749\u001b[0m         \u001b[0mresult\u001b[0m \u001b[0;34m=\u001b[0m \u001b[0;32mNone\u001b[0m\u001b[0;34m\u001b[0m\u001b[0;34m\u001b[0m\u001b[0m\n",
            "\u001b[0;32m/usr/local/lib/python3.10/dist-packages/torch/nn/modules/conv.py\u001b[0m in \u001b[0;36mforward\u001b[0;34m(self, input)\u001b[0m\n\u001b[1;32m    552\u001b[0m \u001b[0;34m\u001b[0m\u001b[0m\n\u001b[1;32m    553\u001b[0m     \u001b[0;32mdef\u001b[0m \u001b[0mforward\u001b[0m\u001b[0;34m(\u001b[0m\u001b[0mself\u001b[0m\u001b[0;34m,\u001b[0m \u001b[0minput\u001b[0m\u001b[0;34m:\u001b[0m \u001b[0mTensor\u001b[0m\u001b[0;34m)\u001b[0m \u001b[0;34m->\u001b[0m \u001b[0mTensor\u001b[0m\u001b[0;34m:\u001b[0m\u001b[0;34m\u001b[0m\u001b[0;34m\u001b[0m\u001b[0m\n\u001b[0;32m--> 554\u001b[0;31m         \u001b[0;32mreturn\u001b[0m \u001b[0mself\u001b[0m\u001b[0;34m.\u001b[0m\u001b[0m_conv_forward\u001b[0m\u001b[0;34m(\u001b[0m\u001b[0minput\u001b[0m\u001b[0;34m,\u001b[0m \u001b[0mself\u001b[0m\u001b[0;34m.\u001b[0m\u001b[0mweight\u001b[0m\u001b[0;34m,\u001b[0m \u001b[0mself\u001b[0m\u001b[0;34m.\u001b[0m\u001b[0mbias\u001b[0m\u001b[0;34m)\u001b[0m\u001b[0;34m\u001b[0m\u001b[0;34m\u001b[0m\u001b[0m\n\u001b[0m\u001b[1;32m    555\u001b[0m \u001b[0;34m\u001b[0m\u001b[0m\n\u001b[1;32m    556\u001b[0m \u001b[0;34m\u001b[0m\u001b[0m\n",
            "\u001b[0;32m/usr/local/lib/python3.10/dist-packages/torch/nn/modules/conv.py\u001b[0m in \u001b[0;36m_conv_forward\u001b[0;34m(self, input, weight, bias)\u001b[0m\n\u001b[1;32m    547\u001b[0m                 \u001b[0mself\u001b[0m\u001b[0;34m.\u001b[0m\u001b[0mgroups\u001b[0m\u001b[0;34m,\u001b[0m\u001b[0;34m\u001b[0m\u001b[0;34m\u001b[0m\u001b[0m\n\u001b[1;32m    548\u001b[0m             )\n\u001b[0;32m--> 549\u001b[0;31m         return F.conv2d(\n\u001b[0m\u001b[1;32m    550\u001b[0m             \u001b[0minput\u001b[0m\u001b[0;34m,\u001b[0m \u001b[0mweight\u001b[0m\u001b[0;34m,\u001b[0m \u001b[0mbias\u001b[0m\u001b[0;34m,\u001b[0m \u001b[0mself\u001b[0m\u001b[0;34m.\u001b[0m\u001b[0mstride\u001b[0m\u001b[0;34m,\u001b[0m \u001b[0mself\u001b[0m\u001b[0;34m.\u001b[0m\u001b[0mpadding\u001b[0m\u001b[0;34m,\u001b[0m \u001b[0mself\u001b[0m\u001b[0;34m.\u001b[0m\u001b[0mdilation\u001b[0m\u001b[0;34m,\u001b[0m \u001b[0mself\u001b[0m\u001b[0;34m.\u001b[0m\u001b[0mgroups\u001b[0m\u001b[0;34m\u001b[0m\u001b[0;34m\u001b[0m\u001b[0m\n\u001b[1;32m    551\u001b[0m         )\n",
            "\u001b[0;31mKeyboardInterrupt\u001b[0m: "
          ]
        }
      ]
    }
  ]
}